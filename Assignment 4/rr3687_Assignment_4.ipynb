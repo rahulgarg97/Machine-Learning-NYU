{
 "cells": [
  {
   "cell_type": "markdown",
   "metadata": {},
   "source": [
    "# Assignment 4"
   ]
  },
  {
   "cell_type": "markdown",
   "metadata": {},
   "source": [
    "## Step 1 – Data Preprocessing"
   ]
  },
  {
   "cell_type": "code",
   "execution_count": 1,
   "metadata": {},
   "outputs": [
    {
     "name": "stdout",
     "output_type": "stream",
     "text": [
      "back,buffer_overflow,ftp_write,guess_passwd,imap,ipsweep,land,loadmodule,multihop,neptune,nmap,normal,perl,phf,pod,portsweep,rootkit,satan,smurf,spy,teardrop,warezclient,warezmaster.\n",
      "duration: continuous.\n",
      "protocol_type: symbolic.\n",
      "service: symbolic.\n",
      "flag: symbolic.\n",
      "src_bytes: continuous.\n",
      "dst_bytes: continuous.\n",
      "land: symbolic.\n",
      "wrong_fragment: continuous.\n",
      "urgent: continuous.\n",
      "hot: continuous.\n",
      "num_failed_logins: continuous.\n",
      "logged_in: symbolic.\n",
      "num_compromised: continuous.\n",
      "root_shell: continuous.\n",
      "su_attempted: continuous.\n",
      "num_root: continuous.\n",
      "num_file_creations: continuous.\n",
      "num_shells: continuous.\n",
      "num_access_files: continuous.\n",
      "num_outbound_cmds: continuous.\n",
      "is_host_login: symbolic.\n",
      "is_guest_login: symbolic.\n",
      "count: continuous.\n",
      "srv_count: continuous.\n",
      "serror_rate: continuous.\n",
      "srv_serror_rate: continuous.\n",
      "rerror_rate: continuous.\n",
      "srv_rerror_rate: continuous.\n",
      "same_srv_rate: continuous.\n",
      "diff_srv_rate: continuous.\n",
      "srv_diff_host_rate: continuous.\n",
      "dst_host_count: continuous.\n",
      "dst_host_srv_count: continuous.\n",
      "dst_host_same_srv_rate: continuous.\n",
      "dst_host_diff_srv_rate: continuous.\n",
      "dst_host_same_src_port_rate: continuous.\n",
      "dst_host_srv_diff_host_rate: continuous.\n",
      "dst_host_serror_rate: continuous.\n",
      "dst_host_srv_serror_rate: continuous.\n",
      "dst_host_rerror_rate: continuous.\n",
      "dst_host_srv_rerror_rate: continuous.\n",
      "\n"
     ]
    }
   ],
   "source": [
    "# Importing libraries and reading features list from ‘kddcup.names’ file.\n",
    "import pandas as pd \n",
    "import numpy as np \n",
    "import matplotlib.pyplot as plt \n",
    "import seaborn as sns \n",
    "import time \n",
    "# reading features list \n",
    "with open(\"kddcup.names.txt\", 'r') as f: \n",
    "    print(f.read()) "
   ]
  },
  {
   "cell_type": "code",
   "execution_count": 2,
   "metadata": {},
   "outputs": [
    {
     "name": "stdout",
     "output_type": "stream",
     "text": [
      "42\n"
     ]
    }
   ],
   "source": [
    "# Appending columns to the dataset and adding a new column name ‘target’ to the dataset.\n",
    "cols =\"\"\"duration, \n",
    "protocol_type, \n",
    "service, \n",
    "flag, \n",
    "src_bytes, \n",
    "dst_bytes, \n",
    "land, \n",
    "wrong_fragment, \n",
    "urgent, \n",
    "hot, \n",
    "num_failed_logins, \n",
    "logged_in, \n",
    "num_compromised, \n",
    "root_shell, \n",
    "su_attempted, \n",
    "num_root, \n",
    "num_file_creations, \n",
    "num_shells, \n",
    "num_access_files, \n",
    "num_outbound_cmds, \n",
    "is_host_login, \n",
    "is_guest_login, \n",
    "count, \n",
    "srv_count, \n",
    "serror_rate, \n",
    "srv_serror_rate, \n",
    "rerror_rate, \n",
    "srv_rerror_rate, \n",
    "same_srv_rate, \n",
    "diff_srv_rate, \n",
    "srv_diff_host_rate, \n",
    "dst_host_count, \n",
    "dst_host_srv_count, \n",
    "dst_host_same_srv_rate, \n",
    "dst_host_diff_srv_rate, \n",
    "dst_host_same_src_port_rate, \n",
    "dst_host_srv_diff_host_rate, \n",
    "dst_host_serror_rate, \n",
    "dst_host_srv_serror_rate, \n",
    "dst_host_rerror_rate, \n",
    "dst_host_srv_rerror_rate\"\"\"\n",
    "  \n",
    "columns =[] \n",
    "for c in cols.split(', '): \n",
    "    if(c.strip()):\n",
    "        columns.append(c.strip()) \n",
    "    \n",
    "columns.append('target') \n",
    "print(len(columns)) "
   ]
  },
  {
   "cell_type": "code",
   "execution_count": 3,
   "metadata": {},
   "outputs": [
    {
     "name": "stdout",
     "output_type": "stream",
     "text": [
      "back dos\n",
      "buffer_overflow u2r\n",
      "ftp_write r2l\n",
      "guess_passwd r2l\n",
      "imap r2l\n",
      "ipsweep probe\n",
      "land dos\n",
      "loadmodule u2r\n",
      "multihop r2l\n",
      "neptune dos\n",
      "nmap probe\n",
      "perl u2r\n",
      "phf r2l\n",
      "pod dos\n",
      "portsweep probe\n",
      "rootkit u2r\n",
      "satan probe\n",
      "smurf dos\n",
      "spy r2l\n",
      "teardrop dos\n",
      "warezclient r2l\n",
      "warezmaster r2l\n",
      "\n",
      "\n"
     ]
    }
   ],
   "source": [
    "# Reading the ‘attack_types’ file.\n",
    "with open(\"training_attack_types.txt\", 'r') as f: \n",
    "    print(f.read())"
   ]
  },
  {
   "cell_type": "code",
   "execution_count": 4,
   "metadata": {},
   "outputs": [],
   "source": [
    "# Creating a dictionary of attack_types\n",
    "attacks_types = { \n",
    "    'normal': 'normal', \n",
    "'back': 'dos', \n",
    "'buffer_overflow': 'u2r', \n",
    "'ftp_write': 'r2l', \n",
    "'guess_passwd': 'r2l', \n",
    "'imap': 'r2l', \n",
    "'ipsweep': 'probe', \n",
    "'land': 'dos', \n",
    "'loadmodule': 'u2r', \n",
    "'multihop': 'r2l', \n",
    "'neptune': 'dos', \n",
    "'nmap': 'probe', \n",
    "'perl': 'u2r', \n",
    "'phf': 'r2l', \n",
    "'pod': 'dos', \n",
    "'portsweep': 'probe', \n",
    "'rootkit': 'u2r', \n",
    "'satan': 'probe', \n",
    "'smurf': 'dos', \n",
    "'spy': 'r2l', \n",
    "'teardrop': 'dos', \n",
    "'warezclient': 'r2l', \n",
    "'warezmaster': 'r2l', \n",
    "} "
   ]
  },
  {
   "cell_type": "code",
   "execution_count": 5,
   "metadata": {},
   "outputs": [
    {
     "data": {
      "text/html": [
       "<div>\n",
       "<style scoped>\n",
       "    .dataframe tbody tr th:only-of-type {\n",
       "        vertical-align: middle;\n",
       "    }\n",
       "\n",
       "    .dataframe tbody tr th {\n",
       "        vertical-align: top;\n",
       "    }\n",
       "\n",
       "    .dataframe thead th {\n",
       "        text-align: right;\n",
       "    }\n",
       "</style>\n",
       "<table border=\"1\" class=\"dataframe\">\n",
       "  <thead>\n",
       "    <tr style=\"text-align: right;\">\n",
       "      <th></th>\n",
       "      <th>duration</th>\n",
       "      <th>protocol_type</th>\n",
       "      <th>service</th>\n",
       "      <th>flag</th>\n",
       "      <th>src_bytes</th>\n",
       "      <th>dst_bytes</th>\n",
       "      <th>land</th>\n",
       "      <th>wrong_fragment</th>\n",
       "      <th>urgent</th>\n",
       "      <th>hot</th>\n",
       "      <th>...</th>\n",
       "      <th>dst_host_same_srv_rate</th>\n",
       "      <th>dst_host_diff_srv_rate</th>\n",
       "      <th>dst_host_same_src_port_rate</th>\n",
       "      <th>dst_host_srv_diff_host_rate</th>\n",
       "      <th>dst_host_serror_rate</th>\n",
       "      <th>dst_host_srv_serror_rate</th>\n",
       "      <th>dst_host_rerror_rate</th>\n",
       "      <th>dst_host_srv_rerror_rate</th>\n",
       "      <th>target</th>\n",
       "      <th>Attack Type</th>\n",
       "    </tr>\n",
       "  </thead>\n",
       "  <tbody>\n",
       "    <tr>\n",
       "      <th>0</th>\n",
       "      <td>0</td>\n",
       "      <td>tcp</td>\n",
       "      <td>http</td>\n",
       "      <td>SF</td>\n",
       "      <td>181</td>\n",
       "      <td>5450</td>\n",
       "      <td>0</td>\n",
       "      <td>0</td>\n",
       "      <td>0</td>\n",
       "      <td>0</td>\n",
       "      <td>...</td>\n",
       "      <td>1.0</td>\n",
       "      <td>0.0</td>\n",
       "      <td>0.11</td>\n",
       "      <td>0.0</td>\n",
       "      <td>0.0</td>\n",
       "      <td>0.0</td>\n",
       "      <td>0.0</td>\n",
       "      <td>0.0</td>\n",
       "      <td>normal.</td>\n",
       "      <td>normal</td>\n",
       "    </tr>\n",
       "    <tr>\n",
       "      <th>1</th>\n",
       "      <td>0</td>\n",
       "      <td>tcp</td>\n",
       "      <td>http</td>\n",
       "      <td>SF</td>\n",
       "      <td>239</td>\n",
       "      <td>486</td>\n",
       "      <td>0</td>\n",
       "      <td>0</td>\n",
       "      <td>0</td>\n",
       "      <td>0</td>\n",
       "      <td>...</td>\n",
       "      <td>1.0</td>\n",
       "      <td>0.0</td>\n",
       "      <td>0.05</td>\n",
       "      <td>0.0</td>\n",
       "      <td>0.0</td>\n",
       "      <td>0.0</td>\n",
       "      <td>0.0</td>\n",
       "      <td>0.0</td>\n",
       "      <td>normal.</td>\n",
       "      <td>normal</td>\n",
       "    </tr>\n",
       "    <tr>\n",
       "      <th>2</th>\n",
       "      <td>0</td>\n",
       "      <td>tcp</td>\n",
       "      <td>http</td>\n",
       "      <td>SF</td>\n",
       "      <td>235</td>\n",
       "      <td>1337</td>\n",
       "      <td>0</td>\n",
       "      <td>0</td>\n",
       "      <td>0</td>\n",
       "      <td>0</td>\n",
       "      <td>...</td>\n",
       "      <td>1.0</td>\n",
       "      <td>0.0</td>\n",
       "      <td>0.03</td>\n",
       "      <td>0.0</td>\n",
       "      <td>0.0</td>\n",
       "      <td>0.0</td>\n",
       "      <td>0.0</td>\n",
       "      <td>0.0</td>\n",
       "      <td>normal.</td>\n",
       "      <td>normal</td>\n",
       "    </tr>\n",
       "    <tr>\n",
       "      <th>3</th>\n",
       "      <td>0</td>\n",
       "      <td>tcp</td>\n",
       "      <td>http</td>\n",
       "      <td>SF</td>\n",
       "      <td>219</td>\n",
       "      <td>1337</td>\n",
       "      <td>0</td>\n",
       "      <td>0</td>\n",
       "      <td>0</td>\n",
       "      <td>0</td>\n",
       "      <td>...</td>\n",
       "      <td>1.0</td>\n",
       "      <td>0.0</td>\n",
       "      <td>0.03</td>\n",
       "      <td>0.0</td>\n",
       "      <td>0.0</td>\n",
       "      <td>0.0</td>\n",
       "      <td>0.0</td>\n",
       "      <td>0.0</td>\n",
       "      <td>normal.</td>\n",
       "      <td>normal</td>\n",
       "    </tr>\n",
       "    <tr>\n",
       "      <th>4</th>\n",
       "      <td>0</td>\n",
       "      <td>tcp</td>\n",
       "      <td>http</td>\n",
       "      <td>SF</td>\n",
       "      <td>217</td>\n",
       "      <td>2032</td>\n",
       "      <td>0</td>\n",
       "      <td>0</td>\n",
       "      <td>0</td>\n",
       "      <td>0</td>\n",
       "      <td>...</td>\n",
       "      <td>1.0</td>\n",
       "      <td>0.0</td>\n",
       "      <td>0.02</td>\n",
       "      <td>0.0</td>\n",
       "      <td>0.0</td>\n",
       "      <td>0.0</td>\n",
       "      <td>0.0</td>\n",
       "      <td>0.0</td>\n",
       "      <td>normal.</td>\n",
       "      <td>normal</td>\n",
       "    </tr>\n",
       "  </tbody>\n",
       "</table>\n",
       "<p>5 rows × 43 columns</p>\n",
       "</div>"
      ],
      "text/plain": [
       "   duration protocol_type service flag  src_bytes  dst_bytes  land  \\\n",
       "0         0           tcp    http   SF        181       5450     0   \n",
       "1         0           tcp    http   SF        239        486     0   \n",
       "2         0           tcp    http   SF        235       1337     0   \n",
       "3         0           tcp    http   SF        219       1337     0   \n",
       "4         0           tcp    http   SF        217       2032     0   \n",
       "\n",
       "   wrong_fragment  urgent  hot  ...  dst_host_same_srv_rate  \\\n",
       "0               0       0    0  ...                     1.0   \n",
       "1               0       0    0  ...                     1.0   \n",
       "2               0       0    0  ...                     1.0   \n",
       "3               0       0    0  ...                     1.0   \n",
       "4               0       0    0  ...                     1.0   \n",
       "\n",
       "   dst_host_diff_srv_rate  dst_host_same_src_port_rate  \\\n",
       "0                     0.0                         0.11   \n",
       "1                     0.0                         0.05   \n",
       "2                     0.0                         0.03   \n",
       "3                     0.0                         0.03   \n",
       "4                     0.0                         0.02   \n",
       "\n",
       "   dst_host_srv_diff_host_rate  dst_host_serror_rate  \\\n",
       "0                          0.0                   0.0   \n",
       "1                          0.0                   0.0   \n",
       "2                          0.0                   0.0   \n",
       "3                          0.0                   0.0   \n",
       "4                          0.0                   0.0   \n",
       "\n",
       "   dst_host_srv_serror_rate  dst_host_rerror_rate  dst_host_srv_rerror_rate  \\\n",
       "0                       0.0                   0.0                       0.0   \n",
       "1                       0.0                   0.0                       0.0   \n",
       "2                       0.0                   0.0                       0.0   \n",
       "3                       0.0                   0.0                       0.0   \n",
       "4                       0.0                   0.0                       0.0   \n",
       "\n",
       "    target  Attack Type  \n",
       "0  normal.       normal  \n",
       "1  normal.       normal  \n",
       "2  normal.       normal  \n",
       "3  normal.       normal  \n",
       "4  normal.       normal  \n",
       "\n",
       "[5 rows x 43 columns]"
      ]
     },
     "execution_count": 5,
     "metadata": {},
     "output_type": "execute_result"
    }
   ],
   "source": [
    "# Reading the dataset(‘kddcup.data_10_percent.gz’)\n",
    "# and adding Attack Type feature in the training dataset where attack type feature has 5 distinct values\n",
    "# i.e. dos, normal, probe, r2l, u2r.\n",
    "path = \"kddcup.data_10_percent.gz\"\n",
    "df = pd.read_csv(path, names = columns)\n",
    "\n",
    "# Adding Attack Type column \n",
    "df['Attack Type'] = df.target.apply(lambda r:attacks_types[r[:-1]]) \n",
    "df.head()"
   ]
  },
  {
   "cell_type": "code",
   "execution_count": 6,
   "metadata": {},
   "outputs": [
    {
     "data": {
      "text/plain": [
       "(494021, 43)"
      ]
     },
     "execution_count": 6,
     "metadata": {},
     "output_type": "execute_result"
    }
   ],
   "source": [
    "# Shape of dataframe and getting data type of each feature\n",
    "df.shape "
   ]
  },
  {
   "cell_type": "code",
   "execution_count": 7,
   "metadata": {},
   "outputs": [
    {
     "data": {
      "text/plain": [
       "duration                       0\n",
       "protocol_type                  0\n",
       "service                        0\n",
       "flag                           0\n",
       "src_bytes                      0\n",
       "dst_bytes                      0\n",
       "land                           0\n",
       "wrong_fragment                 0\n",
       "urgent                         0\n",
       "hot                            0\n",
       "num_failed_logins              0\n",
       "logged_in                      0\n",
       "num_compromised                0\n",
       "root_shell                     0\n",
       "su_attempted                   0\n",
       "num_root                       0\n",
       "num_file_creations             0\n",
       "num_shells                     0\n",
       "num_access_files               0\n",
       "num_outbound_cmds              0\n",
       "is_host_login                  0\n",
       "is_guest_login                 0\n",
       "count                          0\n",
       "srv_count                      0\n",
       "serror_rate                    0\n",
       "srv_serror_rate                0\n",
       "rerror_rate                    0\n",
       "srv_rerror_rate                0\n",
       "same_srv_rate                  0\n",
       "diff_srv_rate                  0\n",
       "srv_diff_host_rate             0\n",
       "dst_host_count                 0\n",
       "dst_host_srv_count             0\n",
       "dst_host_same_srv_rate         0\n",
       "dst_host_diff_srv_rate         0\n",
       "dst_host_same_src_port_rate    0\n",
       "dst_host_srv_diff_host_rate    0\n",
       "dst_host_serror_rate           0\n",
       "dst_host_srv_serror_rate       0\n",
       "dst_host_rerror_rate           0\n",
       "dst_host_srv_rerror_rate       0\n",
       "target                         0\n",
       "Attack Type                    0\n",
       "dtype: int64"
      ]
     },
     "execution_count": 7,
     "metadata": {},
     "output_type": "execute_result"
    }
   ],
   "source": [
    "# Finding missing values of all features.\n",
    "df.isnull().sum()"
   ]
  },
  {
   "cell_type": "code",
   "execution_count": 8,
   "metadata": {},
   "outputs": [
    {
     "data": {
      "text/plain": [
       "['protocol_type', 'service', 'flag']"
      ]
     },
     "execution_count": 8,
     "metadata": {},
     "output_type": "execute_result"
    }
   ],
   "source": [
    "# Finding categorical features \n",
    "num_cols = df._get_numeric_data().columns \n",
    "  \n",
    "cate_cols = list(set(df.columns)-set(num_cols)) \n",
    "cate_cols.remove('target') \n",
    "cate_cols.remove('Attack Type') \n",
    "  \n",
    "cate_cols"
   ]
  },
  {
   "cell_type": "code",
   "execution_count": 9,
   "metadata": {},
   "outputs": [
    {
     "data": {
      "image/png": "[encoded data removed]",
      "text/plain": [
       "<Figure size 1080x864 with 2 Axes>"
      ]
     },
     "metadata": {
      "needs_background": "light"
     },
     "output_type": "display_data"
    }
   ],
   "source": [
    "# Data Correlation – Find the highly correlated variables using heatmap and ignore them for analysis.\n",
    "# drop columns with NaN \n",
    "df = df.dropna('columns')\n",
    "\n",
    "# keep columns where there are more than 1 unique values \n",
    "df = df[[col for col in df if df[col].nunique() > 1]]\n",
    "\n",
    "corr = df.corr() \n",
    "  \n",
    "plt.figure(figsize =(15, 12)) \n",
    "  \n",
    "sns.heatmap(corr) \n",
    "  \n",
    "plt.show() "
   ]
  },
  {
   "cell_type": "code",
   "execution_count": 10,
   "metadata": {},
   "outputs": [],
   "source": [
    "# This variable is highly correlated with num_compromised and should be ignored for analysis. \n",
    "#(Correlation = 0.9938277978738366) \n",
    "df.drop('num_root', axis = 1, inplace = True) \n",
    "  \n",
    "# This variable is highly correlated with serror_rate and should be ignored for analysis. \n",
    "#(Correlation = 0.9983615072725952) \n",
    "df.drop('srv_serror_rate', axis = 1, inplace = True) \n",
    "  \n",
    "# This variable is highly correlated with rerror_rate and should be ignored for analysis. \n",
    "#(Correlation = 0.9947309539817937) \n",
    "df.drop('srv_rerror_rate', axis = 1, inplace = True) \n",
    "  \n",
    "# This variable is highly correlated with srv_serror_rate and should be ignored for analysis. \n",
    "#(Correlation = 0.9993041091850098) \n",
    "df.drop('dst_host_srv_serror_rate', axis = 1, inplace = True) \n",
    "  \n",
    "# This variable is highly correlated with rerror_rate and should be ignored for analysis. \n",
    "#(Correlation = 0.9869947924956001) \n",
    "df.drop('dst_host_serror_rate', axis = 1, inplace = True) \n",
    "  \n",
    "# This variable is highly correlated with srv_rerror_rate and should be ignored for analysis. \n",
    "#(Correlation = 0.9821663427308375) \n",
    "df.drop('dst_host_rerror_rate', axis = 1, inplace = True) \n",
    "  \n",
    "# This variable is highly correlated with rerror_rate and should be ignored for analysis. \n",
    "#(Correlation = 0.9851995540751249) \n",
    "df.drop('dst_host_srv_rerror_rate', axis = 1, inplace = True) \n",
    "  \n",
    "# This variable is highly correlated with srv_rerror_rate and should be ignored for analysis. \n",
    "#(Correlation = 0.9865705438845669) \n",
    "df.drop('dst_host_same_srv_rate', axis = 1, inplace = True)"
   ]
  },
  {
   "cell_type": "code",
   "execution_count": 11,
   "metadata": {},
   "outputs": [],
   "source": [
    "# Feature Mapping – Apply feature mapping on features such as : ‘protocol_type’ & ‘flag’.\n",
    "# protocol_type feature mapping \n",
    "pmap = {'icmp':0, 'tcp':1, 'udp':2} \n",
    "df['protocol_type'] = df['protocol_type'].map(pmap)\n",
    "\n",
    "# flag feature mapping \n",
    "fmap = {'SF':0, 'S0':1, 'REJ':2, 'RSTR':3, 'RSTO':4, 'SH':5, 'S1':6, 'S2':7, 'RSTOS0':8, 'S3':9, 'OTH':10} \n",
    "df['flag'] = df['flag'].map(fmap) "
   ]
  },
  {
   "cell_type": "code",
   "execution_count": 12,
   "metadata": {},
   "outputs": [],
   "source": [
    "# Remove irrelevant features such as ‘service’ before modelling\n",
    "df.drop('service', axis = 1, inplace = True)"
   ]
  },
  {
   "cell_type": "markdown",
   "metadata": {},
   "source": [
    "## Step 2 – Modelling"
   ]
  },
  {
   "cell_type": "code",
   "execution_count": 13,
   "metadata": {},
   "outputs": [],
   "source": [
    "from sklearn.model_selection import train_test_split \n",
    "from sklearn.preprocessing import MinMaxScaler"
   ]
  },
  {
   "cell_type": "code",
   "execution_count": 14,
   "metadata": {},
   "outputs": [
    {
     "name": "stdout",
     "output_type": "stream",
     "text": [
      "(494021, 31)\n",
      "(395216, 30) (98805, 30)\n",
      "(395216, 1) (98805, 1)\n"
     ]
    }
   ],
   "source": [
    "# Splitting the dataset \n",
    "df = df.drop(['target', ], axis = 1) \n",
    "print(df.shape) \n",
    "  \n",
    "# Target variable and train set \n",
    "y = df[['Attack Type']] \n",
    "X = df.drop(['Attack Type', ], axis = 1) \n",
    "  \n",
    "sc = MinMaxScaler() \n",
    "X = sc.fit_transform(X) \n",
    "  \n",
    "# Split test and train data  (80% training, 20% testing)\n",
    "X_train, X_test, y_train, y_test = train_test_split(X, y, test_size = 0.20, random_state = 42) \n",
    "print(X_train.shape, X_test.shape) \n",
    "print(y_train.shape, y_test.shape)"
   ]
  },
  {
   "cell_type": "code",
   "execution_count": 15,
   "metadata": {},
   "outputs": [],
   "source": [
    "# assigning values to attack type based on whether it's dos or non-dos in the training data\n",
    "for i in range(len(y_train.values)):\n",
    "    if y_train.values[i] == 'dos':\n",
    "        y_train.values[i] = 0\n",
    "    else:\n",
    "        y_train.values[i] = 1"
   ]
  },
  {
   "cell_type": "code",
   "execution_count": 16,
   "metadata": {},
   "outputs": [],
   "source": [
    "# assigning values to attack type based on whether it's dos or non-dos in the testing data\n",
    "for i in range(len(y_test.values)):\n",
    "    if y_test.values[i] == 'dos':\n",
    "        y_test.values[i] = 0\n",
    "    else:\n",
    "        y_test.values[i] = 1"
   ]
  },
  {
   "cell_type": "code",
   "execution_count": 17,
   "metadata": {},
   "outputs": [
    {
     "name": "stdout",
     "output_type": "stream",
     "text": [
      "(164226, 30) (164226, 1)\n"
     ]
    }
   ],
   "source": [
    "# UnderSampling the imbalanced data\n",
    "from imblearn.under_sampling import RandomUnderSampler\n",
    "rus = RandomUnderSampler(random_state=42)\n",
    "y_train = y_train.astype('int') \n",
    "X_train, y_train = rus.fit_resample(X_train, y_train)\n",
    "print(X_train.shape, y_train.shape)"
   ]
  },
  {
   "cell_type": "code",
   "execution_count": 18,
   "metadata": {},
   "outputs": [
    {
     "name": "stdout",
     "output_type": "stream",
     "text": [
      "Training time:  196.28778195381165\n"
     ]
    }
   ],
   "source": [
    "# Python Implementation of the Support Vector Classifier\n",
    "from sklearn.svm import SVC \n",
    "  \n",
    "clfs = SVC(gamma = 'scale') \n",
    "start_time = time.time() \n",
    "clfs.fit(X_train, y_train.values.ravel()) \n",
    "end_time = time.time() \n",
    "print(\"Training time: \", end_time-start_time) "
   ]
  },
  {
   "cell_type": "code",
   "execution_count": 19,
   "metadata": {},
   "outputs": [
    {
     "name": "stdout",
     "output_type": "stream",
     "text": [
      "Testing time:  4.117983818054199\n"
     ]
    }
   ],
   "source": [
    "start_time = time.time() \n",
    "y_test_pred = clfs.predict(X_test) \n",
    "end_time = time.time() \n",
    "print(\"Testing time: \", end_time-start_time) "
   ]
  },
  {
   "cell_type": "code",
   "execution_count": 20,
   "metadata": {},
   "outputs": [
    {
     "name": "stdout",
     "output_type": "stream",
     "text": [
      "Train score is: 0.9967240266462071\n",
      "Test score is: 0.9953038813825211\n"
     ]
    }
   ],
   "source": [
    "y_test = y_test.astype('int')\n",
    "print(\"Train score is:\", clfs.score(X_train, y_train)) \n",
    "print(\"Test score is:\", clfs.score(X_test, y_test)) "
   ]
  },
  {
   "cell_type": "markdown",
   "metadata": {},
   "source": [
    "# Running SVM model using 4 different types of kernel"
   ]
  },
  {
   "cell_type": "markdown",
   "metadata": {},
   "source": [
    "# Running SVM model using 'rbf' kernel"
   ]
  },
  {
   "cell_type": "code",
   "execution_count": 21,
   "metadata": {},
   "outputs": [
    {
     "name": "stdout",
     "output_type": "stream",
     "text": [
      "Training time:  200.58483910560608\n"
     ]
    }
   ],
   "source": [
    "clfs = SVC(kernel='rbf', gamma = 'scale') \n",
    "start_time = time.time() \n",
    "clfs.fit(X_train, y_train.values.ravel()) \n",
    "end_time = time.time() \n",
    "print(\"Training time: \", end_time-start_time) "
   ]
  },
  {
   "cell_type": "code",
   "execution_count": 22,
   "metadata": {},
   "outputs": [
    {
     "name": "stdout",
     "output_type": "stream",
     "text": [
      "Testing time:  4.122506856918335\n"
     ]
    }
   ],
   "source": [
    "start_time = time.time() \n",
    "y_test_pred = clfs.predict(X_test) \n",
    "end_time = time.time() \n",
    "print(\"Testing time: \", end_time-start_time) "
   ]
  },
  {
   "cell_type": "code",
   "execution_count": 23,
   "metadata": {},
   "outputs": [
    {
     "name": "stdout",
     "output_type": "stream",
     "text": [
      "Train score is: 0.9967240266462071\n",
      "Test score is: 0.9953038813825211\n"
     ]
    }
   ],
   "source": [
    "y_test = y_test.astype('int')\n",
    "print(\"Train score is:\", clfs.score(X_train, y_train)) \n",
    "print(\"Test score is:\", clfs.score(X_test, y_test)) "
   ]
  },
  {
   "cell_type": "markdown",
   "metadata": {},
   "source": [
    "# Running SVM model using 'poly' kernel"
   ]
  },
  {
   "cell_type": "code",
   "execution_count": 24,
   "metadata": {},
   "outputs": [
    {
     "name": "stdout",
     "output_type": "stream",
     "text": [
      "Training time:  110.499342918396\n"
     ]
    }
   ],
   "source": [
    "clfs = SVC(kernel='poly', gamma = 'scale') \n",
    "start_time = time.time() \n",
    "clfs.fit(X_train, y_train.values.ravel()) \n",
    "end_time = time.time() \n",
    "print(\"Training time: \", end_time-start_time) "
   ]
  },
  {
   "cell_type": "code",
   "execution_count": 25,
   "metadata": {},
   "outputs": [
    {
     "name": "stdout",
     "output_type": "stream",
     "text": [
      "Testing time:  3.14808988571167\n"
     ]
    }
   ],
   "source": [
    "start_time = time.time() \n",
    "y_test_pred = clfs.predict(X_test) \n",
    "end_time = time.time() \n",
    "print(\"Testing time: \", end_time-start_time) "
   ]
  },
  {
   "cell_type": "code",
   "execution_count": 26,
   "metadata": {},
   "outputs": [
    {
     "name": "stdout",
     "output_type": "stream",
     "text": [
      "Train score is: 0.9988065227186925\n",
      "Test score is: 0.9985122210414453\n"
     ]
    }
   ],
   "source": [
    "y_test = y_test.astype('int')\n",
    "print(\"Train score is:\", clfs.score(X_train, y_train)) \n",
    "print(\"Test score is:\", clfs.score(X_test, y_test)) "
   ]
  },
  {
   "cell_type": "markdown",
   "metadata": {},
   "source": [
    "# Running SVM model using 'sigmoid' kernel"
   ]
  },
  {
   "cell_type": "code",
   "execution_count": 27,
   "metadata": {},
   "outputs": [
    {
     "name": "stdout",
     "output_type": "stream",
     "text": [
      "Training time:  383.9367480278015\n"
     ]
    }
   ],
   "source": [
    "clfs = SVC(kernel='sigmoid', gamma = 'scale') \n",
    "start_time = time.time() \n",
    "clfs.fit(X_train, y_train.values.ravel()) \n",
    "end_time = time.time() \n",
    "print(\"Training time: \", end_time-start_time) "
   ]
  },
  {
   "cell_type": "code",
   "execution_count": 28,
   "metadata": {},
   "outputs": [
    {
     "name": "stdout",
     "output_type": "stream",
     "text": [
      "Testing time:  25.592819929122925\n"
     ]
    }
   ],
   "source": [
    "start_time = time.time() \n",
    "y_test_pred = clfs.predict(X_test) \n",
    "end_time = time.time() \n",
    "print(\"Testing time: \", end_time-start_time) "
   ]
  },
  {
   "cell_type": "code",
   "execution_count": 29,
   "metadata": {},
   "outputs": [
    {
     "name": "stdout",
     "output_type": "stream",
     "text": [
      "Train score is: 0.9662964451426692\n",
      "Test score is: 0.9722584889428673\n"
     ]
    }
   ],
   "source": [
    "y_test = y_test.astype('int')\n",
    "print(\"Train score is:\", clfs.score(X_train, y_train)) \n",
    "print(\"Test score is:\", clfs.score(X_test, y_test)) "
   ]
  },
  {
   "cell_type": "markdown",
   "metadata": {},
   "source": [
    "# Running SVM model using 'linear' kernel"
   ]
  },
  {
   "cell_type": "code",
   "execution_count": 30,
   "metadata": {},
   "outputs": [
    {
     "name": "stdout",
     "output_type": "stream",
     "text": [
      "Training time:  89.49196910858154\n"
     ]
    }
   ],
   "source": [
    "clfs = SVC(kernel='linear', gamma = 'scale') \n",
    "start_time = time.time() \n",
    "clfs.fit(X_train, y_train.values.ravel()) \n",
    "end_time = time.time() \n",
    "print(\"Training time: \", end_time-start_time) "
   ]
  },
  {
   "cell_type": "code",
   "execution_count": 31,
   "metadata": {},
   "outputs": [
    {
     "name": "stdout",
     "output_type": "stream",
     "text": [
      "Testing time:  3.4600067138671875\n"
     ]
    }
   ],
   "source": [
    "start_time = time.time() \n",
    "y_test_pred = clfs.predict(X_test) \n",
    "end_time = time.time() \n",
    "print(\"Testing time: \", end_time-start_time) "
   ]
  },
  {
   "cell_type": "code",
   "execution_count": 32,
   "metadata": {},
   "outputs": [
    {
     "name": "stdout",
     "output_type": "stream",
     "text": [
      "Train score is: 0.9960907529867378\n",
      "Test score is: 0.9948281969535955\n"
     ]
    }
   ],
   "source": [
    "y_test = y_test.astype('int')\n",
    "print(\"Train score is:\", clfs.score(X_train, y_train)) \n",
    "print(\"Test score is:\", clfs.score(X_test, y_test)) "
   ]
  },
  {
   "cell_type": "markdown",
   "metadata": {},
   "source": [
    "# Comparing training and testing accuracies of SVM using 4 different kernels"
   ]
  },
  {
   "cell_type": "code",
   "execution_count": 33,
   "metadata": {},
   "outputs": [
    {
     "data": {
      "image/png": "[encoded data removed]",
      "text/plain": [
       "<Figure size 432x288 with 1 Axes>"
      ]
     },
     "metadata": {
      "needs_background": "light"
     },
     "output_type": "display_data"
    }
   ],
   "source": [
    "train_accuracy = [0.9967240266462071, 0.9988065227186925, 0.9662964451426692, 0.9960907529867378]\n",
    "test_accuracy = [0.9953038813825211, 0.9985122210414453, 0.9722584889428673, 0.9948281969535955]\n",
    "kernels_used = ['rbf', 'poly', 'sigmoid', 'linear']\n",
    "x = np.arange(len(kernels_used))  # the label locations\n",
    "width = 0.35  # the width of the bars\n",
    "fig, ax = plt.subplots()\n",
    "rects1 = ax.bar(x - width/2, train_accuracy, width, label='training_accuracy')\n",
    "rects2 = ax.bar(x + width/2, test_accuracy, width, label='testing_accuracy')\n",
    "ax.set_ylabel('Scores')\n",
    "ax.set_xlabel('Kernel Used in SVM')\n",
    "ax.set_title('Comapring Kernel Used vs Training and Testing Accuracy in SVM')\n",
    "ax.set_xticks(x)\n",
    "ax.set_xticklabels(kernels_used)\n",
    "ax.legend()\n",
    "\n",
    "plt.yticks(np.arange(1, step=0.1111))\n",
    "fig.tight_layout()\n",
    "\n",
    "plt.show()"
   ]
  },
  {
   "cell_type": "markdown",
   "metadata": {},
   "source": [
    "## From the above comparison graph, we can see that 'poly' kernel is giving the highest accuracy for our dataset, while the sigmoid kernel gives the lowest accuracy. Although there is very little difference between the accuracies given by these 4 different kernels, but we see here that there is almost 2% accuracy difference in case of 'poly' and 'sigmoid' kernel's use."
   ]
  },
  {
   "cell_type": "markdown",
   "metadata": {},
   "source": [
    "## Finding most important features"
   ]
  },
  {
   "cell_type": "code",
   "execution_count": 34,
   "metadata": {
    "scrolled": true
   },
   "outputs": [
    {
     "data": {
      "text/plain": [
       "array([ 2.69578769,  1.62211552,  2.49191659,  1.16877043,  0.22417253,\n",
       "        0.8875385 ,  7.98234488,  0.        , 12.37102268,  0.8       ,\n",
       "        0.55837095,  0.46719457,  1.        ,  0.        ,  1.07142857,\n",
       "        0.5       ,  0.375     , 11.69564399,  1.43956889,  1.36253778,\n",
       "        2.87741697,  1.44600273,  2.23677223,  2.60059037,  0.08819435,\n",
       "        0.54904974,  0.05778332,  3.06568687,  0.15734593,  0.11047407])"
      ]
     },
     "execution_count": 34,
     "metadata": {},
     "output_type": "execute_result"
    }
   ],
   "source": [
    "coefs = clfs.coef_[0]\n",
    "abs_weights = np.abs(coefs)\n",
    "abs_weights"
   ]
  },
  {
   "cell_type": "code",
   "execution_count": 35,
   "metadata": {
    "scrolled": true
   },
   "outputs": [
    {
     "data": {
      "text/plain": [
       "array([ 8, 17,  6, 27, 20,  0, 23,  2, 22,  1, 21, 18, 19,  3, 14, 12,  5,\n",
       "        9, 10, 25, 15, 11, 16,  4, 28, 29, 24, 26, 13,  7])"
      ]
     },
     "execution_count": 35,
     "metadata": {},
     "output_type": "execute_result"
    }
   ],
   "source": [
    "sorted_index = np.argsort(abs_weights)[::-1]\n",
    "sorted_index"
   ]
  },
  {
   "cell_type": "code",
   "execution_count": 36,
   "metadata": {},
   "outputs": [
    {
     "name": "stdout",
     "output_type": "stream",
     "text": [
      "Two most important feature names:\n",
      "\n",
      "urgent\n",
      "num_shells\n"
     ]
    }
   ],
   "source": [
    "print(\"Two most important feature names:\\n\")\n",
    "for i in [8, 17]:\n",
    "    print(columns[i])"
   ]
  },
  {
   "cell_type": "code",
   "execution_count": 37,
   "metadata": {},
   "outputs": [],
   "source": [
    "# Swapping columns so that columns at index 8 and 17 move to index 0 and 1 respectively\n",
    "X_train[:,[0, 8]] = X_train[:,[8, 0]]\n",
    "X_train[:,[1, 17]] = X_train[:,[17, 1]]"
   ]
  },
  {
   "cell_type": "code",
   "execution_count": 38,
   "metadata": {},
   "outputs": [],
   "source": [
    "# Delete all features except the two most important ones\n",
    "X_train = np.delete(X_train, np.s_[2:], axis=1)"
   ]
  },
  {
   "cell_type": "code",
   "execution_count": 39,
   "metadata": {},
   "outputs": [],
   "source": [
    "# Swapping columns so that columns at index 8 and 17 move to index 0 and 1 respectively\n",
    "X_test[:,[0, 8]] = X_test[:,[8, 0]]\n",
    "X_test[:,[1, 17]] = X_test[:,[17, 1]]"
   ]
  },
  {
   "cell_type": "code",
   "execution_count": 40,
   "metadata": {},
   "outputs": [],
   "source": [
    "# Delete all features except the two most important ones\n",
    "X_test = np.delete(X_test, np.s_[2:], axis=1)"
   ]
  },
  {
   "cell_type": "markdown",
   "metadata": {},
   "source": [
    "# Running SVM model using Linear Kernel and our 2 selected features"
   ]
  },
  {
   "cell_type": "code",
   "execution_count": 41,
   "metadata": {},
   "outputs": [
    {
     "name": "stdout",
     "output_type": "stream",
     "text": [
      "Training time:  154.6169948577881\n"
     ]
    }
   ],
   "source": [
    "clfs = SVC(kernel='linear', gamma = 'scale') \n",
    "start_time = time.time() \n",
    "clfs.fit(X_train, y_train.values.ravel()) \n",
    "end_time = time.time() \n",
    "print(\"Training time: \", end_time-start_time) "
   ]
  },
  {
   "cell_type": "code",
   "execution_count": 42,
   "metadata": {},
   "outputs": [
    {
     "name": "stdout",
     "output_type": "stream",
     "text": [
      "Testing time:  76.49149894714355\n"
     ]
    }
   ],
   "source": [
    "start_time = time.time() \n",
    "y_test_pred = clfs.predict(X_test) \n",
    "end_time = time.time() \n",
    "print(\"Testing time: \", end_time-start_time) "
   ]
  },
  {
   "cell_type": "code",
   "execution_count": 43,
   "metadata": {},
   "outputs": [
    {
     "name": "stdout",
     "output_type": "stream",
     "text": [
      "Train score is: 0.5033490433914241\n",
      "Test score is: 0.7943929963058549\n"
     ]
    }
   ],
   "source": [
    "y_test = y_test.astype('int')\n",
    "print(\"Train score is:\", clfs.score(X_train, y_train)) \n",
    "print(\"Test score is:\", clfs.score(X_test, y_test)) "
   ]
  },
  {
   "cell_type": "markdown",
   "metadata": {},
   "source": [
    "# Running SVM model using rbf kernel and our 2 selected features"
   ]
  },
  {
   "cell_type": "code",
   "execution_count": 44,
   "metadata": {},
   "outputs": [
    {
     "name": "stdout",
     "output_type": "stream",
     "text": [
      "Training time:  222.45590138435364\n"
     ]
    }
   ],
   "source": [
    "clfs = SVC(kernel='rbf', gamma = 'scale') \n",
    "start_time = time.time() \n",
    "clfs.fit(X_train, y_train.values.ravel()) \n",
    "end_time = time.time() \n",
    "print(\"Training time: \", end_time-start_time) "
   ]
  },
  {
   "cell_type": "code",
   "execution_count": 45,
   "metadata": {},
   "outputs": [
    {
     "name": "stdout",
     "output_type": "stream",
     "text": [
      "Testing time:  122.30940318107605\n"
     ]
    }
   ],
   "source": [
    "start_time = time.time() \n",
    "y_test_pred = clfs.predict(X_test) \n",
    "end_time = time.time() \n",
    "print(\"Testing time: \", end_time-start_time) "
   ]
  },
  {
   "cell_type": "code",
   "execution_count": 46,
   "metadata": {},
   "outputs": [
    {
     "name": "stdout",
     "output_type": "stream",
     "text": [
      "Train score is: 0.5044633614652978\n",
      "Test score is: 0.7947978341177065\n"
     ]
    }
   ],
   "source": [
    "y_test = y_test.astype('int')\n",
    "print(\"Train score is:\", clfs.score(X_train, y_train)) \n",
    "print(\"Test score is:\", clfs.score(X_test, y_test)) "
   ]
  },
  {
   "cell_type": "code",
   "execution_count": 47,
   "metadata": {},
   "outputs": [
    {
     "name": "stderr",
     "output_type": "stream",
     "text": [
      "/Library/Frameworks/Python.framework/Versions/3.8/lib/python3.8/site-packages/sklearn/utils/validation.py:72: DataConversionWarning: A column-vector y was passed when a 1d array was expected. Please change the shape of y to (n_samples, ), for example using ravel().\n",
      "  return f(**kwargs)\n",
      "/Library/Frameworks/Python.framework/Versions/3.8/lib/python3.8/site-packages/sklearn/utils/validation.py:72: DataConversionWarning: A column-vector y was passed when a 1d array was expected. Please change the shape of y to (n_samples, ), for example using ravel().\n",
      "  return f(**kwargs)\n"
     ]
    },
    {
     "data": {
      "image/png": "[encoded data removed]",
      "text/plain": [
       "<Figure size 432x288 with 2 Axes>"
      ]
     },
     "metadata": {},
     "output_type": "display_data"
    }
   ],
   "source": [
    "from sklearn import svm\n",
    "\n",
    "X = X_train\n",
    "y = y_train.to_numpy()\n",
    "\n",
    "h = .02  # step size in the mesh\n",
    "\n",
    "# we create an instance of SVM and fit out data. We do not scale our\n",
    "# data since we want to plot the support vectors\n",
    "C = 1.0  # SVM regularization parameter\n",
    "# Running SVM using 'Linear' Kernel\n",
    "svc = svm.SVC(kernel='linear', C=C).fit(X, y)\n",
    "# Running SVM using 'rbf' Kernel\n",
    "rbf_svc = svm.SVC(kernel='rbf', gamma=0.7, C=C).fit(X, y)\n",
    "\n",
    "# create a mesh to plot in\n",
    "x_min, x_max = X[:, 0].min() - 1, X[:, 0].max() + 1\n",
    "y_min, y_max = X[:, 1].min() - 1, X[:, 1].max() + 1\n",
    "xx, yy = np.meshgrid(np.arange(x_min, x_max, h),\n",
    "                     np.arange(y_min, y_max, h))\n",
    "\n",
    "# title for the plots\n",
    "titles = ['SVC with linear kernel',\n",
    "          'SVC with RBF kernel']\n",
    "\n",
    "\n",
    "for i, clf in enumerate((svc, rbf_svc)):\n",
    "    # Plot the decision boundary. For that, we will assign a color to each\n",
    "    # point in the mesh [x_min, x_max]x[y_min, y_max].\n",
    "    plt.subplot(1, 2, i + 1)\n",
    "    plt.subplots_adjust(wspace=0.4, hspace=0.4)\n",
    "\n",
    "    Z = clf.predict(np.c_[xx.ravel(), yy.ravel()])\n",
    "\n",
    "    # Put the result into a color plot\n",
    "    Z = Z.reshape(xx.shape)\n",
    "    plt.contourf(xx, yy, Z, cmap=plt.cm.coolwarm, alpha=0.8)\n",
    "\n",
    "    # Plot also the training points\n",
    "    plt.scatter(X[:, 0], X[:, 1], c=y, cmap=plt.cm.coolwarm)\n",
    "    plt.xlabel('urgent')\n",
    "    plt.ylabel('num shells')\n",
    "    plt.xlim(xx.min(), xx.max())\n",
    "    plt.ylim(yy.min(), yy.max())\n",
    "    plt.xticks(())\n",
    "    plt.yticks(())\n",
    "    plt.title(titles[i])\n",
    "\n",
    "plt.show()"
   ]
  },
  {
   "cell_type": "markdown",
   "metadata": {},
   "source": [
    "### The data was classified pretty accurately using 'urgent' and 'num shells' features. Using the 'linear' kernel, the line boundry clearly seperated the classes of 'dos' vs 'non-dos' attacks. In case of 'rbf' kernel, there is a curved boundry that seperates the 'dos' and 'non-dos' attacks. The SVM model with both the kernels classfied the data with very high accuracy."
   ]
  },
  {
   "cell_type": "markdown",
   "metadata": {},
   "source": [
    "Major Reference: GeeksforGeeks"
   ]
  }
 ],
 "metadata": {
  "kernelspec": {
   "display_name": "Python 3",
   "language": "python",
   "name": "python3"
  },
  "language_info": {
   "codemirror_mode": {
    "name": "ipython",
    "version": 3
   },
   "file_extension": ".py",
   "mimetype": "text/x-python",
   "name": "python",
   "nbconvert_exporter": "python",
   "pygments_lexer": "ipython3",
   "version": "3.8.5"
  }
 },
 "nbformat": 4,
 "nbformat_minor": 4
}
