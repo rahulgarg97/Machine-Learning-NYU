{
 "cells": [
  {
   "cell_type": "markdown",
   "metadata": {},
   "source": [
    "# Assignment - 7"
   ]
  },
  {
   "cell_type": "code",
   "execution_count": 1,
   "metadata": {},
   "outputs": [],
   "source": [
    "import os\n",
    "import pandas as pd\n",
    "import numpy as np\n",
    "from sklearn.tree import DecisionTreeClassifier\n",
    "from sklearn.ensemble import AdaBoostClassifier\n",
    "from sklearn.preprocessing import MinMaxScaler\n",
    "from sklearn.model_selection import train_test_split\n",
    "from sklearn.metrics import accuracy_score\n",
    "from sklearn import tree\n",
    "\n",
    "import matplotlib.pyplot as plt"
   ]
  },
  {
   "cell_type": "code",
   "execution_count": 2,
   "metadata": {},
   "outputs": [],
   "source": [
    "# load dataset as Pandas Dataframe\n",
    "df = pd.read_csv('DataSetForPhishingVSBenignUrl.csv', low_memory=False)"
   ]
  },
  {
   "cell_type": "code",
   "execution_count": 3,
   "metadata": {},
   "outputs": [
    {
     "data": {
      "text/plain": [
       "(36707, 80)"
      ]
     },
     "execution_count": 3,
     "metadata": {},
     "output_type": "execute_result"
    }
   ],
   "source": [
    "# dimension of the dataset\n",
    "df.shape"
   ]
  },
  {
   "cell_type": "code",
   "execution_count": 4,
   "metadata": {},
   "outputs": [
    {
     "data": {
      "text/plain": [
       "Index(['Querylength', 'domain_token_count', 'path_token_count',\n",
       "       'avgdomaintokenlen', 'longdomaintokenlen', 'avgpathtokenlen', 'tld',\n",
       "       'charcompvowels', 'charcompace', 'ldl_url', 'ldl_domain', 'ldl_path',\n",
       "       'ldl_filename', 'ldl_getArg', 'dld_url', 'dld_domain', 'dld_path',\n",
       "       'dld_filename', 'dld_getArg', 'urlLen', 'domainlength', 'pathLength',\n",
       "       'subDirLen', 'fileNameLen', 'this.fileExtLen', 'ArgLen', 'pathurlRatio',\n",
       "       'ArgUrlRatio', 'argDomanRatio', 'domainUrlRatio', 'pathDomainRatio',\n",
       "       'argPathRatio', 'executable', 'isPortEighty', 'NumberofDotsinURL',\n",
       "       'ISIpAddressInDomainName', 'CharacterContinuityRate',\n",
       "       'LongestVariableValue', 'URL_DigitCount', 'host_DigitCount',\n",
       "       'Directory_DigitCount', 'File_name_DigitCount', 'Extension_DigitCount',\n",
       "       'Query_DigitCount', 'URL_Letter_Count', 'host_letter_count',\n",
       "       'Directory_LetterCount', 'Filename_LetterCount',\n",
       "       'Extension_LetterCount', 'Query_LetterCount', 'LongestPathTokenLength',\n",
       "       'Domain_LongestWordLength', 'Path_LongestWordLength',\n",
       "       'sub-Directory_LongestWordLength', 'Arguments_LongestWordLength',\n",
       "       'URL_sensitiveWord', 'URLQueries_variable', 'spcharUrl',\n",
       "       'delimeter_Domain', 'delimeter_path', 'delimeter_Count',\n",
       "       'NumberRate_URL', 'NumberRate_Domain', 'NumberRate_DirectoryName',\n",
       "       'NumberRate_FileName', 'NumberRate_Extension', 'NumberRate_AfterPath',\n",
       "       'SymbolCount_URL', 'SymbolCount_Domain', 'SymbolCount_Directoryname',\n",
       "       'SymbolCount_FileName', 'SymbolCount_Extension',\n",
       "       'SymbolCount_Afterpath', 'Entropy_URL', 'Entropy_Domain',\n",
       "       'Entropy_DirectoryName', 'Entropy_Filename', 'Entropy_Extension',\n",
       "       'Entropy_Afterpath', 'URL_Type_obf_Type'],\n",
       "      dtype='object')"
      ]
     },
     "execution_count": 4,
     "metadata": {},
     "output_type": "execute_result"
    }
   ],
   "source": [
    "# see all the attributes\n",
    "df.columns"
   ]
  },
  {
   "cell_type": "code",
   "execution_count": 5,
   "metadata": {},
   "outputs": [
    {
     "data": {
      "text/plain": [
       "Querylength                int64\n",
       "domain_token_count         int64\n",
       "path_token_count           int64\n",
       "avgdomaintokenlen        float64\n",
       "longdomaintokenlen         int64\n",
       "                          ...   \n",
       "Entropy_DirectoryName    float64\n",
       "Entropy_Filename         float64\n",
       "Entropy_Extension        float64\n",
       "Entropy_Afterpath        float64\n",
       "URL_Type_obf_Type         object\n",
       "Length: 80, dtype: object"
      ]
     },
     "execution_count": 5,
     "metadata": {},
     "output_type": "execute_result"
    }
   ],
   "source": [
    "# check data types\n",
    "df.dtypes"
   ]
  },
  {
   "cell_type": "code",
   "execution_count": 6,
   "metadata": {},
   "outputs": [],
   "source": [
    "# fixing to display all columns\n",
    "pd.options.display.max_columns = None\n",
    "pd.options.display.max_rows = None"
   ]
  },
  {
   "cell_type": "code",
   "execution_count": 7,
   "metadata": {},
   "outputs": [
    {
     "data": {
      "text/plain": [
       "Querylength                          int64\n",
       "domain_token_count                   int64\n",
       "path_token_count                     int64\n",
       "avgdomaintokenlen                  float64\n",
       "longdomaintokenlen                   int64\n",
       "avgpathtokenlen                    float64\n",
       "tld                                  int64\n",
       "charcompvowels                       int64\n",
       "charcompace                          int64\n",
       "ldl_url                              int64\n",
       "ldl_domain                           int64\n",
       "ldl_path                             int64\n",
       "ldl_filename                         int64\n",
       "ldl_getArg                           int64\n",
       "dld_url                              int64\n",
       "dld_domain                           int64\n",
       "dld_path                             int64\n",
       "dld_filename                         int64\n",
       "dld_getArg                           int64\n",
       "urlLen                               int64\n",
       "domainlength                         int64\n",
       "pathLength                           int64\n",
       "subDirLen                            int64\n",
       "fileNameLen                          int64\n",
       "this.fileExtLen                      int64\n",
       "ArgLen                               int64\n",
       "pathurlRatio                       float64\n",
       "ArgUrlRatio                        float64\n",
       "argDomanRatio                      float64\n",
       "domainUrlRatio                     float64\n",
       "pathDomainRatio                    float64\n",
       "argPathRatio                       float64\n",
       "executable                           int64\n",
       "isPortEighty                         int64\n",
       "NumberofDotsinURL                    int64\n",
       "ISIpAddressInDomainName              int64\n",
       "CharacterContinuityRate            float64\n",
       "LongestVariableValue                 int64\n",
       "URL_DigitCount                       int64\n",
       "host_DigitCount                      int64\n",
       "Directory_DigitCount                 int64\n",
       "File_name_DigitCount                 int64\n",
       "Extension_DigitCount                 int64\n",
       "Query_DigitCount                     int64\n",
       "URL_Letter_Count                     int64\n",
       "host_letter_count                    int64\n",
       "Directory_LetterCount                int64\n",
       "Filename_LetterCount                 int64\n",
       "Extension_LetterCount                int64\n",
       "Query_LetterCount                    int64\n",
       "LongestPathTokenLength               int64\n",
       "Domain_LongestWordLength             int64\n",
       "Path_LongestWordLength               int64\n",
       "sub-Directory_LongestWordLength      int64\n",
       "Arguments_LongestWordLength          int64\n",
       "URL_sensitiveWord                    int64\n",
       "URLQueries_variable                  int64\n",
       "spcharUrl                            int64\n",
       "delimeter_Domain                     int64\n",
       "delimeter_path                       int64\n",
       "delimeter_Count                      int64\n",
       "NumberRate_URL                     float64\n",
       "NumberRate_Domain                  float64\n",
       "NumberRate_DirectoryName           float64\n",
       "NumberRate_FileName                float64\n",
       "NumberRate_Extension               float64\n",
       "NumberRate_AfterPath               float64\n",
       "SymbolCount_URL                      int64\n",
       "SymbolCount_Domain                   int64\n",
       "SymbolCount_Directoryname            int64\n",
       "SymbolCount_FileName                 int64\n",
       "SymbolCount_Extension                int64\n",
       "SymbolCount_Afterpath                int64\n",
       "Entropy_URL                        float64\n",
       "Entropy_Domain                     float64\n",
       "Entropy_DirectoryName              float64\n",
       "Entropy_Filename                   float64\n",
       "Entropy_Extension                  float64\n",
       "Entropy_Afterpath                  float64\n",
       "URL_Type_obf_Type                   object\n",
       "dtype: object"
      ]
     },
     "execution_count": 7,
     "metadata": {},
     "output_type": "execute_result"
    }
   ],
   "source": [
    "# check data types\n",
    "df.dtypes"
   ]
  },
  {
   "cell_type": "code",
   "execution_count": 8,
   "metadata": {},
   "outputs": [
    {
     "name": "stdout",
     "output_type": "stream",
     "text": [
      "Number of Samples::  36707\n",
      "Number of features:  80\n"
     ]
    }
   ],
   "source": [
    "# Analyzing data\n",
    "print(\"Number of Samples:: \", df.shape[0])\n",
    "print(\"Number of features: \", df.shape[1])"
   ]
  },
  {
   "cell_type": "code",
   "execution_count": 9,
   "metadata": {},
   "outputs": [
    {
     "data": {
      "text/html": [
       "<div>\n",
       "<style scoped>\n",
       "    .dataframe tbody tr th:only-of-type {\n",
       "        vertical-align: middle;\n",
       "    }\n",
       "\n",
       "    .dataframe tbody tr th {\n",
       "        vertical-align: top;\n",
       "    }\n",
       "\n",
       "    .dataframe thead th {\n",
       "        text-align: right;\n",
       "    }\n",
       "</style>\n",
       "<table border=\"1\" class=\"dataframe\">\n",
       "  <thead>\n",
       "    <tr style=\"text-align: right;\">\n",
       "      <th></th>\n",
       "      <th>Querylength</th>\n",
       "      <th>domain_token_count</th>\n",
       "      <th>path_token_count</th>\n",
       "      <th>avgdomaintokenlen</th>\n",
       "      <th>longdomaintokenlen</th>\n",
       "      <th>avgpathtokenlen</th>\n",
       "      <th>tld</th>\n",
       "      <th>charcompvowels</th>\n",
       "      <th>charcompace</th>\n",
       "      <th>ldl_url</th>\n",
       "      <th>ldl_domain</th>\n",
       "      <th>ldl_path</th>\n",
       "      <th>ldl_filename</th>\n",
       "      <th>ldl_getArg</th>\n",
       "      <th>dld_url</th>\n",
       "      <th>dld_domain</th>\n",
       "      <th>dld_path</th>\n",
       "      <th>dld_filename</th>\n",
       "      <th>dld_getArg</th>\n",
       "      <th>urlLen</th>\n",
       "      <th>domainlength</th>\n",
       "      <th>pathLength</th>\n",
       "      <th>subDirLen</th>\n",
       "      <th>fileNameLen</th>\n",
       "      <th>this.fileExtLen</th>\n",
       "      <th>ArgLen</th>\n",
       "      <th>pathurlRatio</th>\n",
       "      <th>ArgUrlRatio</th>\n",
       "      <th>argDomanRatio</th>\n",
       "      <th>domainUrlRatio</th>\n",
       "      <th>pathDomainRatio</th>\n",
       "      <th>argPathRatio</th>\n",
       "      <th>executable</th>\n",
       "      <th>isPortEighty</th>\n",
       "      <th>NumberofDotsinURL</th>\n",
       "      <th>ISIpAddressInDomainName</th>\n",
       "      <th>CharacterContinuityRate</th>\n",
       "      <th>LongestVariableValue</th>\n",
       "      <th>URL_DigitCount</th>\n",
       "      <th>host_DigitCount</th>\n",
       "      <th>Directory_DigitCount</th>\n",
       "      <th>File_name_DigitCount</th>\n",
       "      <th>Extension_DigitCount</th>\n",
       "      <th>Query_DigitCount</th>\n",
       "      <th>URL_Letter_Count</th>\n",
       "      <th>host_letter_count</th>\n",
       "      <th>Directory_LetterCount</th>\n",
       "      <th>Filename_LetterCount</th>\n",
       "      <th>Extension_LetterCount</th>\n",
       "      <th>Query_LetterCount</th>\n",
       "      <th>LongestPathTokenLength</th>\n",
       "      <th>Domain_LongestWordLength</th>\n",
       "      <th>Path_LongestWordLength</th>\n",
       "      <th>sub-Directory_LongestWordLength</th>\n",
       "      <th>Arguments_LongestWordLength</th>\n",
       "      <th>URL_sensitiveWord</th>\n",
       "      <th>URLQueries_variable</th>\n",
       "      <th>spcharUrl</th>\n",
       "      <th>delimeter_Domain</th>\n",
       "      <th>delimeter_path</th>\n",
       "      <th>delimeter_Count</th>\n",
       "      <th>NumberRate_URL</th>\n",
       "      <th>NumberRate_Domain</th>\n",
       "      <th>NumberRate_DirectoryName</th>\n",
       "      <th>NumberRate_FileName</th>\n",
       "      <th>NumberRate_Extension</th>\n",
       "      <th>NumberRate_AfterPath</th>\n",
       "      <th>SymbolCount_URL</th>\n",
       "      <th>SymbolCount_Domain</th>\n",
       "      <th>SymbolCount_Directoryname</th>\n",
       "      <th>SymbolCount_FileName</th>\n",
       "      <th>SymbolCount_Extension</th>\n",
       "      <th>SymbolCount_Afterpath</th>\n",
       "      <th>Entropy_URL</th>\n",
       "      <th>Entropy_Domain</th>\n",
       "      <th>Entropy_DirectoryName</th>\n",
       "      <th>Entropy_Filename</th>\n",
       "      <th>Entropy_Extension</th>\n",
       "      <th>Entropy_Afterpath</th>\n",
       "      <th>URL_Type_obf_Type</th>\n",
       "    </tr>\n",
       "  </thead>\n",
       "  <tbody>\n",
       "    <tr>\n",
       "      <th>0</th>\n",
       "      <td>0</td>\n",
       "      <td>4</td>\n",
       "      <td>5</td>\n",
       "      <td>5.5</td>\n",
       "      <td>14</td>\n",
       "      <td>4.400000</td>\n",
       "      <td>4</td>\n",
       "      <td>8</td>\n",
       "      <td>3</td>\n",
       "      <td>0</td>\n",
       "      <td>0</td>\n",
       "      <td>0</td>\n",
       "      <td>0</td>\n",
       "      <td>0</td>\n",
       "      <td>0</td>\n",
       "      <td>0</td>\n",
       "      <td>0</td>\n",
       "      <td>0</td>\n",
       "      <td>0</td>\n",
       "      <td>58</td>\n",
       "      <td>25</td>\n",
       "      <td>26</td>\n",
       "      <td>26</td>\n",
       "      <td>13</td>\n",
       "      <td>1</td>\n",
       "      <td>2</td>\n",
       "      <td>0.448276</td>\n",
       "      <td>0.034483</td>\n",
       "      <td>0.08</td>\n",
       "      <td>0.431034</td>\n",
       "      <td>1.04</td>\n",
       "      <td>0.076923</td>\n",
       "      <td>0</td>\n",
       "      <td>-1</td>\n",
       "      <td>5</td>\n",
       "      <td>-1</td>\n",
       "      <td>0.6</td>\n",
       "      <td>-1</td>\n",
       "      <td>1</td>\n",
       "      <td>0</td>\n",
       "      <td>0</td>\n",
       "      <td>0</td>\n",
       "      <td>1</td>\n",
       "      <td>-1</td>\n",
       "      <td>47</td>\n",
       "      <td>22</td>\n",
       "      <td>8</td>\n",
       "      <td>13</td>\n",
       "      <td>0</td>\n",
       "      <td>-1</td>\n",
       "      <td>13</td>\n",
       "      <td>14</td>\n",
       "      <td>13</td>\n",
       "      <td>5</td>\n",
       "      <td>-1</td>\n",
       "      <td>0</td>\n",
       "      <td>0</td>\n",
       "      <td>3</td>\n",
       "      <td>0</td>\n",
       "      <td>2</td>\n",
       "      <td>-1</td>\n",
       "      <td>0.017241</td>\n",
       "      <td>0.0</td>\n",
       "      <td>0.0</td>\n",
       "      <td>0.066667</td>\n",
       "      <td>1.0</td>\n",
       "      <td>-1.0</td>\n",
       "      <td>8</td>\n",
       "      <td>3</td>\n",
       "      <td>2</td>\n",
       "      <td>1</td>\n",
       "      <td>0</td>\n",
       "      <td>-1</td>\n",
       "      <td>0.726298</td>\n",
       "      <td>0.784493</td>\n",
       "      <td>0.894886</td>\n",
       "      <td>0.850608</td>\n",
       "      <td>NaN</td>\n",
       "      <td>-1.0</td>\n",
       "      <td>Defacement</td>\n",
       "    </tr>\n",
       "    <tr>\n",
       "      <th>1</th>\n",
       "      <td>0</td>\n",
       "      <td>4</td>\n",
       "      <td>5</td>\n",
       "      <td>5.5</td>\n",
       "      <td>14</td>\n",
       "      <td>6.000000</td>\n",
       "      <td>4</td>\n",
       "      <td>12</td>\n",
       "      <td>4</td>\n",
       "      <td>0</td>\n",
       "      <td>0</td>\n",
       "      <td>0</td>\n",
       "      <td>0</td>\n",
       "      <td>0</td>\n",
       "      <td>0</td>\n",
       "      <td>0</td>\n",
       "      <td>0</td>\n",
       "      <td>0</td>\n",
       "      <td>0</td>\n",
       "      <td>66</td>\n",
       "      <td>25</td>\n",
       "      <td>34</td>\n",
       "      <td>34</td>\n",
       "      <td>2</td>\n",
       "      <td>2</td>\n",
       "      <td>2</td>\n",
       "      <td>0.515151</td>\n",
       "      <td>0.030303</td>\n",
       "      <td>0.08</td>\n",
       "      <td>0.378788</td>\n",
       "      <td>1.36</td>\n",
       "      <td>0.058824</td>\n",
       "      <td>0</td>\n",
       "      <td>-1</td>\n",
       "      <td>4</td>\n",
       "      <td>-1</td>\n",
       "      <td>0.6</td>\n",
       "      <td>-1</td>\n",
       "      <td>0</td>\n",
       "      <td>0</td>\n",
       "      <td>0</td>\n",
       "      <td>0</td>\n",
       "      <td>0</td>\n",
       "      <td>-1</td>\n",
       "      <td>56</td>\n",
       "      <td>22</td>\n",
       "      <td>8</td>\n",
       "      <td>13</td>\n",
       "      <td>9</td>\n",
       "      <td>-1</td>\n",
       "      <td>13</td>\n",
       "      <td>14</td>\n",
       "      <td>13</td>\n",
       "      <td>5</td>\n",
       "      <td>-1</td>\n",
       "      <td>0</td>\n",
       "      <td>0</td>\n",
       "      <td>4</td>\n",
       "      <td>0</td>\n",
       "      <td>1</td>\n",
       "      <td>-1</td>\n",
       "      <td>0.000000</td>\n",
       "      <td>0.0</td>\n",
       "      <td>0.0</td>\n",
       "      <td>0.000000</td>\n",
       "      <td>NaN</td>\n",
       "      <td>-1.0</td>\n",
       "      <td>8</td>\n",
       "      <td>3</td>\n",
       "      <td>3</td>\n",
       "      <td>0</td>\n",
       "      <td>0</td>\n",
       "      <td>-1</td>\n",
       "      <td>0.688635</td>\n",
       "      <td>0.784493</td>\n",
       "      <td>0.814725</td>\n",
       "      <td>0.859793</td>\n",
       "      <td>0.0</td>\n",
       "      <td>-1.0</td>\n",
       "      <td>Defacement</td>\n",
       "    </tr>\n",
       "    <tr>\n",
       "      <th>2</th>\n",
       "      <td>0</td>\n",
       "      <td>4</td>\n",
       "      <td>5</td>\n",
       "      <td>5.5</td>\n",
       "      <td>14</td>\n",
       "      <td>5.800000</td>\n",
       "      <td>4</td>\n",
       "      <td>12</td>\n",
       "      <td>5</td>\n",
       "      <td>0</td>\n",
       "      <td>0</td>\n",
       "      <td>0</td>\n",
       "      <td>0</td>\n",
       "      <td>0</td>\n",
       "      <td>0</td>\n",
       "      <td>0</td>\n",
       "      <td>0</td>\n",
       "      <td>0</td>\n",
       "      <td>0</td>\n",
       "      <td>65</td>\n",
       "      <td>25</td>\n",
       "      <td>33</td>\n",
       "      <td>33</td>\n",
       "      <td>2</td>\n",
       "      <td>2</td>\n",
       "      <td>2</td>\n",
       "      <td>0.507692</td>\n",
       "      <td>0.030769</td>\n",
       "      <td>0.08</td>\n",
       "      <td>0.384615</td>\n",
       "      <td>1.32</td>\n",
       "      <td>0.060606</td>\n",
       "      <td>0</td>\n",
       "      <td>-1</td>\n",
       "      <td>4</td>\n",
       "      <td>-1</td>\n",
       "      <td>0.6</td>\n",
       "      <td>-1</td>\n",
       "      <td>0</td>\n",
       "      <td>0</td>\n",
       "      <td>0</td>\n",
       "      <td>0</td>\n",
       "      <td>0</td>\n",
       "      <td>-1</td>\n",
       "      <td>55</td>\n",
       "      <td>22</td>\n",
       "      <td>8</td>\n",
       "      <td>13</td>\n",
       "      <td>8</td>\n",
       "      <td>-1</td>\n",
       "      <td>13</td>\n",
       "      <td>14</td>\n",
       "      <td>13</td>\n",
       "      <td>5</td>\n",
       "      <td>-1</td>\n",
       "      <td>0</td>\n",
       "      <td>0</td>\n",
       "      <td>4</td>\n",
       "      <td>0</td>\n",
       "      <td>1</td>\n",
       "      <td>-1</td>\n",
       "      <td>0.000000</td>\n",
       "      <td>0.0</td>\n",
       "      <td>0.0</td>\n",
       "      <td>0.000000</td>\n",
       "      <td>NaN</td>\n",
       "      <td>-1.0</td>\n",
       "      <td>8</td>\n",
       "      <td>3</td>\n",
       "      <td>3</td>\n",
       "      <td>0</td>\n",
       "      <td>0</td>\n",
       "      <td>-1</td>\n",
       "      <td>0.695049</td>\n",
       "      <td>0.784493</td>\n",
       "      <td>0.814725</td>\n",
       "      <td>0.801880</td>\n",
       "      <td>0.0</td>\n",
       "      <td>-1.0</td>\n",
       "      <td>Defacement</td>\n",
       "    </tr>\n",
       "    <tr>\n",
       "      <th>3</th>\n",
       "      <td>0</td>\n",
       "      <td>4</td>\n",
       "      <td>12</td>\n",
       "      <td>5.5</td>\n",
       "      <td>14</td>\n",
       "      <td>5.500000</td>\n",
       "      <td>4</td>\n",
       "      <td>32</td>\n",
       "      <td>16</td>\n",
       "      <td>0</td>\n",
       "      <td>0</td>\n",
       "      <td>0</td>\n",
       "      <td>0</td>\n",
       "      <td>0</td>\n",
       "      <td>0</td>\n",
       "      <td>0</td>\n",
       "      <td>0</td>\n",
       "      <td>0</td>\n",
       "      <td>0</td>\n",
       "      <td>109</td>\n",
       "      <td>25</td>\n",
       "      <td>77</td>\n",
       "      <td>77</td>\n",
       "      <td>2</td>\n",
       "      <td>2</td>\n",
       "      <td>2</td>\n",
       "      <td>0.706422</td>\n",
       "      <td>0.018349</td>\n",
       "      <td>0.08</td>\n",
       "      <td>0.229358</td>\n",
       "      <td>3.08</td>\n",
       "      <td>0.025974</td>\n",
       "      <td>0</td>\n",
       "      <td>-1</td>\n",
       "      <td>4</td>\n",
       "      <td>-1</td>\n",
       "      <td>0.6</td>\n",
       "      <td>-1</td>\n",
       "      <td>0</td>\n",
       "      <td>0</td>\n",
       "      <td>0</td>\n",
       "      <td>0</td>\n",
       "      <td>0</td>\n",
       "      <td>-1</td>\n",
       "      <td>92</td>\n",
       "      <td>22</td>\n",
       "      <td>8</td>\n",
       "      <td>13</td>\n",
       "      <td>45</td>\n",
       "      <td>-1</td>\n",
       "      <td>52</td>\n",
       "      <td>14</td>\n",
       "      <td>13</td>\n",
       "      <td>13</td>\n",
       "      <td>-1</td>\n",
       "      <td>0</td>\n",
       "      <td>0</td>\n",
       "      <td>4</td>\n",
       "      <td>0</td>\n",
       "      <td>8</td>\n",
       "      <td>-1</td>\n",
       "      <td>0.000000</td>\n",
       "      <td>0.0</td>\n",
       "      <td>0.0</td>\n",
       "      <td>0.000000</td>\n",
       "      <td>NaN</td>\n",
       "      <td>-1.0</td>\n",
       "      <td>8</td>\n",
       "      <td>3</td>\n",
       "      <td>3</td>\n",
       "      <td>0</td>\n",
       "      <td>0</td>\n",
       "      <td>-1</td>\n",
       "      <td>0.640130</td>\n",
       "      <td>0.784493</td>\n",
       "      <td>0.814725</td>\n",
       "      <td>0.663210</td>\n",
       "      <td>0.0</td>\n",
       "      <td>-1.0</td>\n",
       "      <td>Defacement</td>\n",
       "    </tr>\n",
       "    <tr>\n",
       "      <th>4</th>\n",
       "      <td>0</td>\n",
       "      <td>4</td>\n",
       "      <td>6</td>\n",
       "      <td>5.5</td>\n",
       "      <td>14</td>\n",
       "      <td>7.333334</td>\n",
       "      <td>4</td>\n",
       "      <td>18</td>\n",
       "      <td>11</td>\n",
       "      <td>0</td>\n",
       "      <td>0</td>\n",
       "      <td>0</td>\n",
       "      <td>0</td>\n",
       "      <td>0</td>\n",
       "      <td>0</td>\n",
       "      <td>0</td>\n",
       "      <td>0</td>\n",
       "      <td>0</td>\n",
       "      <td>0</td>\n",
       "      <td>81</td>\n",
       "      <td>25</td>\n",
       "      <td>49</td>\n",
       "      <td>49</td>\n",
       "      <td>2</td>\n",
       "      <td>2</td>\n",
       "      <td>2</td>\n",
       "      <td>0.604938</td>\n",
       "      <td>0.024691</td>\n",
       "      <td>0.08</td>\n",
       "      <td>0.308642</td>\n",
       "      <td>1.96</td>\n",
       "      <td>0.040816</td>\n",
       "      <td>0</td>\n",
       "      <td>-1</td>\n",
       "      <td>4</td>\n",
       "      <td>-1</td>\n",
       "      <td>0.6</td>\n",
       "      <td>-1</td>\n",
       "      <td>0</td>\n",
       "      <td>0</td>\n",
       "      <td>0</td>\n",
       "      <td>0</td>\n",
       "      <td>0</td>\n",
       "      <td>-1</td>\n",
       "      <td>70</td>\n",
       "      <td>22</td>\n",
       "      <td>8</td>\n",
       "      <td>13</td>\n",
       "      <td>23</td>\n",
       "      <td>-1</td>\n",
       "      <td>24</td>\n",
       "      <td>14</td>\n",
       "      <td>13</td>\n",
       "      <td>13</td>\n",
       "      <td>-1</td>\n",
       "      <td>0</td>\n",
       "      <td>0</td>\n",
       "      <td>4</td>\n",
       "      <td>0</td>\n",
       "      <td>2</td>\n",
       "      <td>-1</td>\n",
       "      <td>0.000000</td>\n",
       "      <td>0.0</td>\n",
       "      <td>0.0</td>\n",
       "      <td>0.000000</td>\n",
       "      <td>NaN</td>\n",
       "      <td>-1.0</td>\n",
       "      <td>8</td>\n",
       "      <td>3</td>\n",
       "      <td>3</td>\n",
       "      <td>0</td>\n",
       "      <td>0</td>\n",
       "      <td>-1</td>\n",
       "      <td>0.681307</td>\n",
       "      <td>0.784493</td>\n",
       "      <td>0.814725</td>\n",
       "      <td>0.804526</td>\n",
       "      <td>0.0</td>\n",
       "      <td>-1.0</td>\n",
       "      <td>Defacement</td>\n",
       "    </tr>\n",
       "    <tr>\n",
       "      <th>5</th>\n",
       "      <td>0</td>\n",
       "      <td>4</td>\n",
       "      <td>8</td>\n",
       "      <td>5.5</td>\n",
       "      <td>14</td>\n",
       "      <td>6.500000</td>\n",
       "      <td>4</td>\n",
       "      <td>22</td>\n",
       "      <td>10</td>\n",
       "      <td>0</td>\n",
       "      <td>0</td>\n",
       "      <td>0</td>\n",
       "      <td>0</td>\n",
       "      <td>0</td>\n",
       "      <td>0</td>\n",
       "      <td>0</td>\n",
       "      <td>0</td>\n",
       "      <td>0</td>\n",
       "      <td>0</td>\n",
       "      <td>91</td>\n",
       "      <td>25</td>\n",
       "      <td>59</td>\n",
       "      <td>59</td>\n",
       "      <td>2</td>\n",
       "      <td>2</td>\n",
       "      <td>2</td>\n",
       "      <td>0.648352</td>\n",
       "      <td>0.021978</td>\n",
       "      <td>0.08</td>\n",
       "      <td>0.274725</td>\n",
       "      <td>2.36</td>\n",
       "      <td>0.033898</td>\n",
       "      <td>0</td>\n",
       "      <td>-1</td>\n",
       "      <td>4</td>\n",
       "      <td>-1</td>\n",
       "      <td>0.6</td>\n",
       "      <td>-1</td>\n",
       "      <td>0</td>\n",
       "      <td>0</td>\n",
       "      <td>0</td>\n",
       "      <td>0</td>\n",
       "      <td>0</td>\n",
       "      <td>-1</td>\n",
       "      <td>78</td>\n",
       "      <td>22</td>\n",
       "      <td>8</td>\n",
       "      <td>13</td>\n",
       "      <td>31</td>\n",
       "      <td>-1</td>\n",
       "      <td>34</td>\n",
       "      <td>14</td>\n",
       "      <td>15</td>\n",
       "      <td>13</td>\n",
       "      <td>-1</td>\n",
       "      <td>0</td>\n",
       "      <td>0</td>\n",
       "      <td>4</td>\n",
       "      <td>0</td>\n",
       "      <td>4</td>\n",
       "      <td>-1</td>\n",
       "      <td>0.000000</td>\n",
       "      <td>0.0</td>\n",
       "      <td>0.0</td>\n",
       "      <td>0.000000</td>\n",
       "      <td>NaN</td>\n",
       "      <td>-1.0</td>\n",
       "      <td>8</td>\n",
       "      <td>3</td>\n",
       "      <td>3</td>\n",
       "      <td>0</td>\n",
       "      <td>0</td>\n",
       "      <td>-1</td>\n",
       "      <td>0.666676</td>\n",
       "      <td>0.784493</td>\n",
       "      <td>0.814725</td>\n",
       "      <td>0.755658</td>\n",
       "      <td>0.0</td>\n",
       "      <td>-1.0</td>\n",
       "      <td>Defacement</td>\n",
       "    </tr>\n",
       "    <tr>\n",
       "      <th>6</th>\n",
       "      <td>0</td>\n",
       "      <td>4</td>\n",
       "      <td>5</td>\n",
       "      <td>5.5</td>\n",
       "      <td>14</td>\n",
       "      <td>7.800000</td>\n",
       "      <td>4</td>\n",
       "      <td>17</td>\n",
       "      <td>10</td>\n",
       "      <td>0</td>\n",
       "      <td>0</td>\n",
       "      <td>0</td>\n",
       "      <td>0</td>\n",
       "      <td>0</td>\n",
       "      <td>0</td>\n",
       "      <td>0</td>\n",
       "      <td>0</td>\n",
       "      <td>0</td>\n",
       "      <td>0</td>\n",
       "      <td>75</td>\n",
       "      <td>25</td>\n",
       "      <td>43</td>\n",
       "      <td>43</td>\n",
       "      <td>2</td>\n",
       "      <td>2</td>\n",
       "      <td>2</td>\n",
       "      <td>0.573333</td>\n",
       "      <td>0.026667</td>\n",
       "      <td>0.08</td>\n",
       "      <td>0.333333</td>\n",
       "      <td>1.72</td>\n",
       "      <td>0.046512</td>\n",
       "      <td>0</td>\n",
       "      <td>-1</td>\n",
       "      <td>4</td>\n",
       "      <td>-1</td>\n",
       "      <td>0.6</td>\n",
       "      <td>-1</td>\n",
       "      <td>0</td>\n",
       "      <td>0</td>\n",
       "      <td>0</td>\n",
       "      <td>0</td>\n",
       "      <td>0</td>\n",
       "      <td>-1</td>\n",
       "      <td>65</td>\n",
       "      <td>22</td>\n",
       "      <td>8</td>\n",
       "      <td>13</td>\n",
       "      <td>18</td>\n",
       "      <td>-1</td>\n",
       "      <td>18</td>\n",
       "      <td>14</td>\n",
       "      <td>18</td>\n",
       "      <td>5</td>\n",
       "      <td>-1</td>\n",
       "      <td>0</td>\n",
       "      <td>0</td>\n",
       "      <td>4</td>\n",
       "      <td>0</td>\n",
       "      <td>1</td>\n",
       "      <td>-1</td>\n",
       "      <td>0.000000</td>\n",
       "      <td>0.0</td>\n",
       "      <td>0.0</td>\n",
       "      <td>0.000000</td>\n",
       "      <td>NaN</td>\n",
       "      <td>-1.0</td>\n",
       "      <td>8</td>\n",
       "      <td>3</td>\n",
       "      <td>3</td>\n",
       "      <td>0</td>\n",
       "      <td>0</td>\n",
       "      <td>-1</td>\n",
       "      <td>0.682440</td>\n",
       "      <td>0.784493</td>\n",
       "      <td>0.814725</td>\n",
       "      <td>0.766719</td>\n",
       "      <td>0.0</td>\n",
       "      <td>-1.0</td>\n",
       "      <td>Defacement</td>\n",
       "    </tr>\n",
       "    <tr>\n",
       "      <th>7</th>\n",
       "      <td>0</td>\n",
       "      <td>4</td>\n",
       "      <td>7</td>\n",
       "      <td>5.5</td>\n",
       "      <td>14</td>\n",
       "      <td>6.285714</td>\n",
       "      <td>4</td>\n",
       "      <td>16</td>\n",
       "      <td>9</td>\n",
       "      <td>0</td>\n",
       "      <td>0</td>\n",
       "      <td>0</td>\n",
       "      <td>0</td>\n",
       "      <td>0</td>\n",
       "      <td>0</td>\n",
       "      <td>0</td>\n",
       "      <td>0</td>\n",
       "      <td>0</td>\n",
       "      <td>0</td>\n",
       "      <td>82</td>\n",
       "      <td>25</td>\n",
       "      <td>50</td>\n",
       "      <td>50</td>\n",
       "      <td>2</td>\n",
       "      <td>2</td>\n",
       "      <td>2</td>\n",
       "      <td>0.609756</td>\n",
       "      <td>0.024390</td>\n",
       "      <td>0.08</td>\n",
       "      <td>0.304878</td>\n",
       "      <td>2.00</td>\n",
       "      <td>0.040000</td>\n",
       "      <td>0</td>\n",
       "      <td>-1</td>\n",
       "      <td>4</td>\n",
       "      <td>-1</td>\n",
       "      <td>0.6</td>\n",
       "      <td>-1</td>\n",
       "      <td>8</td>\n",
       "      <td>0</td>\n",
       "      <td>0</td>\n",
       "      <td>0</td>\n",
       "      <td>8</td>\n",
       "      <td>-1</td>\n",
       "      <td>62</td>\n",
       "      <td>22</td>\n",
       "      <td>8</td>\n",
       "      <td>13</td>\n",
       "      <td>15</td>\n",
       "      <td>-1</td>\n",
       "      <td>25</td>\n",
       "      <td>14</td>\n",
       "      <td>13</td>\n",
       "      <td>13</td>\n",
       "      <td>-1</td>\n",
       "      <td>0</td>\n",
       "      <td>0</td>\n",
       "      <td>4</td>\n",
       "      <td>0</td>\n",
       "      <td>3</td>\n",
       "      <td>-1</td>\n",
       "      <td>0.097561</td>\n",
       "      <td>0.0</td>\n",
       "      <td>0.0</td>\n",
       "      <td>0.320000</td>\n",
       "      <td>NaN</td>\n",
       "      <td>-1.0</td>\n",
       "      <td>8</td>\n",
       "      <td>3</td>\n",
       "      <td>3</td>\n",
       "      <td>0</td>\n",
       "      <td>0</td>\n",
       "      <td>-1</td>\n",
       "      <td>0.709396</td>\n",
       "      <td>0.784493</td>\n",
       "      <td>0.814725</td>\n",
       "      <td>0.797498</td>\n",
       "      <td>0.0</td>\n",
       "      <td>-1.0</td>\n",
       "      <td>Defacement</td>\n",
       "    </tr>\n",
       "    <tr>\n",
       "      <th>8</th>\n",
       "      <td>0</td>\n",
       "      <td>4</td>\n",
       "      <td>6</td>\n",
       "      <td>5.5</td>\n",
       "      <td>14</td>\n",
       "      <td>6.500000</td>\n",
       "      <td>4</td>\n",
       "      <td>16</td>\n",
       "      <td>10</td>\n",
       "      <td>0</td>\n",
       "      <td>0</td>\n",
       "      <td>0</td>\n",
       "      <td>0</td>\n",
       "      <td>0</td>\n",
       "      <td>0</td>\n",
       "      <td>0</td>\n",
       "      <td>0</td>\n",
       "      <td>0</td>\n",
       "      <td>0</td>\n",
       "      <td>76</td>\n",
       "      <td>25</td>\n",
       "      <td>44</td>\n",
       "      <td>44</td>\n",
       "      <td>2</td>\n",
       "      <td>2</td>\n",
       "      <td>2</td>\n",
       "      <td>0.578947</td>\n",
       "      <td>0.026316</td>\n",
       "      <td>0.08</td>\n",
       "      <td>0.328947</td>\n",
       "      <td>1.76</td>\n",
       "      <td>0.045455</td>\n",
       "      <td>0</td>\n",
       "      <td>-1</td>\n",
       "      <td>4</td>\n",
       "      <td>-1</td>\n",
       "      <td>0.6</td>\n",
       "      <td>-1</td>\n",
       "      <td>0</td>\n",
       "      <td>0</td>\n",
       "      <td>0</td>\n",
       "      <td>0</td>\n",
       "      <td>0</td>\n",
       "      <td>-1</td>\n",
       "      <td>65</td>\n",
       "      <td>22</td>\n",
       "      <td>8</td>\n",
       "      <td>13</td>\n",
       "      <td>18</td>\n",
       "      <td>-1</td>\n",
       "      <td>19</td>\n",
       "      <td>14</td>\n",
       "      <td>13</td>\n",
       "      <td>13</td>\n",
       "      <td>-1</td>\n",
       "      <td>0</td>\n",
       "      <td>0</td>\n",
       "      <td>4</td>\n",
       "      <td>0</td>\n",
       "      <td>2</td>\n",
       "      <td>-1</td>\n",
       "      <td>0.000000</td>\n",
       "      <td>0.0</td>\n",
       "      <td>0.0</td>\n",
       "      <td>0.000000</td>\n",
       "      <td>NaN</td>\n",
       "      <td>-1.0</td>\n",
       "      <td>8</td>\n",
       "      <td>3</td>\n",
       "      <td>3</td>\n",
       "      <td>0</td>\n",
       "      <td>0</td>\n",
       "      <td>-1</td>\n",
       "      <td>0.678242</td>\n",
       "      <td>0.784493</td>\n",
       "      <td>0.814725</td>\n",
       "      <td>0.732258</td>\n",
       "      <td>0.0</td>\n",
       "      <td>-1.0</td>\n",
       "      <td>Defacement</td>\n",
       "    </tr>\n",
       "    <tr>\n",
       "      <th>9</th>\n",
       "      <td>0</td>\n",
       "      <td>4</td>\n",
       "      <td>5</td>\n",
       "      <td>5.5</td>\n",
       "      <td>14</td>\n",
       "      <td>3.600000</td>\n",
       "      <td>4</td>\n",
       "      <td>7</td>\n",
       "      <td>3</td>\n",
       "      <td>0</td>\n",
       "      <td>0</td>\n",
       "      <td>0</td>\n",
       "      <td>0</td>\n",
       "      <td>0</td>\n",
       "      <td>0</td>\n",
       "      <td>0</td>\n",
       "      <td>0</td>\n",
       "      <td>0</td>\n",
       "      <td>0</td>\n",
       "      <td>54</td>\n",
       "      <td>25</td>\n",
       "      <td>22</td>\n",
       "      <td>22</td>\n",
       "      <td>9</td>\n",
       "      <td>1</td>\n",
       "      <td>2</td>\n",
       "      <td>0.407407</td>\n",
       "      <td>0.037037</td>\n",
       "      <td>0.08</td>\n",
       "      <td>0.462963</td>\n",
       "      <td>0.88</td>\n",
       "      <td>0.090909</td>\n",
       "      <td>0</td>\n",
       "      <td>-1</td>\n",
       "      <td>5</td>\n",
       "      <td>-1</td>\n",
       "      <td>0.6</td>\n",
       "      <td>-1</td>\n",
       "      <td>1</td>\n",
       "      <td>0</td>\n",
       "      <td>0</td>\n",
       "      <td>0</td>\n",
       "      <td>1</td>\n",
       "      <td>-1</td>\n",
       "      <td>43</td>\n",
       "      <td>22</td>\n",
       "      <td>8</td>\n",
       "      <td>9</td>\n",
       "      <td>0</td>\n",
       "      <td>-1</td>\n",
       "      <td>9</td>\n",
       "      <td>14</td>\n",
       "      <td>9</td>\n",
       "      <td>5</td>\n",
       "      <td>-1</td>\n",
       "      <td>0</td>\n",
       "      <td>0</td>\n",
       "      <td>3</td>\n",
       "      <td>0</td>\n",
       "      <td>2</td>\n",
       "      <td>-1</td>\n",
       "      <td>0.018519</td>\n",
       "      <td>0.0</td>\n",
       "      <td>0.0</td>\n",
       "      <td>0.090909</td>\n",
       "      <td>1.0</td>\n",
       "      <td>-1.0</td>\n",
       "      <td>8</td>\n",
       "      <td>3</td>\n",
       "      <td>2</td>\n",
       "      <td>1</td>\n",
       "      <td>0</td>\n",
       "      <td>-1</td>\n",
       "      <td>0.740950</td>\n",
       "      <td>0.784493</td>\n",
       "      <td>0.894886</td>\n",
       "      <td>0.894886</td>\n",
       "      <td>NaN</td>\n",
       "      <td>-1.0</td>\n",
       "      <td>Defacement</td>\n",
       "    </tr>\n",
       "  </tbody>\n",
       "</table>\n",
       "</div>"
      ],
      "text/plain": [
       "   Querylength  domain_token_count  path_token_count  avgdomaintokenlen  \\\n",
       "0            0                   4                 5                5.5   \n",
       "1            0                   4                 5                5.5   \n",
       "2            0                   4                 5                5.5   \n",
       "3            0                   4                12                5.5   \n",
       "4            0                   4                 6                5.5   \n",
       "5            0                   4                 8                5.5   \n",
       "6            0                   4                 5                5.5   \n",
       "7            0                   4                 7                5.5   \n",
       "8            0                   4                 6                5.5   \n",
       "9            0                   4                 5                5.5   \n",
       "\n",
       "   longdomaintokenlen  avgpathtokenlen  tld  charcompvowels  charcompace  \\\n",
       "0                  14         4.400000    4               8            3   \n",
       "1                  14         6.000000    4              12            4   \n",
       "2                  14         5.800000    4              12            5   \n",
       "3                  14         5.500000    4              32           16   \n",
       "4                  14         7.333334    4              18           11   \n",
       "5                  14         6.500000    4              22           10   \n",
       "6                  14         7.800000    4              17           10   \n",
       "7                  14         6.285714    4              16            9   \n",
       "8                  14         6.500000    4              16           10   \n",
       "9                  14         3.600000    4               7            3   \n",
       "\n",
       "   ldl_url  ldl_domain  ldl_path  ldl_filename  ldl_getArg  dld_url  \\\n",
       "0        0           0         0             0           0        0   \n",
       "1        0           0         0             0           0        0   \n",
       "2        0           0         0             0           0        0   \n",
       "3        0           0         0             0           0        0   \n",
       "4        0           0         0             0           0        0   \n",
       "5        0           0         0             0           0        0   \n",
       "6        0           0         0             0           0        0   \n",
       "7        0           0         0             0           0        0   \n",
       "8        0           0         0             0           0        0   \n",
       "9        0           0         0             0           0        0   \n",
       "\n",
       "   dld_domain  dld_path  dld_filename  dld_getArg  urlLen  domainlength  \\\n",
       "0           0         0             0           0      58            25   \n",
       "1           0         0             0           0      66            25   \n",
       "2           0         0             0           0      65            25   \n",
       "3           0         0             0           0     109            25   \n",
       "4           0         0             0           0      81            25   \n",
       "5           0         0             0           0      91            25   \n",
       "6           0         0             0           0      75            25   \n",
       "7           0         0             0           0      82            25   \n",
       "8           0         0             0           0      76            25   \n",
       "9           0         0             0           0      54            25   \n",
       "\n",
       "   pathLength  subDirLen  fileNameLen  this.fileExtLen  ArgLen  pathurlRatio  \\\n",
       "0          26         26           13                1       2      0.448276   \n",
       "1          34         34            2                2       2      0.515151   \n",
       "2          33         33            2                2       2      0.507692   \n",
       "3          77         77            2                2       2      0.706422   \n",
       "4          49         49            2                2       2      0.604938   \n",
       "5          59         59            2                2       2      0.648352   \n",
       "6          43         43            2                2       2      0.573333   \n",
       "7          50         50            2                2       2      0.609756   \n",
       "8          44         44            2                2       2      0.578947   \n",
       "9          22         22            9                1       2      0.407407   \n",
       "\n",
       "   ArgUrlRatio  argDomanRatio  domainUrlRatio  pathDomainRatio  argPathRatio  \\\n",
       "0     0.034483           0.08        0.431034             1.04      0.076923   \n",
       "1     0.030303           0.08        0.378788             1.36      0.058824   \n",
       "2     0.030769           0.08        0.384615             1.32      0.060606   \n",
       "3     0.018349           0.08        0.229358             3.08      0.025974   \n",
       "4     0.024691           0.08        0.308642             1.96      0.040816   \n",
       "5     0.021978           0.08        0.274725             2.36      0.033898   \n",
       "6     0.026667           0.08        0.333333             1.72      0.046512   \n",
       "7     0.024390           0.08        0.304878             2.00      0.040000   \n",
       "8     0.026316           0.08        0.328947             1.76      0.045455   \n",
       "9     0.037037           0.08        0.462963             0.88      0.090909   \n",
       "\n",
       "   executable  isPortEighty  NumberofDotsinURL  ISIpAddressInDomainName  \\\n",
       "0           0            -1                  5                       -1   \n",
       "1           0            -1                  4                       -1   \n",
       "2           0            -1                  4                       -1   \n",
       "3           0            -1                  4                       -1   \n",
       "4           0            -1                  4                       -1   \n",
       "5           0            -1                  4                       -1   \n",
       "6           0            -1                  4                       -1   \n",
       "7           0            -1                  4                       -1   \n",
       "8           0            -1                  4                       -1   \n",
       "9           0            -1                  5                       -1   \n",
       "\n",
       "   CharacterContinuityRate  LongestVariableValue  URL_DigitCount  \\\n",
       "0                      0.6                    -1               1   \n",
       "1                      0.6                    -1               0   \n",
       "2                      0.6                    -1               0   \n",
       "3                      0.6                    -1               0   \n",
       "4                      0.6                    -1               0   \n",
       "5                      0.6                    -1               0   \n",
       "6                      0.6                    -1               0   \n",
       "7                      0.6                    -1               8   \n",
       "8                      0.6                    -1               0   \n",
       "9                      0.6                    -1               1   \n",
       "\n",
       "   host_DigitCount  Directory_DigitCount  File_name_DigitCount  \\\n",
       "0                0                     0                     0   \n",
       "1                0                     0                     0   \n",
       "2                0                     0                     0   \n",
       "3                0                     0                     0   \n",
       "4                0                     0                     0   \n",
       "5                0                     0                     0   \n",
       "6                0                     0                     0   \n",
       "7                0                     0                     0   \n",
       "8                0                     0                     0   \n",
       "9                0                     0                     0   \n",
       "\n",
       "   Extension_DigitCount  Query_DigitCount  URL_Letter_Count  \\\n",
       "0                     1                -1                47   \n",
       "1                     0                -1                56   \n",
       "2                     0                -1                55   \n",
       "3                     0                -1                92   \n",
       "4                     0                -1                70   \n",
       "5                     0                -1                78   \n",
       "6                     0                -1                65   \n",
       "7                     8                -1                62   \n",
       "8                     0                -1                65   \n",
       "9                     1                -1                43   \n",
       "\n",
       "   host_letter_count  Directory_LetterCount  Filename_LetterCount  \\\n",
       "0                 22                      8                    13   \n",
       "1                 22                      8                    13   \n",
       "2                 22                      8                    13   \n",
       "3                 22                      8                    13   \n",
       "4                 22                      8                    13   \n",
       "5                 22                      8                    13   \n",
       "6                 22                      8                    13   \n",
       "7                 22                      8                    13   \n",
       "8                 22                      8                    13   \n",
       "9                 22                      8                     9   \n",
       "\n",
       "   Extension_LetterCount  Query_LetterCount  LongestPathTokenLength  \\\n",
       "0                      0                 -1                      13   \n",
       "1                      9                 -1                      13   \n",
       "2                      8                 -1                      13   \n",
       "3                     45                 -1                      52   \n",
       "4                     23                 -1                      24   \n",
       "5                     31                 -1                      34   \n",
       "6                     18                 -1                      18   \n",
       "7                     15                 -1                      25   \n",
       "8                     18                 -1                      19   \n",
       "9                      0                 -1                       9   \n",
       "\n",
       "   Domain_LongestWordLength  Path_LongestWordLength  \\\n",
       "0                        14                      13   \n",
       "1                        14                      13   \n",
       "2                        14                      13   \n",
       "3                        14                      13   \n",
       "4                        14                      13   \n",
       "5                        14                      15   \n",
       "6                        14                      18   \n",
       "7                        14                      13   \n",
       "8                        14                      13   \n",
       "9                        14                       9   \n",
       "\n",
       "   sub-Directory_LongestWordLength  Arguments_LongestWordLength  \\\n",
       "0                                5                           -1   \n",
       "1                                5                           -1   \n",
       "2                                5                           -1   \n",
       "3                               13                           -1   \n",
       "4                               13                           -1   \n",
       "5                               13                           -1   \n",
       "6                                5                           -1   \n",
       "7                               13                           -1   \n",
       "8                               13                           -1   \n",
       "9                                5                           -1   \n",
       "\n",
       "   URL_sensitiveWord  URLQueries_variable  spcharUrl  delimeter_Domain  \\\n",
       "0                  0                    0          3                 0   \n",
       "1                  0                    0          4                 0   \n",
       "2                  0                    0          4                 0   \n",
       "3                  0                    0          4                 0   \n",
       "4                  0                    0          4                 0   \n",
       "5                  0                    0          4                 0   \n",
       "6                  0                    0          4                 0   \n",
       "7                  0                    0          4                 0   \n",
       "8                  0                    0          4                 0   \n",
       "9                  0                    0          3                 0   \n",
       "\n",
       "   delimeter_path  delimeter_Count  NumberRate_URL  NumberRate_Domain  \\\n",
       "0               2               -1        0.017241                0.0   \n",
       "1               1               -1        0.000000                0.0   \n",
       "2               1               -1        0.000000                0.0   \n",
       "3               8               -1        0.000000                0.0   \n",
       "4               2               -1        0.000000                0.0   \n",
       "5               4               -1        0.000000                0.0   \n",
       "6               1               -1        0.000000                0.0   \n",
       "7               3               -1        0.097561                0.0   \n",
       "8               2               -1        0.000000                0.0   \n",
       "9               2               -1        0.018519                0.0   \n",
       "\n",
       "   NumberRate_DirectoryName  NumberRate_FileName  NumberRate_Extension  \\\n",
       "0                       0.0             0.066667                   1.0   \n",
       "1                       0.0             0.000000                   NaN   \n",
       "2                       0.0             0.000000                   NaN   \n",
       "3                       0.0             0.000000                   NaN   \n",
       "4                       0.0             0.000000                   NaN   \n",
       "5                       0.0             0.000000                   NaN   \n",
       "6                       0.0             0.000000                   NaN   \n",
       "7                       0.0             0.320000                   NaN   \n",
       "8                       0.0             0.000000                   NaN   \n",
       "9                       0.0             0.090909                   1.0   \n",
       "\n",
       "   NumberRate_AfterPath  SymbolCount_URL  SymbolCount_Domain  \\\n",
       "0                  -1.0                8                   3   \n",
       "1                  -1.0                8                   3   \n",
       "2                  -1.0                8                   3   \n",
       "3                  -1.0                8                   3   \n",
       "4                  -1.0                8                   3   \n",
       "5                  -1.0                8                   3   \n",
       "6                  -1.0                8                   3   \n",
       "7                  -1.0                8                   3   \n",
       "8                  -1.0                8                   3   \n",
       "9                  -1.0                8                   3   \n",
       "\n",
       "   SymbolCount_Directoryname  SymbolCount_FileName  SymbolCount_Extension  \\\n",
       "0                          2                     1                      0   \n",
       "1                          3                     0                      0   \n",
       "2                          3                     0                      0   \n",
       "3                          3                     0                      0   \n",
       "4                          3                     0                      0   \n",
       "5                          3                     0                      0   \n",
       "6                          3                     0                      0   \n",
       "7                          3                     0                      0   \n",
       "8                          3                     0                      0   \n",
       "9                          2                     1                      0   \n",
       "\n",
       "   SymbolCount_Afterpath  Entropy_URL  Entropy_Domain  Entropy_DirectoryName  \\\n",
       "0                     -1     0.726298        0.784493               0.894886   \n",
       "1                     -1     0.688635        0.784493               0.814725   \n",
       "2                     -1     0.695049        0.784493               0.814725   \n",
       "3                     -1     0.640130        0.784493               0.814725   \n",
       "4                     -1     0.681307        0.784493               0.814725   \n",
       "5                     -1     0.666676        0.784493               0.814725   \n",
       "6                     -1     0.682440        0.784493               0.814725   \n",
       "7                     -1     0.709396        0.784493               0.814725   \n",
       "8                     -1     0.678242        0.784493               0.814725   \n",
       "9                     -1     0.740950        0.784493               0.894886   \n",
       "\n",
       "   Entropy_Filename  Entropy_Extension  Entropy_Afterpath URL_Type_obf_Type  \n",
       "0          0.850608                NaN               -1.0        Defacement  \n",
       "1          0.859793                0.0               -1.0        Defacement  \n",
       "2          0.801880                0.0               -1.0        Defacement  \n",
       "3          0.663210                0.0               -1.0        Defacement  \n",
       "4          0.804526                0.0               -1.0        Defacement  \n",
       "5          0.755658                0.0               -1.0        Defacement  \n",
       "6          0.766719                0.0               -1.0        Defacement  \n",
       "7          0.797498                0.0               -1.0        Defacement  \n",
       "8          0.732258                0.0               -1.0        Defacement  \n",
       "9          0.894886                NaN               -1.0        Defacement  "
      ]
     },
     "execution_count": 9,
     "metadata": {},
     "output_type": "execute_result"
    }
   ],
   "source": [
    "# peek first 10 columns\n",
    "df.head(10)"
   ]
  },
  {
   "cell_type": "markdown",
   "metadata": {},
   "source": [
    "# NumberRate_Extension and Entropy_Extension has NaN values¶\n",
    "### there may be more samples with NaN values for more attributes"
   ]
  },
  {
   "cell_type": "code",
   "execution_count": 10,
   "metadata": {},
   "outputs": [
    {
     "data": {
      "text/html": [
       "<div>\n",
       "<style scoped>\n",
       "    .dataframe tbody tr th:only-of-type {\n",
       "        vertical-align: middle;\n",
       "    }\n",
       "\n",
       "    .dataframe tbody tr th {\n",
       "        vertical-align: top;\n",
       "    }\n",
       "\n",
       "    .dataframe thead th {\n",
       "        text-align: right;\n",
       "    }\n",
       "</style>\n",
       "<table border=\"1\" class=\"dataframe\">\n",
       "  <thead>\n",
       "    <tr style=\"text-align: right;\">\n",
       "      <th></th>\n",
       "      <th>Querylength</th>\n",
       "      <th>domain_token_count</th>\n",
       "      <th>path_token_count</th>\n",
       "      <th>avgdomaintokenlen</th>\n",
       "      <th>longdomaintokenlen</th>\n",
       "      <th>avgpathtokenlen</th>\n",
       "      <th>tld</th>\n",
       "      <th>charcompvowels</th>\n",
       "      <th>charcompace</th>\n",
       "      <th>ldl_url</th>\n",
       "      <th>ldl_domain</th>\n",
       "      <th>ldl_path</th>\n",
       "      <th>ldl_filename</th>\n",
       "      <th>ldl_getArg</th>\n",
       "      <th>dld_url</th>\n",
       "      <th>dld_domain</th>\n",
       "      <th>dld_path</th>\n",
       "      <th>dld_filename</th>\n",
       "      <th>dld_getArg</th>\n",
       "      <th>urlLen</th>\n",
       "      <th>domainlength</th>\n",
       "      <th>pathLength</th>\n",
       "      <th>subDirLen</th>\n",
       "      <th>fileNameLen</th>\n",
       "      <th>this.fileExtLen</th>\n",
       "      <th>ArgLen</th>\n",
       "      <th>pathurlRatio</th>\n",
       "      <th>ArgUrlRatio</th>\n",
       "      <th>argDomanRatio</th>\n",
       "      <th>domainUrlRatio</th>\n",
       "      <th>pathDomainRatio</th>\n",
       "      <th>argPathRatio</th>\n",
       "      <th>executable</th>\n",
       "      <th>isPortEighty</th>\n",
       "      <th>NumberofDotsinURL</th>\n",
       "      <th>ISIpAddressInDomainName</th>\n",
       "      <th>CharacterContinuityRate</th>\n",
       "      <th>LongestVariableValue</th>\n",
       "      <th>URL_DigitCount</th>\n",
       "      <th>host_DigitCount</th>\n",
       "      <th>Directory_DigitCount</th>\n",
       "      <th>File_name_DigitCount</th>\n",
       "      <th>Extension_DigitCount</th>\n",
       "      <th>Query_DigitCount</th>\n",
       "      <th>URL_Letter_Count</th>\n",
       "      <th>host_letter_count</th>\n",
       "      <th>Directory_LetterCount</th>\n",
       "      <th>Filename_LetterCount</th>\n",
       "      <th>Extension_LetterCount</th>\n",
       "      <th>Query_LetterCount</th>\n",
       "      <th>LongestPathTokenLength</th>\n",
       "      <th>Domain_LongestWordLength</th>\n",
       "      <th>Path_LongestWordLength</th>\n",
       "      <th>sub-Directory_LongestWordLength</th>\n",
       "      <th>Arguments_LongestWordLength</th>\n",
       "      <th>URL_sensitiveWord</th>\n",
       "      <th>URLQueries_variable</th>\n",
       "      <th>spcharUrl</th>\n",
       "      <th>delimeter_Domain</th>\n",
       "      <th>delimeter_path</th>\n",
       "      <th>delimeter_Count</th>\n",
       "      <th>NumberRate_URL</th>\n",
       "      <th>NumberRate_Domain</th>\n",
       "      <th>NumberRate_DirectoryName</th>\n",
       "      <th>NumberRate_FileName</th>\n",
       "      <th>NumberRate_Extension</th>\n",
       "      <th>NumberRate_AfterPath</th>\n",
       "      <th>SymbolCount_URL</th>\n",
       "      <th>SymbolCount_Domain</th>\n",
       "      <th>SymbolCount_Directoryname</th>\n",
       "      <th>SymbolCount_FileName</th>\n",
       "      <th>SymbolCount_Extension</th>\n",
       "      <th>SymbolCount_Afterpath</th>\n",
       "      <th>Entropy_URL</th>\n",
       "      <th>Entropy_Domain</th>\n",
       "      <th>Entropy_DirectoryName</th>\n",
       "      <th>Entropy_Filename</th>\n",
       "      <th>Entropy_Extension</th>\n",
       "      <th>Entropy_Afterpath</th>\n",
       "      <th>URL_Type_obf_Type</th>\n",
       "    </tr>\n",
       "  </thead>\n",
       "  <tbody>\n",
       "    <tr>\n",
       "      <th>36702</th>\n",
       "      <td>29</td>\n",
       "      <td>4</td>\n",
       "      <td>14</td>\n",
       "      <td>5.750000</td>\n",
       "      <td>12</td>\n",
       "      <td>3.666667</td>\n",
       "      <td>4</td>\n",
       "      <td>20</td>\n",
       "      <td>24</td>\n",
       "      <td>3</td>\n",
       "      <td>0</td>\n",
       "      <td>3</td>\n",
       "      <td>0</td>\n",
       "      <td>2</td>\n",
       "      <td>0</td>\n",
       "      <td>0</td>\n",
       "      <td>0</td>\n",
       "      <td>0</td>\n",
       "      <td>0</td>\n",
       "      <td>146</td>\n",
       "      <td>26</td>\n",
       "      <td>113</td>\n",
       "      <td>113</td>\n",
       "      <td>2</td>\n",
       "      <td>2</td>\n",
       "      <td>85</td>\n",
       "      <td>0.773973</td>\n",
       "      <td>0.582192</td>\n",
       "      <td>3.269231</td>\n",
       "      <td>0.178082</td>\n",
       "      <td>4.346154</td>\n",
       "      <td>0.752212</td>\n",
       "      <td>0</td>\n",
       "      <td>-1</td>\n",
       "      <td>5</td>\n",
       "      <td>-1</td>\n",
       "      <td>0.500000</td>\n",
       "      <td>23</td>\n",
       "      <td>31</td>\n",
       "      <td>0</td>\n",
       "      <td>4</td>\n",
       "      <td>0</td>\n",
       "      <td>27</td>\n",
       "      <td>3</td>\n",
       "      <td>94</td>\n",
       "      <td>23</td>\n",
       "      <td>46</td>\n",
       "      <td>7</td>\n",
       "      <td>14</td>\n",
       "      <td>24</td>\n",
       "      <td>43</td>\n",
       "      <td>12</td>\n",
       "      <td>11</td>\n",
       "      <td>11</td>\n",
       "      <td>23</td>\n",
       "      <td>0</td>\n",
       "      <td>3</td>\n",
       "      <td>6</td>\n",
       "      <td>0</td>\n",
       "      <td>2</td>\n",
       "      <td>5</td>\n",
       "      <td>0.212329</td>\n",
       "      <td>0.0</td>\n",
       "      <td>0.064516</td>\n",
       "      <td>0.529412</td>\n",
       "      <td>0.627907</td>\n",
       "      <td>0.066667</td>\n",
       "      <td>19</td>\n",
       "      <td>3</td>\n",
       "      <td>11</td>\n",
       "      <td>3</td>\n",
       "      <td>2</td>\n",
       "      <td>7</td>\n",
       "      <td>0.690555</td>\n",
       "      <td>0.791265</td>\n",
       "      <td>0.777498</td>\n",
       "      <td>0.690227</td>\n",
       "      <td>0.656684</td>\n",
       "      <td>0.796205</td>\n",
       "      <td>spam</td>\n",
       "    </tr>\n",
       "    <tr>\n",
       "      <th>36703</th>\n",
       "      <td>0</td>\n",
       "      <td>4</td>\n",
       "      <td>13</td>\n",
       "      <td>3.750000</td>\n",
       "      <td>8</td>\n",
       "      <td>8.461538</td>\n",
       "      <td>4</td>\n",
       "      <td>24</td>\n",
       "      <td>23</td>\n",
       "      <td>0</td>\n",
       "      <td>0</td>\n",
       "      <td>0</td>\n",
       "      <td>0</td>\n",
       "      <td>0</td>\n",
       "      <td>0</td>\n",
       "      <td>0</td>\n",
       "      <td>0</td>\n",
       "      <td>0</td>\n",
       "      <td>0</td>\n",
       "      <td>147</td>\n",
       "      <td>18</td>\n",
       "      <td>122</td>\n",
       "      <td>122</td>\n",
       "      <td>2</td>\n",
       "      <td>2</td>\n",
       "      <td>2</td>\n",
       "      <td>0.829932</td>\n",
       "      <td>0.013605</td>\n",
       "      <td>0.111111</td>\n",
       "      <td>0.122449</td>\n",
       "      <td>6.777778</td>\n",
       "      <td>0.016393</td>\n",
       "      <td>0</td>\n",
       "      <td>-1</td>\n",
       "      <td>5</td>\n",
       "      <td>-1</td>\n",
       "      <td>0.500000</td>\n",
       "      <td>-1</td>\n",
       "      <td>21</td>\n",
       "      <td>0</td>\n",
       "      <td>0</td>\n",
       "      <td>0</td>\n",
       "      <td>21</td>\n",
       "      <td>-1</td>\n",
       "      <td>101</td>\n",
       "      <td>15</td>\n",
       "      <td>7</td>\n",
       "      <td>6</td>\n",
       "      <td>69</td>\n",
       "      <td>-1</td>\n",
       "      <td>105</td>\n",
       "      <td>8</td>\n",
       "      <td>9</td>\n",
       "      <td>9</td>\n",
       "      <td>-1</td>\n",
       "      <td>0</td>\n",
       "      <td>0</td>\n",
       "      <td>3</td>\n",
       "      <td>0</td>\n",
       "      <td>2</td>\n",
       "      <td>-1</td>\n",
       "      <td>0.142857</td>\n",
       "      <td>0.0</td>\n",
       "      <td>0.000000</td>\n",
       "      <td>0.187500</td>\n",
       "      <td>0.200000</td>\n",
       "      <td>-1.000000</td>\n",
       "      <td>23</td>\n",
       "      <td>3</td>\n",
       "      <td>2</td>\n",
       "      <td>16</td>\n",
       "      <td>15</td>\n",
       "      <td>-1</td>\n",
       "      <td>0.665492</td>\n",
       "      <td>0.820010</td>\n",
       "      <td>0.879588</td>\n",
       "      <td>0.674400</td>\n",
       "      <td>0.674671</td>\n",
       "      <td>-1.000000</td>\n",
       "      <td>spam</td>\n",
       "    </tr>\n",
       "    <tr>\n",
       "      <th>36704</th>\n",
       "      <td>58</td>\n",
       "      <td>3</td>\n",
       "      <td>27</td>\n",
       "      <td>6.666666</td>\n",
       "      <td>16</td>\n",
       "      <td>3.375000</td>\n",
       "      <td>3</td>\n",
       "      <td>41</td>\n",
       "      <td>34</td>\n",
       "      <td>20</td>\n",
       "      <td>0</td>\n",
       "      <td>20</td>\n",
       "      <td>0</td>\n",
       "      <td>18</td>\n",
       "      <td>12</td>\n",
       "      <td>0</td>\n",
       "      <td>12</td>\n",
       "      <td>0</td>\n",
       "      <td>12</td>\n",
       "      <td>246</td>\n",
       "      <td>22</td>\n",
       "      <td>217</td>\n",
       "      <td>217</td>\n",
       "      <td>2</td>\n",
       "      <td>2</td>\n",
       "      <td>182</td>\n",
       "      <td>0.882114</td>\n",
       "      <td>0.739837</td>\n",
       "      <td>8.272727</td>\n",
       "      <td>0.089431</td>\n",
       "      <td>9.863636</td>\n",
       "      <td>0.838710</td>\n",
       "      <td>0</td>\n",
       "      <td>-1</td>\n",
       "      <td>7</td>\n",
       "      <td>-1</td>\n",
       "      <td>0.772727</td>\n",
       "      <td>58</td>\n",
       "      <td>57</td>\n",
       "      <td>0</td>\n",
       "      <td>6</td>\n",
       "      <td>0</td>\n",
       "      <td>51</td>\n",
       "      <td>1</td>\n",
       "      <td>156</td>\n",
       "      <td>20</td>\n",
       "      <td>71</td>\n",
       "      <td>3</td>\n",
       "      <td>58</td>\n",
       "      <td>48</td>\n",
       "      <td>118</td>\n",
       "      <td>16</td>\n",
       "      <td>12</td>\n",
       "      <td>12</td>\n",
       "      <td>0</td>\n",
       "      <td>0</td>\n",
       "      <td>1</td>\n",
       "      <td>12</td>\n",
       "      <td>0</td>\n",
       "      <td>9</td>\n",
       "      <td>1</td>\n",
       "      <td>0.231707</td>\n",
       "      <td>0.0</td>\n",
       "      <td>0.073171</td>\n",
       "      <td>0.377778</td>\n",
       "      <td>0.418033</td>\n",
       "      <td>0.029412</td>\n",
       "      <td>26</td>\n",
       "      <td>2</td>\n",
       "      <td>14</td>\n",
       "      <td>8</td>\n",
       "      <td>7</td>\n",
       "      <td>9</td>\n",
       "      <td>0.656807</td>\n",
       "      <td>0.801139</td>\n",
       "      <td>0.684777</td>\n",
       "      <td>0.713622</td>\n",
       "      <td>0.717187</td>\n",
       "      <td>0.705245</td>\n",
       "      <td>spam</td>\n",
       "    </tr>\n",
       "    <tr>\n",
       "      <th>36705</th>\n",
       "      <td>35</td>\n",
       "      <td>3</td>\n",
       "      <td>13</td>\n",
       "      <td>4.333334</td>\n",
       "      <td>9</td>\n",
       "      <td>3.600000</td>\n",
       "      <td>3</td>\n",
       "      <td>15</td>\n",
       "      <td>13</td>\n",
       "      <td>7</td>\n",
       "      <td>0</td>\n",
       "      <td>7</td>\n",
       "      <td>0</td>\n",
       "      <td>7</td>\n",
       "      <td>4</td>\n",
       "      <td>0</td>\n",
       "      <td>4</td>\n",
       "      <td>0</td>\n",
       "      <td>4</td>\n",
       "      <td>116</td>\n",
       "      <td>15</td>\n",
       "      <td>94</td>\n",
       "      <td>94</td>\n",
       "      <td>2</td>\n",
       "      <td>2</td>\n",
       "      <td>71</td>\n",
       "      <td>0.810345</td>\n",
       "      <td>0.612069</td>\n",
       "      <td>4.733333</td>\n",
       "      <td>0.129310</td>\n",
       "      <td>6.266667</td>\n",
       "      <td>0.755319</td>\n",
       "      <td>0</td>\n",
       "      <td>-1</td>\n",
       "      <td>3</td>\n",
       "      <td>-1</td>\n",
       "      <td>0.666667</td>\n",
       "      <td>32</td>\n",
       "      <td>25</td>\n",
       "      <td>0</td>\n",
       "      <td>0</td>\n",
       "      <td>0</td>\n",
       "      <td>25</td>\n",
       "      <td>23</td>\n",
       "      <td>73</td>\n",
       "      <td>13</td>\n",
       "      <td>4</td>\n",
       "      <td>11</td>\n",
       "      <td>41</td>\n",
       "      <td>12</td>\n",
       "      <td>75</td>\n",
       "      <td>9</td>\n",
       "      <td>8</td>\n",
       "      <td>8</td>\n",
       "      <td>0</td>\n",
       "      <td>0</td>\n",
       "      <td>2</td>\n",
       "      <td>3</td>\n",
       "      <td>0</td>\n",
       "      <td>3</td>\n",
       "      <td>3</td>\n",
       "      <td>0.215517</td>\n",
       "      <td>0.0</td>\n",
       "      <td>0.000000</td>\n",
       "      <td>0.284091</td>\n",
       "      <td>0.333333</td>\n",
       "      <td>0.418182</td>\n",
       "      <td>14</td>\n",
       "      <td>2</td>\n",
       "      <td>1</td>\n",
       "      <td>9</td>\n",
       "      <td>8</td>\n",
       "      <td>3</td>\n",
       "      <td>0.725963</td>\n",
       "      <td>0.897617</td>\n",
       "      <td>0.871049</td>\n",
       "      <td>0.745932</td>\n",
       "      <td>0.758824</td>\n",
       "      <td>0.790772</td>\n",
       "      <td>spam</td>\n",
       "    </tr>\n",
       "    <tr>\n",
       "      <th>36706</th>\n",
       "      <td>40</td>\n",
       "      <td>3</td>\n",
       "      <td>25</td>\n",
       "      <td>6.666666</td>\n",
       "      <td>16</td>\n",
       "      <td>3.250000</td>\n",
       "      <td>3</td>\n",
       "      <td>35</td>\n",
       "      <td>31</td>\n",
       "      <td>19</td>\n",
       "      <td>0</td>\n",
       "      <td>19</td>\n",
       "      <td>0</td>\n",
       "      <td>17</td>\n",
       "      <td>6</td>\n",
       "      <td>0</td>\n",
       "      <td>6</td>\n",
       "      <td>0</td>\n",
       "      <td>6</td>\n",
       "      <td>227</td>\n",
       "      <td>22</td>\n",
       "      <td>198</td>\n",
       "      <td>198</td>\n",
       "      <td>2</td>\n",
       "      <td>2</td>\n",
       "      <td>164</td>\n",
       "      <td>0.872247</td>\n",
       "      <td>0.722467</td>\n",
       "      <td>7.454546</td>\n",
       "      <td>0.096916</td>\n",
       "      <td>9.000000</td>\n",
       "      <td>0.828283</td>\n",
       "      <td>0</td>\n",
       "      <td>-1</td>\n",
       "      <td>6</td>\n",
       "      <td>-1</td>\n",
       "      <td>0.772727</td>\n",
       "      <td>40</td>\n",
       "      <td>52</td>\n",
       "      <td>0</td>\n",
       "      <td>6</td>\n",
       "      <td>1</td>\n",
       "      <td>45</td>\n",
       "      <td>2</td>\n",
       "      <td>144</td>\n",
       "      <td>20</td>\n",
       "      <td>50</td>\n",
       "      <td>6</td>\n",
       "      <td>64</td>\n",
       "      <td>31</td>\n",
       "      <td>118</td>\n",
       "      <td>16</td>\n",
       "      <td>10</td>\n",
       "      <td>10</td>\n",
       "      <td>0</td>\n",
       "      <td>0</td>\n",
       "      <td>1</td>\n",
       "      <td>11</td>\n",
       "      <td>0</td>\n",
       "      <td>8</td>\n",
       "      <td>1</td>\n",
       "      <td>0.229075</td>\n",
       "      <td>0.0</td>\n",
       "      <td>0.083333</td>\n",
       "      <td>0.365079</td>\n",
       "      <td>0.381356</td>\n",
       "      <td>0.060000</td>\n",
       "      <td>24</td>\n",
       "      <td>2</td>\n",
       "      <td>13</td>\n",
       "      <td>7</td>\n",
       "      <td>6</td>\n",
       "      <td>7</td>\n",
       "      <td>0.674351</td>\n",
       "      <td>0.801139</td>\n",
       "      <td>0.697282</td>\n",
       "      <td>0.730563</td>\n",
       "      <td>0.731481</td>\n",
       "      <td>0.769238</td>\n",
       "      <td>spam</td>\n",
       "    </tr>\n",
       "  </tbody>\n",
       "</table>\n",
       "</div>"
      ],
      "text/plain": [
       "       Querylength  domain_token_count  path_token_count  avgdomaintokenlen  \\\n",
       "36702           29                   4                14           5.750000   \n",
       "36703            0                   4                13           3.750000   \n",
       "36704           58                   3                27           6.666666   \n",
       "36705           35                   3                13           4.333334   \n",
       "36706           40                   3                25           6.666666   \n",
       "\n",
       "       longdomaintokenlen  avgpathtokenlen  tld  charcompvowels  charcompace  \\\n",
       "36702                  12         3.666667    4              20           24   \n",
       "36703                   8         8.461538    4              24           23   \n",
       "36704                  16         3.375000    3              41           34   \n",
       "36705                   9         3.600000    3              15           13   \n",
       "36706                  16         3.250000    3              35           31   \n",
       "\n",
       "       ldl_url  ldl_domain  ldl_path  ldl_filename  ldl_getArg  dld_url  \\\n",
       "36702        3           0         3             0           2        0   \n",
       "36703        0           0         0             0           0        0   \n",
       "36704       20           0        20             0          18       12   \n",
       "36705        7           0         7             0           7        4   \n",
       "36706       19           0        19             0          17        6   \n",
       "\n",
       "       dld_domain  dld_path  dld_filename  dld_getArg  urlLen  domainlength  \\\n",
       "36702           0         0             0           0     146            26   \n",
       "36703           0         0             0           0     147            18   \n",
       "36704           0        12             0          12     246            22   \n",
       "36705           0         4             0           4     116            15   \n",
       "36706           0         6             0           6     227            22   \n",
       "\n",
       "       pathLength  subDirLen  fileNameLen  this.fileExtLen  ArgLen  \\\n",
       "36702         113        113            2                2      85   \n",
       "36703         122        122            2                2       2   \n",
       "36704         217        217            2                2     182   \n",
       "36705          94         94            2                2      71   \n",
       "36706         198        198            2                2     164   \n",
       "\n",
       "       pathurlRatio  ArgUrlRatio  argDomanRatio  domainUrlRatio  \\\n",
       "36702      0.773973     0.582192       3.269231        0.178082   \n",
       "36703      0.829932     0.013605       0.111111        0.122449   \n",
       "36704      0.882114     0.739837       8.272727        0.089431   \n",
       "36705      0.810345     0.612069       4.733333        0.129310   \n",
       "36706      0.872247     0.722467       7.454546        0.096916   \n",
       "\n",
       "       pathDomainRatio  argPathRatio  executable  isPortEighty  \\\n",
       "36702         4.346154      0.752212           0            -1   \n",
       "36703         6.777778      0.016393           0            -1   \n",
       "36704         9.863636      0.838710           0            -1   \n",
       "36705         6.266667      0.755319           0            -1   \n",
       "36706         9.000000      0.828283           0            -1   \n",
       "\n",
       "       NumberofDotsinURL  ISIpAddressInDomainName  CharacterContinuityRate  \\\n",
       "36702                  5                       -1                 0.500000   \n",
       "36703                  5                       -1                 0.500000   \n",
       "36704                  7                       -1                 0.772727   \n",
       "36705                  3                       -1                 0.666667   \n",
       "36706                  6                       -1                 0.772727   \n",
       "\n",
       "       LongestVariableValue  URL_DigitCount  host_DigitCount  \\\n",
       "36702                    23              31                0   \n",
       "36703                    -1              21                0   \n",
       "36704                    58              57                0   \n",
       "36705                    32              25                0   \n",
       "36706                    40              52                0   \n",
       "\n",
       "       Directory_DigitCount  File_name_DigitCount  Extension_DigitCount  \\\n",
       "36702                     4                     0                    27   \n",
       "36703                     0                     0                    21   \n",
       "36704                     6                     0                    51   \n",
       "36705                     0                     0                    25   \n",
       "36706                     6                     1                    45   \n",
       "\n",
       "       Query_DigitCount  URL_Letter_Count  host_letter_count  \\\n",
       "36702                 3                94                 23   \n",
       "36703                -1               101                 15   \n",
       "36704                 1               156                 20   \n",
       "36705                23                73                 13   \n",
       "36706                 2               144                 20   \n",
       "\n",
       "       Directory_LetterCount  Filename_LetterCount  Extension_LetterCount  \\\n",
       "36702                     46                     7                     14   \n",
       "36703                      7                     6                     69   \n",
       "36704                     71                     3                     58   \n",
       "36705                      4                    11                     41   \n",
       "36706                     50                     6                     64   \n",
       "\n",
       "       Query_LetterCount  LongestPathTokenLength  Domain_LongestWordLength  \\\n",
       "36702                 24                      43                        12   \n",
       "36703                 -1                     105                         8   \n",
       "36704                 48                     118                        16   \n",
       "36705                 12                      75                         9   \n",
       "36706                 31                     118                        16   \n",
       "\n",
       "       Path_LongestWordLength  sub-Directory_LongestWordLength  \\\n",
       "36702                      11                               11   \n",
       "36703                       9                                9   \n",
       "36704                      12                               12   \n",
       "36705                       8                                8   \n",
       "36706                      10                               10   \n",
       "\n",
       "       Arguments_LongestWordLength  URL_sensitiveWord  URLQueries_variable  \\\n",
       "36702                           23                  0                    3   \n",
       "36703                           -1                  0                    0   \n",
       "36704                            0                  0                    1   \n",
       "36705                            0                  0                    2   \n",
       "36706                            0                  0                    1   \n",
       "\n",
       "       spcharUrl  delimeter_Domain  delimeter_path  delimeter_Count  \\\n",
       "36702          6                 0               2                5   \n",
       "36703          3                 0               2               -1   \n",
       "36704         12                 0               9                1   \n",
       "36705          3                 0               3                3   \n",
       "36706         11                 0               8                1   \n",
       "\n",
       "       NumberRate_URL  NumberRate_Domain  NumberRate_DirectoryName  \\\n",
       "36702        0.212329                0.0                  0.064516   \n",
       "36703        0.142857                0.0                  0.000000   \n",
       "36704        0.231707                0.0                  0.073171   \n",
       "36705        0.215517                0.0                  0.000000   \n",
       "36706        0.229075                0.0                  0.083333   \n",
       "\n",
       "       NumberRate_FileName  NumberRate_Extension  NumberRate_AfterPath  \\\n",
       "36702             0.529412              0.627907              0.066667   \n",
       "36703             0.187500              0.200000             -1.000000   \n",
       "36704             0.377778              0.418033              0.029412   \n",
       "36705             0.284091              0.333333              0.418182   \n",
       "36706             0.365079              0.381356              0.060000   \n",
       "\n",
       "       SymbolCount_URL  SymbolCount_Domain  SymbolCount_Directoryname  \\\n",
       "36702               19                   3                         11   \n",
       "36703               23                   3                          2   \n",
       "36704               26                   2                         14   \n",
       "36705               14                   2                          1   \n",
       "36706               24                   2                         13   \n",
       "\n",
       "       SymbolCount_FileName  SymbolCount_Extension  SymbolCount_Afterpath  \\\n",
       "36702                     3                      2                      7   \n",
       "36703                    16                     15                     -1   \n",
       "36704                     8                      7                      9   \n",
       "36705                     9                      8                      3   \n",
       "36706                     7                      6                      7   \n",
       "\n",
       "       Entropy_URL  Entropy_Domain  Entropy_DirectoryName  Entropy_Filename  \\\n",
       "36702     0.690555        0.791265               0.777498          0.690227   \n",
       "36703     0.665492        0.820010               0.879588          0.674400   \n",
       "36704     0.656807        0.801139               0.684777          0.713622   \n",
       "36705     0.725963        0.897617               0.871049          0.745932   \n",
       "36706     0.674351        0.801139               0.697282          0.730563   \n",
       "\n",
       "       Entropy_Extension  Entropy_Afterpath URL_Type_obf_Type  \n",
       "36702           0.656684           0.796205              spam  \n",
       "36703           0.674671          -1.000000              spam  \n",
       "36704           0.717187           0.705245              spam  \n",
       "36705           0.758824           0.790772              spam  \n",
       "36706           0.731481           0.769238              spam  "
      ]
     },
     "execution_count": 10,
     "metadata": {},
     "output_type": "execute_result"
    }
   ],
   "source": [
    "# peek last 5 columns\n",
    "df.tail()"
   ]
  },
  {
   "cell_type": "code",
   "execution_count": 11,
   "metadata": {},
   "outputs": [
    {
     "name": "stdout",
     "output_type": "stream",
     "text": [
      "        Querylength  domain_token_count  path_token_count  avgdomaintokenlen  \\\n",
      "count  36707.000000        36707.000000      36707.000000       36707.000000   \n",
      "mean      21.908110            2.857439          8.954668           5.401719   \n",
      "std       94.280669            0.906562          4.278406           1.986858   \n",
      "min        0.000000            2.000000          0.000000           1.500000   \n",
      "25%        0.000000            2.000000          6.000000           4.000000   \n",
      "50%        0.000000            3.000000          8.000000           5.000000   \n",
      "75%       19.000000            3.000000         11.000000           6.500000   \n",
      "max     1385.000000           19.000000         68.000000          29.500000   \n",
      "\n",
      "       longdomaintokenlen  avgpathtokenlen           tld  charcompvowels  \\\n",
      "count        36707.000000     36427.000000  36707.000000    36707.000000   \n",
      "mean             9.746016         4.556261      2.857439       14.976517   \n",
      "std              4.856580         2.839388      0.906562       13.351315   \n",
      "min              2.000000         0.000000      2.000000        0.000000   \n",
      "25%              6.000000         3.000000      2.000000        7.000000   \n",
      "50%              9.000000         4.100000      3.000000       13.000000   \n",
      "75%             12.000000         5.000000      3.000000       19.000000   \n",
      "max             63.000000       105.000000     19.000000      193.000000   \n",
      "\n",
      "        charcompace       ldl_url    ldl_domain      ldl_path  ldl_filename  \\\n",
      "count  36707.000000  36707.000000  36707.000000  36707.000000  36707.000000   \n",
      "mean      10.216117      3.363909      0.116517      3.244449      0.182663   \n",
      "std       10.845807     13.447289      0.606963     13.445774      1.112706   \n",
      "min        0.000000      0.000000      0.000000      0.000000      0.000000   \n",
      "25%        5.000000      0.000000      0.000000      0.000000      0.000000   \n",
      "50%        8.000000      0.000000      0.000000      0.000000      0.000000   \n",
      "75%       12.000000      1.000000      0.000000      1.000000      0.000000   \n",
      "max      142.000000    207.000000     37.000000    207.000000     33.000000   \n",
      "\n",
      "         ldl_getArg       dld_url    dld_domain      dld_path  dld_filename  \\\n",
      "count  36707.000000  36707.000000  36707.000000  36707.000000  36707.000000   \n",
      "mean       2.395129      0.930204      0.007328      0.922876      0.061814   \n",
      "std       13.293604      2.692333      0.253727      2.675460      0.591369   \n",
      "min        0.000000      0.000000      0.000000      0.000000      0.000000   \n",
      "25%        0.000000      0.000000      0.000000      0.000000      0.000000   \n",
      "50%        0.000000      0.000000      0.000000      0.000000      0.000000   \n",
      "75%        0.000000      0.000000      0.000000      0.000000      0.000000   \n",
      "max      207.000000     38.000000     25.000000     32.000000     23.000000   \n",
      "\n",
      "         dld_getArg        urlLen  domainlength   pathLength    subDirLen  \\\n",
      "count  36707.000000  36707.000000  36707.000000  36707.00000  36707.00000   \n",
      "mean       0.560111     92.945297     16.907320     69.05296     69.05296   \n",
      "std        2.301820     95.299612      7.648725     95.30716     95.30716   \n",
      "min        0.000000     19.000000      4.000000      0.00000      0.00000   \n",
      "25%        0.000000     58.000000     13.000000     35.00000     35.00000   \n",
      "50%        0.000000     76.000000     15.000000     53.00000     53.00000   \n",
      "75%        0.000000    101.000000     20.000000     77.00000     77.00000   \n",
      "max       31.000000   1424.000000    227.000000   1402.00000   1402.00000   \n",
      "\n",
      "        fileNameLen  this.fileExtLen        ArgLen  pathurlRatio  \\\n",
      "count  36707.000000     36707.000000  36707.000000  36707.000000   \n",
      "mean       6.815267         2.449070     34.344539      0.669962   \n",
      "std       13.215634         0.785388     97.354275      0.159520   \n",
      "min        1.000000         1.000000      0.000000      0.000000   \n",
      "25%        2.000000         2.000000      2.000000      0.600000   \n",
      "50%        2.000000         2.000000      2.000000      0.703704   \n",
      "75%        5.000000         3.000000     46.000000      0.777778   \n",
      "max      216.000000         5.000000   1388.000000      0.984551   \n",
      "\n",
      "        ArgUrlRatio  argDomanRatio  domainUrlRatio  pathDomainRatio  \\\n",
      "count  36707.000000   36707.000000    36707.000000     36707.000000   \n",
      "mean       0.236741       2.161321        0.232119         4.671155   \n",
      "std        0.271793       6.423116        0.130322         6.480310   \n",
      "min        0.000000       0.000000        0.010534         0.000000   \n",
      "25%        0.028986       0.125000        0.147368         2.062500   \n",
      "50%        0.050000       0.200000        0.198020         3.550000   \n",
      "75%        0.516949       2.636364        0.290323         5.250000   \n",
      "max        0.974719      92.533330        0.945205        93.466670   \n",
      "\n",
      "       argPathRatio    executable  isPortEighty  NumberofDotsinURL  \\\n",
      "count  3.670700e+04  36707.000000  36707.000000       36707.000000   \n",
      "mean            inf      0.001389     -0.999619           2.866156   \n",
      "std             NaN      0.037249      0.019526           1.518403   \n",
      "min    0.000000e+00      0.000000     -1.000000           1.000000   \n",
      "25%    4.444445e-02      0.000000     -1.000000           2.000000   \n",
      "50%    1.111111e-01      0.000000     -1.000000           3.000000   \n",
      "75%    7.111111e-01      0.000000     -1.000000           3.000000   \n",
      "max             inf      1.000000      0.000000          20.000000   \n",
      "\n",
      "       ISIpAddressInDomainName  CharacterContinuityRate  LongestVariableValue  \\\n",
      "count                  36707.0             36707.000000          36707.000000   \n",
      "mean                      -1.0                 0.623347             17.444956   \n",
      "std                        0.0                 0.161263             93.785703   \n",
      "min                       -1.0                 0.075145             -1.000000   \n",
      "25%                       -1.0                 0.500000             -1.000000   \n",
      "50%                       -1.0                 0.666667             -1.000000   \n",
      "75%                       -1.0                 0.750000              9.000000   \n",
      "max                       -1.0                 1.000000           1385.000000   \n",
      "\n",
      "       URL_DigitCount  host_DigitCount  Directory_DigitCount  \\\n",
      "count    36707.000000     36707.000000          36707.000000   \n",
      "mean        10.474079         0.558395              1.213311   \n",
      "std         18.034275         1.720052              4.842470   \n",
      "min          0.000000         0.000000             -1.000000   \n",
      "25%          1.500000         0.000000             -1.000000   \n",
      "50%          5.000000         0.000000              0.000000   \n",
      "75%         12.000000         0.000000              0.000000   \n",
      "max        236.000000        64.000000             86.000000   \n",
      "\n",
      "       File_name_DigitCount  Extension_DigitCount  Query_DigitCount  \\\n",
      "count          36707.000000          36707.000000      36707.000000   \n",
      "mean               1.239001              6.874765          4.495491   \n",
      "std                3.854567             17.343843         16.590541   \n",
      "min               -1.000000             -1.000000         -1.000000   \n",
      "25%                0.000000              0.000000         -1.000000   \n",
      "50%                0.000000              0.000000         -1.000000   \n",
      "75%                0.000000              6.000000          4.000000   \n",
      "max              110.000000            236.000000        236.000000   \n",
      "\n",
      "       URL_Letter_Count  host_letter_count  Directory_LetterCount  \\\n",
      "count      36707.000000       36707.000000           36707.000000   \n",
      "mean          68.165146          14.351323              10.902335   \n",
      "std           79.002743           6.779777              15.592792   \n",
      "min           10.000000           2.000000              -1.000000   \n",
      "25%           41.000000          10.000000              -1.000000   \n",
      "50%           56.000000          13.000000               6.000000   \n",
      "75%           72.000000          17.000000              16.000000   \n",
      "max         1202.000000         189.000000             183.000000   \n",
      "\n",
      "       Filename_LetterCount  Extension_LetterCount  Query_LetterCount  \\\n",
      "count          36707.000000           36707.000000       36707.000000   \n",
      "mean               7.531969              29.923965          15.715912   \n",
      "std                8.993364              80.159459          78.926758   \n",
      "min               -1.000000              -1.000000          -1.000000   \n",
      "25%                3.000000               4.000000          -1.000000   \n",
      "50%                5.000000              10.000000          -1.000000   \n",
      "75%                8.000000              37.000000          11.000000   \n",
      "max              186.000000            1179.000000        1173.000000   \n",
      "\n",
      "       LongestPathTokenLength  Domain_LongestWordLength  \\\n",
      "count            36707.000000              36707.000000   \n",
      "mean                48.241098                  8.456725   \n",
      "std                 95.155979                  4.401473   \n",
      "min                  0.000000                  2.000000   \n",
      "25%                 12.000000                  5.000000   \n",
      "50%                 31.000000                  8.000000   \n",
      "75%                 57.000000                 11.000000   \n",
      "max               1393.000000                 40.000000   \n",
      "\n",
      "       Path_LongestWordLength  sub-Directory_LongestWordLength  \\\n",
      "count            36707.000000                     36707.000000   \n",
      "mean                 8.529082                         7.734138   \n",
      "std                  3.521190                         3.796621   \n",
      "min                  0.000000                        -1.000000   \n",
      "25%                  7.000000                         6.000000   \n",
      "50%                  8.000000                         8.000000   \n",
      "75%                 10.000000                        10.000000   \n",
      "max                 99.000000                        48.000000   \n",
      "\n",
      "       Arguments_LongestWordLength  URL_sensitiveWord  URLQueries_variable  \\\n",
      "count                 36707.000000       36707.000000         36707.000000   \n",
      "mean                      2.070831           0.037214             1.297300   \n",
      "std                       5.361594           0.196213             2.071099   \n",
      "min                      -1.000000           0.000000             0.000000   \n",
      "25%                      -1.000000           0.000000             0.000000   \n",
      "50%                      -1.000000           0.000000             0.000000   \n",
      "75%                       4.000000           0.000000             2.000000   \n",
      "max                      91.000000           3.000000            19.000000   \n",
      "\n",
      "          spcharUrl  delimeter_Domain  delimeter_path  delimeter_Count  \\\n",
      "count  36707.000000      36707.000000    36707.000000     36707.000000   \n",
      "mean       3.831885          0.139892        3.121094         1.682785   \n",
      "std        1.824176          0.458507        3.192752         4.229709   \n",
      "min        1.000000          0.000000        0.000000        -1.000000   \n",
      "25%        2.000000          0.000000        1.000000        -1.000000   \n",
      "50%        3.000000          0.000000        2.000000        -1.000000   \n",
      "75%        5.000000          0.000000        4.000000         3.000000   \n",
      "max       17.000000         10.000000       64.000000        37.000000   \n",
      "\n",
      "       NumberRate_URL  NumberRate_Domain  NumberRate_DirectoryName  \\\n",
      "count    36707.000000       36707.000000              36697.000000   \n",
      "mean         0.095546           0.037239                  0.003768   \n",
      "std          0.095776           0.104059                  0.271824   \n",
      "min          0.000000           0.000000                 -1.000000   \n",
      "25%          0.022727           0.000000                  0.000000   \n",
      "50%          0.064516           0.000000                  0.000000   \n",
      "75%          0.147448           0.000000                  0.000000   \n",
      "max          0.761905           0.733333                  0.935065   \n",
      "\n",
      "       NumberRate_FileName  NumberRate_Extension  NumberRate_AfterPath  \\\n",
      "count         36697.000000          26577.000000          36704.000000   \n",
      "mean              0.103401              0.037579             -0.475142   \n",
      "std               0.333624              0.322947              0.600201   \n",
      "min              -1.000000             -1.000000             -1.000000   \n",
      "25%               0.000000              0.000000             -1.000000   \n",
      "50%               0.070175              0.030303             -1.000000   \n",
      "75%               0.213592              0.163265              0.103964   \n",
      "max               1.000000              1.000000              1.000000   \n",
      "\n",
      "       SymbolCount_URL  SymbolCount_Domain  SymbolCount_Directoryname  \\\n",
      "count     36707.000000        36707.000000               36707.000000   \n",
      "mean          9.701882            1.856894                   1.727545   \n",
      "std           5.054621            0.904671                   2.719231   \n",
      "min           2.000000            1.000000                  -1.000000   \n",
      "25%           6.000000            1.000000                  -1.000000   \n",
      "50%           8.000000            2.000000                   1.000000   \n",
      "75%          13.000000            2.000000                   3.000000   \n",
      "max          47.000000           18.000000                  24.000000   \n",
      "\n",
      "       SymbolCount_FileName  SymbolCount_Extension  SymbolCount_Afterpath  \\\n",
      "count          36707.000000           36707.000000           36707.000000   \n",
      "mean               3.600049               2.685237               1.903261   \n",
      "std                4.783213               4.557171               4.512421   \n",
      "min               -1.000000              -1.000000              -1.000000   \n",
      "25%                0.000000               0.000000              -1.000000   \n",
      "50%                1.000000               0.000000              -1.000000   \n",
      "75%                6.000000               4.000000               3.000000   \n",
      "max               40.000000              39.000000              40.000000   \n",
      "\n",
      "        Entropy_URL  Entropy_Domain  Entropy_DirectoryName  Entropy_Filename  \\\n",
      "count  36707.000000    36707.000000           28239.000000      36471.000000   \n",
      "mean       0.722350        0.842443               0.677459          0.715834   \n",
      "std        0.048820        0.066251               0.450683          0.411712   \n",
      "min        0.419560        0.561913              -1.000000         -1.000000   \n",
      "25%        0.691929        0.795234               0.731621          0.719904   \n",
      "50%        0.723003        0.835752               0.790535          0.785150   \n",
      "75%        0.754305        0.884735               0.851410          0.884662   \n",
      "max        0.895403        1.000000               0.962479          1.000000   \n",
      "\n",
      "       Entropy_Extension  Entropy_Afterpath  \n",
      "count       36667.000000       36701.000000  \n",
      "mean            0.508212          -0.208900  \n",
      "std             0.519695           0.891581  \n",
      "min            -1.000000          -1.000000  \n",
      "25%             0.000000          -1.000000  \n",
      "50%             0.729292          -1.000000  \n",
      "75%             0.910005           0.758695  \n",
      "max             1.000000           1.000000  \n"
     ]
    }
   ],
   "source": [
    "# statistical summary\n",
    "print(df.describe())"
   ]
  },
  {
   "cell_type": "code",
   "execution_count": 12,
   "metadata": {},
   "outputs": [
    {
     "name": "stdout",
     "output_type": "stream",
     "text": [
      "URL_Type_obf_Type\n",
      "Defacement    7930\n",
      "benign        7781\n",
      "malware       6712\n",
      "phishing      7586\n",
      "spam          6698\n",
      "dtype: int64\n"
     ]
    }
   ],
   "source": [
    "# class distribution for original data\n",
    "print(df.groupby('URL_Type_obf_Type').size())"
   ]
  },
  {
   "cell_type": "code",
   "execution_count": 13,
   "metadata": {},
   "outputs": [
    {
     "name": "stdout",
     "output_type": "stream",
     "text": [
      "| malware | 6712 |\n",
      "| Defacement | 7930 |\n",
      "| benign | 7781 |\n",
      "| spam | 6698 |\n",
      "| phishing | 7586 |\n"
     ]
    }
   ],
   "source": [
    "# sample distribution print in markdown table format\n",
    "label = 'URL_Type_obf_Type'\n",
    "lblTypes = set(df[label])\n",
    "for lbl in lblTypes:\n",
    "    print('| {} | {} |'.format(lbl, len(df[df[label] == lbl].index)))"
   ]
  },
  {
   "cell_type": "markdown",
   "metadata": {},
   "source": [
    "## Clean Data\n",
    "- strip whitespace from column names\n",
    "- dropped samples/rows with Infinity values\n",
    "- dropped samples/rows with NaN values"
   ]
  },
  {
   "cell_type": "code",
   "execution_count": 14,
   "metadata": {},
   "outputs": [],
   "source": [
    "# function loads, cleans and returns panda dataframe\n",
    "def loadAndCleanData(csvFile):\n",
    "    pickleDump = '{}.pickle'.format(csvFile)\n",
    "    if os.path.exists(pickleDump):\n",
    "        df = pd.read_pickle(pickleDump)\n",
    "    else:\n",
    "        df = pd.read_csv(csvFile, low_memory=False)\n",
    "        # clean data\n",
    "        # strip the whitspaces from column names\n",
    "        df = df.rename(str.strip, axis='columns')\n",
    "        #df.drop(columns=[], inplace=True)\n",
    "        # drop missing values/NaN etc.\n",
    "        #df.dropna(inplace=True)\n",
    "        # drop Infinity rows and NaN string from each column\n",
    "        for col in df.columns:\n",
    "            indexNames = df[df[col] == 'Infinity'].index\n",
    "            if not indexNames.empty:\n",
    "                print('deleting {} rows with Infinity in column {}'.format(len(indexNames), col))\n",
    "                df.drop(indexNames, inplace=True)\n",
    "            indexNames = df[df[col]== 'NaN'].index\n",
    "            if not indexNames.empty:\n",
    "                print('deleting {} rows with NaN in column {}'.format(len(indexNames), col))\n",
    "                df.drop(indexNames, inplace=True)\n",
    "        # drop NaN pandas way\n",
    "        beforeRows = df.shape[0]\n",
    "        df.dropna(inplace = True)\n",
    "        print('Dropped {} rows with NaN values'.format(beforeRows - df.shape[0]))\n",
    "        df.to_pickle(pickleDump)\n",
    "        \n",
    "    return df"
   ]
  },
  {
   "cell_type": "code",
   "execution_count": 15,
   "metadata": {},
   "outputs": [],
   "source": [
    "df = loadAndCleanData('DataSetForPhishingVSBenignUrl.csv')"
   ]
  },
  {
   "cell_type": "code",
   "execution_count": 16,
   "metadata": {},
   "outputs": [
    {
     "name": "stdout",
     "output_type": "stream",
     "text": [
      "| malware | 4440 |\n",
      "| Defacement | 2477 |\n",
      "| benign | 2709 |\n",
      "| spam | 5342 |\n",
      "| phishing | 4014 |\n"
     ]
    }
   ],
   "source": [
    "# sample distribution print in markdown table format\n",
    "label = 'URL_Type_obf_Type'\n",
    "lblTypes = set(df[label])\n",
    "for lbl in lblTypes:\n",
    "    print('| {} | {} |'.format(lbl, len(df[df[label] == lbl].index)))"
   ]
  },
  {
   "cell_type": "markdown",
   "metadata": {},
   "source": [
    "## Data Visualization\n",
    "- works better for dataset with fewer features/attributes\n",
    "- not suited for current dataset with 79 features\n",
    "\n",
    "### Common visualizations\n",
    "- Univariate Plots\n",
    "    - helps understand each attribute using box and whisker plots\n",
    "- Histogram Plots\n",
    "    - helps understand the distribution (Gaussian distribution?) of each attribute"
   ]
  },
  {
   "cell_type": "code",
   "execution_count": 17,
   "metadata": {},
   "outputs": [
    {
     "data": {
      "text/plain": [
       "<AxesSubplot:>"
      ]
     },
     "execution_count": 17,
     "metadata": {},
     "output_type": "execute_result"
    },
    {
     "data": {
      "image/png": "[encoded data removed]",
      "text/plain": [
       "<Figure size 1440x1440 with 1 Axes>"
      ]
     },
     "metadata": {
      "needs_background": "light"
     },
     "output_type": "display_data"
    }
   ],
   "source": [
    "# unvariate plots\n",
    "df.plot.box(figsize=(20,20))"
   ]
  },
  {
   "cell_type": "code",
   "execution_count": 18,
   "metadata": {},
   "outputs": [
    {
     "data": {
      "image/png": "[encoded data removed]",
      "text/plain": [
       "<Figure size 1440x1440 with 81 Axes>"
      ]
     },
     "metadata": {
      "needs_background": "light"
     },
     "output_type": "display_data"
    }
   ],
   "source": [
    "# Histograms of each attribute\n",
    "df.hist(figsize=(20, 20))\n",
    "plt.show()"
   ]
  },
  {
   "cell_type": "code",
   "execution_count": 19,
   "metadata": {},
   "outputs": [
    {
     "name": "stdout",
     "output_type": "stream",
     "text": [
      "(15185, 79) (3797, 79)\n",
      "(15185, 1) (3797, 1)\n"
     ]
    }
   ],
   "source": [
    "# Splitting the dataset \n",
    "# Target variable and train set \n",
    "y = df[['URL_Type_obf_Type']] \n",
    "X = df.drop(['URL_Type_obf_Type', ], axis = 1) \n",
    "  \n",
    "sc = MinMaxScaler() \n",
    "X = sc.fit_transform(X) \n",
    "  \n",
    "# Split test and train data  (80% training, 20% testing)\n",
    "X_train, X_test, y_train, y_test = train_test_split(X, y, test_size = 0.20, random_state = 42) \n",
    "print(X_train.shape, X_test.shape) \n",
    "print(y_train.shape, y_test.shape)"
   ]
  },
  {
   "cell_type": "code",
   "execution_count": 20,
   "metadata": {},
   "outputs": [],
   "source": [
    "# assigning values to URL_Type_obf_Type based on whether it's phishing or non-phishing in the training data\n",
    "for i in range(len(y_train.values)):\n",
    "    if y_train.values[i] == 'phishing':\n",
    "        y_train.values[i] = 0\n",
    "    else:\n",
    "        y_train.values[i] = 1"
   ]
  },
  {
   "cell_type": "code",
   "execution_count": 21,
   "metadata": {},
   "outputs": [],
   "source": [
    "# assigning values to URL_Type_obf_Type based on whether it's phishing or non-phishing in the testing data\n",
    "for i in range(len(y_test.values)):\n",
    "    if y_test.values[i] == 'phishing':\n",
    "        y_test.values[i] = 0\n",
    "    else:\n",
    "        y_test.values[i] = 1"
   ]
  },
  {
   "cell_type": "code",
   "execution_count": 22,
   "metadata": {},
   "outputs": [],
   "source": [
    "# feature names and class names for tree visualization\n",
    "feature_names = df.columns[:79]\n",
    "class_names = ['phishing', 'non-phishing']"
   ]
  },
  {
   "cell_type": "code",
   "execution_count": 23,
   "metadata": {},
   "outputs": [],
   "source": [
    "# Lists to record prediction accuracies of multiple depths for gini and entropy impurities\n",
    "gini_prediction_accuracies = []\n",
    "entropy_prediction_accuracies = []"
   ]
  },
  {
   "cell_type": "markdown",
   "metadata": {},
   "source": [
    "# Using Gini Impurity"
   ]
  },
  {
   "cell_type": "markdown",
   "metadata": {},
   "source": [
    "## Using max_depth = 1"
   ]
  },
  {
   "cell_type": "code",
   "execution_count": 24,
   "metadata": {},
   "outputs": [
    {
     "data": {
      "text/plain": [
       "AdaBoostClassifier(base_estimator=DecisionTreeClassifier(max_depth=1,\n",
       "                                                         random_state=50))"
      ]
     },
     "execution_count": 24,
     "metadata": {},
     "output_type": "execute_result"
    }
   ],
   "source": [
    "# AdaBoost Classifier with Decision Tree as the base classifier with criteria - Gini Index, max_depth - 1\n",
    "tree_gini = AdaBoostClassifier(base_estimator = DecisionTreeClassifier(criterion = \"gini\", random_state = 50,\n",
    "                               max_depth=1))\n",
    "y_train = y_train.astype('int') \n",
    "tree_gini.fit(X_train, y_train.values.ravel())"
   ]
  },
  {
   "cell_type": "code",
   "execution_count": 25,
   "metadata": {},
   "outputs": [
    {
     "data": {
      "text/plain": [
       "array([1, 1, 1, ..., 1, 1, 1])"
      ]
     },
     "execution_count": 25,
     "metadata": {},
     "output_type": "execute_result"
    }
   ],
   "source": [
    "# Prediction for AdaBoost Classifier with Decision Tree as the base classifier with criterion as gini index and max_depth = 1\n",
    "y_pred_gini = tree_gini.predict(X_test)\n",
    "y_pred_gini"
   ]
  },
  {
   "cell_type": "code",
   "execution_count": 26,
   "metadata": {
    "scrolled": true
   },
   "outputs": [
    {
     "name": "stdout",
     "output_type": "stream",
     "text": [
      "Accuracy for AdaBoost with criteria as Gini Index is:  91.65130366078483\n"
     ]
    }
   ],
   "source": [
    "# Accuracy for AdaBoost Classifier with Decision Tree as the base classifier with criterion as gini index and max_depth = 1\n",
    "y_test = y_test.astype('int')\n",
    "acurcy = accuracy_score(y_test,y_pred_gini)*100\n",
    "gini_prediction_accuracies.append(acurcy)\n",
    "print(\"Accuracy for AdaBoost with criteria as Gini Index is: \", acurcy)"
   ]
  },
  {
   "cell_type": "markdown",
   "metadata": {},
   "source": [
    "## Using max_depth = 3"
   ]
  },
  {
   "cell_type": "code",
   "execution_count": 27,
   "metadata": {},
   "outputs": [
    {
     "data": {
      "text/plain": [
       "AdaBoostClassifier(base_estimator=DecisionTreeClassifier(max_depth=3,\n",
       "                                                         random_state=50))"
      ]
     },
     "execution_count": 27,
     "metadata": {},
     "output_type": "execute_result"
    }
   ],
   "source": [
    "# AdaBoost Classifier with Decision Tree as the base classifier with criteria - Gini Index, max_depth - 3\n",
    "tree_gini = AdaBoostClassifier(base_estimator = DecisionTreeClassifier(criterion = \"gini\", random_state = 50,\n",
    "                               max_depth=3))\n",
    "y_train = y_train.astype('int') \n",
    "tree_gini.fit(X_train, y_train.values.ravel())"
   ]
  },
  {
   "cell_type": "code",
   "execution_count": 28,
   "metadata": {},
   "outputs": [
    {
     "data": {
      "text/plain": [
       "array([1, 1, 1, ..., 1, 1, 1])"
      ]
     },
     "execution_count": 28,
     "metadata": {},
     "output_type": "execute_result"
    }
   ],
   "source": [
    "# Prediction for AdaBoost Classifier with Decision Tree as the base classifier with criterion as gini index and max_depth = 3\n",
    "y_pred_gini = tree_gini.predict(X_test)\n",
    "y_pred_gini"
   ]
  },
  {
   "cell_type": "code",
   "execution_count": 29,
   "metadata": {},
   "outputs": [
    {
     "name": "stdout",
     "output_type": "stream",
     "text": [
      "Accuracy for AdaBoost with criteria as Gini Index is:  96.49723465894127\n"
     ]
    }
   ],
   "source": [
    "# Accuracy for AdaBoost Classifier with Decision Tree as the base classifier with criterion as gini index and max_depth = 3\n",
    "y_test = y_test.astype('int')\n",
    "acurcy = accuracy_score(y_test,y_pred_gini)*100\n",
    "gini_prediction_accuracies.append(acurcy)\n",
    "print(\"Accuracy for AdaBoost with criteria as Gini Index is: \", acurcy)"
   ]
  },
  {
   "cell_type": "markdown",
   "metadata": {},
   "source": [
    "## Using max_depth = 6"
   ]
  },
  {
   "cell_type": "code",
   "execution_count": 30,
   "metadata": {},
   "outputs": [
    {
     "data": {
      "text/plain": [
       "AdaBoostClassifier(base_estimator=DecisionTreeClassifier(max_depth=6,\n",
       "                                                         random_state=50))"
      ]
     },
     "execution_count": 30,
     "metadata": {},
     "output_type": "execute_result"
    }
   ],
   "source": [
    "# AdaBoost Classifier with Decision Tree as the base classifier with criteria - Gini Index, max_depth - 6\n",
    "tree_gini = AdaBoostClassifier(base_estimator = DecisionTreeClassifier(criterion = \"gini\", random_state = 50,\n",
    "                               max_depth=6))\n",
    "y_train = y_train.astype('int') \n",
    "tree_gini.fit(X_train, y_train.values.ravel())"
   ]
  },
  {
   "cell_type": "code",
   "execution_count": 31,
   "metadata": {},
   "outputs": [
    {
     "data": {
      "text/plain": [
       "array([1, 1, 1, ..., 1, 1, 1])"
      ]
     },
     "execution_count": 31,
     "metadata": {},
     "output_type": "execute_result"
    }
   ],
   "source": [
    "# Prediction for AdaBoost Classifier with Decision Tree as the base classifier with criterion as gini index and max_depth = 6\n",
    "y_pred_gini = tree_gini.predict(X_test)\n",
    "y_pred_gini"
   ]
  },
  {
   "cell_type": "code",
   "execution_count": 32,
   "metadata": {},
   "outputs": [
    {
     "name": "stdout",
     "output_type": "stream",
     "text": [
      "Accuracy for AdaBoost with criteria as Gini Index is:  96.6552541480116\n"
     ]
    }
   ],
   "source": [
    "# Accuracy for AdaBoost Classifier with Decision Tree as the base classifier with criterion as gini index and max_depth = 6\n",
    "y_test = y_test.astype('int')\n",
    "acurcy = accuracy_score(y_test,y_pred_gini)*100\n",
    "gini_prediction_accuracies.append(acurcy)\n",
    "print(\"Accuracy for AdaBoost with criteria as Gini Index is: \", acurcy)"
   ]
  },
  {
   "cell_type": "markdown",
   "metadata": {},
   "source": [
    "## Using max_depth = 9"
   ]
  },
  {
   "cell_type": "code",
   "execution_count": 33,
   "metadata": {},
   "outputs": [
    {
     "data": {
      "text/plain": [
       "AdaBoostClassifier(base_estimator=DecisionTreeClassifier(max_depth=9,\n",
       "                                                         random_state=50))"
      ]
     },
     "execution_count": 33,
     "metadata": {},
     "output_type": "execute_result"
    }
   ],
   "source": [
    "# AdaBoost Classifier with Decision Tree as the base classifier with criteria - Gini Index, max_depth - 9\n",
    "tree_gini = AdaBoostClassifier(base_estimator = DecisionTreeClassifier(criterion = \"gini\", random_state = 50,\n",
    "                               max_depth=9))\n",
    "y_train = y_train.astype('int') \n",
    "tree_gini.fit(X_train, y_train.values.ravel())"
   ]
  },
  {
   "cell_type": "code",
   "execution_count": 34,
   "metadata": {},
   "outputs": [
    {
     "data": {
      "text/plain": [
       "array([1, 1, 1, ..., 1, 1, 1])"
      ]
     },
     "execution_count": 34,
     "metadata": {},
     "output_type": "execute_result"
    }
   ],
   "source": [
    "# Prediction for AdaBoost Classifier with Decision Tree as the base classifier with criterion as gini index and max_depth = 9\n",
    "y_pred_gini = tree_gini.predict(X_test)\n",
    "y_pred_gini"
   ]
  },
  {
   "cell_type": "code",
   "execution_count": 35,
   "metadata": {},
   "outputs": [
    {
     "name": "stdout",
     "output_type": "stream",
     "text": [
      "Accuracy for AdaBoost with criteria as Gini Index is:  96.91861996312878\n"
     ]
    }
   ],
   "source": [
    "# Accuracy for AdaBoost Classifier with Decision Tree as the base classifier with criterion as gini index and max_depth = 9\n",
    "y_test = y_test.astype('int')\n",
    "acurcy = accuracy_score(y_test,y_pred_gini)*100\n",
    "gini_prediction_accuracies.append(acurcy)\n",
    "print(\"Accuracy for AdaBoost with criteria as Gini Index is: \", acurcy)"
   ]
  },
  {
   "cell_type": "markdown",
   "metadata": {},
   "source": [
    "## Using max_depth = 12"
   ]
  },
  {
   "cell_type": "code",
   "execution_count": 36,
   "metadata": {},
   "outputs": [
    {
     "data": {
      "text/plain": [
       "AdaBoostClassifier(base_estimator=DecisionTreeClassifier(max_depth=12,\n",
       "                                                         random_state=50))"
      ]
     },
     "execution_count": 36,
     "metadata": {},
     "output_type": "execute_result"
    }
   ],
   "source": [
    "# AdaBoost Classifier with Decision Tree as the base classifier with criteria - Gini Index, max_depth - 12\n",
    "tree_gini = AdaBoostClassifier(base_estimator = DecisionTreeClassifier(criterion = \"gini\", random_state = 50,\n",
    "                               max_depth=12))\n",
    "y_train = y_train.astype('int') \n",
    "tree_gini.fit(X_train, y_train.values.ravel())"
   ]
  },
  {
   "cell_type": "code",
   "execution_count": 37,
   "metadata": {},
   "outputs": [
    {
     "data": {
      "text/plain": [
       "array([1, 1, 1, ..., 1, 1, 1])"
      ]
     },
     "execution_count": 37,
     "metadata": {},
     "output_type": "execute_result"
    }
   ],
   "source": [
    "# Prediction for AdaBoost Classifier with Decision Tree as the base classifier with criterion as gini index and max_depth = 12\n",
    "y_pred_gini = tree_gini.predict(X_test)\n",
    "y_pred_gini"
   ]
  },
  {
   "cell_type": "code",
   "execution_count": 38,
   "metadata": {},
   "outputs": [
    {
     "name": "stdout",
     "output_type": "stream",
     "text": [
      "Accuracy for AdaBoost with criteria as Gini Index is:  97.44535159336318\n"
     ]
    }
   ],
   "source": [
    "# Accuracy for AdaBoost Classifier with Decision Tree as the base classifier with criterion as gini index and max_depth = 12\n",
    "y_test = y_test.astype('int')\n",
    "acurcy = accuracy_score(y_test,y_pred_gini)*100\n",
    "gini_prediction_accuracies.append(acurcy)\n",
    "print(\"Accuracy for AdaBoost with criteria as Gini Index is: \", acurcy)"
   ]
  },
  {
   "cell_type": "markdown",
   "metadata": {},
   "source": [
    "## Using max_depth = 15"
   ]
  },
  {
   "cell_type": "code",
   "execution_count": 39,
   "metadata": {},
   "outputs": [
    {
     "data": {
      "text/plain": [
       "AdaBoostClassifier(base_estimator=DecisionTreeClassifier(max_depth=15,\n",
       "                                                         random_state=50))"
      ]
     },
     "execution_count": 39,
     "metadata": {},
     "output_type": "execute_result"
    }
   ],
   "source": [
    "# AdaBoost Classifier with Decision Tree as the base classifier with criteria - Gini Index, max_depth - 15\n",
    "tree_gini = AdaBoostClassifier(base_estimator = DecisionTreeClassifier(criterion = \"gini\", random_state = 50,\n",
    "                               max_depth=15))\n",
    "y_train = y_train.astype('int') \n",
    "tree_gini.fit(X_train, y_train.values.ravel())"
   ]
  },
  {
   "cell_type": "code",
   "execution_count": 40,
   "metadata": {},
   "outputs": [
    {
     "data": {
      "text/plain": [
       "array([1, 1, 1, ..., 1, 1, 1])"
      ]
     },
     "execution_count": 40,
     "metadata": {},
     "output_type": "execute_result"
    }
   ],
   "source": [
    "# Prediction for AdaBoost Classifier with Decision Tree as the base classifier with criterion as gini index and max_depth = 15\n",
    "y_pred_gini = tree_gini.predict(X_test)\n",
    "y_pred_gini"
   ]
  },
  {
   "cell_type": "code",
   "execution_count": 41,
   "metadata": {},
   "outputs": [
    {
     "name": "stdout",
     "output_type": "stream",
     "text": [
      "Accuracy for AdaBoost with criteria as Gini Index is:  97.49802475638663\n"
     ]
    }
   ],
   "source": [
    "# Accuracy for AdaBoost Classifier with Decision Tree as the base classifier with criterion as gini index and max_depth = 15\n",
    "y_test = y_test.astype('int')\n",
    "acurcy = accuracy_score(y_test,y_pred_gini)*100\n",
    "gini_prediction_accuracies.append(acurcy)\n",
    "print(\"Accuracy for AdaBoost with criteria as Gini Index is: \", acurcy)"
   ]
  },
  {
   "cell_type": "markdown",
   "metadata": {},
   "source": [
    "## Using max_depth = 18"
   ]
  },
  {
   "cell_type": "code",
   "execution_count": 42,
   "metadata": {},
   "outputs": [
    {
     "data": {
      "text/plain": [
       "AdaBoostClassifier(base_estimator=DecisionTreeClassifier(max_depth=18,\n",
       "                                                         random_state=50))"
      ]
     },
     "execution_count": 42,
     "metadata": {},
     "output_type": "execute_result"
    }
   ],
   "source": [
    "# AdaBoost Classifier with Decision Tree as the base classifier with criteria - Gini Index, max_depth - 18\n",
    "tree_gini = AdaBoostClassifier(base_estimator = DecisionTreeClassifier(criterion = \"gini\", random_state = 50,\n",
    "                               max_depth=18))\n",
    "y_train = y_train.astype('int') \n",
    "tree_gini.fit(X_train, y_train.values.ravel())"
   ]
  },
  {
   "cell_type": "code",
   "execution_count": 43,
   "metadata": {},
   "outputs": [
    {
     "data": {
      "text/plain": [
       "array([1, 1, 1, ..., 1, 1, 1])"
      ]
     },
     "execution_count": 43,
     "metadata": {},
     "output_type": "execute_result"
    }
   ],
   "source": [
    "# Prediction for AdaBoost Classifier with Decision Tree as the base classifier with criterion as gini index and max_depth = 18\n",
    "y_pred_gini = tree_gini.predict(X_test)\n",
    "y_pred_gini"
   ]
  },
  {
   "cell_type": "code",
   "execution_count": 44,
   "metadata": {},
   "outputs": [
    {
     "name": "stdout",
     "output_type": "stream",
     "text": [
      "Accuracy for AdaBoost with criteria as Gini Index is:  97.6033710824335\n"
     ]
    }
   ],
   "source": [
    "# Accuracy for AdaBoost Classifier with Decision Tree as the base classifier with criterion as gini index and max_depth = 18\n",
    "y_test = y_test.astype('int')\n",
    "acurcy = accuracy_score(y_test,y_pred_gini)*100\n",
    "gini_prediction_accuracies.append(acurcy)\n",
    "print(\"Accuracy for AdaBoost with criteria as Gini Index is: \", acurcy)"
   ]
  },
  {
   "cell_type": "markdown",
   "metadata": {},
   "source": [
    "<br>\n",
    "<hr>\n",
    "<hr>\n",
    "<br>"
   ]
  },
  {
   "cell_type": "markdown",
   "metadata": {},
   "source": [
    "# Using Entropy Impurity"
   ]
  },
  {
   "cell_type": "markdown",
   "metadata": {},
   "source": [
    "## Using max_depth = 1"
   ]
  },
  {
   "cell_type": "code",
   "execution_count": 45,
   "metadata": {},
   "outputs": [
    {
     "data": {
      "text/plain": [
       "AdaBoostClassifier(base_estimator=DecisionTreeClassifier(criterion='entropy',\n",
       "                                                         max_depth=1,\n",
       "                                                         random_state=50))"
      ]
     },
     "execution_count": 45,
     "metadata": {},
     "output_type": "execute_result"
    }
   ],
   "source": [
    "# AdaBoost Classifier with Decision Tree as the base classifier with criteria - Entropy, max_depth - 1\n",
    "tree_entropy = AdaBoostClassifier(base_estimator = DecisionTreeClassifier(criterion = \"entropy\", random_state = 50,\n",
    "                               max_depth=1))\n",
    "y_train = y_train.astype('int') \n",
    "tree_entropy.fit(X_train, y_train.values.ravel())"
   ]
  },
  {
   "cell_type": "code",
   "execution_count": 46,
   "metadata": {},
   "outputs": [
    {
     "data": {
      "text/plain": [
       "array([1, 1, 1, ..., 1, 1, 1])"
      ]
     },
     "execution_count": 46,
     "metadata": {},
     "output_type": "execute_result"
    }
   ],
   "source": [
    "# Prediction for AdaBoost Classifier with Decision Tree as the base classifier with criterion as Entropy and max_depth = 1\n",
    "y_pred_entropy = tree_entropy.predict(X_test)\n",
    "y_pred_entropy"
   ]
  },
  {
   "cell_type": "code",
   "execution_count": 47,
   "metadata": {},
   "outputs": [
    {
     "name": "stdout",
     "output_type": "stream",
     "text": [
      "Accuracy for AdaBoost with criteria as Entropy is:  92.12536212799579\n"
     ]
    }
   ],
   "source": [
    "# Accuracy for AdaBoost Classifier with Decision Tree as the base classifier with criterion as Entropy and max_depth = 1\n",
    "y_test = y_test.astype('int')\n",
    "acurcy = accuracy_score(y_test,y_pred_entropy)*100\n",
    "entropy_prediction_accuracies.append(acurcy)\n",
    "print(\"Accuracy for AdaBoost with criteria as Entropy is: \", acurcy)"
   ]
  },
  {
   "cell_type": "markdown",
   "metadata": {},
   "source": [
    "## Using max_depth = 3"
   ]
  },
  {
   "cell_type": "code",
   "execution_count": 48,
   "metadata": {},
   "outputs": [
    {
     "data": {
      "text/plain": [
       "AdaBoostClassifier(base_estimator=DecisionTreeClassifier(criterion='entropy',\n",
       "                                                         max_depth=3,\n",
       "                                                         random_state=50))"
      ]
     },
     "execution_count": 48,
     "metadata": {},
     "output_type": "execute_result"
    }
   ],
   "source": [
    "# AdaBoost Classifier with Decision Tree as the base classifier with criteria - Entropy, max_depth - 3\n",
    "tree_entropy = AdaBoostClassifier(base_estimator = DecisionTreeClassifier(criterion = \"entropy\", random_state = 50,\n",
    "                               max_depth=3))\n",
    "y_train = y_train.astype('int') \n",
    "tree_entropy.fit(X_train, y_train.values.ravel())"
   ]
  },
  {
   "cell_type": "code",
   "execution_count": 49,
   "metadata": {},
   "outputs": [
    {
     "data": {
      "text/plain": [
       "array([1, 1, 1, ..., 1, 1, 1])"
      ]
     },
     "execution_count": 49,
     "metadata": {},
     "output_type": "execute_result"
    }
   ],
   "source": [
    "# Prediction for AdaBoost Classifier with Decision Tree as the base classifier with criterion as Entropy and max_depth = 3\n",
    "y_pred_entropy = tree_entropy.predict(X_test)\n",
    "y_pred_entropy"
   ]
  },
  {
   "cell_type": "code",
   "execution_count": 50,
   "metadata": {},
   "outputs": [
    {
     "name": "stdout",
     "output_type": "stream",
     "text": [
      "Accuracy for AdaBoost with criteria as Entropy is:  96.1285225177772\n"
     ]
    }
   ],
   "source": [
    "# Accuracy for AdaBoost Classifier with Decision Tree as the base classifier with criterion as Entropy and max_depth = 3\n",
    "y_test = y_test.astype('int')\n",
    "acurcy = accuracy_score(y_test,y_pred_entropy)*100\n",
    "entropy_prediction_accuracies.append(acurcy)\n",
    "print(\"Accuracy for AdaBoost with criteria as Entropy is: \", acurcy)"
   ]
  },
  {
   "cell_type": "markdown",
   "metadata": {},
   "source": [
    "## Using max_depth = 6"
   ]
  },
  {
   "cell_type": "code",
   "execution_count": 51,
   "metadata": {},
   "outputs": [
    {
     "data": {
      "text/plain": [
       "AdaBoostClassifier(base_estimator=DecisionTreeClassifier(criterion='entropy',\n",
       "                                                         max_depth=6,\n",
       "                                                         random_state=50))"
      ]
     },
     "execution_count": 51,
     "metadata": {},
     "output_type": "execute_result"
    }
   ],
   "source": [
    "# AdaBoost Classifier with Decision Tree as the base classifier with criteria - Entropy, max_depth - 6\n",
    "tree_entropy = AdaBoostClassifier(base_estimator = DecisionTreeClassifier(criterion = \"entropy\", random_state = 50,\n",
    "                               max_depth=6))\n",
    "y_train = y_train.astype('int') \n",
    "tree_entropy.fit(X_train, y_train.values.ravel())"
   ]
  },
  {
   "cell_type": "code",
   "execution_count": 52,
   "metadata": {},
   "outputs": [
    {
     "data": {
      "text/plain": [
       "array([1, 1, 1, ..., 1, 1, 1])"
      ]
     },
     "execution_count": 52,
     "metadata": {},
     "output_type": "execute_result"
    }
   ],
   "source": [
    "# Prediction for AdaBoost Classifier with Decision Tree as the base classifier with criterion as Entropy and max_depth = 6\n",
    "y_pred_entropy = tree_entropy.predict(X_test)\n",
    "y_pred_entropy"
   ]
  },
  {
   "cell_type": "code",
   "execution_count": 53,
   "metadata": {},
   "outputs": [
    {
     "name": "stdout",
     "output_type": "stream",
     "text": [
      "Accuracy for AdaBoost with criteria as Entropy is:  97.6033710824335\n"
     ]
    }
   ],
   "source": [
    "# Accuracy for AdaBoost Classifier with Decision Tree as the base classifier with criterion as Entropy and max_depth = 6\n",
    "y_test = y_test.astype('int')\n",
    "acurcy = accuracy_score(y_test,y_pred_entropy)*100\n",
    "entropy_prediction_accuracies.append(acurcy)\n",
    "print(\"Accuracy for AdaBoost with criteria as Entropy is: \", acurcy)"
   ]
  },
  {
   "cell_type": "markdown",
   "metadata": {},
   "source": [
    "## Using max_depth = 9"
   ]
  },
  {
   "cell_type": "code",
   "execution_count": 54,
   "metadata": {},
   "outputs": [
    {
     "data": {
      "text/plain": [
       "AdaBoostClassifier(base_estimator=DecisionTreeClassifier(criterion='entropy',\n",
       "                                                         max_depth=9,\n",
       "                                                         random_state=50))"
      ]
     },
     "execution_count": 54,
     "metadata": {},
     "output_type": "execute_result"
    }
   ],
   "source": [
    "# AdaBoost Classifier with Decision Tree as the base classifier with criteria - Entropy, max_depth - 9\n",
    "tree_entropy = AdaBoostClassifier(base_estimator = DecisionTreeClassifier(criterion = \"entropy\", random_state = 50,\n",
    "                               max_depth=9))\n",
    "y_train = y_train.astype('int') \n",
    "tree_entropy.fit(X_train, y_train.values.ravel())"
   ]
  },
  {
   "cell_type": "code",
   "execution_count": 55,
   "metadata": {},
   "outputs": [
    {
     "data": {
      "text/plain": [
       "array([1, 1, 1, ..., 1, 1, 1])"
      ]
     },
     "execution_count": 55,
     "metadata": {},
     "output_type": "execute_result"
    }
   ],
   "source": [
    "# Prediction for AdaBoost Classifier with Decision Tree as the base classifier with criterion as Entropy and max_depth = 9\n",
    "y_pred_entropy = tree_entropy.predict(X_test)\n",
    "y_pred_entropy"
   ]
  },
  {
   "cell_type": "code",
   "execution_count": 56,
   "metadata": {},
   "outputs": [
    {
     "name": "stdout",
     "output_type": "stream",
     "text": [
      "Accuracy for AdaBoost with criteria as Entropy is:  97.41901501185146\n"
     ]
    }
   ],
   "source": [
    "# Accuracy for AdaBoost Classifier with Decision Tree as the base classifier with criterion as Entropy and max_depth = 9\n",
    "y_test = y_test.astype('int')\n",
    "acurcy = accuracy_score(y_test,y_pred_entropy)*100\n",
    "entropy_prediction_accuracies.append(acurcy)\n",
    "print(\"Accuracy for AdaBoost with criteria as Entropy is: \", acurcy)"
   ]
  },
  {
   "cell_type": "markdown",
   "metadata": {},
   "source": [
    "## Using max_depth = 12"
   ]
  },
  {
   "cell_type": "code",
   "execution_count": 57,
   "metadata": {},
   "outputs": [
    {
     "data": {
      "text/plain": [
       "AdaBoostClassifier(base_estimator=DecisionTreeClassifier(criterion='entropy',\n",
       "                                                         max_depth=12,\n",
       "                                                         random_state=50))"
      ]
     },
     "execution_count": 57,
     "metadata": {},
     "output_type": "execute_result"
    }
   ],
   "source": [
    "# AdaBoost Classifier with Decision Tree as the base classifier with criteria - Entropy, max_depth - 12\n",
    "tree_entropy = AdaBoostClassifier(base_estimator = DecisionTreeClassifier(criterion = \"entropy\", random_state = 50,\n",
    "                               max_depth=12))\n",
    "y_train = y_train.astype('int') \n",
    "tree_entropy.fit(X_train, y_train.values.ravel())"
   ]
  },
  {
   "cell_type": "code",
   "execution_count": 58,
   "metadata": {},
   "outputs": [
    {
     "data": {
      "text/plain": [
       "array([1, 1, 1, ..., 1, 1, 1])"
      ]
     },
     "execution_count": 58,
     "metadata": {},
     "output_type": "execute_result"
    }
   ],
   "source": [
    "# Prediction for AdaBoost Classifier with Decision Tree as the base classifier with criterion as Entropy and max_depth = 12\n",
    "y_pred_entropy = tree_entropy.predict(X_test)\n",
    "y_pred_entropy"
   ]
  },
  {
   "cell_type": "code",
   "execution_count": 59,
   "metadata": {},
   "outputs": [
    {
     "name": "stdout",
     "output_type": "stream",
     "text": [
      "Accuracy for AdaBoost with criteria as Entropy is:  97.78772715301554\n"
     ]
    }
   ],
   "source": [
    "# Accuracy for AdaBoost Classifier with Decision Tree as the base classifier with criterion as Entropy and max_depth = 12\n",
    "y_test = y_test.astype('int')\n",
    "acurcy = accuracy_score(y_test,y_pred_entropy)*100\n",
    "entropy_prediction_accuracies.append(acurcy)\n",
    "print(\"Accuracy for AdaBoost with criteria as Entropy is: \", acurcy)"
   ]
  },
  {
   "cell_type": "markdown",
   "metadata": {},
   "source": [
    "## Using max_depth = 15"
   ]
  },
  {
   "cell_type": "code",
   "execution_count": 60,
   "metadata": {},
   "outputs": [
    {
     "data": {
      "text/plain": [
       "AdaBoostClassifier(base_estimator=DecisionTreeClassifier(criterion='entropy',\n",
       "                                                         max_depth=15,\n",
       "                                                         random_state=50))"
      ]
     },
     "execution_count": 60,
     "metadata": {},
     "output_type": "execute_result"
    }
   ],
   "source": [
    "# AdaBoost Classifier with Decision Tree as the base classifier with criteria - Entropy, max_depth - 15\n",
    "tree_entropy = AdaBoostClassifier(base_estimator = DecisionTreeClassifier(criterion = \"entropy\", random_state = 50,\n",
    "                               max_depth=15))\n",
    "y_train = y_train.astype('int') \n",
    "tree_entropy.fit(X_train, y_train.values.ravel())"
   ]
  },
  {
   "cell_type": "code",
   "execution_count": 61,
   "metadata": {},
   "outputs": [
    {
     "data": {
      "text/plain": [
       "array([1, 1, 1, ..., 1, 1, 1])"
      ]
     },
     "execution_count": 61,
     "metadata": {},
     "output_type": "execute_result"
    }
   ],
   "source": [
    "# Prediction for AdaBoost Classifier with Decision Tree as the base classifier with criterion as Entropy and max_depth = 15\n",
    "y_pred_entropy = tree_entropy.predict(X_test)\n",
    "y_pred_entropy"
   ]
  },
  {
   "cell_type": "code",
   "execution_count": 62,
   "metadata": {},
   "outputs": [
    {
     "name": "stdout",
     "output_type": "stream",
     "text": [
      "Accuracy for AdaBoost with criteria as Entropy is:  97.26099552278114\n"
     ]
    }
   ],
   "source": [
    "# Accuracy for AdaBoost Classifier with Decision Tree as the base classifier with criterion as Entropy and max_depth = 15\n",
    "y_test = y_test.astype('int')\n",
    "acurcy = accuracy_score(y_test,y_pred_entropy)*100\n",
    "entropy_prediction_accuracies.append(acurcy)\n",
    "print(\"Accuracy for AdaBoost with criteria as Entropy is: \", acurcy)"
   ]
  },
  {
   "cell_type": "markdown",
   "metadata": {},
   "source": [
    "## Using max_depth = 18"
   ]
  },
  {
   "cell_type": "code",
   "execution_count": 63,
   "metadata": {},
   "outputs": [
    {
     "data": {
      "text/plain": [
       "AdaBoostClassifier(base_estimator=DecisionTreeClassifier(criterion='entropy',\n",
       "                                                         max_depth=18,\n",
       "                                                         random_state=50))"
      ]
     },
     "execution_count": 63,
     "metadata": {},
     "output_type": "execute_result"
    }
   ],
   "source": [
    "# AdaBoost Classifier with Decision Tree as the base classifier with criteria - Entropy, max_depth - 18\n",
    "tree_entropy = AdaBoostClassifier(base_estimator = DecisionTreeClassifier(criterion = \"entropy\", random_state = 50,\n",
    "                               max_depth=18))\n",
    "y_train = y_train.astype('int') \n",
    "tree_entropy.fit(X_train, y_train.values.ravel())"
   ]
  },
  {
   "cell_type": "code",
   "execution_count": 64,
   "metadata": {},
   "outputs": [
    {
     "data": {
      "text/plain": [
       "array([1, 1, 1, ..., 1, 1, 1])"
      ]
     },
     "execution_count": 64,
     "metadata": {},
     "output_type": "execute_result"
    }
   ],
   "source": [
    "# Prediction for AdaBoost Classifier with Decision Tree as the base classifier with criterion as Entropy and max_depth = 18\n",
    "y_pred_entropy = tree_entropy.predict(X_test)\n",
    "y_pred_entropy"
   ]
  },
  {
   "cell_type": "code",
   "execution_count": 65,
   "metadata": {},
   "outputs": [
    {
     "name": "stdout",
     "output_type": "stream",
     "text": [
      "Accuracy for AdaBoost with criteria as Entropy is:  95.89149328417172\n"
     ]
    }
   ],
   "source": [
    "# Accuracy for AdaBoost Classifier with Decision Tree as the base classifier with criterion as Entropy and max_depth = 18\n",
    "y_test = y_test.astype('int')\n",
    "acurcy = accuracy_score(y_test,y_pred_entropy)*100\n",
    "entropy_prediction_accuracies.append(acurcy)\n",
    "print(\"Accuracy for AdaBoost with criteria as Entropy is: \", acurcy)"
   ]
  },
  {
   "cell_type": "markdown",
   "metadata": {},
   "source": [
    "<hr>"
   ]
  },
  {
   "cell_type": "markdown",
   "metadata": {},
   "source": [
    "# Comapring Decision Tree Accuracies using Gini and Entropy Impurities with varying tree depths for AdaBoost Classifier"
   ]
  },
  {
   "cell_type": "code",
   "execution_count": 66,
   "metadata": {},
   "outputs": [
    {
     "name": "stdout",
     "output_type": "stream",
     "text": [
      "Gini Prediction Accuracies with increasing tree depths 1, 3, 6, 9, 12, 15, and 18\n",
      "[91.65130366078483, 96.49723465894127, 96.6552541480116, 96.91861996312878, 97.44535159336318, 97.49802475638663, 97.6033710824335]\n",
      "\n",
      "\n",
      "Entropy Prediction Accuracies with increasing tree depths 1, 3, 6, 9, 12, 15, and 18\n",
      "[92.12536212799579, 96.1285225177772, 97.6033710824335, 97.41901501185146, 97.78772715301554, 97.26099552278114, 95.89149328417172]\n"
     ]
    }
   ],
   "source": [
    "print('Gini Prediction Accuracies with increasing tree depths 1, 3, 6, 9, 12, 15, and 18')\n",
    "print(gini_prediction_accuracies)\n",
    "print('\\n')\n",
    "print('Entropy Prediction Accuracies with increasing tree depths 1, 3, 6, 9, 12, 15, and 18')\n",
    "print(entropy_prediction_accuracies)"
   ]
  },
  {
   "cell_type": "code",
   "execution_count": 67,
   "metadata": {},
   "outputs": [
    {
     "data": {
      "image/png": "[encoded data removed]",
      "text/plain": [
       "<Figure size 432x288 with 1 Axes>"
      ]
     },
     "metadata": {
      "needs_background": "light"
     },
     "output_type": "display_data"
    }
   ],
   "source": [
    "tree_depths = ['1', '3', '6', '9', '12', '15', '18']\n",
    "x = np.arange(len(tree_depths))  # the label locations\n",
    "width = 0.35  # the width of the bars\n",
    "fig, ax = plt.subplots()\n",
    "rects1 = ax.bar(x - width/2, gini_prediction_accuracies, width, label='Gini Accuracy')\n",
    "rects2 = ax.bar(x + width/2, entropy_prediction_accuracies, width, label='Entropy Accuracy')\n",
    "ax.set_ylabel('% Accuracy')\n",
    "ax.set_xlabel('tree depth')\n",
    "ax.set_title('Comparing AdaBoost Accuracies with Gini and Entropy Impurities')\n",
    "ax.set_xticks(x)\n",
    "ax.set_xticklabels(tree_depths)\n",
    "ax.legend()\n",
    "\n",
    "plt.yticks(np.arange(101, step=5))\n",
    "fig.tight_layout()\n",
    "\n",
    "plt.show()"
   ]
  },
  {
   "cell_type": "markdown",
   "metadata": {},
   "source": [
    "### As we can see here, in AdaBoost Classifier, for gini index, the prediction accuracies are increasing with increasing tree depths. For Entropy Index, same as gini index, the prediction accuracies are increasing till tree depth of 6 and then it follows a zig-zag by going down and up and then goes down for depths 15 and 18."
   ]
  },
  {
   "cell_type": "markdown",
   "metadata": {},
   "source": [
    "<br>\n",
    "<hr>\n",
    "<br>"
   ]
  },
  {
   "cell_type": "markdown",
   "metadata": {},
   "source": [
    "# Comapring Decision Tree Accuracies using Gini and Entropy Impurities with varying tree depths for Decision Tree Classifier from Assignment 5"
   ]
  },
  {
   "cell_type": "code",
   "execution_count": 69,
   "metadata": {},
   "outputs": [
    {
     "name": "stdout",
     "output_type": "stream",
     "text": [
      "Gini Prediction Accuracies with increasing tree depths from 1 to 6\n",
      "[84.11904134843297, 85.98893863576508, 86.62101659204635, 88.93863576507769, 89.70239662891757, 90.36081116671056]\n",
      "\n",
      "\n",
      "Entropy Prediction Accuracies with increasing tree depths from 1 to 6\n",
      "[78.06162760073742, 84.72478272320252, 85.54121675006584, 86.06794838030024, 90.30813800368712, 90.49249407426916]\n"
     ]
    },
    {
     "data": {
      "image/png": "[encoded data removed]",
      "text/plain": [
       "<Figure size 432x288 with 1 Axes>"
      ]
     },
     "metadata": {
      "needs_background": "light"
     },
     "output_type": "display_data"
    }
   ],
   "source": [
    "print('Gini Prediction Accuracies with increasing tree depths from 1 to 6')\n",
    "gini_prediction_accuracies = [84.11904134843297, 85.98893863576508, 86.62101659204635, 88.93863576507769, 89.70239662891757, 90.36081116671056]\n",
    "print(gini_prediction_accuracies)\n",
    "print('\\n')\n",
    "\n",
    "print('Entropy Prediction Accuracies with increasing tree depths from 1 to 6')\n",
    "entropy_prediction_accuracies = [78.06162760073742, 84.72478272320252, 85.54121675006584, 86.06794838030024, 90.30813800368712, 90.49249407426916]\n",
    "print(entropy_prediction_accuracies)\n",
    "\n",
    "tree_depths = ['1', '2', '3', '4', '5', '6']\n",
    "x = np.arange(len(tree_depths))  # the label locations\n",
    "width = 0.35  # the width of the bars\n",
    "fig, ax = plt.subplots()\n",
    "rects1 = ax.bar(x - width/2, gini_prediction_accuracies, width, label='Gini Accuracy')\n",
    "rects2 = ax.bar(x + width/2, entropy_prediction_accuracies, width, label='Entropy Accuracy')\n",
    "ax.set_ylabel('% Accuracy')\n",
    "ax.set_xlabel('tree depth')\n",
    "ax.set_title('Comparing Decision Tree Accuracies with Gini and Entropy Impurities')\n",
    "ax.set_xticks(x)\n",
    "ax.set_xticklabels(tree_depths)\n",
    "ax.legend()\n",
    "\n",
    "plt.yticks(np.arange(101, step=5))\n",
    "fig.tight_layout()\n",
    "\n",
    "plt.show()"
   ]
  },
  {
   "cell_type": "markdown",
   "metadata": {},
   "source": [
    "<br>\n",
    "<hr>\n",
    "<hr>\n",
    "<br>"
   ]
  },
  {
   "cell_type": "markdown",
   "metadata": {},
   "source": [
    "# Comparing results from AdaBoost and Decision Tree Classifier"
   ]
  },
  {
   "cell_type": "markdown",
   "metadata": {},
   "source": [
    "## Conclusion"
   ]
  },
  {
   "cell_type": "markdown",
   "metadata": {},
   "source": [
    "## Prediction Accuracies in case of Adaboost Classifier are higher than Decision Tree Classifier for both gini as well as entropy index. We can see from the above plotted bar graphs for Adaboost and Decision Tree that for common tree depths of 1, 3, and 6, the prediction accuracies in case of Adaboost are almost 6% greater than that of Decision Trees."
   ]
  }
 ],
 "metadata": {
  "kernelspec": {
   "display_name": "Python 3",
   "language": "python",
   "name": "python3"
  },
  "language_info": {
   "codemirror_mode": {
    "name": "ipython",
    "version": 3
   },
   "file_extension": ".py",
   "mimetype": "text/x-python",
   "name": "python",
   "nbconvert_exporter": "python",
   "pygments_lexer": "ipython3",
   "version": "3.8.5"
  }
 },
 "nbformat": 4,
 "nbformat_minor": 4
}
