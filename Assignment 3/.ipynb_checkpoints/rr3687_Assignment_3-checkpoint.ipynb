{
 "cells": [
  {
   "cell_type": "markdown",
   "metadata": {},
   "source": [
    "# Assignment 3"
   ]
  },
  {
   "cell_type": "code",
   "execution_count": 1,
   "metadata": {},
   "outputs": [
    {
     "name": "stdout",
     "output_type": "stream",
     "text": [
      "back,buffer_overflow,ftp_write,guess_passwd,imap,ipsweep,land,loadmodule,multihop,neptune,nmap,normal,perl,phf,pod,portsweep,rootkit,satan,smurf,spy,teardrop,warezclient,warezmaster.\n",
      "duration: continuous.\n",
      "protocol_type: symbolic.\n",
      "service: symbolic.\n",
      "flag: symbolic.\n",
      "src_bytes: continuous.\n",
      "dst_bytes: continuous.\n",
      "land: symbolic.\n",
      "wrong_fragment: continuous.\n",
      "urgent: continuous.\n",
      "hot: continuous.\n",
      "num_failed_logins: continuous.\n",
      "logged_in: symbolic.\n",
      "num_compromised: continuous.\n",
      "root_shell: continuous.\n",
      "su_attempted: continuous.\n",
      "num_root: continuous.\n",
      "num_file_creations: continuous.\n",
      "num_shells: continuous.\n",
      "num_access_files: continuous.\n",
      "num_outbound_cmds: continuous.\n",
      "is_host_login: symbolic.\n",
      "is_guest_login: symbolic.\n",
      "count: continuous.\n",
      "srv_count: continuous.\n",
      "serror_rate: continuous.\n",
      "srv_serror_rate: continuous.\n",
      "rerror_rate: continuous.\n",
      "srv_rerror_rate: continuous.\n",
      "same_srv_rate: continuous.\n",
      "diff_srv_rate: continuous.\n",
      "srv_diff_host_rate: continuous.\n",
      "dst_host_count: continuous.\n",
      "dst_host_srv_count: continuous.\n",
      "dst_host_same_srv_rate: continuous.\n",
      "dst_host_diff_srv_rate: continuous.\n",
      "dst_host_same_src_port_rate: continuous.\n",
      "dst_host_srv_diff_host_rate: continuous.\n",
      "dst_host_serror_rate: continuous.\n",
      "dst_host_srv_serror_rate: continuous.\n",
      "dst_host_rerror_rate: continuous.\n",
      "dst_host_srv_rerror_rate: continuous.\n",
      "\n"
     ]
    }
   ],
   "source": [
    "import pandas as pd \n",
    "import numpy as np \n",
    "import matplotlib.pyplot as plt \n",
    "import seaborn as sns \n",
    "import time \n",
    "# reading features list \n",
    "with open(\"kddcup.names.txt\", 'r') as f: \n",
    "    print(f.read()) "
   ]
  },
  {
   "cell_type": "code",
   "execution_count": 2,
   "metadata": {},
   "outputs": [
    {
     "name": "stdout",
     "output_type": "stream",
     "text": [
      "42\n"
     ]
    }
   ],
   "source": [
    "cols =\"\"\"duration, \n",
    "protocol_type, \n",
    "service, \n",
    "flag, \n",
    "src_bytes, \n",
    "dst_bytes, \n",
    "land, \n",
    "wrong_fragment, \n",
    "urgent, \n",
    "hot, \n",
    "num_failed_logins, \n",
    "logged_in, \n",
    "num_compromised, \n",
    "root_shell, \n",
    "su_attempted, \n",
    "num_root, \n",
    "num_file_creations, \n",
    "num_shells, \n",
    "num_access_files, \n",
    "num_outbound_cmds, \n",
    "is_host_login, \n",
    "is_guest_login, \n",
    "count, \n",
    "srv_count, \n",
    "serror_rate, \n",
    "srv_serror_rate, \n",
    "rerror_rate, \n",
    "srv_rerror_rate, \n",
    "same_srv_rate, \n",
    "diff_srv_rate, \n",
    "srv_diff_host_rate, \n",
    "dst_host_count, \n",
    "dst_host_srv_count, \n",
    "dst_host_same_srv_rate, \n",
    "dst_host_diff_srv_rate, \n",
    "dst_host_same_src_port_rate, \n",
    "dst_host_srv_diff_host_rate, \n",
    "dst_host_serror_rate, \n",
    "dst_host_srv_serror_rate, \n",
    "dst_host_rerror_rate, \n",
    "dst_host_srv_rerror_rate\"\"\"\n",
    "  \n",
    "columns =[] \n",
    "for c in cols.split(', '): \n",
    "    if(c.strip()):\n",
    "        columns.append(c.strip()) \n",
    "    \n",
    "columns.append('target') \n",
    "print(len(columns)) "
   ]
  },
  {
   "cell_type": "code",
   "execution_count": 3,
   "metadata": {},
   "outputs": [
    {
     "name": "stdout",
     "output_type": "stream",
     "text": [
      "back dos\n",
      "buffer_overflow u2r\n",
      "ftp_write r2l\n",
      "guess_passwd r2l\n",
      "imap r2l\n",
      "ipsweep probe\n",
      "land dos\n",
      "loadmodule u2r\n",
      "multihop r2l\n",
      "neptune dos\n",
      "nmap probe\n",
      "perl u2r\n",
      "phf r2l\n",
      "pod dos\n",
      "portsweep probe\n",
      "rootkit u2r\n",
      "satan probe\n",
      "smurf dos\n",
      "spy r2l\n",
      "teardrop dos\n",
      "warezclient r2l\n",
      "warezmaster r2l\n",
      "\n",
      "\n"
     ]
    }
   ],
   "source": [
    "with open(\"training_attack_types.txt\", 'r') as f: \n",
    "    print(f.read())"
   ]
  },
  {
   "cell_type": "code",
   "execution_count": 4,
   "metadata": {},
   "outputs": [],
   "source": [
    "attacks_types = { \n",
    "    'normal': 'normal', \n",
    "'back': 'dos', \n",
    "'buffer_overflow': 'u2r', \n",
    "'ftp_write': 'r2l', \n",
    "'guess_passwd': 'r2l', \n",
    "'imap': 'r2l', \n",
    "'ipsweep': 'probe', \n",
    "'land': 'dos', \n",
    "'loadmodule': 'u2r', \n",
    "'multihop': 'r2l', \n",
    "'neptune': 'dos', \n",
    "'nmap': 'probe', \n",
    "'perl': 'u2r', \n",
    "'phf': 'r2l', \n",
    "'pod': 'dos', \n",
    "'portsweep': 'probe', \n",
    "'rootkit': 'u2r', \n",
    "'satan': 'probe', \n",
    "'smurf': 'dos', \n",
    "'spy': 'r2l', \n",
    "'teardrop': 'dos', \n",
    "'warezclient': 'r2l', \n",
    "'warezmaster': 'r2l', \n",
    "} "
   ]
  },
  {
   "cell_type": "code",
   "execution_count": 5,
   "metadata": {},
   "outputs": [
    {
     "data": {
      "text/html": [
       "<div>\n",
       "<style scoped>\n",
       "    .dataframe tbody tr th:only-of-type {\n",
       "        vertical-align: middle;\n",
       "    }\n",
       "\n",
       "    .dataframe tbody tr th {\n",
       "        vertical-align: top;\n",
       "    }\n",
       "\n",
       "    .dataframe thead th {\n",
       "        text-align: right;\n",
       "    }\n",
       "</style>\n",
       "<table border=\"1\" class=\"dataframe\">\n",
       "  <thead>\n",
       "    <tr style=\"text-align: right;\">\n",
       "      <th></th>\n",
       "      <th>duration</th>\n",
       "      <th>protocol_type</th>\n",
       "      <th>service</th>\n",
       "      <th>flag</th>\n",
       "      <th>src_bytes</th>\n",
       "      <th>dst_bytes</th>\n",
       "      <th>land</th>\n",
       "      <th>wrong_fragment</th>\n",
       "      <th>urgent</th>\n",
       "      <th>hot</th>\n",
       "      <th>...</th>\n",
       "      <th>dst_host_same_srv_rate</th>\n",
       "      <th>dst_host_diff_srv_rate</th>\n",
       "      <th>dst_host_same_src_port_rate</th>\n",
       "      <th>dst_host_srv_diff_host_rate</th>\n",
       "      <th>dst_host_serror_rate</th>\n",
       "      <th>dst_host_srv_serror_rate</th>\n",
       "      <th>dst_host_rerror_rate</th>\n",
       "      <th>dst_host_srv_rerror_rate</th>\n",
       "      <th>target</th>\n",
       "      <th>Attack Type</th>\n",
       "    </tr>\n",
       "  </thead>\n",
       "  <tbody>\n",
       "    <tr>\n",
       "      <th>0</th>\n",
       "      <td>0</td>\n",
       "      <td>tcp</td>\n",
       "      <td>http</td>\n",
       "      <td>SF</td>\n",
       "      <td>215</td>\n",
       "      <td>45076</td>\n",
       "      <td>0</td>\n",
       "      <td>0</td>\n",
       "      <td>0</td>\n",
       "      <td>0</td>\n",
       "      <td>...</td>\n",
       "      <td>0.0</td>\n",
       "      <td>0.0</td>\n",
       "      <td>0.00</td>\n",
       "      <td>0.0</td>\n",
       "      <td>0.0</td>\n",
       "      <td>0.0</td>\n",
       "      <td>0.0</td>\n",
       "      <td>0.0</td>\n",
       "      <td>normal.</td>\n",
       "      <td>normal</td>\n",
       "    </tr>\n",
       "    <tr>\n",
       "      <th>1</th>\n",
       "      <td>0</td>\n",
       "      <td>tcp</td>\n",
       "      <td>http</td>\n",
       "      <td>SF</td>\n",
       "      <td>162</td>\n",
       "      <td>4528</td>\n",
       "      <td>0</td>\n",
       "      <td>0</td>\n",
       "      <td>0</td>\n",
       "      <td>0</td>\n",
       "      <td>...</td>\n",
       "      <td>1.0</td>\n",
       "      <td>0.0</td>\n",
       "      <td>1.00</td>\n",
       "      <td>0.0</td>\n",
       "      <td>0.0</td>\n",
       "      <td>0.0</td>\n",
       "      <td>0.0</td>\n",
       "      <td>0.0</td>\n",
       "      <td>normal.</td>\n",
       "      <td>normal</td>\n",
       "    </tr>\n",
       "    <tr>\n",
       "      <th>2</th>\n",
       "      <td>0</td>\n",
       "      <td>tcp</td>\n",
       "      <td>http</td>\n",
       "      <td>SF</td>\n",
       "      <td>236</td>\n",
       "      <td>1228</td>\n",
       "      <td>0</td>\n",
       "      <td>0</td>\n",
       "      <td>0</td>\n",
       "      <td>0</td>\n",
       "      <td>...</td>\n",
       "      <td>1.0</td>\n",
       "      <td>0.0</td>\n",
       "      <td>0.50</td>\n",
       "      <td>0.0</td>\n",
       "      <td>0.0</td>\n",
       "      <td>0.0</td>\n",
       "      <td>0.0</td>\n",
       "      <td>0.0</td>\n",
       "      <td>normal.</td>\n",
       "      <td>normal</td>\n",
       "    </tr>\n",
       "    <tr>\n",
       "      <th>3</th>\n",
       "      <td>0</td>\n",
       "      <td>tcp</td>\n",
       "      <td>http</td>\n",
       "      <td>SF</td>\n",
       "      <td>233</td>\n",
       "      <td>2032</td>\n",
       "      <td>0</td>\n",
       "      <td>0</td>\n",
       "      <td>0</td>\n",
       "      <td>0</td>\n",
       "      <td>...</td>\n",
       "      <td>1.0</td>\n",
       "      <td>0.0</td>\n",
       "      <td>0.33</td>\n",
       "      <td>0.0</td>\n",
       "      <td>0.0</td>\n",
       "      <td>0.0</td>\n",
       "      <td>0.0</td>\n",
       "      <td>0.0</td>\n",
       "      <td>normal.</td>\n",
       "      <td>normal</td>\n",
       "    </tr>\n",
       "    <tr>\n",
       "      <th>4</th>\n",
       "      <td>0</td>\n",
       "      <td>tcp</td>\n",
       "      <td>http</td>\n",
       "      <td>SF</td>\n",
       "      <td>239</td>\n",
       "      <td>486</td>\n",
       "      <td>0</td>\n",
       "      <td>0</td>\n",
       "      <td>0</td>\n",
       "      <td>0</td>\n",
       "      <td>...</td>\n",
       "      <td>1.0</td>\n",
       "      <td>0.0</td>\n",
       "      <td>0.25</td>\n",
       "      <td>0.0</td>\n",
       "      <td>0.0</td>\n",
       "      <td>0.0</td>\n",
       "      <td>0.0</td>\n",
       "      <td>0.0</td>\n",
       "      <td>normal.</td>\n",
       "      <td>normal</td>\n",
       "    </tr>\n",
       "  </tbody>\n",
       "</table>\n",
       "<p>5 rows × 43 columns</p>\n",
       "</div>"
      ],
      "text/plain": [
       "   duration protocol_type service flag  src_bytes  dst_bytes  land  \\\n",
       "0         0           tcp    http   SF        215      45076     0   \n",
       "1         0           tcp    http   SF        162       4528     0   \n",
       "2         0           tcp    http   SF        236       1228     0   \n",
       "3         0           tcp    http   SF        233       2032     0   \n",
       "4         0           tcp    http   SF        239        486     0   \n",
       "\n",
       "   wrong_fragment  urgent  hot  ...  dst_host_same_srv_rate  \\\n",
       "0               0       0    0  ...                     0.0   \n",
       "1               0       0    0  ...                     1.0   \n",
       "2               0       0    0  ...                     1.0   \n",
       "3               0       0    0  ...                     1.0   \n",
       "4               0       0    0  ...                     1.0   \n",
       "\n",
       "   dst_host_diff_srv_rate  dst_host_same_src_port_rate  \\\n",
       "0                     0.0                         0.00   \n",
       "1                     0.0                         1.00   \n",
       "2                     0.0                         0.50   \n",
       "3                     0.0                         0.33   \n",
       "4                     0.0                         0.25   \n",
       "\n",
       "   dst_host_srv_diff_host_rate  dst_host_serror_rate  \\\n",
       "0                          0.0                   0.0   \n",
       "1                          0.0                   0.0   \n",
       "2                          0.0                   0.0   \n",
       "3                          0.0                   0.0   \n",
       "4                          0.0                   0.0   \n",
       "\n",
       "   dst_host_srv_serror_rate  dst_host_rerror_rate  dst_host_srv_rerror_rate  \\\n",
       "0                       0.0                   0.0                       0.0   \n",
       "1                       0.0                   0.0                       0.0   \n",
       "2                       0.0                   0.0                       0.0   \n",
       "3                       0.0                   0.0                       0.0   \n",
       "4                       0.0                   0.0                       0.0   \n",
       "\n",
       "    target  Attack Type  \n",
       "0  normal.       normal  \n",
       "1  normal.       normal  \n",
       "2  normal.       normal  \n",
       "3  normal.       normal  \n",
       "4  normal.       normal  \n",
       "\n",
       "[5 rows x 43 columns]"
      ]
     },
     "execution_count": 5,
     "metadata": {},
     "output_type": "execute_result"
    }
   ],
   "source": [
    "path = \"kddcup.data.gz\"\n",
    "df = pd.read_csv(path, names = columns)\n",
    "\n",
    "# Adding Attack Type column \n",
    "df['Attack Type'] = df.target.apply(lambda r:attacks_types[r[:-1]]) \n",
    "df.head()"
   ]
  },
  {
   "cell_type": "code",
   "execution_count": 6,
   "metadata": {},
   "outputs": [
    {
     "data": {
      "text/plain": [
       "(4898431, 43)"
      ]
     },
     "execution_count": 6,
     "metadata": {},
     "output_type": "execute_result"
    }
   ],
   "source": [
    "df.shape "
   ]
  },
  {
   "cell_type": "code",
   "execution_count": 7,
   "metadata": {},
   "outputs": [
    {
     "data": {
      "text/plain": [
       "duration                       0\n",
       "protocol_type                  0\n",
       "service                        0\n",
       "flag                           0\n",
       "src_bytes                      0\n",
       "dst_bytes                      0\n",
       "land                           0\n",
       "wrong_fragment                 0\n",
       "urgent                         0\n",
       "hot                            0\n",
       "num_failed_logins              0\n",
       "logged_in                      0\n",
       "num_compromised                0\n",
       "root_shell                     0\n",
       "su_attempted                   0\n",
       "num_root                       0\n",
       "num_file_creations             0\n",
       "num_shells                     0\n",
       "num_access_files               0\n",
       "num_outbound_cmds              0\n",
       "is_host_login                  0\n",
       "is_guest_login                 0\n",
       "count                          0\n",
       "srv_count                      0\n",
       "serror_rate                    0\n",
       "srv_serror_rate                0\n",
       "rerror_rate                    0\n",
       "srv_rerror_rate                0\n",
       "same_srv_rate                  0\n",
       "diff_srv_rate                  0\n",
       "srv_diff_host_rate             0\n",
       "dst_host_count                 0\n",
       "dst_host_srv_count             0\n",
       "dst_host_same_srv_rate         0\n",
       "dst_host_diff_srv_rate         0\n",
       "dst_host_same_src_port_rate    0\n",
       "dst_host_srv_diff_host_rate    0\n",
       "dst_host_serror_rate           0\n",
       "dst_host_srv_serror_rate       0\n",
       "dst_host_rerror_rate           0\n",
       "dst_host_srv_rerror_rate       0\n",
       "target                         0\n",
       "Attack Type                    0\n",
       "dtype: int64"
      ]
     },
     "execution_count": 7,
     "metadata": {},
     "output_type": "execute_result"
    }
   ],
   "source": [
    "df.isnull().sum()"
   ]
  },
  {
   "cell_type": "code",
   "execution_count": 8,
   "metadata": {},
   "outputs": [
    {
     "data": {
      "text/plain": [
       "['flag', 'service', 'protocol_type']"
      ]
     },
     "execution_count": 8,
     "metadata": {},
     "output_type": "execute_result"
    }
   ],
   "source": [
    "# Finding categorical features \n",
    "num_cols = df._get_numeric_data().columns \n",
    "  \n",
    "cate_cols = list(set(df.columns)-set(num_cols)) \n",
    "cate_cols.remove('target') \n",
    "cate_cols.remove('Attack Type') \n",
    "  \n",
    "cate_cols"
   ]
  },
  {
   "cell_type": "code",
   "execution_count": 9,
   "metadata": {},
   "outputs": [
    {
     "data": {
      "image/png": "[encoded data removed]",
      "text/plain": [
       "<Figure size 1080x864 with 2 Axes>"
      ]
     },
     "metadata": {
      "needs_background": "light"
     },
     "output_type": "display_data"
    }
   ],
   "source": [
    "# drop columns with NaN \n",
    "df = df.dropna('columns')\n",
    "\n",
    "# keep columns where there are more than 1 unique values \n",
    "df = df[[col for col in df if df[col].nunique() > 1]]\n",
    "\n",
    "corr = df.corr() \n",
    "  \n",
    "plt.figure(figsize =(15, 12)) \n",
    "  \n",
    "sns.heatmap(corr) \n",
    "  \n",
    "plt.show() "
   ]
  },
  {
   "cell_type": "code",
   "execution_count": 10,
   "metadata": {},
   "outputs": [],
   "source": [
    "# This variable is highly correlated with num_compromised and should be ignored for analysis. \n",
    "#(Correlation = 0.9938277978738366) \n",
    "df.drop('num_root', axis = 1, inplace = True) \n",
    "  \n",
    "# This variable is highly correlated with serror_rate and should be ignored for analysis. \n",
    "#(Correlation = 0.9983615072725952) \n",
    "df.drop('srv_serror_rate', axis = 1, inplace = True) \n",
    "  \n",
    "# This variable is highly correlated with rerror_rate and should be ignored for analysis. \n",
    "#(Correlation = 0.9947309539817937) \n",
    "df.drop('srv_rerror_rate', axis = 1, inplace = True) \n",
    "  \n",
    "# This variable is highly correlated with srv_serror_rate and should be ignored for analysis. \n",
    "#(Correlation = 0.9993041091850098) \n",
    "df.drop('dst_host_srv_serror_rate', axis = 1, inplace = True) \n",
    "  \n",
    "# This variable is highly correlated with rerror_rate and should be ignored for analysis. \n",
    "#(Correlation = 0.9869947924956001) \n",
    "df.drop('dst_host_serror_rate', axis = 1, inplace = True) \n",
    "  \n",
    "# This variable is highly correlated with srv_rerror_rate and should be ignored for analysis. \n",
    "#(Correlation = 0.9821663427308375) \n",
    "df.drop('dst_host_rerror_rate', axis = 1, inplace = True) \n",
    "  \n",
    "# This variable is highly correlated with rerror_rate and should be ignored for analysis. \n",
    "#(Correlation = 0.9851995540751249) \n",
    "df.drop('dst_host_srv_rerror_rate', axis = 1, inplace = True) \n",
    "  \n",
    "# This variable is highly correlated with srv_rerror_rate and should be ignored for analysis. \n",
    "#(Correlation = 0.9865705438845669) \n",
    "df.drop('dst_host_same_srv_rate', axis = 1, inplace = True)"
   ]
  },
  {
   "cell_type": "code",
   "execution_count": 11,
   "metadata": {},
   "outputs": [],
   "source": [
    "# protocol_type feature mapping \n",
    "pmap = {'icmp':0, 'tcp':1, 'udp':2} \n",
    "df['protocol_type'] = df['protocol_type'].map(pmap)"
   ]
  },
  {
   "cell_type": "code",
   "execution_count": 12,
   "metadata": {},
   "outputs": [],
   "source": [
    "# flag feature mapping \n",
    "fmap = {'SF':0, 'S0':1, 'REJ':2, 'RSTR':3, 'RSTO':4, 'SH':5, 'S1':6, 'S2':7, 'RSTOS0':8, 'S3':9, 'OTH':10} \n",
    "df['flag'] = df['flag'].map(fmap) "
   ]
  },
  {
   "cell_type": "code",
   "execution_count": 13,
   "metadata": {},
   "outputs": [],
   "source": [
    "df.drop('service', axis = 1, inplace = True)"
   ]
  },
  {
   "cell_type": "code",
   "execution_count": 14,
   "metadata": {},
   "outputs": [],
   "source": [
    "from sklearn.model_selection import train_test_split \n",
    "from sklearn.preprocessing import MinMaxScaler"
   ]
  },
  {
   "cell_type": "code",
   "execution_count": 15,
   "metadata": {},
   "outputs": [
    {
     "name": "stdout",
     "output_type": "stream",
     "text": [
      "(4898431, 32)\n",
      "(3918744, 31) (979687, 31)\n",
      "(3918744, 1) (979687, 1)\n"
     ]
    }
   ],
   "source": [
    "# Splitting the dataset \n",
    "df = df.drop(['target', ], axis = 1) \n",
    "print(df.shape) \n",
    "  \n",
    "# Target variable and train set \n",
    "y = df[['Attack Type']] \n",
    "X = df.drop(['Attack Type', ], axis = 1) \n",
    "  \n",
    "sc = MinMaxScaler() \n",
    "X = sc.fit_transform(X) \n",
    "  \n",
    "# Split test and train data  (80% training, 20% testing)\n",
    "X_train, X_test, y_train, y_test = train_test_split(X, y, test_size = 0.20, random_state = 42) \n",
    "print(X_train.shape, X_test.shape) \n",
    "print(y_train.shape, y_test.shape)"
   ]
  },
  {
   "cell_type": "code",
   "execution_count": 16,
   "metadata": {},
   "outputs": [],
   "source": [
    "# assigning values to attack type based on whether it's s probe or non-probe in the training data\n",
    "for i in range(len(y_train.values)):\n",
    "    if y_train.values[i] == 'probe':\n",
    "        y_train.values[i] = 0\n",
    "    else:\n",
    "        y_train.values[i] = 1"
   ]
  },
  {
   "cell_type": "code",
   "execution_count": 17,
   "metadata": {},
   "outputs": [],
   "source": [
    "# assigning values to attack type based on whether it's s probe or non-probe in the testing data\n",
    "for i in range(len(y_test.values)):\n",
    "    if y_test.values[i] == 'probe':\n",
    "        y_test.values[i] = 0\n",
    "    else:\n",
    "        y_test.values[i] = 1"
   ]
  },
  {
   "cell_type": "code",
   "execution_count": 26,
   "metadata": {},
   "outputs": [
    {
     "name": "stdout",
     "output_type": "stream",
     "text": [
      "Training time:  65.09891200065613\n"
     ]
    }
   ],
   "source": [
    "from sklearn.linear_model import LogisticRegression \n",
    "  \n",
    "clfl = LogisticRegression(max_iter = 169) \n",
    "start_time = time.time() \n",
    "y_train = y_train.astype('int') \n",
    "clfl.fit(X_train, y_train.values.ravel()) \n",
    "end_time = time.time() \n",
    "print(\"Training time: \", end_time-start_time) "
   ]
  },
  {
   "cell_type": "code",
   "execution_count": 27,
   "metadata": {},
   "outputs": [
    {
     "name": "stdout",
     "output_type": "stream",
     "text": [
      "Testing time:  0.0753011703491211\n"
     ]
    }
   ],
   "source": [
    "start_time = time.time() \n",
    "y_test_pred = clfl.predict(X_test) \n",
    "end_time = time.time() \n",
    "print(\"Testing time: \", end_time-start_time)"
   ]
  },
  {
   "cell_type": "code",
   "execution_count": 28,
   "metadata": {},
   "outputs": [
    {
     "name": "stdout",
     "output_type": "stream",
     "text": [
      "Train score is: 0.9989088340549931\n",
      "Test score is: 0.9989363949914616\n"
     ]
    }
   ],
   "source": [
    "y_test = y_test.astype('int')  \n",
    "print(\"Train score is:\", clfl.score(X_train, y_train)) \n",
    "print(\"Test score is:\", clfl.score(X_test, y_test))"
   ]
  },
  {
   "cell_type": "markdown",
   "metadata": {},
   "source": [
    "### The mean training accuracy is 99.89% and the mean testing accuracy is 99.89% as well. I don't think that the model overfits the data because the testing accuracy is very close to the training accuracy. It takes 169 iterations to converge."
   ]
  },
  {
   "cell_type": "markdown",
   "metadata": {},
   "source": [
    "# Most important features"
   ]
  },
  {
   "cell_type": "code",
   "execution_count": 29,
   "metadata": {},
   "outputs": [
    {
     "data": {
      "text/plain": [
       "array([8.08449680e-01, 7.62608152e+00, 1.28887826e+01, 5.48113059e-01,\n",
       "       1.89157744e-01, 3.27718089e+00, 1.14186531e+01, 2.18730349e-03,\n",
       "       1.35953770e-01, 4.03216305e-01, 4.11805204e+00, 7.01621562e-02,\n",
       "       1.07564553e+00, 9.10189843e-01, 2.62773470e-01, 3.83268857e-03,\n",
       "       5.32201902e-01, 5.08224374e-02, 3.13891535e-01, 1.13974232e+00,\n",
       "       9.40866580e+00, 2.62581933e+00, 8.00685923e-01, 3.20544032e-02,\n",
       "       2.95357485e+00, 2.19769968e+00, 6.72433453e-01, 6.67925545e-01,\n",
       "       6.62721923e+00, 2.70648318e+00, 7.70392990e+00])"
      ]
     },
     "execution_count": 29,
     "metadata": {},
     "output_type": "execute_result"
    }
   ],
   "source": [
    "coefs = clfl.coef_[0]\n",
    "abs_weights = np.abs(coefs)\n",
    "abs_weights"
   ]
  },
  {
   "cell_type": "code",
   "execution_count": 30,
   "metadata": {},
   "outputs": [
    {
     "data": {
      "text/plain": [
       "array([ 2,  6, 20, 30,  1, 28, 10,  5, 24, 29, 21, 25, 19, 12, 13,  0, 22,\n",
       "       26, 27,  3, 16,  9, 18, 14,  4,  8, 11, 17, 23, 15,  7])"
      ]
     },
     "execution_count": 30,
     "metadata": {},
     "output_type": "execute_result"
    }
   ],
   "source": [
    "sorted_index = np.argsort(abs_weights)[::-1]\n",
    "sorted_index"
   ]
  },
  {
   "cell_type": "code",
   "execution_count": 31,
   "metadata": {},
   "outputs": [
    {
     "data": {
      "text/plain": [
       "array([ 2,  6, 20, 30,  1, 28, 10,  5, 24, 29])"
      ]
     },
     "execution_count": 31,
     "metadata": {},
     "output_type": "execute_result"
    }
   ],
   "source": [
    "top_10 = sorted_index[:10]\n",
    "top_10"
   ]
  },
  {
   "cell_type": "code",
   "execution_count": 32,
   "metadata": {},
   "outputs": [
    {
     "name": "stdout",
     "output_type": "stream",
     "text": [
      "most important feature names:\n",
      "\n",
      "service\n",
      "land\n",
      "is_host_login\n",
      "srv_diff_host_rate\n",
      "protocol_type\n",
      "same_srv_rate\n",
      "num_failed_logins\n",
      "dst_bytes\n",
      "serror_rate\n",
      "diff_srv_rate\n"
     ]
    }
   ],
   "source": [
    "print(\"most important feature names:\\n\")\n",
    "for i in top_10:\n",
    "    print(columns[i])"
   ]
  },
  {
   "cell_type": "markdown",
   "metadata": {},
   "source": [
    "### Above mentioned are the top 10 most important features based on absolute weights. "
   ]
  },
  {
   "cell_type": "markdown",
   "metadata": {},
   "source": [
    "# Apply L1 Regularization"
   ]
  },
  {
   "cell_type": "code",
   "execution_count": 40,
   "metadata": {},
   "outputs": [
    {
     "name": "stdout",
     "output_type": "stream",
     "text": [
      "Training time:  60.37115406990051\n"
     ]
    }
   ],
   "source": [
    "clfl = LogisticRegression(penalty = 'l1', solver='liblinear', max_iter = 25) \n",
    "start_time = time.time() \n",
    "clfl.fit(X_train, y_train.values.ravel()) \n",
    "end_time = time.time() \n",
    "print(\"Training time: \", end_time-start_time) "
   ]
  },
  {
   "cell_type": "code",
   "execution_count": 41,
   "metadata": {},
   "outputs": [
    {
     "name": "stdout",
     "output_type": "stream",
     "text": [
      "Testing time:  0.06559610366821289\n"
     ]
    }
   ],
   "source": [
    "start_time = time.time() \n",
    "y_test_pred = clfl.predict(X_test) \n",
    "end_time = time.time() \n",
    "print(\"Testing time: \", end_time-start_time)"
   ]
  },
  {
   "cell_type": "code",
   "execution_count": 42,
   "metadata": {},
   "outputs": [
    {
     "name": "stdout",
     "output_type": "stream",
     "text": [
      "Train score is: 0.9989085788711893\n",
      "Test score is: 0.9989414986623278\n"
     ]
    }
   ],
   "source": [
    "print(\"Train score is:\", clfl.score(X_train, y_train)) \n",
    "print(\"Test score is:\", clfl.score(X_test, y_test))"
   ]
  },
  {
   "cell_type": "markdown",
   "metadata": {},
   "source": [
    "# Applying L2 Regularization"
   ]
  },
  {
   "cell_type": "code",
   "execution_count": 43,
   "metadata": {},
   "outputs": [
    {
     "name": "stdout",
     "output_type": "stream",
     "text": [
      "Training time:  65.17156100273132\n"
     ]
    }
   ],
   "source": [
    "clfl = LogisticRegression(penalty = 'l2', max_iter = 169) \n",
    "start_time = time.time()\n",
    "clfl.fit(X_train, y_train.values.ravel()) \n",
    "end_time = time.time() \n",
    "print(\"Training time: \", end_time-start_time) "
   ]
  },
  {
   "cell_type": "code",
   "execution_count": 44,
   "metadata": {},
   "outputs": [
    {
     "name": "stdout",
     "output_type": "stream",
     "text": [
      "Testing time:  0.038649797439575195\n"
     ]
    }
   ],
   "source": [
    "start_time = time.time() \n",
    "y_test_pred = clfl.predict(X_test) \n",
    "end_time = time.time() \n",
    "print(\"Testing time: \", end_time-start_time)"
   ]
  },
  {
   "cell_type": "code",
   "execution_count": 45,
   "metadata": {},
   "outputs": [
    {
     "name": "stdout",
     "output_type": "stream",
     "text": [
      "Train score is: 0.9989088340549931\n",
      "Test score is: 0.9989363949914616\n"
     ]
    }
   ],
   "source": [
    "print(\"Train score is:\", clfl.score(X_train, y_train)) \n",
    "print(\"Test score is:\", clfl.score(X_test, y_test))"
   ]
  },
  {
   "cell_type": "markdown",
   "metadata": {},
   "source": [
    "# Compare accuracy of l1 and l2\n",
    "### Accuracy of training data using L1 regulariation is slighly less that L2 regularization (at higher decimal level) but testing accuracy of L1 regularization is slightly more than L2 regularization (at higher decimal level). There is no significant or even considerable difference at all in this case."
   ]
  },
  {
   "cell_type": "markdown",
   "metadata": {},
   "source": [
    "# Plot feature weights"
   ]
  },
  {
   "cell_type": "code",
   "execution_count": 47,
   "metadata": {},
   "outputs": [
    {
     "data": {
      "text/plain": [
       "['service',\n",
       " 'land',\n",
       " 'is_host_login',\n",
       " 'srv_diff_host_rate',\n",
       " 'protocol_type',\n",
       " 'same_srv_rate',\n",
       " 'num_failed_logins',\n",
       " 'dst_bytes',\n",
       " 'serror_rate',\n",
       " 'diff_srv_rate',\n",
       " 'is_guest_login',\n",
       " 'srv_serror_rate',\n",
       " 'num_outbound_cmds',\n",
       " 'num_compromised',\n",
       " 'root_shell',\n",
       " 'duration',\n",
       " 'count',\n",
       " 'rerror_rate',\n",
       " 'srv_rerror_rate',\n",
       " 'flag',\n",
       " 'num_file_creations',\n",
       " 'hot',\n",
       " 'num_access_files',\n",
       " 'su_attempted',\n",
       " 'src_bytes',\n",
       " 'urgent',\n",
       " 'logged_in',\n",
       " 'num_shells',\n",
       " 'srv_count',\n",
       " 'num_root',\n",
       " 'wrong_fragment']"
      ]
     },
     "execution_count": 47,
     "metadata": {},
     "output_type": "execute_result"
    }
   ],
   "source": [
    "feature_names = []\n",
    "for i in sorted_index:\n",
    "    feature_names.append(columns[i])\n",
    "feature_names"
   ]
  },
  {
   "cell_type": "code",
   "execution_count": null,
   "metadata": {},
   "outputs": [],
   "source": [
    "for i in top_10:\n",
    "    print(columns[i])"
   ]
  },
  {
   "cell_type": "code",
   "execution_count": 51,
   "metadata": {},
   "outputs": [
    {
     "data": {
      "image/png": "[encoded data removed]",
      "text/plain": [
       "<Figure size 3600x1440 with 1 Axes>"
      ]
     },
     "metadata": {
      "needs_background": "light"
     },
     "output_type": "display_data"
    },
    {
     "name": "stdout",
     "output_type": "stream",
     "text": [
      "please zoom in to see labels\n"
     ]
    }
   ],
   "source": [
    "f, ax = plt.subplots(figsize=(50,20))\n",
    "plt.rcParams.update({'font.size': 12})\n",
    "plt.bar(feature_names, abs_weights[sorted_index], width = 0.8)\n",
    "plt.xlabel('feature name')\n",
    "plt.ylabel('absolute weights')\n",
    "plt.show()\n",
    "print(\"please zoom in to see labels\")"
   ]
  },
  {
   "cell_type": "code",
   "execution_count": 80,
   "metadata": {},
   "outputs": [],
   "source": [
    "train_accuracy = []\n",
    "test_accuracy = []\n",
    "reg_penalty = []"
   ]
  },
  {
   "cell_type": "markdown",
   "metadata": {},
   "source": [
    "# L2 regularization with penalty of 0.001"
   ]
  },
  {
   "cell_type": "code",
   "execution_count": 81,
   "metadata": {},
   "outputs": [
    {
     "name": "stdout",
     "output_type": "stream",
     "text": [
      "Training time:  12.356957197189331\n"
     ]
    }
   ],
   "source": [
    "clfl = LogisticRegression(C = 0.001, penalty = 'l2', max_iter = 169) \n",
    "start_time = time.time() \n",
    "clfl.fit(X_train, y_train.values.ravel()) \n",
    "end_time = time.time() \n",
    "print(\"Training time: \", end_time-start_time) "
   ]
  },
  {
   "cell_type": "code",
   "execution_count": 82,
   "metadata": {},
   "outputs": [
    {
     "name": "stdout",
     "output_type": "stream",
     "text": [
      "Testing time:  0.041845083236694336\n"
     ]
    }
   ],
   "source": [
    "start_time = time.time() \n",
    "y_test_pred = clfl.predict(X_test) \n",
    "end_time = time.time() \n",
    "print(\"Testing time: \", end_time-start_time)"
   ]
  },
  {
   "cell_type": "code",
   "execution_count": 83,
   "metadata": {},
   "outputs": [],
   "source": [
    "train_accuracy.append(clfl.score(X_train, y_train))\n",
    "test_accuracy.append(clfl.score(X_test, y_test))\n",
    "reg_penalty.append(0.001)"
   ]
  },
  {
   "cell_type": "code",
   "execution_count": 84,
   "metadata": {},
   "outputs": [
    {
     "name": "stdout",
     "output_type": "stream",
     "text": [
      "Train score is: 0.9965366454149595\n",
      "Test score is: 0.9965182757350052\n"
     ]
    }
   ],
   "source": [
    "print(\"Train score is:\", train_accuracy[0]) \n",
    "print(\"Test score is:\", test_accuracy[0])"
   ]
  },
  {
   "cell_type": "markdown",
   "metadata": {},
   "source": [
    "# L2 regularization with penalty of 0.01"
   ]
  },
  {
   "cell_type": "code",
   "execution_count": 85,
   "metadata": {},
   "outputs": [
    {
     "name": "stdout",
     "output_type": "stream",
     "text": [
      "Training time:  17.64714288711548\n"
     ]
    }
   ],
   "source": [
    "clfl = LogisticRegression(C = 0.01, penalty = 'l2', max_iter = 169) \n",
    "start_time = time.time()  \n",
    "clfl.fit(X_train, y_train.values.ravel()) \n",
    "end_time = time.time() \n",
    "print(\"Training time: \", end_time-start_time) "
   ]
  },
  {
   "cell_type": "code",
   "execution_count": 86,
   "metadata": {},
   "outputs": [
    {
     "name": "stdout",
     "output_type": "stream",
     "text": [
      "Testing time:  0.048393964767456055\n"
     ]
    }
   ],
   "source": [
    "start_time = time.time() \n",
    "y_test_pred = clfl.predict(X_test) \n",
    "end_time = time.time() \n",
    "print(\"Testing time: \", end_time-start_time)"
   ]
  },
  {
   "cell_type": "code",
   "execution_count": 87,
   "metadata": {},
   "outputs": [],
   "source": [
    "train_accuracy.append(clfl.score(X_train, y_train))\n",
    "test_accuracy.append(clfl.score(X_test, y_test))\n",
    "reg_penalty.append(0.01)"
   ]
  },
  {
   "cell_type": "code",
   "execution_count": 88,
   "metadata": {},
   "outputs": [
    {
     "name": "stdout",
     "output_type": "stream",
     "text": [
      "Train score is: 0.9988371274061281\n",
      "Test score is: 0.9988680058018531\n"
     ]
    }
   ],
   "source": [
    "print(\"Train score is:\", train_accuracy[1]) \n",
    "print(\"Test score is:\", test_accuracy[1])"
   ]
  },
  {
   "cell_type": "markdown",
   "metadata": {},
   "source": [
    "# L2 regularization with penalty of 0.1"
   ]
  },
  {
   "cell_type": "code",
   "execution_count": 89,
   "metadata": {},
   "outputs": [
    {
     "name": "stdout",
     "output_type": "stream",
     "text": [
      "Training time:  30.684125900268555\n"
     ]
    }
   ],
   "source": [
    "clfl = LogisticRegression(C = 0.1, penalty = 'l2', max_iter = 169) \n",
    "start_time = time.time() \n",
    "clfl.fit(X_train, y_train.values.ravel()) \n",
    "end_time = time.time() \n",
    "print(\"Training time: \", end_time-start_time) "
   ]
  },
  {
   "cell_type": "code",
   "execution_count": 90,
   "metadata": {},
   "outputs": [
    {
     "name": "stdout",
     "output_type": "stream",
     "text": [
      "Testing time:  0.05031919479370117\n"
     ]
    }
   ],
   "source": [
    "start_time = time.time() \n",
    "y_test_pred = clfl.predict(X_test) \n",
    "end_time = time.time() \n",
    "print(\"Testing time: \", end_time-start_time)"
   ]
  },
  {
   "cell_type": "code",
   "execution_count": 91,
   "metadata": {},
   "outputs": [],
   "source": [
    "train_accuracy.append(clfl.score(X_train, y_train))\n",
    "test_accuracy.append(clfl.score(X_test, y_test))\n",
    "reg_penalty.append(0.1)"
   ]
  },
  {
   "cell_type": "code",
   "execution_count": 92,
   "metadata": {},
   "outputs": [
    {
     "name": "stdout",
     "output_type": "stream",
     "text": [
      "Train score is: 0.998929759126904\n",
      "Test score is: 0.9989619133457931\n"
     ]
    }
   ],
   "source": [
    "print(\"Train score is:\", train_accuracy[2]) \n",
    "print(\"Test score is:\", test_accuracy[2])"
   ]
  },
  {
   "cell_type": "markdown",
   "metadata": {},
   "source": [
    "# L2 regularization with penalty of 1.0"
   ]
  },
  {
   "cell_type": "code",
   "execution_count": 93,
   "metadata": {},
   "outputs": [
    {
     "name": "stdout",
     "output_type": "stream",
     "text": [
      "Training time:  59.21329188346863\n"
     ]
    }
   ],
   "source": [
    "clfl = LogisticRegression(C = 1.0, penalty = 'l2', max_iter = 169) \n",
    "start_time = time.time() \n",
    "clfl.fit(X_train, y_train.values.ravel()) \n",
    "end_time = time.time() \n",
    "print(\"Training time: \", end_time-start_time) "
   ]
  },
  {
   "cell_type": "code",
   "execution_count": 94,
   "metadata": {},
   "outputs": [
    {
     "name": "stdout",
     "output_type": "stream",
     "text": [
      "Testing time:  0.04808688163757324\n"
     ]
    }
   ],
   "source": [
    "start_time = time.time() \n",
    "y_test_pred = clfl.predict(X_test) \n",
    "end_time = time.time() \n",
    "print(\"Testing time: \", end_time-start_time)"
   ]
  },
  {
   "cell_type": "code",
   "execution_count": 95,
   "metadata": {},
   "outputs": [],
   "source": [
    "train_accuracy.append(clfl.score(X_train, y_train))\n",
    "test_accuracy.append(clfl.score(X_test, y_test))\n",
    "reg_penalty.append(1.0)"
   ]
  },
  {
   "cell_type": "code",
   "execution_count": 96,
   "metadata": {},
   "outputs": [
    {
     "name": "stdout",
     "output_type": "stream",
     "text": [
      "Train score is: 0.9989088340549931\n",
      "Test score is: 0.9989363949914616\n"
     ]
    }
   ],
   "source": [
    "print(\"Train score is:\", train_accuracy[3]) \n",
    "print(\"Test score is:\", test_accuracy[3])"
   ]
  },
  {
   "cell_type": "markdown",
   "metadata": {},
   "source": [
    "# L2 regularization with penalty of 10.0"
   ]
  },
  {
   "cell_type": "code",
   "execution_count": 104,
   "metadata": {},
   "outputs": [
    {
     "name": "stdout",
     "output_type": "stream",
     "text": [
      "Training time:  114.93280005455017\n"
     ]
    }
   ],
   "source": [
    "clfl = LogisticRegression(C = 10.0, penalty = 'l2', max_iter = 1000) \n",
    "start_time = time.time()\n",
    "clfl.fit(X_train, y_train.values.ravel()) \n",
    "end_time = time.time() \n",
    "print(\"Training time: \", end_time-start_time) "
   ]
  },
  {
   "cell_type": "code",
   "execution_count": 105,
   "metadata": {},
   "outputs": [
    {
     "name": "stdout",
     "output_type": "stream",
     "text": [
      "Testing time:  0.05279994010925293\n"
     ]
    }
   ],
   "source": [
    "start_time = time.time() \n",
    "y_test_pred = clfl.predict(X_test) \n",
    "end_time = time.time() \n",
    "print(\"Testing time: \", end_time-start_time)"
   ]
  },
  {
   "cell_type": "code",
   "execution_count": 106,
   "metadata": {},
   "outputs": [
    {
     "data": {
      "text/plain": [
       "10.0"
      ]
     },
     "execution_count": 106,
     "metadata": {},
     "output_type": "execute_result"
    }
   ],
   "source": [
    "train_accuracy.pop()\n",
    "test_accuracy.pop()\n",
    "reg_penalty.pop()"
   ]
  },
  {
   "cell_type": "code",
   "execution_count": 107,
   "metadata": {},
   "outputs": [],
   "source": [
    "train_accuracy.append(clfl.score(X_train, y_train))\n",
    "test_accuracy.append(clfl.score(X_test, y_test))\n",
    "reg_penalty.append(10.0)"
   ]
  },
  {
   "cell_type": "code",
   "execution_count": 108,
   "metadata": {},
   "outputs": [
    {
     "name": "stdout",
     "output_type": "stream",
     "text": [
      "Train score is: 0.998907813319778\n",
      "Test score is: 0.9989414986623278\n"
     ]
    }
   ],
   "source": [
    "print(\"Train score is:\", train_accuracy[4]) \n",
    "print(\"Test score is:\", test_accuracy[4])"
   ]
  },
  {
   "cell_type": "markdown",
   "metadata": {},
   "source": [
    "<br>\n",
    "<hr>\n",
    "<br>"
   ]
  },
  {
   "cell_type": "markdown",
   "metadata": {},
   "source": [
    "# Plotting regularization penalities vs training and testing accuracies"
   ]
  },
  {
   "cell_type": "code",
   "execution_count": 109,
   "metadata": {},
   "outputs": [
    {
     "data": {
      "image/png": "[encoded data removed]",
      "text/plain": [
       "<Figure size 432x288 with 1 Axes>"
      ]
     },
     "metadata": {
      "needs_background": "light"
     },
     "output_type": "display_data"
    }
   ],
   "source": [
    "x = np.arange(len(reg_penalty))  # the label locations\n",
    "width = 0.35  # the width of the bars\n",
    "fig, ax = plt.subplots()\n",
    "rects1 = ax.bar(x - width/2, train_accuracy, width, label='training_accuracy')\n",
    "rects2 = ax.bar(x + width/2, test_accuracy, width, label='testing_accuracy')\n",
    "ax.set_ylabel('Scores')\n",
    "ax.set_xlabel('Regularization Penalty')\n",
    "ax.set_title('Scores by group and gender')\n",
    "ax.set_xticks(x)\n",
    "ax.set_xticklabels(reg_penalty)\n",
    "ax.legend()\n",
    "\n",
    "plt.yticks(np.arange(1, step=0.1111))\n",
    "fig.tight_layout()\n",
    "\n",
    "plt.show()"
   ]
  },
  {
   "cell_type": "code",
   "execution_count": 110,
   "metadata": {},
   "outputs": [
    {
     "data": {
      "text/plain": [
       "[0.9965366454149595,\n",
       " 0.9988371274061281,\n",
       " 0.998929759126904,\n",
       " 0.9989088340549931,\n",
       " 0.998907813319778]"
      ]
     },
     "execution_count": 110,
     "metadata": {},
     "output_type": "execute_result"
    }
   ],
   "source": [
    "train_accuracy"
   ]
  },
  {
   "cell_type": "code",
   "execution_count": 111,
   "metadata": {},
   "outputs": [
    {
     "data": {
      "text/plain": [
       "[0.9965182757350052,\n",
       " 0.9988680058018531,\n",
       " 0.9989619133457931,\n",
       " 0.9989363949914616,\n",
       " 0.9989414986623278]"
      ]
     },
     "execution_count": 111,
     "metadata": {},
     "output_type": "execute_result"
    }
   ],
   "source": [
    "test_accuracy"
   ]
  },
  {
   "cell_type": "code",
   "execution_count": 112,
   "metadata": {},
   "outputs": [
    {
     "data": {
      "text/plain": [
       "[0.001, 0.01, 0.1, 1.0, 10.0]"
      ]
     },
     "execution_count": 112,
     "metadata": {},
     "output_type": "execute_result"
    }
   ],
   "source": [
    "reg_penalty"
   ]
  },
  {
   "cell_type": "markdown",
   "metadata": {},
   "source": [
    "### As we can see that training and testing accuracies are so close that we can even identify in the graph.The training accuracy increases when regularization penalty increases from 0.001 to 0.1 then it starts decreasing.\n",
    "### Testing accurwacy increases  when regularization penalty increases from 0.001 to 0.1 and then decreses for 1.0 and then again increase slighly for 10"
   ]
  },
  {
   "cell_type": "markdown",
   "metadata": {},
   "source": [
    "Major Reference: GeeksforGeeks"
   ]
  }
 ],
 "metadata": {
  "kernelspec": {
   "display_name": "Python 3",
   "language": "python",
   "name": "python3"
  },
  "language_info": {
   "codemirror_mode": {
    "name": "ipython",
    "version": 3
   },
   "file_extension": ".py",
   "mimetype": "text/x-python",
   "name": "python",
   "nbconvert_exporter": "python",
   "pygments_lexer": "ipython3",
   "version": "3.8.5"
  }
 },
 "nbformat": 4,
 "nbformat_minor": 4
}
