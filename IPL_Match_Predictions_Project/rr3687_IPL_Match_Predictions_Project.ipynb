{
 "cells": [
  {
   "cell_type": "markdown",
   "metadata": {
    "id": "deQNulMrT_fi"
   },
   "source": [
    "# Import Necessary Libraries"
   ]
  },
  {
   "cell_type": "code",
   "execution_count": 1,
   "metadata": {
    "colab": {
     "base_uri": "https://localhost:8080/",
     "height": 35
    },
    "id": "p0AuT36T3Eds",
    "outputId": "3e3229fd-f9d4-4aec-ffcf-db49465b6652"
   },
   "outputs": [],
   "source": [
    "# Importing Necessary Libraries\n",
    "import pandas as pd\n",
    "import numpy as np"
   ]
  },
  {
   "cell_type": "code",
   "execution_count": 2,
   "metadata": {
    "colab": {
     "base_uri": "https://localhost:8080/"
    },
    "id": "CHAMX3Kh3LfY",
    "outputId": "1af1fe8b-c599-4326-c150-6c7376956daf"
   },
   "outputs": [
    {
     "name": "stdout",
     "output_type": "stream",
     "text": [
      "Dataset successfully Imported of Shape : (76014, 15)\n"
     ]
    }
   ],
   "source": [
    "# Importing dataset\n",
    "data = pd.read_csv('data.csv')\n",
    "print(f\"Dataset successfully Imported of Shape : {data.shape}\")"
   ]
  },
  {
   "cell_type": "markdown",
   "metadata": {
    "id": "J7CSd3bM4U8S"
   },
   "source": [
    "# Exploratory Data Analysis"
   ]
  },
  {
   "cell_type": "code",
   "execution_count": 3,
   "metadata": {
    "colab": {
     "base_uri": "https://localhost:8080/",
     "height": 306
    },
    "id": "XobBp7D74Pb0",
    "outputId": "32c28941-a7b8-486f-8cc9-8f7a8bf512df"
   },
   "outputs": [
    {
     "data": {
      "text/html": [
       "<div>\n",
       "<style scoped>\n",
       "    .dataframe tbody tr th:only-of-type {\n",
       "        vertical-align: middle;\n",
       "    }\n",
       "\n",
       "    .dataframe tbody tr th {\n",
       "        vertical-align: top;\n",
       "    }\n",
       "\n",
       "    .dataframe thead th {\n",
       "        text-align: right;\n",
       "    }\n",
       "</style>\n",
       "<table border=\"1\" class=\"dataframe\">\n",
       "  <thead>\n",
       "    <tr style=\"text-align: right;\">\n",
       "      <th></th>\n",
       "      <th>mid</th>\n",
       "      <th>date</th>\n",
       "      <th>venue</th>\n",
       "      <th>batting_team</th>\n",
       "      <th>bowling_team</th>\n",
       "      <th>batsman</th>\n",
       "      <th>bowler</th>\n",
       "      <th>runs</th>\n",
       "      <th>wickets</th>\n",
       "      <th>overs</th>\n",
       "      <th>runs_last_5</th>\n",
       "      <th>wickets_last_5</th>\n",
       "      <th>striker</th>\n",
       "      <th>non-striker</th>\n",
       "      <th>total</th>\n",
       "    </tr>\n",
       "  </thead>\n",
       "  <tbody>\n",
       "    <tr>\n",
       "      <th>0</th>\n",
       "      <td>1</td>\n",
       "      <td>2008-04-18</td>\n",
       "      <td>M Chinnaswamy Stadium</td>\n",
       "      <td>Kolkata Knight Riders</td>\n",
       "      <td>Royal Challengers Bangalore</td>\n",
       "      <td>SC Ganguly</td>\n",
       "      <td>P Kumar</td>\n",
       "      <td>1</td>\n",
       "      <td>0</td>\n",
       "      <td>0.1</td>\n",
       "      <td>1</td>\n",
       "      <td>0</td>\n",
       "      <td>0</td>\n",
       "      <td>0</td>\n",
       "      <td>222</td>\n",
       "    </tr>\n",
       "    <tr>\n",
       "      <th>1</th>\n",
       "      <td>1</td>\n",
       "      <td>2008-04-18</td>\n",
       "      <td>M Chinnaswamy Stadium</td>\n",
       "      <td>Kolkata Knight Riders</td>\n",
       "      <td>Royal Challengers Bangalore</td>\n",
       "      <td>BB McCullum</td>\n",
       "      <td>P Kumar</td>\n",
       "      <td>1</td>\n",
       "      <td>0</td>\n",
       "      <td>0.2</td>\n",
       "      <td>1</td>\n",
       "      <td>0</td>\n",
       "      <td>0</td>\n",
       "      <td>0</td>\n",
       "      <td>222</td>\n",
       "    </tr>\n",
       "    <tr>\n",
       "      <th>2</th>\n",
       "      <td>1</td>\n",
       "      <td>2008-04-18</td>\n",
       "      <td>M Chinnaswamy Stadium</td>\n",
       "      <td>Kolkata Knight Riders</td>\n",
       "      <td>Royal Challengers Bangalore</td>\n",
       "      <td>BB McCullum</td>\n",
       "      <td>P Kumar</td>\n",
       "      <td>2</td>\n",
       "      <td>0</td>\n",
       "      <td>0.2</td>\n",
       "      <td>2</td>\n",
       "      <td>0</td>\n",
       "      <td>0</td>\n",
       "      <td>0</td>\n",
       "      <td>222</td>\n",
       "    </tr>\n",
       "    <tr>\n",
       "      <th>3</th>\n",
       "      <td>1</td>\n",
       "      <td>2008-04-18</td>\n",
       "      <td>M Chinnaswamy Stadium</td>\n",
       "      <td>Kolkata Knight Riders</td>\n",
       "      <td>Royal Challengers Bangalore</td>\n",
       "      <td>BB McCullum</td>\n",
       "      <td>P Kumar</td>\n",
       "      <td>2</td>\n",
       "      <td>0</td>\n",
       "      <td>0.3</td>\n",
       "      <td>2</td>\n",
       "      <td>0</td>\n",
       "      <td>0</td>\n",
       "      <td>0</td>\n",
       "      <td>222</td>\n",
       "    </tr>\n",
       "    <tr>\n",
       "      <th>4</th>\n",
       "      <td>1</td>\n",
       "      <td>2008-04-18</td>\n",
       "      <td>M Chinnaswamy Stadium</td>\n",
       "      <td>Kolkata Knight Riders</td>\n",
       "      <td>Royal Challengers Bangalore</td>\n",
       "      <td>BB McCullum</td>\n",
       "      <td>P Kumar</td>\n",
       "      <td>2</td>\n",
       "      <td>0</td>\n",
       "      <td>0.4</td>\n",
       "      <td>2</td>\n",
       "      <td>0</td>\n",
       "      <td>0</td>\n",
       "      <td>0</td>\n",
       "      <td>222</td>\n",
       "    </tr>\n",
       "  </tbody>\n",
       "</table>\n",
       "</div>"
      ],
      "text/plain": [
       "   mid        date                  venue           batting_team  \\\n",
       "0    1  2008-04-18  M Chinnaswamy Stadium  Kolkata Knight Riders   \n",
       "1    1  2008-04-18  M Chinnaswamy Stadium  Kolkata Knight Riders   \n",
       "2    1  2008-04-18  M Chinnaswamy Stadium  Kolkata Knight Riders   \n",
       "3    1  2008-04-18  M Chinnaswamy Stadium  Kolkata Knight Riders   \n",
       "4    1  2008-04-18  M Chinnaswamy Stadium  Kolkata Knight Riders   \n",
       "\n",
       "                  bowling_team      batsman   bowler  runs  wickets  overs  \\\n",
       "0  Royal Challengers Bangalore   SC Ganguly  P Kumar     1        0    0.1   \n",
       "1  Royal Challengers Bangalore  BB McCullum  P Kumar     1        0    0.2   \n",
       "2  Royal Challengers Bangalore  BB McCullum  P Kumar     2        0    0.2   \n",
       "3  Royal Challengers Bangalore  BB McCullum  P Kumar     2        0    0.3   \n",
       "4  Royal Challengers Bangalore  BB McCullum  P Kumar     2        0    0.4   \n",
       "\n",
       "   runs_last_5  wickets_last_5  striker  non-striker  total  \n",
       "0            1               0        0            0    222  \n",
       "1            1               0        0            0    222  \n",
       "2            2               0        0            0    222  \n",
       "3            2               0        0            0    222  \n",
       "4            2               0        0            0    222  "
      ]
     },
     "execution_count": 3,
     "metadata": {},
     "output_type": "execute_result"
    }
   ],
   "source": [
    "# First 5 Columns Data\n",
    "data.head()"
   ]
  },
  {
   "cell_type": "code",
   "execution_count": 4,
   "metadata": {
    "colab": {
     "base_uri": "https://localhost:8080/",
     "height": 297
    },
    "id": "dl5XPiHq4aG0",
    "outputId": "5d833c8a-939a-4760-a972-663ba7038058"
   },
   "outputs": [
    {
     "data": {
      "text/html": [
       "<div>\n",
       "<style scoped>\n",
       "    .dataframe tbody tr th:only-of-type {\n",
       "        vertical-align: middle;\n",
       "    }\n",
       "\n",
       "    .dataframe tbody tr th {\n",
       "        vertical-align: top;\n",
       "    }\n",
       "\n",
       "    .dataframe thead th {\n",
       "        text-align: right;\n",
       "    }\n",
       "</style>\n",
       "<table border=\"1\" class=\"dataframe\">\n",
       "  <thead>\n",
       "    <tr style=\"text-align: right;\">\n",
       "      <th></th>\n",
       "      <th>mid</th>\n",
       "      <th>runs</th>\n",
       "      <th>wickets</th>\n",
       "      <th>overs</th>\n",
       "      <th>runs_last_5</th>\n",
       "      <th>wickets_last_5</th>\n",
       "      <th>striker</th>\n",
       "      <th>non-striker</th>\n",
       "      <th>total</th>\n",
       "    </tr>\n",
       "  </thead>\n",
       "  <tbody>\n",
       "    <tr>\n",
       "      <th>count</th>\n",
       "      <td>76014.000000</td>\n",
       "      <td>76014.000000</td>\n",
       "      <td>76014.000000</td>\n",
       "      <td>76014.000000</td>\n",
       "      <td>76014.000000</td>\n",
       "      <td>76014.000000</td>\n",
       "      <td>76014.000000</td>\n",
       "      <td>76014.000000</td>\n",
       "      <td>76014.000000</td>\n",
       "    </tr>\n",
       "    <tr>\n",
       "      <th>mean</th>\n",
       "      <td>308.627740</td>\n",
       "      <td>74.889349</td>\n",
       "      <td>2.415844</td>\n",
       "      <td>9.783068</td>\n",
       "      <td>33.216434</td>\n",
       "      <td>1.120307</td>\n",
       "      <td>24.962283</td>\n",
       "      <td>8.869287</td>\n",
       "      <td>160.901452</td>\n",
       "    </tr>\n",
       "    <tr>\n",
       "      <th>std</th>\n",
       "      <td>178.156878</td>\n",
       "      <td>48.823327</td>\n",
       "      <td>2.015207</td>\n",
       "      <td>5.772587</td>\n",
       "      <td>14.914174</td>\n",
       "      <td>1.053343</td>\n",
       "      <td>20.079752</td>\n",
       "      <td>10.795742</td>\n",
       "      <td>29.246231</td>\n",
       "    </tr>\n",
       "    <tr>\n",
       "      <th>min</th>\n",
       "      <td>1.000000</td>\n",
       "      <td>0.000000</td>\n",
       "      <td>0.000000</td>\n",
       "      <td>0.000000</td>\n",
       "      <td>0.000000</td>\n",
       "      <td>0.000000</td>\n",
       "      <td>0.000000</td>\n",
       "      <td>0.000000</td>\n",
       "      <td>67.000000</td>\n",
       "    </tr>\n",
       "    <tr>\n",
       "      <th>25%</th>\n",
       "      <td>154.000000</td>\n",
       "      <td>34.000000</td>\n",
       "      <td>1.000000</td>\n",
       "      <td>4.600000</td>\n",
       "      <td>24.000000</td>\n",
       "      <td>0.000000</td>\n",
       "      <td>10.000000</td>\n",
       "      <td>1.000000</td>\n",
       "      <td>142.000000</td>\n",
       "    </tr>\n",
       "    <tr>\n",
       "      <th>50%</th>\n",
       "      <td>308.000000</td>\n",
       "      <td>70.000000</td>\n",
       "      <td>2.000000</td>\n",
       "      <td>9.600000</td>\n",
       "      <td>34.000000</td>\n",
       "      <td>1.000000</td>\n",
       "      <td>20.000000</td>\n",
       "      <td>5.000000</td>\n",
       "      <td>162.000000</td>\n",
       "    </tr>\n",
       "    <tr>\n",
       "      <th>75%</th>\n",
       "      <td>463.000000</td>\n",
       "      <td>111.000000</td>\n",
       "      <td>4.000000</td>\n",
       "      <td>14.600000</td>\n",
       "      <td>43.000000</td>\n",
       "      <td>2.000000</td>\n",
       "      <td>35.000000</td>\n",
       "      <td>13.000000</td>\n",
       "      <td>181.000000</td>\n",
       "    </tr>\n",
       "    <tr>\n",
       "      <th>max</th>\n",
       "      <td>617.000000</td>\n",
       "      <td>263.000000</td>\n",
       "      <td>10.000000</td>\n",
       "      <td>19.600000</td>\n",
       "      <td>113.000000</td>\n",
       "      <td>7.000000</td>\n",
       "      <td>175.000000</td>\n",
       "      <td>109.000000</td>\n",
       "      <td>263.000000</td>\n",
       "    </tr>\n",
       "  </tbody>\n",
       "</table>\n",
       "</div>"
      ],
      "text/plain": [
       "                mid          runs       wickets         overs   runs_last_5  \\\n",
       "count  76014.000000  76014.000000  76014.000000  76014.000000  76014.000000   \n",
       "mean     308.627740     74.889349      2.415844      9.783068     33.216434   \n",
       "std      178.156878     48.823327      2.015207      5.772587     14.914174   \n",
       "min        1.000000      0.000000      0.000000      0.000000      0.000000   \n",
       "25%      154.000000     34.000000      1.000000      4.600000     24.000000   \n",
       "50%      308.000000     70.000000      2.000000      9.600000     34.000000   \n",
       "75%      463.000000    111.000000      4.000000     14.600000     43.000000   \n",
       "max      617.000000    263.000000     10.000000     19.600000    113.000000   \n",
       "\n",
       "       wickets_last_5       striker   non-striker         total  \n",
       "count    76014.000000  76014.000000  76014.000000  76014.000000  \n",
       "mean         1.120307     24.962283      8.869287    160.901452  \n",
       "std          1.053343     20.079752     10.795742     29.246231  \n",
       "min          0.000000      0.000000      0.000000     67.000000  \n",
       "25%          0.000000     10.000000      1.000000    142.000000  \n",
       "50%          1.000000     20.000000      5.000000    162.000000  \n",
       "75%          2.000000     35.000000     13.000000    181.000000  \n",
       "max          7.000000    175.000000    109.000000    263.000000  "
      ]
     },
     "execution_count": 4,
     "metadata": {},
     "output_type": "execute_result"
    }
   ],
   "source": [
    "# Describing Numerical Values of the Dataset\n",
    "data.describe()"
   ]
  },
  {
   "cell_type": "code",
   "execution_count": 5,
   "metadata": {
    "colab": {
     "base_uri": "https://localhost:8080/"
    },
    "id": "mPpXimQR4gCc",
    "outputId": "308fced4-9b9d-45f9-81d6-5f04bf29ab54"
   },
   "outputs": [
    {
     "name": "stdout",
     "output_type": "stream",
     "text": [
      "<class 'pandas.core.frame.DataFrame'>\n",
      "RangeIndex: 76014 entries, 0 to 76013\n",
      "Data columns (total 15 columns):\n",
      " #   Column          Non-Null Count  Dtype  \n",
      "---  ------          --------------  -----  \n",
      " 0   mid             76014 non-null  int64  \n",
      " 1   date            76014 non-null  object \n",
      " 2   venue           76014 non-null  object \n",
      " 3   batting_team    76014 non-null  object \n",
      " 4   bowling_team    76014 non-null  object \n",
      " 5   batsman         76014 non-null  object \n",
      " 6   bowler          76014 non-null  object \n",
      " 7   runs            76014 non-null  int64  \n",
      " 8   wickets         76014 non-null  int64  \n",
      " 9   overs           76014 non-null  float64\n",
      " 10  runs_last_5     76014 non-null  int64  \n",
      " 11  wickets_last_5  76014 non-null  int64  \n",
      " 12  striker         76014 non-null  int64  \n",
      " 13  non-striker     76014 non-null  int64  \n",
      " 14  total           76014 non-null  int64  \n",
      "dtypes: float64(1), int64(8), object(6)\n",
      "memory usage: 8.7+ MB\n"
     ]
    }
   ],
   "source": [
    "# Information (not-null count and data type) About Each Column\n",
    "data.info()"
   ]
  },
  {
   "cell_type": "code",
   "execution_count": 6,
   "metadata": {
    "colab": {
     "base_uri": "https://localhost:8080/"
    },
    "id": "YWmwXKCK4huV",
    "outputId": "fcfc81af-4453-4af4-fd1d-41fd983ec002"
   },
   "outputs": [
    {
     "data": {
      "text/plain": [
       "mid               617\n",
       "date              442\n",
       "venue              35\n",
       "batting_team       14\n",
       "bowling_team       14\n",
       "batsman           411\n",
       "bowler            329\n",
       "runs              252\n",
       "wickets            11\n",
       "overs             140\n",
       "runs_last_5       102\n",
       "wickets_last_5      8\n",
       "striker           155\n",
       "non-striker        88\n",
       "total             138\n",
       "dtype: int64"
      ]
     },
     "execution_count": 6,
     "metadata": {},
     "output_type": "execute_result"
    }
   ],
   "source": [
    "# Number of Unique Values in each column\n",
    "data.nunique()"
   ]
  },
  {
   "cell_type": "code",
   "execution_count": 7,
   "metadata": {
    "colab": {
     "base_uri": "https://localhost:8080/"
    },
    "id": "9WvhLdlTaEdt",
    "outputId": "f813d21f-7a66-4ec1-dd23-c0c2b6f540e5"
   },
   "outputs": [
    {
     "data": {
      "text/plain": [
       "mid                 int64\n",
       "date               object\n",
       "venue              object\n",
       "batting_team       object\n",
       "bowling_team       object\n",
       "batsman            object\n",
       "bowler             object\n",
       "runs                int64\n",
       "wickets             int64\n",
       "overs             float64\n",
       "runs_last_5         int64\n",
       "wickets_last_5      int64\n",
       "striker             int64\n",
       "non-striker         int64\n",
       "total               int64\n",
       "dtype: object"
      ]
     },
     "execution_count": 7,
     "metadata": {},
     "output_type": "execute_result"
    }
   ],
   "source": [
    "# Datatypes of all Columns\n",
    "data.dtypes"
   ]
  },
  {
   "cell_type": "markdown",
   "metadata": {
    "id": "dxFkLRRI8RTi"
   },
   "source": [
    "# Data Cleaning"
   ]
  },
  {
   "cell_type": "markdown",
   "metadata": {
    "id": "s0bwc9vT-7Th"
   },
   "source": [
    "#### Removing Irrelevant Data colunms"
   ]
  },
  {
   "cell_type": "code",
   "execution_count": 8,
   "metadata": {
    "colab": {
     "base_uri": "https://localhost:8080/"
    },
    "id": "Hb-QjD1a6tRs",
    "outputId": "bd7e0636-b2b7-4cce-8066-a06d7411261c"
   },
   "outputs": [
    {
     "data": {
      "text/plain": [
       "Index(['mid', 'date', 'venue', 'batting_team', 'bowling_team', 'batsman',\n",
       "       'bowler', 'runs', 'wickets', 'overs', 'runs_last_5', 'wickets_last_5',\n",
       "       'striker', 'non-striker', 'total'],\n",
       "      dtype='object')"
      ]
     },
     "execution_count": 8,
     "metadata": {},
     "output_type": "execute_result"
    }
   ],
   "source": [
    "# Names of all columns\n",
    "data.columns"
   ]
  },
  {
   "cell_type": "markdown",
   "metadata": {
    "id": "kcBf3QuOgzZY"
   },
   "source": [
    "Here, we can see that columns _['mid', 'date', 'venue', 'batsman', 'bowler', 'striker', 'non-striker']_ won't provide any relevant information for our model to train"
   ]
  },
  {
   "cell_type": "code",
   "execution_count": 9,
   "metadata": {
    "colab": {
     "base_uri": "https://localhost:8080/",
     "height": 238
    },
    "id": "0o4-CkhP8W2f",
    "outputId": "34049afd-b8d2-4ef5-9405-94ef2c8a5f23"
   },
   "outputs": [
    {
     "name": "stdout",
     "output_type": "stream",
     "text": [
      "Before Removing Irrelevant Columns : (76014, 15)\n",
      "After Removing Irrelevant Columns : (76014, 8)\n"
     ]
    },
    {
     "data": {
      "text/html": [
       "<div>\n",
       "<style scoped>\n",
       "    .dataframe tbody tr th:only-of-type {\n",
       "        vertical-align: middle;\n",
       "    }\n",
       "\n",
       "    .dataframe tbody tr th {\n",
       "        vertical-align: top;\n",
       "    }\n",
       "\n",
       "    .dataframe thead th {\n",
       "        text-align: right;\n",
       "    }\n",
       "</style>\n",
       "<table border=\"1\" class=\"dataframe\">\n",
       "  <thead>\n",
       "    <tr style=\"text-align: right;\">\n",
       "      <th></th>\n",
       "      <th>batting_team</th>\n",
       "      <th>bowling_team</th>\n",
       "      <th>runs</th>\n",
       "      <th>wickets</th>\n",
       "      <th>overs</th>\n",
       "      <th>runs_last_5</th>\n",
       "      <th>wickets_last_5</th>\n",
       "      <th>total</th>\n",
       "    </tr>\n",
       "  </thead>\n",
       "  <tbody>\n",
       "    <tr>\n",
       "      <th>0</th>\n",
       "      <td>Kolkata Knight Riders</td>\n",
       "      <td>Royal Challengers Bangalore</td>\n",
       "      <td>1</td>\n",
       "      <td>0</td>\n",
       "      <td>0.1</td>\n",
       "      <td>1</td>\n",
       "      <td>0</td>\n",
       "      <td>222</td>\n",
       "    </tr>\n",
       "    <tr>\n",
       "      <th>1</th>\n",
       "      <td>Kolkata Knight Riders</td>\n",
       "      <td>Royal Challengers Bangalore</td>\n",
       "      <td>1</td>\n",
       "      <td>0</td>\n",
       "      <td>0.2</td>\n",
       "      <td>1</td>\n",
       "      <td>0</td>\n",
       "      <td>222</td>\n",
       "    </tr>\n",
       "    <tr>\n",
       "      <th>2</th>\n",
       "      <td>Kolkata Knight Riders</td>\n",
       "      <td>Royal Challengers Bangalore</td>\n",
       "      <td>2</td>\n",
       "      <td>0</td>\n",
       "      <td>0.2</td>\n",
       "      <td>2</td>\n",
       "      <td>0</td>\n",
       "      <td>222</td>\n",
       "    </tr>\n",
       "    <tr>\n",
       "      <th>3</th>\n",
       "      <td>Kolkata Knight Riders</td>\n",
       "      <td>Royal Challengers Bangalore</td>\n",
       "      <td>2</td>\n",
       "      <td>0</td>\n",
       "      <td>0.3</td>\n",
       "      <td>2</td>\n",
       "      <td>0</td>\n",
       "      <td>222</td>\n",
       "    </tr>\n",
       "    <tr>\n",
       "      <th>4</th>\n",
       "      <td>Kolkata Knight Riders</td>\n",
       "      <td>Royal Challengers Bangalore</td>\n",
       "      <td>2</td>\n",
       "      <td>0</td>\n",
       "      <td>0.4</td>\n",
       "      <td>2</td>\n",
       "      <td>0</td>\n",
       "      <td>222</td>\n",
       "    </tr>\n",
       "  </tbody>\n",
       "</table>\n",
       "</div>"
      ],
      "text/plain": [
       "            batting_team                 bowling_team  runs  wickets  overs  \\\n",
       "0  Kolkata Knight Riders  Royal Challengers Bangalore     1        0    0.1   \n",
       "1  Kolkata Knight Riders  Royal Challengers Bangalore     1        0    0.2   \n",
       "2  Kolkata Knight Riders  Royal Challengers Bangalore     2        0    0.2   \n",
       "3  Kolkata Knight Riders  Royal Challengers Bangalore     2        0    0.3   \n",
       "4  Kolkata Knight Riders  Royal Challengers Bangalore     2        0    0.4   \n",
       "\n",
       "   runs_last_5  wickets_last_5  total  \n",
       "0            1               0    222  \n",
       "1            1               0    222  \n",
       "2            2               0    222  \n",
       "3            2               0    222  \n",
       "4            2               0    222  "
      ]
     },
     "execution_count": 9,
     "metadata": {},
     "output_type": "execute_result"
    }
   ],
   "source": [
    "irrelevant = ['mid', 'date', 'venue','batsman', 'bowler', 'striker', 'non-striker']\n",
    "print(f'Before Removing Irrelevant Columns : {data.shape}')\n",
    "data = data.drop(irrelevant, axis=1) # Drop Irrelevant Columns\n",
    "print(f'After Removing Irrelevant Columns : {data.shape}')\n",
    "data.head()"
   ]
  },
  {
   "cell_type": "markdown",
   "metadata": {
    "id": "1h2boQJQ-iQp"
   },
   "source": [
    "#### Keeping only Consistent Teams \n",
    "(teams that never change even in current season)"
   ]
  },
  {
   "cell_type": "code",
   "execution_count": 10,
   "metadata": {
    "id": "J1LFaSI_8rF7"
   },
   "outputs": [],
   "source": [
    "# Define Consistent Teams\n",
    "const_teams = ['Kolkata Knight Riders', 'Chennai Super Kings', 'Rajasthan Royals',\n",
    "              'Mumbai Indians', 'Kings XI Punjab', 'Royal Challengers Bangalore',\n",
    "              'Delhi Daredevils', 'Sunrisers Hyderabad']"
   ]
  },
  {
   "cell_type": "code",
   "execution_count": 11,
   "metadata": {
    "colab": {
     "base_uri": "https://localhost:8080/",
     "height": 306
    },
    "id": "G6r3wXug-z5r",
    "outputId": "a2ce10ac-0e42-427b-96e1-815bcc46dce8"
   },
   "outputs": [
    {
     "name": "stdout",
     "output_type": "stream",
     "text": [
      "Before Removing Inconsistent Teams : (76014, 8)\n",
      "After Removing Irrelevant Columns : (53811, 8)\n",
      "Consistent Teams : \n",
      "['Kolkata Knight Riders' 'Chennai Super Kings' 'Rajasthan Royals'\n",
      " 'Mumbai Indians' 'Kings XI Punjab' 'Royal Challengers Bangalore'\n",
      " 'Delhi Daredevils' 'Sunrisers Hyderabad']\n"
     ]
    },
    {
     "data": {
      "text/html": [
       "<div>\n",
       "<style scoped>\n",
       "    .dataframe tbody tr th:only-of-type {\n",
       "        vertical-align: middle;\n",
       "    }\n",
       "\n",
       "    .dataframe tbody tr th {\n",
       "        vertical-align: top;\n",
       "    }\n",
       "\n",
       "    .dataframe thead th {\n",
       "        text-align: right;\n",
       "    }\n",
       "</style>\n",
       "<table border=\"1\" class=\"dataframe\">\n",
       "  <thead>\n",
       "    <tr style=\"text-align: right;\">\n",
       "      <th></th>\n",
       "      <th>batting_team</th>\n",
       "      <th>bowling_team</th>\n",
       "      <th>runs</th>\n",
       "      <th>wickets</th>\n",
       "      <th>overs</th>\n",
       "      <th>runs_last_5</th>\n",
       "      <th>wickets_last_5</th>\n",
       "      <th>total</th>\n",
       "    </tr>\n",
       "  </thead>\n",
       "  <tbody>\n",
       "    <tr>\n",
       "      <th>0</th>\n",
       "      <td>Kolkata Knight Riders</td>\n",
       "      <td>Royal Challengers Bangalore</td>\n",
       "      <td>1</td>\n",
       "      <td>0</td>\n",
       "      <td>0.1</td>\n",
       "      <td>1</td>\n",
       "      <td>0</td>\n",
       "      <td>222</td>\n",
       "    </tr>\n",
       "    <tr>\n",
       "      <th>1</th>\n",
       "      <td>Kolkata Knight Riders</td>\n",
       "      <td>Royal Challengers Bangalore</td>\n",
       "      <td>1</td>\n",
       "      <td>0</td>\n",
       "      <td>0.2</td>\n",
       "      <td>1</td>\n",
       "      <td>0</td>\n",
       "      <td>222</td>\n",
       "    </tr>\n",
       "    <tr>\n",
       "      <th>2</th>\n",
       "      <td>Kolkata Knight Riders</td>\n",
       "      <td>Royal Challengers Bangalore</td>\n",
       "      <td>2</td>\n",
       "      <td>0</td>\n",
       "      <td>0.2</td>\n",
       "      <td>2</td>\n",
       "      <td>0</td>\n",
       "      <td>222</td>\n",
       "    </tr>\n",
       "    <tr>\n",
       "      <th>3</th>\n",
       "      <td>Kolkata Knight Riders</td>\n",
       "      <td>Royal Challengers Bangalore</td>\n",
       "      <td>2</td>\n",
       "      <td>0</td>\n",
       "      <td>0.3</td>\n",
       "      <td>2</td>\n",
       "      <td>0</td>\n",
       "      <td>222</td>\n",
       "    </tr>\n",
       "    <tr>\n",
       "      <th>4</th>\n",
       "      <td>Kolkata Knight Riders</td>\n",
       "      <td>Royal Challengers Bangalore</td>\n",
       "      <td>2</td>\n",
       "      <td>0</td>\n",
       "      <td>0.4</td>\n",
       "      <td>2</td>\n",
       "      <td>0</td>\n",
       "      <td>222</td>\n",
       "    </tr>\n",
       "  </tbody>\n",
       "</table>\n",
       "</div>"
      ],
      "text/plain": [
       "            batting_team                 bowling_team  runs  wickets  overs  \\\n",
       "0  Kolkata Knight Riders  Royal Challengers Bangalore     1        0    0.1   \n",
       "1  Kolkata Knight Riders  Royal Challengers Bangalore     1        0    0.2   \n",
       "2  Kolkata Knight Riders  Royal Challengers Bangalore     2        0    0.2   \n",
       "3  Kolkata Knight Riders  Royal Challengers Bangalore     2        0    0.3   \n",
       "4  Kolkata Knight Riders  Royal Challengers Bangalore     2        0    0.4   \n",
       "\n",
       "   runs_last_5  wickets_last_5  total  \n",
       "0            1               0    222  \n",
       "1            1               0    222  \n",
       "2            2               0    222  \n",
       "3            2               0    222  \n",
       "4            2               0    222  "
      ]
     },
     "execution_count": 11,
     "metadata": {},
     "output_type": "execute_result"
    }
   ],
   "source": [
    "print(f'Before Removing Inconsistent Teams : {data.shape}')\n",
    "data = data[(data['batting_team'].isin(const_teams)) & (data['bowling_team'].isin(const_teams))]\n",
    "print(f'After Removing Irrelevant Columns : {data.shape}')\n",
    "print(f\"Consistent Teams : \\n{data['batting_team'].unique()}\")\n",
    "data.head()"
   ]
  },
  {
   "cell_type": "markdown",
   "metadata": {
    "id": "DeyQw7ipA1-r"
   },
   "source": [
    "#### Remove First 5 Overs of every match"
   ]
  },
  {
   "cell_type": "code",
   "execution_count": 12,
   "metadata": {
    "colab": {
     "base_uri": "https://localhost:8080/",
     "height": 238
    },
    "id": "A6zO88dj_5Q7",
    "outputId": "57222977-d7d5-4535-9c02-e37e74647e0a"
   },
   "outputs": [
    {
     "name": "stdout",
     "output_type": "stream",
     "text": [
      "Before Removing Overs : (53811, 8)\n",
      "After Removing Overs : (40108, 8)\n"
     ]
    },
    {
     "data": {
      "text/html": [
       "<div>\n",
       "<style scoped>\n",
       "    .dataframe tbody tr th:only-of-type {\n",
       "        vertical-align: middle;\n",
       "    }\n",
       "\n",
       "    .dataframe tbody tr th {\n",
       "        vertical-align: top;\n",
       "    }\n",
       "\n",
       "    .dataframe thead th {\n",
       "        text-align: right;\n",
       "    }\n",
       "</style>\n",
       "<table border=\"1\" class=\"dataframe\">\n",
       "  <thead>\n",
       "    <tr style=\"text-align: right;\">\n",
       "      <th></th>\n",
       "      <th>batting_team</th>\n",
       "      <th>bowling_team</th>\n",
       "      <th>runs</th>\n",
       "      <th>wickets</th>\n",
       "      <th>overs</th>\n",
       "      <th>runs_last_5</th>\n",
       "      <th>wickets_last_5</th>\n",
       "      <th>total</th>\n",
       "    </tr>\n",
       "  </thead>\n",
       "  <tbody>\n",
       "    <tr>\n",
       "      <th>32</th>\n",
       "      <td>Kolkata Knight Riders</td>\n",
       "      <td>Royal Challengers Bangalore</td>\n",
       "      <td>61</td>\n",
       "      <td>0</td>\n",
       "      <td>5.1</td>\n",
       "      <td>59</td>\n",
       "      <td>0</td>\n",
       "      <td>222</td>\n",
       "    </tr>\n",
       "    <tr>\n",
       "      <th>33</th>\n",
       "      <td>Kolkata Knight Riders</td>\n",
       "      <td>Royal Challengers Bangalore</td>\n",
       "      <td>61</td>\n",
       "      <td>1</td>\n",
       "      <td>5.2</td>\n",
       "      <td>59</td>\n",
       "      <td>1</td>\n",
       "      <td>222</td>\n",
       "    </tr>\n",
       "    <tr>\n",
       "      <th>34</th>\n",
       "      <td>Kolkata Knight Riders</td>\n",
       "      <td>Royal Challengers Bangalore</td>\n",
       "      <td>61</td>\n",
       "      <td>1</td>\n",
       "      <td>5.3</td>\n",
       "      <td>59</td>\n",
       "      <td>1</td>\n",
       "      <td>222</td>\n",
       "    </tr>\n",
       "    <tr>\n",
       "      <th>35</th>\n",
       "      <td>Kolkata Knight Riders</td>\n",
       "      <td>Royal Challengers Bangalore</td>\n",
       "      <td>61</td>\n",
       "      <td>1</td>\n",
       "      <td>5.4</td>\n",
       "      <td>59</td>\n",
       "      <td>1</td>\n",
       "      <td>222</td>\n",
       "    </tr>\n",
       "    <tr>\n",
       "      <th>36</th>\n",
       "      <td>Kolkata Knight Riders</td>\n",
       "      <td>Royal Challengers Bangalore</td>\n",
       "      <td>61</td>\n",
       "      <td>1</td>\n",
       "      <td>5.5</td>\n",
       "      <td>58</td>\n",
       "      <td>1</td>\n",
       "      <td>222</td>\n",
       "    </tr>\n",
       "  </tbody>\n",
       "</table>\n",
       "</div>"
      ],
      "text/plain": [
       "             batting_team                 bowling_team  runs  wickets  overs  \\\n",
       "32  Kolkata Knight Riders  Royal Challengers Bangalore    61        0    5.1   \n",
       "33  Kolkata Knight Riders  Royal Challengers Bangalore    61        1    5.2   \n",
       "34  Kolkata Knight Riders  Royal Challengers Bangalore    61        1    5.3   \n",
       "35  Kolkata Knight Riders  Royal Challengers Bangalore    61        1    5.4   \n",
       "36  Kolkata Knight Riders  Royal Challengers Bangalore    61        1    5.5   \n",
       "\n",
       "    runs_last_5  wickets_last_5  total  \n",
       "32           59               0    222  \n",
       "33           59               1    222  \n",
       "34           59               1    222  \n",
       "35           59               1    222  \n",
       "36           58               1    222  "
      ]
     },
     "execution_count": 12,
     "metadata": {},
     "output_type": "execute_result"
    }
   ],
   "source": [
    "print(f'Before Removing Overs : {data.shape}')\n",
    "data = data[data['overs'] >= 5.0]\n",
    "print(f'After Removing Overs : {data.shape}')\n",
    "data.head()"
   ]
  },
  {
   "cell_type": "markdown",
   "metadata": {
    "id": "DaD8s97SnlnO"
   },
   "source": [
    "Plotting a Correlation Matrix of current data"
   ]
  },
  {
   "cell_type": "code",
   "execution_count": 13,
   "metadata": {
    "colab": {
     "base_uri": "https://localhost:8080/",
     "height": 348
    },
    "id": "UDV9JNrZkvZ1",
    "outputId": "f8172e64-0d06-4b92-f9e5-9b6b63481b49"
   },
   "outputs": [
    {
     "data": {
      "text/plain": [
       "<AxesSubplot:>"
      ]
     },
     "execution_count": 13,
     "metadata": {},
     "output_type": "execute_result"
    },
    {
     "data": {
      "image/png": "[encoded data removed]",
      "text/plain": [
       "<Figure size 432x288 with 2 Axes>"
      ]
     },
     "metadata": {
      "needs_background": "light"
     },
     "output_type": "display_data"
    }
   ],
   "source": [
    "from seaborn import heatmap\n",
    "heatmap(data=data.corr(), annot=True)"
   ]
  },
  {
   "cell_type": "markdown",
   "metadata": {
    "id": "9AjtN9yMEmT0"
   },
   "source": [
    "# Data Preprocessing and Encoding"
   ]
  },
  {
   "cell_type": "markdown",
   "metadata": {
    "id": "cGhNAvUxiy2p"
   },
   "source": [
    "#### Performing Label Encoding"
   ]
  },
  {
   "cell_type": "code",
   "execution_count": 14,
   "metadata": {
    "colab": {
     "base_uri": "https://localhost:8080/",
     "height": 204
    },
    "id": "pw2DBRSAB478",
    "outputId": "82325061-4ed7-4c7e-868f-b66dcebed0d7"
   },
   "outputs": [
    {
     "data": {
      "text/html": [
       "<div>\n",
       "<style scoped>\n",
       "    .dataframe tbody tr th:only-of-type {\n",
       "        vertical-align: middle;\n",
       "    }\n",
       "\n",
       "    .dataframe tbody tr th {\n",
       "        vertical-align: top;\n",
       "    }\n",
       "\n",
       "    .dataframe thead th {\n",
       "        text-align: right;\n",
       "    }\n",
       "</style>\n",
       "<table border=\"1\" class=\"dataframe\">\n",
       "  <thead>\n",
       "    <tr style=\"text-align: right;\">\n",
       "      <th></th>\n",
       "      <th>batting_team</th>\n",
       "      <th>bowling_team</th>\n",
       "      <th>runs</th>\n",
       "      <th>wickets</th>\n",
       "      <th>overs</th>\n",
       "      <th>runs_last_5</th>\n",
       "      <th>wickets_last_5</th>\n",
       "      <th>total</th>\n",
       "    </tr>\n",
       "  </thead>\n",
       "  <tbody>\n",
       "    <tr>\n",
       "      <th>32</th>\n",
       "      <td>3</td>\n",
       "      <td>6</td>\n",
       "      <td>61</td>\n",
       "      <td>0</td>\n",
       "      <td>5.1</td>\n",
       "      <td>59</td>\n",
       "      <td>0</td>\n",
       "      <td>222</td>\n",
       "    </tr>\n",
       "    <tr>\n",
       "      <th>33</th>\n",
       "      <td>3</td>\n",
       "      <td>6</td>\n",
       "      <td>61</td>\n",
       "      <td>1</td>\n",
       "      <td>5.2</td>\n",
       "      <td>59</td>\n",
       "      <td>1</td>\n",
       "      <td>222</td>\n",
       "    </tr>\n",
       "    <tr>\n",
       "      <th>34</th>\n",
       "      <td>3</td>\n",
       "      <td>6</td>\n",
       "      <td>61</td>\n",
       "      <td>1</td>\n",
       "      <td>5.3</td>\n",
       "      <td>59</td>\n",
       "      <td>1</td>\n",
       "      <td>222</td>\n",
       "    </tr>\n",
       "    <tr>\n",
       "      <th>35</th>\n",
       "      <td>3</td>\n",
       "      <td>6</td>\n",
       "      <td>61</td>\n",
       "      <td>1</td>\n",
       "      <td>5.4</td>\n",
       "      <td>59</td>\n",
       "      <td>1</td>\n",
       "      <td>222</td>\n",
       "    </tr>\n",
       "    <tr>\n",
       "      <th>36</th>\n",
       "      <td>3</td>\n",
       "      <td>6</td>\n",
       "      <td>61</td>\n",
       "      <td>1</td>\n",
       "      <td>5.5</td>\n",
       "      <td>58</td>\n",
       "      <td>1</td>\n",
       "      <td>222</td>\n",
       "    </tr>\n",
       "    <tr>\n",
       "      <th>...</th>\n",
       "      <td>...</td>\n",
       "      <td>...</td>\n",
       "      <td>...</td>\n",
       "      <td>...</td>\n",
       "      <td>...</td>\n",
       "      <td>...</td>\n",
       "      <td>...</td>\n",
       "      <td>...</td>\n",
       "    </tr>\n",
       "    <tr>\n",
       "      <th>923</th>\n",
       "      <td>0</td>\n",
       "      <td>4</td>\n",
       "      <td>95</td>\n",
       "      <td>2</td>\n",
       "      <td>10.5</td>\n",
       "      <td>42</td>\n",
       "      <td>0</td>\n",
       "      <td>208</td>\n",
       "    </tr>\n",
       "    <tr>\n",
       "      <th>924</th>\n",
       "      <td>0</td>\n",
       "      <td>4</td>\n",
       "      <td>96</td>\n",
       "      <td>2</td>\n",
       "      <td>10.6</td>\n",
       "      <td>43</td>\n",
       "      <td>0</td>\n",
       "      <td>208</td>\n",
       "    </tr>\n",
       "    <tr>\n",
       "      <th>925</th>\n",
       "      <td>0</td>\n",
       "      <td>4</td>\n",
       "      <td>96</td>\n",
       "      <td>2</td>\n",
       "      <td>11.1</td>\n",
       "      <td>42</td>\n",
       "      <td>0</td>\n",
       "      <td>208</td>\n",
       "    </tr>\n",
       "    <tr>\n",
       "      <th>926</th>\n",
       "      <td>0</td>\n",
       "      <td>4</td>\n",
       "      <td>97</td>\n",
       "      <td>2</td>\n",
       "      <td>11.2</td>\n",
       "      <td>42</td>\n",
       "      <td>0</td>\n",
       "      <td>208</td>\n",
       "    </tr>\n",
       "    <tr>\n",
       "      <th>927</th>\n",
       "      <td>0</td>\n",
       "      <td>4</td>\n",
       "      <td>101</td>\n",
       "      <td>2</td>\n",
       "      <td>11.3</td>\n",
       "      <td>46</td>\n",
       "      <td>0</td>\n",
       "      <td>208</td>\n",
       "    </tr>\n",
       "  </tbody>\n",
       "</table>\n",
       "<p>500 rows × 8 columns</p>\n",
       "</div>"
      ],
      "text/plain": [
       "     batting_team  bowling_team  runs  wickets  overs  runs_last_5  \\\n",
       "32              3             6    61        0    5.1           59   \n",
       "33              3             6    61        1    5.2           59   \n",
       "34              3             6    61        1    5.3           59   \n",
       "35              3             6    61        1    5.4           59   \n",
       "36              3             6    61        1    5.5           58   \n",
       "..            ...           ...   ...      ...    ...          ...   \n",
       "923             0             4    95        2   10.5           42   \n",
       "924             0             4    96        2   10.6           43   \n",
       "925             0             4    96        2   11.1           42   \n",
       "926             0             4    97        2   11.2           42   \n",
       "927             0             4   101        2   11.3           46   \n",
       "\n",
       "     wickets_last_5  total  \n",
       "32                0    222  \n",
       "33                1    222  \n",
       "34                1    222  \n",
       "35                1    222  \n",
       "36                1    222  \n",
       "..              ...    ...  \n",
       "923               0    208  \n",
       "924               0    208  \n",
       "925               0    208  \n",
       "926               0    208  \n",
       "927               0    208  \n",
       "\n",
       "[500 rows x 8 columns]"
      ]
     },
     "execution_count": 14,
     "metadata": {},
     "output_type": "execute_result"
    }
   ],
   "source": [
    "from sklearn.preprocessing import LabelEncoder, OneHotEncoder\n",
    "le = LabelEncoder()\n",
    "for col in ['batting_team', 'bowling_team']:\n",
    "    data[col] = le.fit_transform(data[col])\n",
    "data.head(500)"
   ]
  },
  {
   "cell_type": "markdown",
   "metadata": {
    "id": "fOGcIT_kjBbp"
   },
   "source": [
    "#### Performing One Hot Encoding and Column Transformation"
   ]
  },
  {
   "cell_type": "code",
   "execution_count": 15,
   "metadata": {
    "id": "gTBquJ09Fqpr"
   },
   "outputs": [],
   "source": [
    "from sklearn.compose import ColumnTransformer\n",
    "columnTransformer = ColumnTransformer([('encoder', \n",
    "                                        OneHotEncoder(), \n",
    "                                        [0, 1])], \n",
    "                                      remainder='passthrough')"
   ]
  },
  {
   "cell_type": "code",
   "execution_count": 16,
   "metadata": {
    "id": "WHBT1Y68GcJn"
   },
   "outputs": [],
   "source": [
    "data = np.array(columnTransformer.fit_transform(data))"
   ]
  },
  {
   "cell_type": "code",
   "execution_count": 17,
   "metadata": {},
   "outputs": [
    {
     "data": {
      "text/plain": [
       "array([[  0.,   0.,   0., ...,  59.,   0., 222.],\n",
       "       [  0.,   0.,   0., ...,  59.,   1., 222.],\n",
       "       [  0.,   0.,   0., ...,  59.,   1., 222.],\n",
       "       ...,\n",
       "       [  0.,   0.,   0., ...,  28.,   4., 107.],\n",
       "       [  0.,   0.,   0., ...,  24.,   4., 107.],\n",
       "       [  0.,   0.,   0., ...,  23.,   5., 107.]])"
      ]
     },
     "execution_count": 17,
     "metadata": {},
     "output_type": "execute_result"
    }
   ],
   "source": [
    "data"
   ]
  },
  {
   "cell_type": "markdown",
   "metadata": {
    "id": "dtvG6fLUjlPV"
   },
   "source": [
    "Save the Numpy Array in a new DataFrame with transformed columns"
   ]
  },
  {
   "cell_type": "code",
   "execution_count": 18,
   "metadata": {
    "id": "qQavBDKHGia1"
   },
   "outputs": [],
   "source": [
    "cols = ['batting_team_Chennai Super Kings', 'batting_team_Delhi Daredevils', 'batting_team_Kings XI Punjab',\n",
    "              'batting_team_Kolkata Knight Riders', 'batting_team_Mumbai Indians', 'batting_team_Rajasthan Royals',\n",
    "              'batting_team_Royal Challengers Bangalore', 'batting_team_Sunrisers Hyderabad',\n",
    "              'bowling_team_Chennai Super Kings', 'bowling_team_Delhi Daredevils', 'bowling_team_Kings XI Punjab',\n",
    "              'bowling_team_Kolkata Knight Riders', 'bowling_team_Mumbai Indians', 'bowling_team_Rajasthan Royals',\n",
    "              'bowling_team_Royal Challengers Bangalore', 'bowling_team_Sunrisers Hyderabad', 'runs', 'wickets', 'overs',\n",
    "       'runs_last_5', 'wickets_last_5', 'total']\n",
    "df = pd.DataFrame(data, columns=cols)"
   ]
  },
  {
   "cell_type": "code",
   "execution_count": 19,
   "metadata": {
    "colab": {
     "base_uri": "https://localhost:8080/",
     "height": 258
    },
    "id": "M77XEk1VGjxo",
    "outputId": "8cb827ec-ff94-40d7-bab2-43c27e61a1f5"
   },
   "outputs": [
    {
     "data": {
      "text/html": [
       "<div>\n",
       "<style scoped>\n",
       "    .dataframe tbody tr th:only-of-type {\n",
       "        vertical-align: middle;\n",
       "    }\n",
       "\n",
       "    .dataframe tbody tr th {\n",
       "        vertical-align: top;\n",
       "    }\n",
       "\n",
       "    .dataframe thead th {\n",
       "        text-align: right;\n",
       "    }\n",
       "</style>\n",
       "<table border=\"1\" class=\"dataframe\">\n",
       "  <thead>\n",
       "    <tr style=\"text-align: right;\">\n",
       "      <th></th>\n",
       "      <th>batting_team_Chennai Super Kings</th>\n",
       "      <th>batting_team_Delhi Daredevils</th>\n",
       "      <th>batting_team_Kings XI Punjab</th>\n",
       "      <th>batting_team_Kolkata Knight Riders</th>\n",
       "      <th>batting_team_Mumbai Indians</th>\n",
       "      <th>batting_team_Rajasthan Royals</th>\n",
       "      <th>batting_team_Royal Challengers Bangalore</th>\n",
       "      <th>batting_team_Sunrisers Hyderabad</th>\n",
       "      <th>bowling_team_Chennai Super Kings</th>\n",
       "      <th>bowling_team_Delhi Daredevils</th>\n",
       "      <th>...</th>\n",
       "      <th>bowling_team_Mumbai Indians</th>\n",
       "      <th>bowling_team_Rajasthan Royals</th>\n",
       "      <th>bowling_team_Royal Challengers Bangalore</th>\n",
       "      <th>bowling_team_Sunrisers Hyderabad</th>\n",
       "      <th>runs</th>\n",
       "      <th>wickets</th>\n",
       "      <th>overs</th>\n",
       "      <th>runs_last_5</th>\n",
       "      <th>wickets_last_5</th>\n",
       "      <th>total</th>\n",
       "    </tr>\n",
       "  </thead>\n",
       "  <tbody>\n",
       "    <tr>\n",
       "      <th>0</th>\n",
       "      <td>0.0</td>\n",
       "      <td>0.0</td>\n",
       "      <td>0.0</td>\n",
       "      <td>1.0</td>\n",
       "      <td>0.0</td>\n",
       "      <td>0.0</td>\n",
       "      <td>0.0</td>\n",
       "      <td>0.0</td>\n",
       "      <td>0.0</td>\n",
       "      <td>0.0</td>\n",
       "      <td>...</td>\n",
       "      <td>0.0</td>\n",
       "      <td>0.0</td>\n",
       "      <td>1.0</td>\n",
       "      <td>0.0</td>\n",
       "      <td>61.0</td>\n",
       "      <td>0.0</td>\n",
       "      <td>5.1</td>\n",
       "      <td>59.0</td>\n",
       "      <td>0.0</td>\n",
       "      <td>222.0</td>\n",
       "    </tr>\n",
       "    <tr>\n",
       "      <th>1</th>\n",
       "      <td>0.0</td>\n",
       "      <td>0.0</td>\n",
       "      <td>0.0</td>\n",
       "      <td>1.0</td>\n",
       "      <td>0.0</td>\n",
       "      <td>0.0</td>\n",
       "      <td>0.0</td>\n",
       "      <td>0.0</td>\n",
       "      <td>0.0</td>\n",
       "      <td>0.0</td>\n",
       "      <td>...</td>\n",
       "      <td>0.0</td>\n",
       "      <td>0.0</td>\n",
       "      <td>1.0</td>\n",
       "      <td>0.0</td>\n",
       "      <td>61.0</td>\n",
       "      <td>1.0</td>\n",
       "      <td>5.2</td>\n",
       "      <td>59.0</td>\n",
       "      <td>1.0</td>\n",
       "      <td>222.0</td>\n",
       "    </tr>\n",
       "    <tr>\n",
       "      <th>2</th>\n",
       "      <td>0.0</td>\n",
       "      <td>0.0</td>\n",
       "      <td>0.0</td>\n",
       "      <td>1.0</td>\n",
       "      <td>0.0</td>\n",
       "      <td>0.0</td>\n",
       "      <td>0.0</td>\n",
       "      <td>0.0</td>\n",
       "      <td>0.0</td>\n",
       "      <td>0.0</td>\n",
       "      <td>...</td>\n",
       "      <td>0.0</td>\n",
       "      <td>0.0</td>\n",
       "      <td>1.0</td>\n",
       "      <td>0.0</td>\n",
       "      <td>61.0</td>\n",
       "      <td>1.0</td>\n",
       "      <td>5.3</td>\n",
       "      <td>59.0</td>\n",
       "      <td>1.0</td>\n",
       "      <td>222.0</td>\n",
       "    </tr>\n",
       "    <tr>\n",
       "      <th>3</th>\n",
       "      <td>0.0</td>\n",
       "      <td>0.0</td>\n",
       "      <td>0.0</td>\n",
       "      <td>1.0</td>\n",
       "      <td>0.0</td>\n",
       "      <td>0.0</td>\n",
       "      <td>0.0</td>\n",
       "      <td>0.0</td>\n",
       "      <td>0.0</td>\n",
       "      <td>0.0</td>\n",
       "      <td>...</td>\n",
       "      <td>0.0</td>\n",
       "      <td>0.0</td>\n",
       "      <td>1.0</td>\n",
       "      <td>0.0</td>\n",
       "      <td>61.0</td>\n",
       "      <td>1.0</td>\n",
       "      <td>5.4</td>\n",
       "      <td>59.0</td>\n",
       "      <td>1.0</td>\n",
       "      <td>222.0</td>\n",
       "    </tr>\n",
       "    <tr>\n",
       "      <th>4</th>\n",
       "      <td>0.0</td>\n",
       "      <td>0.0</td>\n",
       "      <td>0.0</td>\n",
       "      <td>1.0</td>\n",
       "      <td>0.0</td>\n",
       "      <td>0.0</td>\n",
       "      <td>0.0</td>\n",
       "      <td>0.0</td>\n",
       "      <td>0.0</td>\n",
       "      <td>0.0</td>\n",
       "      <td>...</td>\n",
       "      <td>0.0</td>\n",
       "      <td>0.0</td>\n",
       "      <td>1.0</td>\n",
       "      <td>0.0</td>\n",
       "      <td>61.0</td>\n",
       "      <td>1.0</td>\n",
       "      <td>5.5</td>\n",
       "      <td>58.0</td>\n",
       "      <td>1.0</td>\n",
       "      <td>222.0</td>\n",
       "    </tr>\n",
       "  </tbody>\n",
       "</table>\n",
       "<p>5 rows × 22 columns</p>\n",
       "</div>"
      ],
      "text/plain": [
       "   batting_team_Chennai Super Kings  batting_team_Delhi Daredevils  \\\n",
       "0                               0.0                            0.0   \n",
       "1                               0.0                            0.0   \n",
       "2                               0.0                            0.0   \n",
       "3                               0.0                            0.0   \n",
       "4                               0.0                            0.0   \n",
       "\n",
       "   batting_team_Kings XI Punjab  batting_team_Kolkata Knight Riders  \\\n",
       "0                           0.0                                 1.0   \n",
       "1                           0.0                                 1.0   \n",
       "2                           0.0                                 1.0   \n",
       "3                           0.0                                 1.0   \n",
       "4                           0.0                                 1.0   \n",
       "\n",
       "   batting_team_Mumbai Indians  batting_team_Rajasthan Royals  \\\n",
       "0                          0.0                            0.0   \n",
       "1                          0.0                            0.0   \n",
       "2                          0.0                            0.0   \n",
       "3                          0.0                            0.0   \n",
       "4                          0.0                            0.0   \n",
       "\n",
       "   batting_team_Royal Challengers Bangalore  batting_team_Sunrisers Hyderabad  \\\n",
       "0                                       0.0                               0.0   \n",
       "1                                       0.0                               0.0   \n",
       "2                                       0.0                               0.0   \n",
       "3                                       0.0                               0.0   \n",
       "4                                       0.0                               0.0   \n",
       "\n",
       "   bowling_team_Chennai Super Kings  bowling_team_Delhi Daredevils  ...  \\\n",
       "0                               0.0                            0.0  ...   \n",
       "1                               0.0                            0.0  ...   \n",
       "2                               0.0                            0.0  ...   \n",
       "3                               0.0                            0.0  ...   \n",
       "4                               0.0                            0.0  ...   \n",
       "\n",
       "   bowling_team_Mumbai Indians  bowling_team_Rajasthan Royals  \\\n",
       "0                          0.0                            0.0   \n",
       "1                          0.0                            0.0   \n",
       "2                          0.0                            0.0   \n",
       "3                          0.0                            0.0   \n",
       "4                          0.0                            0.0   \n",
       "\n",
       "   bowling_team_Royal Challengers Bangalore  bowling_team_Sunrisers Hyderabad  \\\n",
       "0                                       1.0                               0.0   \n",
       "1                                       1.0                               0.0   \n",
       "2                                       1.0                               0.0   \n",
       "3                                       1.0                               0.0   \n",
       "4                                       1.0                               0.0   \n",
       "\n",
       "   runs  wickets  overs  runs_last_5  wickets_last_5  total  \n",
       "0  61.0      0.0    5.1         59.0             0.0  222.0  \n",
       "1  61.0      1.0    5.2         59.0             1.0  222.0  \n",
       "2  61.0      1.0    5.3         59.0             1.0  222.0  \n",
       "3  61.0      1.0    5.4         59.0             1.0  222.0  \n",
       "4  61.0      1.0    5.5         58.0             1.0  222.0  \n",
       "\n",
       "[5 rows x 22 columns]"
      ]
     },
     "execution_count": 19,
     "metadata": {},
     "output_type": "execute_result"
    }
   ],
   "source": [
    "# Visualize Encoded Data\n",
    "df.head()"
   ]
  },
  {
   "cell_type": "markdown",
   "metadata": {
    "id": "t6kAENbRH7zF"
   },
   "source": [
    "# Model Building"
   ]
  },
  {
   "cell_type": "markdown",
   "metadata": {
    "id": "4_zfjKeoH-5C"
   },
   "source": [
    "## Prepare Train and Test Splits"
   ]
  },
  {
   "cell_type": "code",
   "execution_count": 20,
   "metadata": {
    "id": "tLK1yUvnGuDw"
   },
   "outputs": [],
   "source": [
    "features = df.drop(['total'], axis=1)\n",
    "labels = df['total']"
   ]
  },
  {
   "cell_type": "code",
   "execution_count": 21,
   "metadata": {},
   "outputs": [
    {
     "data": {
      "text/html": [
       "<div>\n",
       "<style scoped>\n",
       "    .dataframe tbody tr th:only-of-type {\n",
       "        vertical-align: middle;\n",
       "    }\n",
       "\n",
       "    .dataframe tbody tr th {\n",
       "        vertical-align: top;\n",
       "    }\n",
       "\n",
       "    .dataframe thead th {\n",
       "        text-align: right;\n",
       "    }\n",
       "</style>\n",
       "<table border=\"1\" class=\"dataframe\">\n",
       "  <thead>\n",
       "    <tr style=\"text-align: right;\">\n",
       "      <th></th>\n",
       "      <th>batting_team_Chennai Super Kings</th>\n",
       "      <th>batting_team_Delhi Daredevils</th>\n",
       "      <th>batting_team_Kings XI Punjab</th>\n",
       "      <th>batting_team_Kolkata Knight Riders</th>\n",
       "      <th>batting_team_Mumbai Indians</th>\n",
       "      <th>batting_team_Rajasthan Royals</th>\n",
       "      <th>batting_team_Royal Challengers Bangalore</th>\n",
       "      <th>batting_team_Sunrisers Hyderabad</th>\n",
       "      <th>bowling_team_Chennai Super Kings</th>\n",
       "      <th>bowling_team_Delhi Daredevils</th>\n",
       "      <th>...</th>\n",
       "      <th>bowling_team_Kolkata Knight Riders</th>\n",
       "      <th>bowling_team_Mumbai Indians</th>\n",
       "      <th>bowling_team_Rajasthan Royals</th>\n",
       "      <th>bowling_team_Royal Challengers Bangalore</th>\n",
       "      <th>bowling_team_Sunrisers Hyderabad</th>\n",
       "      <th>runs</th>\n",
       "      <th>wickets</th>\n",
       "      <th>overs</th>\n",
       "      <th>runs_last_5</th>\n",
       "      <th>wickets_last_5</th>\n",
       "    </tr>\n",
       "  </thead>\n",
       "  <tbody>\n",
       "    <tr>\n",
       "      <th>0</th>\n",
       "      <td>0.0</td>\n",
       "      <td>0.0</td>\n",
       "      <td>0.0</td>\n",
       "      <td>1.0</td>\n",
       "      <td>0.0</td>\n",
       "      <td>0.0</td>\n",
       "      <td>0.0</td>\n",
       "      <td>0.0</td>\n",
       "      <td>0.0</td>\n",
       "      <td>0.0</td>\n",
       "      <td>...</td>\n",
       "      <td>0.0</td>\n",
       "      <td>0.0</td>\n",
       "      <td>0.0</td>\n",
       "      <td>1.0</td>\n",
       "      <td>0.0</td>\n",
       "      <td>61.0</td>\n",
       "      <td>0.0</td>\n",
       "      <td>5.1</td>\n",
       "      <td>59.0</td>\n",
       "      <td>0.0</td>\n",
       "    </tr>\n",
       "    <tr>\n",
       "      <th>1</th>\n",
       "      <td>0.0</td>\n",
       "      <td>0.0</td>\n",
       "      <td>0.0</td>\n",
       "      <td>1.0</td>\n",
       "      <td>0.0</td>\n",
       "      <td>0.0</td>\n",
       "      <td>0.0</td>\n",
       "      <td>0.0</td>\n",
       "      <td>0.0</td>\n",
       "      <td>0.0</td>\n",
       "      <td>...</td>\n",
       "      <td>0.0</td>\n",
       "      <td>0.0</td>\n",
       "      <td>0.0</td>\n",
       "      <td>1.0</td>\n",
       "      <td>0.0</td>\n",
       "      <td>61.0</td>\n",
       "      <td>1.0</td>\n",
       "      <td>5.2</td>\n",
       "      <td>59.0</td>\n",
       "      <td>1.0</td>\n",
       "    </tr>\n",
       "    <tr>\n",
       "      <th>2</th>\n",
       "      <td>0.0</td>\n",
       "      <td>0.0</td>\n",
       "      <td>0.0</td>\n",
       "      <td>1.0</td>\n",
       "      <td>0.0</td>\n",
       "      <td>0.0</td>\n",
       "      <td>0.0</td>\n",
       "      <td>0.0</td>\n",
       "      <td>0.0</td>\n",
       "      <td>0.0</td>\n",
       "      <td>...</td>\n",
       "      <td>0.0</td>\n",
       "      <td>0.0</td>\n",
       "      <td>0.0</td>\n",
       "      <td>1.0</td>\n",
       "      <td>0.0</td>\n",
       "      <td>61.0</td>\n",
       "      <td>1.0</td>\n",
       "      <td>5.3</td>\n",
       "      <td>59.0</td>\n",
       "      <td>1.0</td>\n",
       "    </tr>\n",
       "    <tr>\n",
       "      <th>3</th>\n",
       "      <td>0.0</td>\n",
       "      <td>0.0</td>\n",
       "      <td>0.0</td>\n",
       "      <td>1.0</td>\n",
       "      <td>0.0</td>\n",
       "      <td>0.0</td>\n",
       "      <td>0.0</td>\n",
       "      <td>0.0</td>\n",
       "      <td>0.0</td>\n",
       "      <td>0.0</td>\n",
       "      <td>...</td>\n",
       "      <td>0.0</td>\n",
       "      <td>0.0</td>\n",
       "      <td>0.0</td>\n",
       "      <td>1.0</td>\n",
       "      <td>0.0</td>\n",
       "      <td>61.0</td>\n",
       "      <td>1.0</td>\n",
       "      <td>5.4</td>\n",
       "      <td>59.0</td>\n",
       "      <td>1.0</td>\n",
       "    </tr>\n",
       "    <tr>\n",
       "      <th>4</th>\n",
       "      <td>0.0</td>\n",
       "      <td>0.0</td>\n",
       "      <td>0.0</td>\n",
       "      <td>1.0</td>\n",
       "      <td>0.0</td>\n",
       "      <td>0.0</td>\n",
       "      <td>0.0</td>\n",
       "      <td>0.0</td>\n",
       "      <td>0.0</td>\n",
       "      <td>0.0</td>\n",
       "      <td>...</td>\n",
       "      <td>0.0</td>\n",
       "      <td>0.0</td>\n",
       "      <td>0.0</td>\n",
       "      <td>1.0</td>\n",
       "      <td>0.0</td>\n",
       "      <td>61.0</td>\n",
       "      <td>1.0</td>\n",
       "      <td>5.5</td>\n",
       "      <td>58.0</td>\n",
       "      <td>1.0</td>\n",
       "    </tr>\n",
       "    <tr>\n",
       "      <th>...</th>\n",
       "      <td>...</td>\n",
       "      <td>...</td>\n",
       "      <td>...</td>\n",
       "      <td>...</td>\n",
       "      <td>...</td>\n",
       "      <td>...</td>\n",
       "      <td>...</td>\n",
       "      <td>...</td>\n",
       "      <td>...</td>\n",
       "      <td>...</td>\n",
       "      <td>...</td>\n",
       "      <td>...</td>\n",
       "      <td>...</td>\n",
       "      <td>...</td>\n",
       "      <td>...</td>\n",
       "      <td>...</td>\n",
       "      <td>...</td>\n",
       "      <td>...</td>\n",
       "      <td>...</td>\n",
       "      <td>...</td>\n",
       "      <td>...</td>\n",
       "    </tr>\n",
       "    <tr>\n",
       "      <th>40103</th>\n",
       "      <td>0.0</td>\n",
       "      <td>0.0</td>\n",
       "      <td>0.0</td>\n",
       "      <td>1.0</td>\n",
       "      <td>0.0</td>\n",
       "      <td>0.0</td>\n",
       "      <td>0.0</td>\n",
       "      <td>0.0</td>\n",
       "      <td>0.0</td>\n",
       "      <td>0.0</td>\n",
       "      <td>...</td>\n",
       "      <td>0.0</td>\n",
       "      <td>1.0</td>\n",
       "      <td>0.0</td>\n",
       "      <td>0.0</td>\n",
       "      <td>0.0</td>\n",
       "      <td>106.0</td>\n",
       "      <td>9.0</td>\n",
       "      <td>18.1</td>\n",
       "      <td>29.0</td>\n",
       "      <td>4.0</td>\n",
       "    </tr>\n",
       "    <tr>\n",
       "      <th>40104</th>\n",
       "      <td>0.0</td>\n",
       "      <td>0.0</td>\n",
       "      <td>0.0</td>\n",
       "      <td>1.0</td>\n",
       "      <td>0.0</td>\n",
       "      <td>0.0</td>\n",
       "      <td>0.0</td>\n",
       "      <td>0.0</td>\n",
       "      <td>0.0</td>\n",
       "      <td>0.0</td>\n",
       "      <td>...</td>\n",
       "      <td>0.0</td>\n",
       "      <td>1.0</td>\n",
       "      <td>0.0</td>\n",
       "      <td>0.0</td>\n",
       "      <td>0.0</td>\n",
       "      <td>107.0</td>\n",
       "      <td>9.0</td>\n",
       "      <td>18.2</td>\n",
       "      <td>29.0</td>\n",
       "      <td>4.0</td>\n",
       "    </tr>\n",
       "    <tr>\n",
       "      <th>40105</th>\n",
       "      <td>0.0</td>\n",
       "      <td>0.0</td>\n",
       "      <td>0.0</td>\n",
       "      <td>1.0</td>\n",
       "      <td>0.0</td>\n",
       "      <td>0.0</td>\n",
       "      <td>0.0</td>\n",
       "      <td>0.0</td>\n",
       "      <td>0.0</td>\n",
       "      <td>0.0</td>\n",
       "      <td>...</td>\n",
       "      <td>0.0</td>\n",
       "      <td>1.0</td>\n",
       "      <td>0.0</td>\n",
       "      <td>0.0</td>\n",
       "      <td>0.0</td>\n",
       "      <td>107.0</td>\n",
       "      <td>9.0</td>\n",
       "      <td>18.3</td>\n",
       "      <td>28.0</td>\n",
       "      <td>4.0</td>\n",
       "    </tr>\n",
       "    <tr>\n",
       "      <th>40106</th>\n",
       "      <td>0.0</td>\n",
       "      <td>0.0</td>\n",
       "      <td>0.0</td>\n",
       "      <td>1.0</td>\n",
       "      <td>0.0</td>\n",
       "      <td>0.0</td>\n",
       "      <td>0.0</td>\n",
       "      <td>0.0</td>\n",
       "      <td>0.0</td>\n",
       "      <td>0.0</td>\n",
       "      <td>...</td>\n",
       "      <td>0.0</td>\n",
       "      <td>1.0</td>\n",
       "      <td>0.0</td>\n",
       "      <td>0.0</td>\n",
       "      <td>0.0</td>\n",
       "      <td>107.0</td>\n",
       "      <td>9.0</td>\n",
       "      <td>18.4</td>\n",
       "      <td>24.0</td>\n",
       "      <td>4.0</td>\n",
       "    </tr>\n",
       "    <tr>\n",
       "      <th>40107</th>\n",
       "      <td>0.0</td>\n",
       "      <td>0.0</td>\n",
       "      <td>0.0</td>\n",
       "      <td>1.0</td>\n",
       "      <td>0.0</td>\n",
       "      <td>0.0</td>\n",
       "      <td>0.0</td>\n",
       "      <td>0.0</td>\n",
       "      <td>0.0</td>\n",
       "      <td>0.0</td>\n",
       "      <td>...</td>\n",
       "      <td>0.0</td>\n",
       "      <td>1.0</td>\n",
       "      <td>0.0</td>\n",
       "      <td>0.0</td>\n",
       "      <td>0.0</td>\n",
       "      <td>107.0</td>\n",
       "      <td>10.0</td>\n",
       "      <td>18.5</td>\n",
       "      <td>23.0</td>\n",
       "      <td>5.0</td>\n",
       "    </tr>\n",
       "  </tbody>\n",
       "</table>\n",
       "<p>40108 rows × 21 columns</p>\n",
       "</div>"
      ],
      "text/plain": [
       "       batting_team_Chennai Super Kings  batting_team_Delhi Daredevils  \\\n",
       "0                                   0.0                            0.0   \n",
       "1                                   0.0                            0.0   \n",
       "2                                   0.0                            0.0   \n",
       "3                                   0.0                            0.0   \n",
       "4                                   0.0                            0.0   \n",
       "...                                 ...                            ...   \n",
       "40103                               0.0                            0.0   \n",
       "40104                               0.0                            0.0   \n",
       "40105                               0.0                            0.0   \n",
       "40106                               0.0                            0.0   \n",
       "40107                               0.0                            0.0   \n",
       "\n",
       "       batting_team_Kings XI Punjab  batting_team_Kolkata Knight Riders  \\\n",
       "0                               0.0                                 1.0   \n",
       "1                               0.0                                 1.0   \n",
       "2                               0.0                                 1.0   \n",
       "3                               0.0                                 1.0   \n",
       "4                               0.0                                 1.0   \n",
       "...                             ...                                 ...   \n",
       "40103                           0.0                                 1.0   \n",
       "40104                           0.0                                 1.0   \n",
       "40105                           0.0                                 1.0   \n",
       "40106                           0.0                                 1.0   \n",
       "40107                           0.0                                 1.0   \n",
       "\n",
       "       batting_team_Mumbai Indians  batting_team_Rajasthan Royals  \\\n",
       "0                              0.0                            0.0   \n",
       "1                              0.0                            0.0   \n",
       "2                              0.0                            0.0   \n",
       "3                              0.0                            0.0   \n",
       "4                              0.0                            0.0   \n",
       "...                            ...                            ...   \n",
       "40103                          0.0                            0.0   \n",
       "40104                          0.0                            0.0   \n",
       "40105                          0.0                            0.0   \n",
       "40106                          0.0                            0.0   \n",
       "40107                          0.0                            0.0   \n",
       "\n",
       "       batting_team_Royal Challengers Bangalore  \\\n",
       "0                                           0.0   \n",
       "1                                           0.0   \n",
       "2                                           0.0   \n",
       "3                                           0.0   \n",
       "4                                           0.0   \n",
       "...                                         ...   \n",
       "40103                                       0.0   \n",
       "40104                                       0.0   \n",
       "40105                                       0.0   \n",
       "40106                                       0.0   \n",
       "40107                                       0.0   \n",
       "\n",
       "       batting_team_Sunrisers Hyderabad  bowling_team_Chennai Super Kings  \\\n",
       "0                                   0.0                               0.0   \n",
       "1                                   0.0                               0.0   \n",
       "2                                   0.0                               0.0   \n",
       "3                                   0.0                               0.0   \n",
       "4                                   0.0                               0.0   \n",
       "...                                 ...                               ...   \n",
       "40103                               0.0                               0.0   \n",
       "40104                               0.0                               0.0   \n",
       "40105                               0.0                               0.0   \n",
       "40106                               0.0                               0.0   \n",
       "40107                               0.0                               0.0   \n",
       "\n",
       "       bowling_team_Delhi Daredevils  ...  bowling_team_Kolkata Knight Riders  \\\n",
       "0                                0.0  ...                                 0.0   \n",
       "1                                0.0  ...                                 0.0   \n",
       "2                                0.0  ...                                 0.0   \n",
       "3                                0.0  ...                                 0.0   \n",
       "4                                0.0  ...                                 0.0   \n",
       "...                              ...  ...                                 ...   \n",
       "40103                            0.0  ...                                 0.0   \n",
       "40104                            0.0  ...                                 0.0   \n",
       "40105                            0.0  ...                                 0.0   \n",
       "40106                            0.0  ...                                 0.0   \n",
       "40107                            0.0  ...                                 0.0   \n",
       "\n",
       "       bowling_team_Mumbai Indians  bowling_team_Rajasthan Royals  \\\n",
       "0                              0.0                            0.0   \n",
       "1                              0.0                            0.0   \n",
       "2                              0.0                            0.0   \n",
       "3                              0.0                            0.0   \n",
       "4                              0.0                            0.0   \n",
       "...                            ...                            ...   \n",
       "40103                          1.0                            0.0   \n",
       "40104                          1.0                            0.0   \n",
       "40105                          1.0                            0.0   \n",
       "40106                          1.0                            0.0   \n",
       "40107                          1.0                            0.0   \n",
       "\n",
       "       bowling_team_Royal Challengers Bangalore  \\\n",
       "0                                           1.0   \n",
       "1                                           1.0   \n",
       "2                                           1.0   \n",
       "3                                           1.0   \n",
       "4                                           1.0   \n",
       "...                                         ...   \n",
       "40103                                       0.0   \n",
       "40104                                       0.0   \n",
       "40105                                       0.0   \n",
       "40106                                       0.0   \n",
       "40107                                       0.0   \n",
       "\n",
       "       bowling_team_Sunrisers Hyderabad   runs  wickets  overs  runs_last_5  \\\n",
       "0                                   0.0   61.0      0.0    5.1         59.0   \n",
       "1                                   0.0   61.0      1.0    5.2         59.0   \n",
       "2                                   0.0   61.0      1.0    5.3         59.0   \n",
       "3                                   0.0   61.0      1.0    5.4         59.0   \n",
       "4                                   0.0   61.0      1.0    5.5         58.0   \n",
       "...                                 ...    ...      ...    ...          ...   \n",
       "40103                               0.0  106.0      9.0   18.1         29.0   \n",
       "40104                               0.0  107.0      9.0   18.2         29.0   \n",
       "40105                               0.0  107.0      9.0   18.3         28.0   \n",
       "40106                               0.0  107.0      9.0   18.4         24.0   \n",
       "40107                               0.0  107.0     10.0   18.5         23.0   \n",
       "\n",
       "       wickets_last_5  \n",
       "0                 0.0  \n",
       "1                 1.0  \n",
       "2                 1.0  \n",
       "3                 1.0  \n",
       "4                 1.0  \n",
       "...               ...  \n",
       "40103             4.0  \n",
       "40104             4.0  \n",
       "40105             4.0  \n",
       "40106             4.0  \n",
       "40107             5.0  \n",
       "\n",
       "[40108 rows x 21 columns]"
      ]
     },
     "execution_count": 21,
     "metadata": {},
     "output_type": "execute_result"
    }
   ],
   "source": [
    "features"
   ]
  },
  {
   "cell_type": "code",
   "execution_count": 22,
   "metadata": {},
   "outputs": [
    {
     "data": {
      "text/plain": [
       "0        222.0\n",
       "1        222.0\n",
       "2        222.0\n",
       "3        222.0\n",
       "4        222.0\n",
       "         ...  \n",
       "40103    107.0\n",
       "40104    107.0\n",
       "40105    107.0\n",
       "40106    107.0\n",
       "40107    107.0\n",
       "Name: total, Length: 40108, dtype: float64"
      ]
     },
     "execution_count": 22,
     "metadata": {},
     "output_type": "execute_result"
    }
   ],
   "source": [
    "labels"
   ]
  },
  {
   "cell_type": "code",
   "execution_count": 23,
   "metadata": {
    "colab": {
     "base_uri": "https://localhost:8080/"
    },
    "id": "yR7cmz0tIhZW",
    "outputId": "b6eec663-81e1-4dae-c12d-a600d6c24a0d"
   },
   "outputs": [
    {
     "name": "stdout",
     "output_type": "stream",
     "text": [
      "Training Set : (32086, 21)\n",
      "Testing Set : (8022, 21)\n"
     ]
    }
   ],
   "source": [
    "# Perform 80 : 20 Train-Test split\n",
    "from sklearn.model_selection import train_test_split\n",
    "train_features, test_features, train_labels, test_labels = train_test_split(features, labels, test_size=0.20, shuffle=True)\n",
    "print(f\"Training Set : {train_features.shape}\\nTesting Set : {test_features.shape}\")"
   ]
  },
  {
   "cell_type": "code",
   "execution_count": 24,
   "metadata": {},
   "outputs": [
    {
     "data": {
      "text/html": [
       "<div>\n",
       "<style scoped>\n",
       "    .dataframe tbody tr th:only-of-type {\n",
       "        vertical-align: middle;\n",
       "    }\n",
       "\n",
       "    .dataframe tbody tr th {\n",
       "        vertical-align: top;\n",
       "    }\n",
       "\n",
       "    .dataframe thead th {\n",
       "        text-align: right;\n",
       "    }\n",
       "</style>\n",
       "<table border=\"1\" class=\"dataframe\">\n",
       "  <thead>\n",
       "    <tr style=\"text-align: right;\">\n",
       "      <th></th>\n",
       "      <th>batting_team_Chennai Super Kings</th>\n",
       "      <th>batting_team_Delhi Daredevils</th>\n",
       "      <th>batting_team_Kings XI Punjab</th>\n",
       "      <th>batting_team_Kolkata Knight Riders</th>\n",
       "      <th>batting_team_Mumbai Indians</th>\n",
       "      <th>batting_team_Rajasthan Royals</th>\n",
       "      <th>batting_team_Royal Challengers Bangalore</th>\n",
       "      <th>batting_team_Sunrisers Hyderabad</th>\n",
       "      <th>bowling_team_Chennai Super Kings</th>\n",
       "      <th>bowling_team_Delhi Daredevils</th>\n",
       "      <th>...</th>\n",
       "      <th>bowling_team_Kolkata Knight Riders</th>\n",
       "      <th>bowling_team_Mumbai Indians</th>\n",
       "      <th>bowling_team_Rajasthan Royals</th>\n",
       "      <th>bowling_team_Royal Challengers Bangalore</th>\n",
       "      <th>bowling_team_Sunrisers Hyderabad</th>\n",
       "      <th>runs</th>\n",
       "      <th>wickets</th>\n",
       "      <th>overs</th>\n",
       "      <th>runs_last_5</th>\n",
       "      <th>wickets_last_5</th>\n",
       "    </tr>\n",
       "  </thead>\n",
       "  <tbody>\n",
       "    <tr>\n",
       "      <th>18303</th>\n",
       "      <td>0.0</td>\n",
       "      <td>0.0</td>\n",
       "      <td>0.0</td>\n",
       "      <td>1.0</td>\n",
       "      <td>0.0</td>\n",
       "      <td>0.0</td>\n",
       "      <td>0.0</td>\n",
       "      <td>0.0</td>\n",
       "      <td>0.0</td>\n",
       "      <td>1.0</td>\n",
       "      <td>...</td>\n",
       "      <td>0.0</td>\n",
       "      <td>0.0</td>\n",
       "      <td>0.0</td>\n",
       "      <td>0.0</td>\n",
       "      <td>0.0</td>\n",
       "      <td>122.0</td>\n",
       "      <td>4.0</td>\n",
       "      <td>17.5</td>\n",
       "      <td>34.0</td>\n",
       "      <td>2.0</td>\n",
       "    </tr>\n",
       "    <tr>\n",
       "      <th>3045</th>\n",
       "      <td>0.0</td>\n",
       "      <td>0.0</td>\n",
       "      <td>1.0</td>\n",
       "      <td>0.0</td>\n",
       "      <td>0.0</td>\n",
       "      <td>0.0</td>\n",
       "      <td>0.0</td>\n",
       "      <td>0.0</td>\n",
       "      <td>0.0</td>\n",
       "      <td>0.0</td>\n",
       "      <td>...</td>\n",
       "      <td>0.0</td>\n",
       "      <td>1.0</td>\n",
       "      <td>0.0</td>\n",
       "      <td>0.0</td>\n",
       "      <td>0.0</td>\n",
       "      <td>139.0</td>\n",
       "      <td>2.0</td>\n",
       "      <td>15.5</td>\n",
       "      <td>46.0</td>\n",
       "      <td>1.0</td>\n",
       "    </tr>\n",
       "    <tr>\n",
       "      <th>33299</th>\n",
       "      <td>0.0</td>\n",
       "      <td>0.0</td>\n",
       "      <td>0.0</td>\n",
       "      <td>0.0</td>\n",
       "      <td>0.0</td>\n",
       "      <td>0.0</td>\n",
       "      <td>0.0</td>\n",
       "      <td>1.0</td>\n",
       "      <td>0.0</td>\n",
       "      <td>1.0</td>\n",
       "      <td>...</td>\n",
       "      <td>0.0</td>\n",
       "      <td>0.0</td>\n",
       "      <td>0.0</td>\n",
       "      <td>0.0</td>\n",
       "      <td>0.0</td>\n",
       "      <td>131.0</td>\n",
       "      <td>4.0</td>\n",
       "      <td>17.6</td>\n",
       "      <td>43.0</td>\n",
       "      <td>1.0</td>\n",
       "    </tr>\n",
       "    <tr>\n",
       "      <th>4337</th>\n",
       "      <td>0.0</td>\n",
       "      <td>0.0</td>\n",
       "      <td>0.0</td>\n",
       "      <td>0.0</td>\n",
       "      <td>0.0</td>\n",
       "      <td>0.0</td>\n",
       "      <td>1.0</td>\n",
       "      <td>0.0</td>\n",
       "      <td>0.0</td>\n",
       "      <td>0.0</td>\n",
       "      <td>...</td>\n",
       "      <td>0.0</td>\n",
       "      <td>0.0</td>\n",
       "      <td>0.0</td>\n",
       "      <td>0.0</td>\n",
       "      <td>0.0</td>\n",
       "      <td>122.0</td>\n",
       "      <td>4.0</td>\n",
       "      <td>15.1</td>\n",
       "      <td>51.0</td>\n",
       "      <td>1.0</td>\n",
       "    </tr>\n",
       "    <tr>\n",
       "      <th>27078</th>\n",
       "      <td>0.0</td>\n",
       "      <td>0.0</td>\n",
       "      <td>1.0</td>\n",
       "      <td>0.0</td>\n",
       "      <td>0.0</td>\n",
       "      <td>0.0</td>\n",
       "      <td>0.0</td>\n",
       "      <td>0.0</td>\n",
       "      <td>0.0</td>\n",
       "      <td>0.0</td>\n",
       "      <td>...</td>\n",
       "      <td>1.0</td>\n",
       "      <td>0.0</td>\n",
       "      <td>0.0</td>\n",
       "      <td>0.0</td>\n",
       "      <td>0.0</td>\n",
       "      <td>149.0</td>\n",
       "      <td>8.0</td>\n",
       "      <td>19.6</td>\n",
       "      <td>33.0</td>\n",
       "      <td>4.0</td>\n",
       "    </tr>\n",
       "    <tr>\n",
       "      <th>...</th>\n",
       "      <td>...</td>\n",
       "      <td>...</td>\n",
       "      <td>...</td>\n",
       "      <td>...</td>\n",
       "      <td>...</td>\n",
       "      <td>...</td>\n",
       "      <td>...</td>\n",
       "      <td>...</td>\n",
       "      <td>...</td>\n",
       "      <td>...</td>\n",
       "      <td>...</td>\n",
       "      <td>...</td>\n",
       "      <td>...</td>\n",
       "      <td>...</td>\n",
       "      <td>...</td>\n",
       "      <td>...</td>\n",
       "      <td>...</td>\n",
       "      <td>...</td>\n",
       "      <td>...</td>\n",
       "      <td>...</td>\n",
       "      <td>...</td>\n",
       "    </tr>\n",
       "    <tr>\n",
       "      <th>26082</th>\n",
       "      <td>0.0</td>\n",
       "      <td>1.0</td>\n",
       "      <td>0.0</td>\n",
       "      <td>0.0</td>\n",
       "      <td>0.0</td>\n",
       "      <td>0.0</td>\n",
       "      <td>0.0</td>\n",
       "      <td>0.0</td>\n",
       "      <td>0.0</td>\n",
       "      <td>0.0</td>\n",
       "      <td>...</td>\n",
       "      <td>0.0</td>\n",
       "      <td>0.0</td>\n",
       "      <td>1.0</td>\n",
       "      <td>0.0</td>\n",
       "      <td>0.0</td>\n",
       "      <td>69.0</td>\n",
       "      <td>2.0</td>\n",
       "      <td>9.3</td>\n",
       "      <td>36.0</td>\n",
       "      <td>1.0</td>\n",
       "    </tr>\n",
       "    <tr>\n",
       "      <th>8713</th>\n",
       "      <td>0.0</td>\n",
       "      <td>0.0</td>\n",
       "      <td>0.0</td>\n",
       "      <td>0.0</td>\n",
       "      <td>0.0</td>\n",
       "      <td>1.0</td>\n",
       "      <td>0.0</td>\n",
       "      <td>0.0</td>\n",
       "      <td>0.0</td>\n",
       "      <td>0.0</td>\n",
       "      <td>...</td>\n",
       "      <td>0.0</td>\n",
       "      <td>0.0</td>\n",
       "      <td>0.0</td>\n",
       "      <td>0.0</td>\n",
       "      <td>0.0</td>\n",
       "      <td>147.0</td>\n",
       "      <td>3.0</td>\n",
       "      <td>16.6</td>\n",
       "      <td>45.0</td>\n",
       "      <td>1.0</td>\n",
       "    </tr>\n",
       "    <tr>\n",
       "      <th>1333</th>\n",
       "      <td>1.0</td>\n",
       "      <td>0.0</td>\n",
       "      <td>0.0</td>\n",
       "      <td>0.0</td>\n",
       "      <td>0.0</td>\n",
       "      <td>0.0</td>\n",
       "      <td>0.0</td>\n",
       "      <td>0.0</td>\n",
       "      <td>0.0</td>\n",
       "      <td>1.0</td>\n",
       "      <td>...</td>\n",
       "      <td>0.0</td>\n",
       "      <td>0.0</td>\n",
       "      <td>0.0</td>\n",
       "      <td>0.0</td>\n",
       "      <td>0.0</td>\n",
       "      <td>90.0</td>\n",
       "      <td>2.0</td>\n",
       "      <td>10.2</td>\n",
       "      <td>44.0</td>\n",
       "      <td>1.0</td>\n",
       "    </tr>\n",
       "    <tr>\n",
       "      <th>20141</th>\n",
       "      <td>1.0</td>\n",
       "      <td>0.0</td>\n",
       "      <td>0.0</td>\n",
       "      <td>0.0</td>\n",
       "      <td>0.0</td>\n",
       "      <td>0.0</td>\n",
       "      <td>0.0</td>\n",
       "      <td>0.0</td>\n",
       "      <td>0.0</td>\n",
       "      <td>1.0</td>\n",
       "      <td>...</td>\n",
       "      <td>0.0</td>\n",
       "      <td>0.0</td>\n",
       "      <td>0.0</td>\n",
       "      <td>0.0</td>\n",
       "      <td>0.0</td>\n",
       "      <td>119.0</td>\n",
       "      <td>2.0</td>\n",
       "      <td>15.3</td>\n",
       "      <td>51.0</td>\n",
       "      <td>1.0</td>\n",
       "    </tr>\n",
       "    <tr>\n",
       "      <th>17358</th>\n",
       "      <td>0.0</td>\n",
       "      <td>0.0</td>\n",
       "      <td>0.0</td>\n",
       "      <td>0.0</td>\n",
       "      <td>1.0</td>\n",
       "      <td>0.0</td>\n",
       "      <td>0.0</td>\n",
       "      <td>0.0</td>\n",
       "      <td>0.0</td>\n",
       "      <td>0.0</td>\n",
       "      <td>...</td>\n",
       "      <td>1.0</td>\n",
       "      <td>0.0</td>\n",
       "      <td>0.0</td>\n",
       "      <td>0.0</td>\n",
       "      <td>0.0</td>\n",
       "      <td>149.0</td>\n",
       "      <td>1.0</td>\n",
       "      <td>16.2</td>\n",
       "      <td>54.0</td>\n",
       "      <td>0.0</td>\n",
       "    </tr>\n",
       "  </tbody>\n",
       "</table>\n",
       "<p>32086 rows × 21 columns</p>\n",
       "</div>"
      ],
      "text/plain": [
       "       batting_team_Chennai Super Kings  batting_team_Delhi Daredevils  \\\n",
       "18303                               0.0                            0.0   \n",
       "3045                                0.0                            0.0   \n",
       "33299                               0.0                            0.0   \n",
       "4337                                0.0                            0.0   \n",
       "27078                               0.0                            0.0   \n",
       "...                                 ...                            ...   \n",
       "26082                               0.0                            1.0   \n",
       "8713                                0.0                            0.0   \n",
       "1333                                1.0                            0.0   \n",
       "20141                               1.0                            0.0   \n",
       "17358                               0.0                            0.0   \n",
       "\n",
       "       batting_team_Kings XI Punjab  batting_team_Kolkata Knight Riders  \\\n",
       "18303                           0.0                                 1.0   \n",
       "3045                            1.0                                 0.0   \n",
       "33299                           0.0                                 0.0   \n",
       "4337                            0.0                                 0.0   \n",
       "27078                           1.0                                 0.0   \n",
       "...                             ...                                 ...   \n",
       "26082                           0.0                                 0.0   \n",
       "8713                            0.0                                 0.0   \n",
       "1333                            0.0                                 0.0   \n",
       "20141                           0.0                                 0.0   \n",
       "17358                           0.0                                 0.0   \n",
       "\n",
       "       batting_team_Mumbai Indians  batting_team_Rajasthan Royals  \\\n",
       "18303                          0.0                            0.0   \n",
       "3045                           0.0                            0.0   \n",
       "33299                          0.0                            0.0   \n",
       "4337                           0.0                            0.0   \n",
       "27078                          0.0                            0.0   \n",
       "...                            ...                            ...   \n",
       "26082                          0.0                            0.0   \n",
       "8713                           0.0                            1.0   \n",
       "1333                           0.0                            0.0   \n",
       "20141                          0.0                            0.0   \n",
       "17358                          1.0                            0.0   \n",
       "\n",
       "       batting_team_Royal Challengers Bangalore  \\\n",
       "18303                                       0.0   \n",
       "3045                                        0.0   \n",
       "33299                                       0.0   \n",
       "4337                                        1.0   \n",
       "27078                                       0.0   \n",
       "...                                         ...   \n",
       "26082                                       0.0   \n",
       "8713                                        0.0   \n",
       "1333                                        0.0   \n",
       "20141                                       0.0   \n",
       "17358                                       0.0   \n",
       "\n",
       "       batting_team_Sunrisers Hyderabad  bowling_team_Chennai Super Kings  \\\n",
       "18303                               0.0                               0.0   \n",
       "3045                                0.0                               0.0   \n",
       "33299                               1.0                               0.0   \n",
       "4337                                0.0                               0.0   \n",
       "27078                               0.0                               0.0   \n",
       "...                                 ...                               ...   \n",
       "26082                               0.0                               0.0   \n",
       "8713                                0.0                               0.0   \n",
       "1333                                0.0                               0.0   \n",
       "20141                               0.0                               0.0   \n",
       "17358                               0.0                               0.0   \n",
       "\n",
       "       bowling_team_Delhi Daredevils  ...  bowling_team_Kolkata Knight Riders  \\\n",
       "18303                            1.0  ...                                 0.0   \n",
       "3045                             0.0  ...                                 0.0   \n",
       "33299                            1.0  ...                                 0.0   \n",
       "4337                             0.0  ...                                 0.0   \n",
       "27078                            0.0  ...                                 1.0   \n",
       "...                              ...  ...                                 ...   \n",
       "26082                            0.0  ...                                 0.0   \n",
       "8713                             0.0  ...                                 0.0   \n",
       "1333                             1.0  ...                                 0.0   \n",
       "20141                            1.0  ...                                 0.0   \n",
       "17358                            0.0  ...                                 1.0   \n",
       "\n",
       "       bowling_team_Mumbai Indians  bowling_team_Rajasthan Royals  \\\n",
       "18303                          0.0                            0.0   \n",
       "3045                           1.0                            0.0   \n",
       "33299                          0.0                            0.0   \n",
       "4337                           0.0                            0.0   \n",
       "27078                          0.0                            0.0   \n",
       "...                            ...                            ...   \n",
       "26082                          0.0                            1.0   \n",
       "8713                           0.0                            0.0   \n",
       "1333                           0.0                            0.0   \n",
       "20141                          0.0                            0.0   \n",
       "17358                          0.0                            0.0   \n",
       "\n",
       "       bowling_team_Royal Challengers Bangalore  \\\n",
       "18303                                       0.0   \n",
       "3045                                        0.0   \n",
       "33299                                       0.0   \n",
       "4337                                        0.0   \n",
       "27078                                       0.0   \n",
       "...                                         ...   \n",
       "26082                                       0.0   \n",
       "8713                                        0.0   \n",
       "1333                                        0.0   \n",
       "20141                                       0.0   \n",
       "17358                                       0.0   \n",
       "\n",
       "       bowling_team_Sunrisers Hyderabad   runs  wickets  overs  runs_last_5  \\\n",
       "18303                               0.0  122.0      4.0   17.5         34.0   \n",
       "3045                                0.0  139.0      2.0   15.5         46.0   \n",
       "33299                               0.0  131.0      4.0   17.6         43.0   \n",
       "4337                                0.0  122.0      4.0   15.1         51.0   \n",
       "27078                               0.0  149.0      8.0   19.6         33.0   \n",
       "...                                 ...    ...      ...    ...          ...   \n",
       "26082                               0.0   69.0      2.0    9.3         36.0   \n",
       "8713                                0.0  147.0      3.0   16.6         45.0   \n",
       "1333                                0.0   90.0      2.0   10.2         44.0   \n",
       "20141                               0.0  119.0      2.0   15.3         51.0   \n",
       "17358                               0.0  149.0      1.0   16.2         54.0   \n",
       "\n",
       "       wickets_last_5  \n",
       "18303             2.0  \n",
       "3045              1.0  \n",
       "33299             1.0  \n",
       "4337              1.0  \n",
       "27078             4.0  \n",
       "...               ...  \n",
       "26082             1.0  \n",
       "8713              1.0  \n",
       "1333              1.0  \n",
       "20141             1.0  \n",
       "17358             0.0  \n",
       "\n",
       "[32086 rows x 21 columns]"
      ]
     },
     "execution_count": 24,
     "metadata": {},
     "output_type": "execute_result"
    }
   ],
   "source": [
    "train_features"
   ]
  },
  {
   "cell_type": "code",
   "execution_count": 25,
   "metadata": {},
   "outputs": [
    {
     "data": {
      "text/html": [
       "<div>\n",
       "<style scoped>\n",
       "    .dataframe tbody tr th:only-of-type {\n",
       "        vertical-align: middle;\n",
       "    }\n",
       "\n",
       "    .dataframe tbody tr th {\n",
       "        vertical-align: top;\n",
       "    }\n",
       "\n",
       "    .dataframe thead th {\n",
       "        text-align: right;\n",
       "    }\n",
       "</style>\n",
       "<table border=\"1\" class=\"dataframe\">\n",
       "  <thead>\n",
       "    <tr style=\"text-align: right;\">\n",
       "      <th></th>\n",
       "      <th>batting_team_Chennai Super Kings</th>\n",
       "      <th>batting_team_Delhi Daredevils</th>\n",
       "      <th>batting_team_Kings XI Punjab</th>\n",
       "      <th>batting_team_Kolkata Knight Riders</th>\n",
       "      <th>batting_team_Mumbai Indians</th>\n",
       "      <th>batting_team_Rajasthan Royals</th>\n",
       "      <th>batting_team_Royal Challengers Bangalore</th>\n",
       "      <th>batting_team_Sunrisers Hyderabad</th>\n",
       "      <th>bowling_team_Chennai Super Kings</th>\n",
       "      <th>bowling_team_Delhi Daredevils</th>\n",
       "      <th>...</th>\n",
       "      <th>bowling_team_Kolkata Knight Riders</th>\n",
       "      <th>bowling_team_Mumbai Indians</th>\n",
       "      <th>bowling_team_Rajasthan Royals</th>\n",
       "      <th>bowling_team_Royal Challengers Bangalore</th>\n",
       "      <th>bowling_team_Sunrisers Hyderabad</th>\n",
       "      <th>runs</th>\n",
       "      <th>wickets</th>\n",
       "      <th>overs</th>\n",
       "      <th>runs_last_5</th>\n",
       "      <th>wickets_last_5</th>\n",
       "    </tr>\n",
       "  </thead>\n",
       "  <tbody>\n",
       "    <tr>\n",
       "      <th>33343</th>\n",
       "      <td>0.0</td>\n",
       "      <td>0.0</td>\n",
       "      <td>0.0</td>\n",
       "      <td>0.0</td>\n",
       "      <td>0.0</td>\n",
       "      <td>0.0</td>\n",
       "      <td>1.0</td>\n",
       "      <td>0.0</td>\n",
       "      <td>0.0</td>\n",
       "      <td>0.0</td>\n",
       "      <td>...</td>\n",
       "      <td>0.0</td>\n",
       "      <td>1.0</td>\n",
       "      <td>0.0</td>\n",
       "      <td>0.0</td>\n",
       "      <td>0.0</td>\n",
       "      <td>88.0</td>\n",
       "      <td>1.0</td>\n",
       "      <td>10.1</td>\n",
       "      <td>57.0</td>\n",
       "      <td>0.0</td>\n",
       "    </tr>\n",
       "    <tr>\n",
       "      <th>12346</th>\n",
       "      <td>0.0</td>\n",
       "      <td>0.0</td>\n",
       "      <td>0.0</td>\n",
       "      <td>1.0</td>\n",
       "      <td>0.0</td>\n",
       "      <td>0.0</td>\n",
       "      <td>0.0</td>\n",
       "      <td>0.0</td>\n",
       "      <td>0.0</td>\n",
       "      <td>0.0</td>\n",
       "      <td>...</td>\n",
       "      <td>0.0</td>\n",
       "      <td>0.0</td>\n",
       "      <td>0.0</td>\n",
       "      <td>1.0</td>\n",
       "      <td>0.0</td>\n",
       "      <td>69.0</td>\n",
       "      <td>1.0</td>\n",
       "      <td>8.5</td>\n",
       "      <td>26.0</td>\n",
       "      <td>1.0</td>\n",
       "    </tr>\n",
       "    <tr>\n",
       "      <th>29999</th>\n",
       "      <td>0.0</td>\n",
       "      <td>1.0</td>\n",
       "      <td>0.0</td>\n",
       "      <td>0.0</td>\n",
       "      <td>0.0</td>\n",
       "      <td>0.0</td>\n",
       "      <td>0.0</td>\n",
       "      <td>0.0</td>\n",
       "      <td>0.0</td>\n",
       "      <td>0.0</td>\n",
       "      <td>...</td>\n",
       "      <td>0.0</td>\n",
       "      <td>0.0</td>\n",
       "      <td>1.0</td>\n",
       "      <td>0.0</td>\n",
       "      <td>0.0</td>\n",
       "      <td>113.0</td>\n",
       "      <td>2.0</td>\n",
       "      <td>13.6</td>\n",
       "      <td>31.0</td>\n",
       "      <td>1.0</td>\n",
       "    </tr>\n",
       "    <tr>\n",
       "      <th>32705</th>\n",
       "      <td>0.0</td>\n",
       "      <td>0.0</td>\n",
       "      <td>0.0</td>\n",
       "      <td>1.0</td>\n",
       "      <td>0.0</td>\n",
       "      <td>0.0</td>\n",
       "      <td>0.0</td>\n",
       "      <td>0.0</td>\n",
       "      <td>0.0</td>\n",
       "      <td>0.0</td>\n",
       "      <td>...</td>\n",
       "      <td>0.0</td>\n",
       "      <td>0.0</td>\n",
       "      <td>0.0</td>\n",
       "      <td>0.0</td>\n",
       "      <td>1.0</td>\n",
       "      <td>92.0</td>\n",
       "      <td>3.0</td>\n",
       "      <td>12.1</td>\n",
       "      <td>31.0</td>\n",
       "      <td>2.0</td>\n",
       "    </tr>\n",
       "    <tr>\n",
       "      <th>40036</th>\n",
       "      <td>0.0</td>\n",
       "      <td>0.0</td>\n",
       "      <td>0.0</td>\n",
       "      <td>1.0</td>\n",
       "      <td>0.0</td>\n",
       "      <td>0.0</td>\n",
       "      <td>0.0</td>\n",
       "      <td>0.0</td>\n",
       "      <td>0.0</td>\n",
       "      <td>0.0</td>\n",
       "      <td>...</td>\n",
       "      <td>0.0</td>\n",
       "      <td>1.0</td>\n",
       "      <td>0.0</td>\n",
       "      <td>0.0</td>\n",
       "      <td>0.0</td>\n",
       "      <td>32.0</td>\n",
       "      <td>5.0</td>\n",
       "      <td>7.2</td>\n",
       "      <td>22.0</td>\n",
       "      <td>4.0</td>\n",
       "    </tr>\n",
       "    <tr>\n",
       "      <th>...</th>\n",
       "      <td>...</td>\n",
       "      <td>...</td>\n",
       "      <td>...</td>\n",
       "      <td>...</td>\n",
       "      <td>...</td>\n",
       "      <td>...</td>\n",
       "      <td>...</td>\n",
       "      <td>...</td>\n",
       "      <td>...</td>\n",
       "      <td>...</td>\n",
       "      <td>...</td>\n",
       "      <td>...</td>\n",
       "      <td>...</td>\n",
       "      <td>...</td>\n",
       "      <td>...</td>\n",
       "      <td>...</td>\n",
       "      <td>...</td>\n",
       "      <td>...</td>\n",
       "      <td>...</td>\n",
       "      <td>...</td>\n",
       "      <td>...</td>\n",
       "    </tr>\n",
       "    <tr>\n",
       "      <th>23082</th>\n",
       "      <td>0.0</td>\n",
       "      <td>0.0</td>\n",
       "      <td>0.0</td>\n",
       "      <td>0.0</td>\n",
       "      <td>0.0</td>\n",
       "      <td>0.0</td>\n",
       "      <td>0.0</td>\n",
       "      <td>1.0</td>\n",
       "      <td>0.0</td>\n",
       "      <td>0.0</td>\n",
       "      <td>...</td>\n",
       "      <td>0.0</td>\n",
       "      <td>1.0</td>\n",
       "      <td>0.0</td>\n",
       "      <td>0.0</td>\n",
       "      <td>0.0</td>\n",
       "      <td>113.0</td>\n",
       "      <td>2.0</td>\n",
       "      <td>13.3</td>\n",
       "      <td>37.0</td>\n",
       "      <td>1.0</td>\n",
       "    </tr>\n",
       "    <tr>\n",
       "      <th>33920</th>\n",
       "      <td>0.0</td>\n",
       "      <td>0.0</td>\n",
       "      <td>0.0</td>\n",
       "      <td>0.0</td>\n",
       "      <td>0.0</td>\n",
       "      <td>1.0</td>\n",
       "      <td>0.0</td>\n",
       "      <td>0.0</td>\n",
       "      <td>0.0</td>\n",
       "      <td>0.0</td>\n",
       "      <td>...</td>\n",
       "      <td>1.0</td>\n",
       "      <td>0.0</td>\n",
       "      <td>0.0</td>\n",
       "      <td>0.0</td>\n",
       "      <td>0.0</td>\n",
       "      <td>83.0</td>\n",
       "      <td>1.0</td>\n",
       "      <td>7.5</td>\n",
       "      <td>52.0</td>\n",
       "      <td>1.0</td>\n",
       "    </tr>\n",
       "    <tr>\n",
       "      <th>20280</th>\n",
       "      <td>0.0</td>\n",
       "      <td>0.0</td>\n",
       "      <td>0.0</td>\n",
       "      <td>1.0</td>\n",
       "      <td>0.0</td>\n",
       "      <td>0.0</td>\n",
       "      <td>0.0</td>\n",
       "      <td>0.0</td>\n",
       "      <td>1.0</td>\n",
       "      <td>0.0</td>\n",
       "      <td>...</td>\n",
       "      <td>0.0</td>\n",
       "      <td>0.0</td>\n",
       "      <td>0.0</td>\n",
       "      <td>0.0</td>\n",
       "      <td>0.0</td>\n",
       "      <td>55.0</td>\n",
       "      <td>4.0</td>\n",
       "      <td>8.1</td>\n",
       "      <td>24.0</td>\n",
       "      <td>4.0</td>\n",
       "    </tr>\n",
       "    <tr>\n",
       "      <th>6775</th>\n",
       "      <td>0.0</td>\n",
       "      <td>1.0</td>\n",
       "      <td>0.0</td>\n",
       "      <td>0.0</td>\n",
       "      <td>0.0</td>\n",
       "      <td>0.0</td>\n",
       "      <td>0.0</td>\n",
       "      <td>0.0</td>\n",
       "      <td>0.0</td>\n",
       "      <td>0.0</td>\n",
       "      <td>...</td>\n",
       "      <td>0.0</td>\n",
       "      <td>0.0</td>\n",
       "      <td>1.0</td>\n",
       "      <td>0.0</td>\n",
       "      <td>0.0</td>\n",
       "      <td>148.0</td>\n",
       "      <td>3.0</td>\n",
       "      <td>19.5</td>\n",
       "      <td>53.0</td>\n",
       "      <td>1.0</td>\n",
       "    </tr>\n",
       "    <tr>\n",
       "      <th>5817</th>\n",
       "      <td>0.0</td>\n",
       "      <td>0.0</td>\n",
       "      <td>0.0</td>\n",
       "      <td>0.0</td>\n",
       "      <td>1.0</td>\n",
       "      <td>0.0</td>\n",
       "      <td>0.0</td>\n",
       "      <td>0.0</td>\n",
       "      <td>0.0</td>\n",
       "      <td>1.0</td>\n",
       "      <td>...</td>\n",
       "      <td>0.0</td>\n",
       "      <td>0.0</td>\n",
       "      <td>0.0</td>\n",
       "      <td>0.0</td>\n",
       "      <td>0.0</td>\n",
       "      <td>71.0</td>\n",
       "      <td>4.0</td>\n",
       "      <td>14.4</td>\n",
       "      <td>29.0</td>\n",
       "      <td>0.0</td>\n",
       "    </tr>\n",
       "  </tbody>\n",
       "</table>\n",
       "<p>8022 rows × 21 columns</p>\n",
       "</div>"
      ],
      "text/plain": [
       "       batting_team_Chennai Super Kings  batting_team_Delhi Daredevils  \\\n",
       "33343                               0.0                            0.0   \n",
       "12346                               0.0                            0.0   \n",
       "29999                               0.0                            1.0   \n",
       "32705                               0.0                            0.0   \n",
       "40036                               0.0                            0.0   \n",
       "...                                 ...                            ...   \n",
       "23082                               0.0                            0.0   \n",
       "33920                               0.0                            0.0   \n",
       "20280                               0.0                            0.0   \n",
       "6775                                0.0                            1.0   \n",
       "5817                                0.0                            0.0   \n",
       "\n",
       "       batting_team_Kings XI Punjab  batting_team_Kolkata Knight Riders  \\\n",
       "33343                           0.0                                 0.0   \n",
       "12346                           0.0                                 1.0   \n",
       "29999                           0.0                                 0.0   \n",
       "32705                           0.0                                 1.0   \n",
       "40036                           0.0                                 1.0   \n",
       "...                             ...                                 ...   \n",
       "23082                           0.0                                 0.0   \n",
       "33920                           0.0                                 0.0   \n",
       "20280                           0.0                                 1.0   \n",
       "6775                            0.0                                 0.0   \n",
       "5817                            0.0                                 0.0   \n",
       "\n",
       "       batting_team_Mumbai Indians  batting_team_Rajasthan Royals  \\\n",
       "33343                          0.0                            0.0   \n",
       "12346                          0.0                            0.0   \n",
       "29999                          0.0                            0.0   \n",
       "32705                          0.0                            0.0   \n",
       "40036                          0.0                            0.0   \n",
       "...                            ...                            ...   \n",
       "23082                          0.0                            0.0   \n",
       "33920                          0.0                            1.0   \n",
       "20280                          0.0                            0.0   \n",
       "6775                           0.0                            0.0   \n",
       "5817                           1.0                            0.0   \n",
       "\n",
       "       batting_team_Royal Challengers Bangalore  \\\n",
       "33343                                       1.0   \n",
       "12346                                       0.0   \n",
       "29999                                       0.0   \n",
       "32705                                       0.0   \n",
       "40036                                       0.0   \n",
       "...                                         ...   \n",
       "23082                                       0.0   \n",
       "33920                                       0.0   \n",
       "20280                                       0.0   \n",
       "6775                                        0.0   \n",
       "5817                                        0.0   \n",
       "\n",
       "       batting_team_Sunrisers Hyderabad  bowling_team_Chennai Super Kings  \\\n",
       "33343                               0.0                               0.0   \n",
       "12346                               0.0                               0.0   \n",
       "29999                               0.0                               0.0   \n",
       "32705                               0.0                               0.0   \n",
       "40036                               0.0                               0.0   \n",
       "...                                 ...                               ...   \n",
       "23082                               1.0                               0.0   \n",
       "33920                               0.0                               0.0   \n",
       "20280                               0.0                               1.0   \n",
       "6775                                0.0                               0.0   \n",
       "5817                                0.0                               0.0   \n",
       "\n",
       "       bowling_team_Delhi Daredevils  ...  bowling_team_Kolkata Knight Riders  \\\n",
       "33343                            0.0  ...                                 0.0   \n",
       "12346                            0.0  ...                                 0.0   \n",
       "29999                            0.0  ...                                 0.0   \n",
       "32705                            0.0  ...                                 0.0   \n",
       "40036                            0.0  ...                                 0.0   \n",
       "...                              ...  ...                                 ...   \n",
       "23082                            0.0  ...                                 0.0   \n",
       "33920                            0.0  ...                                 1.0   \n",
       "20280                            0.0  ...                                 0.0   \n",
       "6775                             0.0  ...                                 0.0   \n",
       "5817                             1.0  ...                                 0.0   \n",
       "\n",
       "       bowling_team_Mumbai Indians  bowling_team_Rajasthan Royals  \\\n",
       "33343                          1.0                            0.0   \n",
       "12346                          0.0                            0.0   \n",
       "29999                          0.0                            1.0   \n",
       "32705                          0.0                            0.0   \n",
       "40036                          1.0                            0.0   \n",
       "...                            ...                            ...   \n",
       "23082                          1.0                            0.0   \n",
       "33920                          0.0                            0.0   \n",
       "20280                          0.0                            0.0   \n",
       "6775                           0.0                            1.0   \n",
       "5817                           0.0                            0.0   \n",
       "\n",
       "       bowling_team_Royal Challengers Bangalore  \\\n",
       "33343                                       0.0   \n",
       "12346                                       1.0   \n",
       "29999                                       0.0   \n",
       "32705                                       0.0   \n",
       "40036                                       0.0   \n",
       "...                                         ...   \n",
       "23082                                       0.0   \n",
       "33920                                       0.0   \n",
       "20280                                       0.0   \n",
       "6775                                        0.0   \n",
       "5817                                        0.0   \n",
       "\n",
       "       bowling_team_Sunrisers Hyderabad   runs  wickets  overs  runs_last_5  \\\n",
       "33343                               0.0   88.0      1.0   10.1         57.0   \n",
       "12346                               0.0   69.0      1.0    8.5         26.0   \n",
       "29999                               0.0  113.0      2.0   13.6         31.0   \n",
       "32705                               1.0   92.0      3.0   12.1         31.0   \n",
       "40036                               0.0   32.0      5.0    7.2         22.0   \n",
       "...                                 ...    ...      ...    ...          ...   \n",
       "23082                               0.0  113.0      2.0   13.3         37.0   \n",
       "33920                               0.0   83.0      1.0    7.5         52.0   \n",
       "20280                               0.0   55.0      4.0    8.1         24.0   \n",
       "6775                                0.0  148.0      3.0   19.5         53.0   \n",
       "5817                                0.0   71.0      4.0   14.4         29.0   \n",
       "\n",
       "       wickets_last_5  \n",
       "33343             0.0  \n",
       "12346             1.0  \n",
       "29999             1.0  \n",
       "32705             2.0  \n",
       "40036             4.0  \n",
       "...               ...  \n",
       "23082             1.0  \n",
       "33920             1.0  \n",
       "20280             4.0  \n",
       "6775              1.0  \n",
       "5817              0.0  \n",
       "\n",
       "[8022 rows x 21 columns]"
      ]
     },
     "execution_count": 25,
     "metadata": {},
     "output_type": "execute_result"
    }
   ],
   "source": [
    "test_features"
   ]
  },
  {
   "cell_type": "code",
   "execution_count": 26,
   "metadata": {},
   "outputs": [
    {
     "data": {
      "text/plain": [
       "18303    162.0\n",
       "3045     189.0\n",
       "33299    163.0\n",
       "4337     168.0\n",
       "27078    149.0\n",
       "         ...  \n",
       "26082    152.0\n",
       "8713     183.0\n",
       "1333     169.0\n",
       "20141    169.0\n",
       "17358    182.0\n",
       "Name: total, Length: 32086, dtype: float64"
      ]
     },
     "execution_count": 26,
     "metadata": {},
     "output_type": "execute_result"
    }
   ],
   "source": [
    "train_labels"
   ]
  },
  {
   "cell_type": "code",
   "execution_count": 27,
   "metadata": {},
   "outputs": [
    {
     "data": {
      "text/plain": [
       "33343    235.0\n",
       "12346    171.0\n",
       "29999    184.0\n",
       "32705    167.0\n",
       "40036    107.0\n",
       "         ...  \n",
       "23082    178.0\n",
       "33920    199.0\n",
       "20280    119.0\n",
       "6775     150.0\n",
       "5817     116.0\n",
       "Name: total, Length: 8022, dtype: float64"
      ]
     },
     "execution_count": 27,
     "metadata": {},
     "output_type": "execute_result"
    }
   ],
   "source": [
    "test_labels"
   ]
  },
  {
   "cell_type": "markdown",
   "metadata": {
    "id": "J5ZhNp2EJ37b"
   },
   "source": [
    "## Model Algorithms\n",
    "Training and Testing on different Machine Learning Algorithms for the best algorithm to choose from"
   ]
  },
  {
   "cell_type": "code",
   "execution_count": 28,
   "metadata": {
    "id": "xPgXWd3rKTnA"
   },
   "outputs": [],
   "source": [
    "# Keeping track of cross validation root mean sqaure errors\n",
    "cross_validation_rmse = dict()"
   ]
  },
  {
   "cell_type": "code",
   "execution_count": 29,
   "metadata": {},
   "outputs": [],
   "source": [
    "from sklearn.model_selection import KFold\n",
    "from sklearn.model_selection import cross_val_score\n",
    "from sklearn.metrics import mean_absolute_error as mae, mean_squared_error as mse"
   ]
  },
  {
   "cell_type": "markdown",
   "metadata": {
    "id": "T7HfUM1mKK2u"
   },
   "source": [
    "#### 1. Decision Tree Regressor"
   ]
  },
  {
   "cell_type": "code",
   "execution_count": 30,
   "metadata": {
    "colab": {
     "base_uri": "https://localhost:8080/"
    },
    "id": "_X6OA45yJx0P",
    "outputId": "02fb3631-7054-4926-a98c-bc112d9f2127"
   },
   "outputs": [
    {
     "data": {
      "text/plain": [
       "DecisionTreeRegressor()"
      ]
     },
     "execution_count": 30,
     "metadata": {},
     "output_type": "execute_result"
    }
   ],
   "source": [
    "from sklearn.tree import DecisionTreeRegressor\n",
    "tree = DecisionTreeRegressor()\n",
    "# Train Model\n",
    "tree.fit(train_features, train_labels)"
   ]
  },
  {
   "cell_type": "code",
   "execution_count": 31,
   "metadata": {
    "colab": {
     "base_uri": "https://localhost:8080/"
    },
    "id": "JPNUcmG0TwoK",
    "outputId": "5dbb3b2d-f7bb-467e-a479-85ff5e18bf45"
   },
   "outputs": [
    {
     "name": "stdout",
     "output_type": "stream",
     "text": [
      "---- Decision Tree Regressor - Model Evaluation ----\n",
      "Mean Absolute Error (MAE): 3.699\n",
      "Mean Squared Error (MSE): 117.436\n",
      "Root Mean Squared Error (RMSE): 10.817\n"
     ]
    },
    {
     "data": {
      "text/plain": [
       "DecisionTreeRegressor()"
      ]
     },
     "execution_count": 31,
     "metadata": {},
     "output_type": "execute_result"
    }
   ],
   "source": [
    "print(\"---- Decision Tree Regressor - Model Evaluation ----\")\n",
    "folds = KFold(n_splits = 7, shuffle = True, random_state = 42)\n",
    "mae = cross_val_score(tree, features, labels, cv=folds, scoring='neg_mean_absolute_error')\n",
    "mse = cross_val_score(tree, features, labels, cv=folds, scoring='neg_mean_squared_error')\n",
    "rmse = cross_val_score(tree, features, labels, cv=folds, scoring='neg_root_mean_squared_error')\n",
    "print(\"Mean Absolute Error (MAE): {}\".format(round(-np.mean(mae), 3)))\n",
    "print(\"Mean Squared Error (MSE): {}\".format(round(-np.mean(mse), 3)))\n",
    "print(\"Root Mean Squared Error (RMSE): {}\".format(round(-np.mean(rmse), 3)))\n",
    "cross_validation_rmse['Decision Tree'] = round(-np.mean(rmse), 3)\n",
    "tree.fit(train_features, train_labels)"
   ]
  },
  {
   "cell_type": "code",
   "execution_count": 32,
   "metadata": {},
   "outputs": [
    {
     "data": {
      "text/plain": [
       "array([0.01275753, 0.01340724, 0.01150277, 0.01089003, 0.01296807,\n",
       "       0.0127586 , 0.01264464, 0.01003932, 0.00972011, 0.01015888,\n",
       "       0.01310635, 0.01069996, 0.01680332, 0.0136349 , 0.01495418,\n",
       "       0.01239446, 0.21667642, 0.18429664, 0.07824294, 0.29787129,\n",
       "       0.02447235])"
      ]
     },
     "execution_count": 32,
     "metadata": {},
     "output_type": "execute_result"
    }
   ],
   "source": [
    "coefs = tree.feature_importances_\n",
    "abs_weights = np.abs(coefs)\n",
    "abs_weights"
   ]
  },
  {
   "cell_type": "code",
   "execution_count": 33,
   "metadata": {},
   "outputs": [
    {
     "data": {
      "text/plain": [
       "array([19, 16, 17, 18, 20, 12, 14, 13,  1, 10,  4,  5,  0,  6, 15,  2,  3,\n",
       "       11,  9,  7,  8])"
      ]
     },
     "execution_count": 33,
     "metadata": {},
     "output_type": "execute_result"
    }
   ],
   "source": [
    "sorted_index = np.argsort(abs_weights)[::-1]\n",
    "sorted_index"
   ]
  },
  {
   "cell_type": "code",
   "execution_count": 34,
   "metadata": {},
   "outputs": [
    {
     "name": "stdout",
     "output_type": "stream",
     "text": [
      "Two most important feature names:\n",
      "\n",
      "at index 19, it's 'runs_last_5'\n",
      "at index 16, it's 'runs'\n"
     ]
    }
   ],
   "source": [
    "print(\"Two most important feature names:\\n\")\n",
    "print(\"at index 19, it's 'runs_last_5'\")\n",
    "print(\"at index 16, it's 'runs'\")"
   ]
  },
  {
   "cell_type": "markdown",
   "metadata": {
    "id": "0F9fVUPuMwX0"
   },
   "source": [
    "#### 2. Linear Regression"
   ]
  },
  {
   "cell_type": "code",
   "execution_count": 35,
   "metadata": {
    "colab": {
     "base_uri": "https://localhost:8080/"
    },
    "id": "RvNDa8MGdYYs",
    "outputId": "2e6b298e-9251-4ff5-ac12-61062b503afe"
   },
   "outputs": [
    {
     "data": {
      "text/plain": [
       "LinearRegression()"
      ]
     },
     "execution_count": 35,
     "metadata": {},
     "output_type": "execute_result"
    }
   ],
   "source": [
    "from sklearn.linear_model import LinearRegression\n",
    "linreg = LinearRegression()\n",
    "# Train Model\n",
    "linreg.fit(train_features, train_labels)"
   ]
  },
  {
   "cell_type": "code",
   "execution_count": 36,
   "metadata": {
    "colab": {
     "base_uri": "https://localhost:8080/"
    },
    "id": "nVSzI12HRnnF",
    "outputId": "317d6160-f826-46f5-dff2-faf0740edc4e"
   },
   "outputs": [
    {
     "name": "stdout",
     "output_type": "stream",
     "text": [
      "---- Linear Regression - Model Evaluation ----\n",
      "Mean Absolute Error (MAE): 13.065\n",
      "Mean Squared Error (MSE): 303.561\n",
      "Root Mean Squared Error (RMSE): 17.422\n"
     ]
    },
    {
     "data": {
      "text/plain": [
       "LinearRegression()"
      ]
     },
     "execution_count": 36,
     "metadata": {},
     "output_type": "execute_result"
    }
   ],
   "source": [
    "print(\"---- Linear Regression - Model Evaluation ----\")\n",
    "folds = KFold(n_splits = 7, shuffle = True, random_state = 42)\n",
    "mae = cross_val_score(linreg, features, labels, cv=folds, scoring='neg_mean_absolute_error')\n",
    "mse = cross_val_score(linreg, features, labels, cv=folds, scoring='neg_mean_squared_error')\n",
    "rmse = cross_val_score(linreg, features, labels, cv=folds, scoring='neg_root_mean_squared_error')\n",
    "print(\"Mean Absolute Error (MAE): {}\".format(round(-np.mean(mae), 3)))\n",
    "print(\"Mean Squared Error (MSE): {}\".format(round(-np.mean(mse), 3)))\n",
    "print(\"Root Mean Squared Error (RMSE): {}\".format(round(-np.mean(rmse), 3)))\n",
    "cross_validation_rmse['Linear Regression'] = round(-np.mean(rmse), 3)\n",
    "linreg.fit(train_features, train_labels)"
   ]
  },
  {
   "cell_type": "code",
   "execution_count": 37,
   "metadata": {},
   "outputs": [
    {
     "data": {
      "text/plain": [
       "array([1.00308902e+00, 2.39173680e+00, 1.13787328e+00, 3.12718961e+00,\n",
       "       2.66063567e+00, 3.65320058e+00, 3.34288409e+00, 1.02764494e+00,\n",
       "       2.56051431e-03, 8.64556650e-01, 1.90419833e+00, 3.17757375e+00,\n",
       "       7.97263950e-04, 3.18462693e-01, 5.41499596e-01, 4.49380274e-01,\n",
       "       9.68865376e-01, 4.94908851e+00, 6.41880572e+00, 2.26475517e-02,\n",
       "       1.16705380e+00])"
      ]
     },
     "execution_count": 37,
     "metadata": {},
     "output_type": "execute_result"
    }
   ],
   "source": [
    "coefs = linreg.coef_\n",
    "abs_weights = np.abs(coefs)\n",
    "abs_weights"
   ]
  },
  {
   "cell_type": "code",
   "execution_count": 38,
   "metadata": {},
   "outputs": [
    {
     "data": {
      "text/plain": [
       "array([18, 17,  5,  6, 11,  3,  4,  1, 10, 20,  2,  7,  0, 16,  9, 14, 15,\n",
       "       13, 19,  8, 12])"
      ]
     },
     "execution_count": 38,
     "metadata": {},
     "output_type": "execute_result"
    }
   ],
   "source": [
    "sorted_index = np.argsort(abs_weights)[::-1]\n",
    "sorted_index"
   ]
  },
  {
   "cell_type": "code",
   "execution_count": 39,
   "metadata": {},
   "outputs": [
    {
     "name": "stdout",
     "output_type": "stream",
     "text": [
      "Two most important feature names:\n",
      "\n",
      "at index 18, it's 'overs'\n",
      "at index 17, it's 'wickets'\n"
     ]
    }
   ],
   "source": [
    "print(\"Two most important feature names:\\n\")\n",
    "print(\"at index 18, it's 'overs'\")\n",
    "print(\"at index 17, it's 'wickets'\")"
   ]
  },
  {
   "cell_type": "markdown",
   "metadata": {},
   "source": [
    "#### 3. Gradient Boost Regressor"
   ]
  },
  {
   "cell_type": "code",
   "execution_count": 40,
   "metadata": {},
   "outputs": [
    {
     "data": {
      "text/plain": [
       "GradientBoostingRegressor()"
      ]
     },
     "execution_count": 40,
     "metadata": {},
     "output_type": "execute_result"
    }
   ],
   "source": [
    "from sklearn.ensemble import GradientBoostingRegressor\n",
    "gradboostreg = GradientBoostingRegressor()\n",
    "gradboostreg.fit(train_features, train_labels)"
   ]
  },
  {
   "cell_type": "code",
   "execution_count": 41,
   "metadata": {},
   "outputs": [
    {
     "name": "stdout",
     "output_type": "stream",
     "text": [
      "---- Gradient Boost Regressor - Model Evaluation ----\n",
      "Mean Absolute Error (MAE): 12.464\n",
      "Mean Squared Error (MSE): 279.393\n",
      "Root Mean Squared Error (RMSE): 16.715\n"
     ]
    },
    {
     "data": {
      "text/plain": [
       "GradientBoostingRegressor()"
      ]
     },
     "execution_count": 41,
     "metadata": {},
     "output_type": "execute_result"
    }
   ],
   "source": [
    "print(\"---- Gradient Boost Regressor - Model Evaluation ----\")\n",
    "folds = KFold(n_splits = 7, shuffle = True, random_state = 42)\n",
    "mae = cross_val_score(gradboostreg, features, labels, cv=folds, scoring='neg_mean_absolute_error')\n",
    "mse = cross_val_score(gradboostreg, features, labels, cv=folds, scoring='neg_mean_squared_error')\n",
    "rmse = cross_val_score(gradboostreg, features, labels, cv=folds, scoring='neg_root_mean_squared_error')\n",
    "print(\"Mean Absolute Error (MAE): {}\".format(round(-np.mean(mae), 3)))\n",
    "print(\"Mean Squared Error (MSE): {}\".format(round(-np.mean(mse), 3)))\n",
    "print(\"Root Mean Squared Error (RMSE): {}\".format(round(-np.mean(rmse), 3)))\n",
    "cross_validation_rmse['Gradient Boost'] = round(-np.mean(rmse), 3)\n",
    "gradboostreg.fit(train_features, train_labels)"
   ]
  },
  {
   "cell_type": "code",
   "execution_count": 42,
   "metadata": {},
   "outputs": [
    {
     "data": {
      "text/plain": [
       "array([4.80061439e-05, 5.10274359e-03, 1.21795134e-03, 4.16718266e-03,\n",
       "       1.94507279e-03, 4.34667767e-03, 1.14295226e-03, 1.25633435e-03,\n",
       "       7.21890901e-04, 1.47254362e-03, 6.77990980e-03, 4.60138071e-03,\n",
       "       0.00000000e+00, 1.81652313e-03, 6.66090747e-04, 2.70156638e-03,\n",
       "       2.62138447e-01, 2.67733265e-01, 6.52750738e-02, 3.65464364e-01,\n",
       "       1.40202427e-03])"
      ]
     },
     "execution_count": 42,
     "metadata": {},
     "output_type": "execute_result"
    }
   ],
   "source": [
    "coefs = gradboostreg.feature_importances_\n",
    "abs_weights = np.abs(coefs)\n",
    "abs_weights"
   ]
  },
  {
   "cell_type": "code",
   "execution_count": 43,
   "metadata": {},
   "outputs": [
    {
     "data": {
      "text/plain": [
       "array([19, 17, 16, 18, 10,  1, 11,  5,  3, 15,  4, 13,  9, 20,  7,  2,  6,\n",
       "        8, 14,  0, 12])"
      ]
     },
     "execution_count": 43,
     "metadata": {},
     "output_type": "execute_result"
    }
   ],
   "source": [
    "sorted_index = np.argsort(abs_weights)[::-1]\n",
    "sorted_index"
   ]
  },
  {
   "cell_type": "code",
   "execution_count": 44,
   "metadata": {},
   "outputs": [
    {
     "name": "stdout",
     "output_type": "stream",
     "text": [
      "Two most important feature names:\n",
      "\n",
      "at index 19, it's 'runs_last_5'\n",
      "at index 17, it's 'wickets'\n"
     ]
    }
   ],
   "source": [
    "print(\"Two most important feature names:\\n\")\n",
    "print(\"at index 19, it's 'runs_last_5'\")\n",
    "print(\"at index 17, it's 'wickets'\")"
   ]
  },
  {
   "cell_type": "markdown",
   "metadata": {},
   "source": [
    "#### 4. Bagging Regressor"
   ]
  },
  {
   "cell_type": "code",
   "execution_count": 45,
   "metadata": {},
   "outputs": [
    {
     "data": {
      "text/plain": [
       "BaggingRegressor()"
      ]
     },
     "execution_count": 45,
     "metadata": {},
     "output_type": "execute_result"
    }
   ],
   "source": [
    "from sklearn.ensemble import BaggingRegressor\n",
    "baggingreg = BaggingRegressor()\n",
    "baggingreg.fit(train_features, train_labels)"
   ]
  },
  {
   "cell_type": "code",
   "execution_count": 46,
   "metadata": {},
   "outputs": [
    {
     "name": "stdout",
     "output_type": "stream",
     "text": [
      "---- Bagging Regressor - Model Evaluation ----\n",
      "Mean Absolute Error (MAE): 4.629\n",
      "Mean Squared Error (MSE): 65.41\n",
      "Root Mean Squared Error (RMSE): 8.045\n"
     ]
    },
    {
     "data": {
      "text/plain": [
       "BaggingRegressor()"
      ]
     },
     "execution_count": 46,
     "metadata": {},
     "output_type": "execute_result"
    }
   ],
   "source": [
    "print(\"---- Bagging Regressor - Model Evaluation ----\")\n",
    "folds = KFold(n_splits = 7, shuffle = True, random_state = 42)\n",
    "mae = cross_val_score(baggingreg, features, labels, cv=folds, scoring='neg_mean_absolute_error')\n",
    "mse = cross_val_score(baggingreg, features, labels, cv=folds, scoring='neg_mean_squared_error')\n",
    "rmse = cross_val_score(baggingreg, features, labels, cv=folds, scoring='neg_root_mean_squared_error')\n",
    "print(\"Mean Absolute Error (MAE): {}\".format(round(-np.mean(mae), 3)))\n",
    "print(\"Mean Squared Error (MSE): {}\".format(round(-np.mean(mse), 3)))\n",
    "print(\"Root Mean Squared Error (RMSE): {}\".format(round(-np.mean(rmse), 3)))\n",
    "cross_validation_rmse['Bagging'] = round(-np.mean(rmse), 3)\n",
    "baggingreg.fit(train_features, train_labels)"
   ]
  },
  {
   "cell_type": "markdown",
   "metadata": {},
   "source": [
    "#### 5. Ridge Regression"
   ]
  },
  {
   "cell_type": "code",
   "execution_count": 47,
   "metadata": {},
   "outputs": [
    {
     "data": {
      "text/plain": [
       "Ridge()"
      ]
     },
     "execution_count": 47,
     "metadata": {},
     "output_type": "execute_result"
    }
   ],
   "source": [
    "from sklearn.linear_model import Ridge\n",
    "rdgreg = Ridge()\n",
    "rdgreg.fit(train_features, train_labels)"
   ]
  },
  {
   "cell_type": "code",
   "execution_count": 48,
   "metadata": {},
   "outputs": [
    {
     "name": "stdout",
     "output_type": "stream",
     "text": [
      "---- Ridge Regression - Model Evaluation ----\n",
      "Mean Absolute Error (MAE): 13.065\n",
      "Mean Squared Error (MSE): 303.56\n",
      "Root Mean Squared Error (RMSE): 17.422\n"
     ]
    },
    {
     "data": {
      "text/plain": [
       "Ridge()"
      ]
     },
     "execution_count": 48,
     "metadata": {},
     "output_type": "execute_result"
    }
   ],
   "source": [
    "print(\"---- Ridge Regression - Model Evaluation ----\")\n",
    "folds = KFold(n_splits = 7, shuffle = True, random_state = 42)\n",
    "mae = cross_val_score(rdgreg, features, labels, cv=folds, scoring='neg_mean_absolute_error')\n",
    "mse = cross_val_score(rdgreg, features, labels, cv=folds, scoring='neg_mean_squared_error')\n",
    "rmse = cross_val_score(rdgreg, features, labels, cv=folds, scoring='neg_root_mean_squared_error')\n",
    "print(\"Mean Absolute Error (MAE): {}\".format(round(-np.mean(mae), 3)))\n",
    "print(\"Mean Squared Error (MSE): {}\".format(round(-np.mean(mse), 3)))\n",
    "print(\"Root Mean Squared Error (RMSE): {}\".format(round(-np.mean(rmse), 3)))\n",
    "cross_validation_rmse['Ridge'] = round(-np.mean(rmse), 3)\n",
    "rdgreg.fit(train_features, train_labels)"
   ]
  },
  {
   "cell_type": "code",
   "execution_count": 49,
   "metadata": {},
   "outputs": [
    {
     "data": {
      "text/plain": [
       "array([1.00283479e+00, 2.39111907e+00, 1.13745341e+00, 3.12624419e+00,\n",
       "       2.66003836e+00, 3.65226783e+00, 3.34202626e+00, 1.02727828e+00,\n",
       "       2.53499388e-03, 8.64459122e-01, 1.90369611e+00, 3.17694877e+00,\n",
       "       7.24510775e-04, 3.18575658e-01, 5.41142879e-01, 4.49114511e-01,\n",
       "       9.68855290e-01, 4.94907538e+00, 6.41872935e+00, 2.26286799e-02,\n",
       "       1.16703711e+00])"
      ]
     },
     "execution_count": 49,
     "metadata": {},
     "output_type": "execute_result"
    }
   ],
   "source": [
    "coefs = rdgreg.coef_\n",
    "abs_weights = np.abs(coefs)\n",
    "abs_weights"
   ]
  },
  {
   "cell_type": "code",
   "execution_count": 50,
   "metadata": {},
   "outputs": [
    {
     "data": {
      "text/plain": [
       "array([18, 17,  5,  6, 11,  3,  4,  1, 10, 20,  2,  7,  0, 16,  9, 14, 15,\n",
       "       13, 19,  8, 12])"
      ]
     },
     "execution_count": 50,
     "metadata": {},
     "output_type": "execute_result"
    }
   ],
   "source": [
    "sorted_index = np.argsort(abs_weights)[::-1]\n",
    "sorted_index"
   ]
  },
  {
   "cell_type": "code",
   "execution_count": 51,
   "metadata": {},
   "outputs": [
    {
     "name": "stdout",
     "output_type": "stream",
     "text": [
      "Two most important feature names:\n",
      "\n",
      "at index 18, it's 'overs'\n",
      "at index 17, it's 'wickets'\n"
     ]
    }
   ],
   "source": [
    "print(\"Two most important feature names:\\n\")\n",
    "print(\"at index 18, it's 'overs'\")\n",
    "print(\"at index 17, it's 'wickets'\")"
   ]
  },
  {
   "cell_type": "markdown",
   "metadata": {},
   "source": [
    "#### 6. Elastic Net Regression"
   ]
  },
  {
   "cell_type": "code",
   "execution_count": 52,
   "metadata": {},
   "outputs": [
    {
     "data": {
      "text/plain": [
       "ElasticNet()"
      ]
     },
     "execution_count": 52,
     "metadata": {},
     "output_type": "execute_result"
    }
   ],
   "source": [
    "from sklearn.linear_model import ElasticNet\n",
    "elasticreg = ElasticNet()\n",
    "elasticreg.fit(train_features, train_labels)"
   ]
  },
  {
   "cell_type": "code",
   "execution_count": 53,
   "metadata": {},
   "outputs": [
    {
     "name": "stdout",
     "output_type": "stream",
     "text": [
      "---- Elastic Net Regression - Model Evaluation ----\n",
      "Mean Absolute Error (MAE): 13.179\n",
      "Mean Squared Error (MSE): 316.931\n",
      "Root Mean Squared Error (RMSE): 17.802\n"
     ]
    },
    {
     "data": {
      "text/plain": [
       "ElasticNet()"
      ]
     },
     "execution_count": 53,
     "metadata": {},
     "output_type": "execute_result"
    }
   ],
   "source": [
    "print(\"---- Elastic Net Regression - Model Evaluation ----\")\n",
    "folds = KFold(n_splits = 7, shuffle = True, random_state = 42)\n",
    "mae = cross_val_score(elasticreg, features, labels, cv=folds, scoring='neg_mean_absolute_error')\n",
    "mse = cross_val_score(elasticreg, features, labels, cv=folds, scoring='neg_mean_squared_error')\n",
    "rmse = cross_val_score(elasticreg, features, labels, cv=folds, scoring='neg_root_mean_squared_error')\n",
    "print(\"Mean Absolute Error (MAE): {}\".format(round(-np.mean(mae), 3)))\n",
    "print(\"Mean Squared Error (MSE): {}\".format(round(-np.mean(mse), 3)))\n",
    "print(\"Root Mean Squared Error (RMSE): {}\".format(round(-np.mean(rmse), 3)))\n",
    "cross_validation_rmse['Elastic Net'] = round(-np.mean(rmse), 3)\n",
    "elasticreg.fit(train_features, train_labels)"
   ]
  },
  {
   "cell_type": "code",
   "execution_count": 54,
   "metadata": {},
   "outputs": [
    {
     "data": {
      "text/plain": [
       "array([0.00000000e+00, 0.00000000e+00, 0.00000000e+00, 0.00000000e+00,\n",
       "       0.00000000e+00, 0.00000000e+00, 0.00000000e+00, 0.00000000e+00,\n",
       "       0.00000000e+00, 0.00000000e+00, 0.00000000e+00, 2.30094743e-03,\n",
       "       0.00000000e+00, 0.00000000e+00, 0.00000000e+00, 0.00000000e+00,\n",
       "       8.30014935e-01, 4.54666739e+00, 5.39621582e+00, 1.96294808e-01,\n",
       "       6.74031458e-01])"
      ]
     },
     "execution_count": 54,
     "metadata": {},
     "output_type": "execute_result"
    }
   ],
   "source": [
    "coefs = elasticreg.coef_\n",
    "abs_weights = np.abs(coefs)\n",
    "abs_weights"
   ]
  },
  {
   "cell_type": "code",
   "execution_count": 55,
   "metadata": {},
   "outputs": [
    {
     "data": {
      "text/plain": [
       "array([18, 17, 16, 20, 19, 11,  7,  1,  2,  3,  4,  5,  6, 10,  8,  9, 12,\n",
       "       13, 14, 15,  0])"
      ]
     },
     "execution_count": 55,
     "metadata": {},
     "output_type": "execute_result"
    }
   ],
   "source": [
    "sorted_index = np.argsort(abs_weights)[::-1]\n",
    "sorted_index"
   ]
  },
  {
   "cell_type": "code",
   "execution_count": 56,
   "metadata": {},
   "outputs": [
    {
     "name": "stdout",
     "output_type": "stream",
     "text": [
      "Two most important feature names:\n",
      "\n",
      "at index 18, it's 'overs'\n",
      "at index 17, it's 'wickets'\n"
     ]
    }
   ],
   "source": [
    "print(\"Two most important feature names:\\n\")\n",
    "print(\"at index 18, it's 'overs'\")\n",
    "print(\"at index 17, it's 'wickets'\")"
   ]
  },
  {
   "cell_type": "markdown",
   "metadata": {
    "id": "PPjZxiqnT3NC"
   },
   "source": [
    "#### 7. Random Forest Regression"
   ]
  },
  {
   "cell_type": "code",
   "execution_count": 57,
   "metadata": {
    "colab": {
     "base_uri": "https://localhost:8080/"
    },
    "id": "ub06meKxTlZh",
    "outputId": "1517fdfc-b414-47d8-ee6c-a8131df1b584"
   },
   "outputs": [
    {
     "data": {
      "text/plain": [
       "RandomForestRegressor(max_depth=20)"
      ]
     },
     "execution_count": 57,
     "metadata": {},
     "output_type": "execute_result"
    }
   ],
   "source": [
    "from sklearn.ensemble import RandomForestRegressor\n",
    "forest = RandomForestRegressor(max_depth = 20)\n",
    "# Train Model\n",
    "forest.fit(train_features, train_labels)"
   ]
  },
  {
   "cell_type": "code",
   "execution_count": 58,
   "metadata": {
    "colab": {
     "base_uri": "https://localhost:8080/"
    },
    "id": "r82lD-fkebkn",
    "outputId": "e49419bd-39d9-4029-95b5-63f88596bc9c"
   },
   "outputs": [
    {
     "name": "stdout",
     "output_type": "stream",
     "text": [
      "---- Random Forest Regression - Model Evaluation ----\n",
      "Mean Absolute Error (MAE): 4.611\n",
      "Mean Squared Error (MSE): 59.887\n",
      "Root Mean Squared Error (RMSE): 7.734\n"
     ]
    },
    {
     "data": {
      "text/plain": [
       "RandomForestRegressor(max_depth=20)"
      ]
     },
     "execution_count": 58,
     "metadata": {},
     "output_type": "execute_result"
    }
   ],
   "source": [
    "print(\"---- Random Forest Regression - Model Evaluation ----\")\n",
    "folds = KFold(n_splits = 7, shuffle = True, random_state = 42)\n",
    "mae = cross_val_score(forest, features, labels, cv=folds, scoring='neg_mean_absolute_error')\n",
    "mse = cross_val_score(forest, features, labels, cv=folds, scoring='neg_mean_squared_error')\n",
    "rmse = cross_val_score(forest, features, labels, cv=folds, scoring='neg_root_mean_squared_error')\n",
    "print(\"Mean Absolute Error (MAE): {}\".format(round(-np.mean(mae), 3)))\n",
    "print(\"Mean Squared Error (MSE): {}\".format(round(-np.mean(mse), 3)))\n",
    "print(\"Root Mean Squared Error (RMSE): {}\".format(round(-np.mean(rmse), 3)))\n",
    "cross_validation_rmse['Random Forest'] = round(-np.mean(rmse), 3)\n",
    "forest.fit(train_features, train_labels)"
   ]
  },
  {
   "cell_type": "code",
   "execution_count": 59,
   "metadata": {},
   "outputs": [
    {
     "data": {
      "text/plain": [
       "array([0.01198933, 0.01151036, 0.01111429, 0.01117054, 0.012694  ,\n",
       "       0.01126182, 0.01279385, 0.00851057, 0.00839051, 0.01004542,\n",
       "       0.01119149, 0.01162759, 0.01375494, 0.01401362, 0.01296248,\n",
       "       0.00899981, 0.22131345, 0.18782962, 0.08841062, 0.29870584,\n",
       "       0.02170985])"
      ]
     },
     "execution_count": 59,
     "metadata": {},
     "output_type": "execute_result"
    }
   ],
   "source": [
    "coefs = forest.feature_importances_\n",
    "abs_weights = np.abs(coefs)\n",
    "abs_weights"
   ]
  },
  {
   "cell_type": "code",
   "execution_count": 60,
   "metadata": {},
   "outputs": [
    {
     "data": {
      "text/plain": [
       "array([19, 16, 17, 18, 20, 13, 12, 14,  6,  4,  0, 11,  1,  5, 10,  3,  2,\n",
       "        9, 15,  7,  8])"
      ]
     },
     "execution_count": 60,
     "metadata": {},
     "output_type": "execute_result"
    }
   ],
   "source": [
    "sorted_index = np.argsort(abs_weights)[::-1]\n",
    "sorted_index"
   ]
  },
  {
   "cell_type": "code",
   "execution_count": 61,
   "metadata": {},
   "outputs": [
    {
     "name": "stdout",
     "output_type": "stream",
     "text": [
      "Two most important feature names:\n",
      "\n",
      "at index 19, it's 'runs_last_5'\n",
      "at index 16, it's 'runs'\n"
     ]
    }
   ],
   "source": [
    "print(\"Two most important feature names:\\n\")\n",
    "print(\"at index 19, it's 'runs_last_5'\")\n",
    "print(\"at index 16, it's 'runs'\")"
   ]
  },
  {
   "cell_type": "markdown",
   "metadata": {
    "id": "KQ4gOn5nd_31"
   },
   "source": [
    "#### 8. Lasso Regression"
   ]
  },
  {
   "cell_type": "code",
   "execution_count": 62,
   "metadata": {
    "colab": {
     "base_uri": "https://localhost:8080/"
    },
    "id": "FM5UDCyAeHcS",
    "outputId": "48f3c47d-63e5-4df1-b1de-7d83f656e1a5"
   },
   "outputs": [
    {
     "data": {
      "text/plain": [
       "LassoCV()"
      ]
     },
     "execution_count": 62,
     "metadata": {},
     "output_type": "execute_result"
    }
   ],
   "source": [
    "from sklearn.linear_model import LassoCV\n",
    "lasso = LassoCV()\n",
    "# Train Model\n",
    "lasso.fit(train_features, train_labels)"
   ]
  },
  {
   "cell_type": "code",
   "execution_count": 63,
   "metadata": {
    "colab": {
     "base_uri": "https://localhost:8080/"
    },
    "id": "PgQY888hej2W",
    "outputId": "9a85de83-9e86-4412-8538-d4f1239a2a19"
   },
   "outputs": [
    {
     "name": "stdout",
     "output_type": "stream",
     "text": [
      "---- Lasso Regression - Model Evaluation ----\n",
      "Mean Absolute Error (MAE): 13.13\n",
      "Mean Squared Error (MSE): 313.033\n",
      "Root Mean Squared Error (RMSE): 17.692\n"
     ]
    },
    {
     "data": {
      "text/plain": [
       "LassoCV()"
      ]
     },
     "execution_count": 63,
     "metadata": {},
     "output_type": "execute_result"
    }
   ],
   "source": [
    "print(\"---- Lasso Regression - Model Evaluation ----\")\n",
    "folds = KFold(n_splits = 7, shuffle = True, random_state = 42)\n",
    "mae = cross_val_score(lasso, features, labels, cv=folds, scoring='neg_mean_absolute_error')\n",
    "mse = cross_val_score(lasso, features, labels, cv=folds, scoring='neg_mean_squared_error')\n",
    "rmse = cross_val_score(lasso, features, labels, cv=folds, scoring='neg_root_mean_squared_error')\n",
    "print(\"Mean Absolute Error (MAE): {}\".format(round(-np.mean(mae), 3)))\n",
    "print(\"Mean Squared Error (MSE): {}\".format(round(-np.mean(mse), 3)))\n",
    "print(\"Root Mean Squared Error (RMSE): {}\".format(round(-np.mean(rmse), 3)))\n",
    "cross_validation_rmse['Lasso'] = round(-np.mean(rmse), 3)\n",
    "lasso.fit(train_features, train_labels)"
   ]
  },
  {
   "cell_type": "code",
   "execution_count": 64,
   "metadata": {},
   "outputs": [
    {
     "data": {
      "text/plain": [
       "array([0.        , 0.        , 0.        , 0.        , 0.        ,\n",
       "       0.02964475, 0.        , 0.        , 0.        , 0.        ,\n",
       "       0.        , 0.23584494, 0.        , 0.        , 0.        ,\n",
       "       0.        , 0.92486824, 5.21452456, 6.04204909, 0.0510481 ,\n",
       "       0.50425327])"
      ]
     },
     "execution_count": 64,
     "metadata": {},
     "output_type": "execute_result"
    }
   ],
   "source": [
    "coefs = lasso.coef_\n",
    "abs_weights = np.abs(coefs)\n",
    "abs_weights"
   ]
  },
  {
   "cell_type": "code",
   "execution_count": 65,
   "metadata": {},
   "outputs": [
    {
     "data": {
      "text/plain": [
       "array([18, 17, 16, 20, 11, 19,  5,  7,  1,  2,  3,  4,  6, 10,  8,  9, 12,\n",
       "       13, 14, 15,  0])"
      ]
     },
     "execution_count": 65,
     "metadata": {},
     "output_type": "execute_result"
    }
   ],
   "source": [
    "sorted_index = np.argsort(abs_weights)[::-1]\n",
    "sorted_index"
   ]
  },
  {
   "cell_type": "code",
   "execution_count": 66,
   "metadata": {},
   "outputs": [
    {
     "name": "stdout",
     "output_type": "stream",
     "text": [
      "Two most important feature names:\n",
      "\n",
      "at index 18, it's 'overs'\n",
      "at index 17, it's 'wickets'\n"
     ]
    }
   ],
   "source": [
    "print(\"Two most important feature names:\\n\")\n",
    "print(\"at index 18, it's 'overs'\")\n",
    "print(\"at index 17, it's 'wickets'\")"
   ]
  },
  {
   "cell_type": "markdown",
   "metadata": {},
   "source": [
    "#### 9. Kernel Ridge Regression"
   ]
  },
  {
   "cell_type": "code",
   "execution_count": 67,
   "metadata": {},
   "outputs": [
    {
     "data": {
      "text/plain": [
       "KernelRidge()"
      ]
     },
     "execution_count": 67,
     "metadata": {},
     "output_type": "execute_result"
    }
   ],
   "source": [
    "from sklearn.kernel_ridge import KernelRidge\n",
    "krreg = KernelRidge(kernel=\"linear\")\n",
    "krreg.fit(train_features, train_labels)"
   ]
  },
  {
   "cell_type": "code",
   "execution_count": 68,
   "metadata": {},
   "outputs": [
    {
     "name": "stdout",
     "output_type": "stream",
     "text": [
      "---- Kernel Ridge Regression - Model Evaluation ----\n",
      "Mean Absolute Error (MAE): 13.067\n",
      "Mean Squared Error (MSE): 303.603\n",
      "Root Mean Squared Error (RMSE): 17.424\n"
     ]
    },
    {
     "data": {
      "text/plain": [
       "KernelRidge()"
      ]
     },
     "execution_count": 68,
     "metadata": {},
     "output_type": "execute_result"
    }
   ],
   "source": [
    "print(\"---- Kernel Ridge Regression - Model Evaluation ----\")\n",
    "folds = KFold(n_splits = 3, shuffle = True, random_state = 42)\n",
    "mae = cross_val_score(krreg, features, labels, cv=folds, scoring='neg_mean_absolute_error')\n",
    "mse = cross_val_score(krreg, features, labels, cv=folds, scoring='neg_mean_squared_error')\n",
    "rmse = cross_val_score(krreg, features, labels, cv=folds, scoring='neg_root_mean_squared_error')\n",
    "print(\"Mean Absolute Error (MAE): {}\".format(round(-np.mean(mae), 3)))\n",
    "print(\"Mean Squared Error (MSE): {}\".format(round(-np.mean(mse), 3)))\n",
    "print(\"Root Mean Squared Error (RMSE): {}\".format(round(-np.mean(rmse), 3)))\n",
    "cross_validation_rmse['Kernel Ridge'] = round(-np.mean(rmse), 3)\n",
    "krreg.fit(train_features, train_labels)"
   ]
  },
  {
   "cell_type": "markdown",
   "metadata": {
    "id": "64qH8gtlev5U"
   },
   "source": [
    "#### 10. Support Vector Machine"
   ]
  },
  {
   "cell_type": "code",
   "execution_count": 69,
   "metadata": {
    "colab": {
     "base_uri": "https://localhost:8080/"
    },
    "id": "YzJJ9DUUezZj",
    "outputId": "776bee60-752e-4713-ef65-e241da87c4a8"
   },
   "outputs": [
    {
     "data": {
      "text/plain": [
       "SVR(kernel='linear')"
      ]
     },
     "execution_count": 69,
     "metadata": {},
     "output_type": "execute_result"
    }
   ],
   "source": [
    "from sklearn.svm import SVR\n",
    "svm = SVR(kernel='linear')\n",
    "# Train Model\n",
    "svm.fit(train_features, train_labels)"
   ]
  },
  {
   "cell_type": "code",
   "execution_count": 70,
   "metadata": {
    "colab": {
     "base_uri": "https://localhost:8080/"
    },
    "id": "5fSWYF30jxLr",
    "outputId": "7387988f-2dd7-4e95-a6c2-4e24ecefd45f"
   },
   "outputs": [
    {
     "name": "stdout",
     "output_type": "stream",
     "text": [
      "---- Support Vector Regression - Model Evaluation ----\n",
      "Mean Absolute Error (MAE): 12.869\n",
      "Mean Squared Error (MSE): 312.557\n",
      "Root Mean Squared Error (RMSE): 17.679\n"
     ]
    },
    {
     "data": {
      "text/plain": [
       "SVR(kernel='linear')"
      ]
     },
     "execution_count": 70,
     "metadata": {},
     "output_type": "execute_result"
    }
   ],
   "source": [
    "print(\"---- Support Vector Regression - Model Evaluation ----\")\n",
    "folds = KFold(n_splits = 3, shuffle = True, random_state = 42)\n",
    "mae = cross_val_score(svm, features, labels, cv=folds, scoring='neg_mean_absolute_error')\n",
    "mse = cross_val_score(svm, features, labels, cv=folds, scoring='neg_mean_squared_error')\n",
    "rmse = cross_val_score(svm, features, labels, cv=folds, scoring='neg_root_mean_squared_error')\n",
    "print(\"Mean Absolute Error (MAE): {}\".format(round(-np.mean(mae), 3)))\n",
    "print(\"Mean Squared Error (MSE): {}\".format(round(-np.mean(mse), 3)))\n",
    "print(\"Root Mean Squared Error (RMSE): {}\".format(round(-np.mean(rmse), 3)))\n",
    "cross_validation_rmse['Support Vector Machine'] = round(-np.mean(rmse), 3)\n",
    "svm.fit(train_features, train_labels)"
   ]
  },
  {
   "cell_type": "code",
   "execution_count": 71,
   "metadata": {},
   "outputs": [
    {
     "data": {
      "text/plain": [
       "array([[2.77526202e-02, 6.98640862e-01, 1.99270053e-01, 1.53576947e+00,\n",
       "        2.05359728e+00, 2.25367364e+00, 2.10702082e+00, 4.98983318e-01,\n",
       "        3.13184524e-01, 1.03391104e+00, 1.96276773e+00, 1.98640637e+00,\n",
       "        1.90120467e-01, 4.01224120e-01, 1.42797825e+00, 2.54033152e+00,\n",
       "        9.71091734e-01, 3.40443141e+00, 7.13107283e+00, 5.57197193e-03,\n",
       "        9.16815290e-01]])"
      ]
     },
     "execution_count": 71,
     "metadata": {},
     "output_type": "execute_result"
    }
   ],
   "source": [
    "coefs = svm.coef_\n",
    "abs_weights = np.abs(coefs)\n",
    "abs_weights"
   ]
  },
  {
   "cell_type": "code",
   "execution_count": 72,
   "metadata": {},
   "outputs": [
    {
     "data": {
      "text/plain": [
       "array([[19,  0, 12,  2,  8, 13,  7,  1, 20, 16,  9, 14,  3, 10, 11,  4,\n",
       "         6,  5, 15, 17, 18]])"
      ]
     },
     "execution_count": 72,
     "metadata": {},
     "output_type": "execute_result"
    }
   ],
   "source": [
    "sorted_index = np.argsort(abs_weights)[::-1]\n",
    "sorted_index"
   ]
  },
  {
   "cell_type": "code",
   "execution_count": 73,
   "metadata": {},
   "outputs": [
    {
     "name": "stdout",
     "output_type": "stream",
     "text": [
      "Two most important feature names:\n",
      "\n",
      "at index 19, it's 'runs_last_5'\n",
      "at index 0, it's 'batting_team_Chennai Super Kings'\n"
     ]
    }
   ],
   "source": [
    "print(\"Two most important feature names:\\n\")\n",
    "print(\"at index 19, it's 'runs_last_5'\")\n",
    "print(\"at index 0, it's 'batting_team_Chennai Super Kings'\")"
   ]
  },
  {
   "cell_type": "markdown",
   "metadata": {
    "id": "rRroeuZElfea"
   },
   "source": [
    "#### 11. Neural Networks"
   ]
  },
  {
   "cell_type": "code",
   "execution_count": 86,
   "metadata": {
    "colab": {
     "base_uri": "https://localhost:8080/"
    },
    "id": "YMQL5K7EkAuB",
    "outputId": "4be4a1a0-46f9-475f-e48c-9c27c68325fe"
   },
   "outputs": [
    {
     "data": {
      "text/plain": [
       "MLPRegressor(max_iter=1000)"
      ]
     },
     "execution_count": 86,
     "metadata": {},
     "output_type": "execute_result"
    }
   ],
   "source": [
    "from sklearn.neural_network import MLPRegressor\n",
    "neural_net = MLPRegressor(max_iter=1000)\n",
    "# Train Model\n",
    "neural_net.fit(train_features, train_labels)"
   ]
  },
  {
   "cell_type": "code",
   "execution_count": 87,
   "metadata": {
    "colab": {
     "base_uri": "https://localhost:8080/"
    },
    "id": "1xhaNnp-kRkG",
    "outputId": "57becd58-0456-43b4-c3f4-c881f95d11ab"
   },
   "outputs": [
    {
     "name": "stdout",
     "output_type": "stream",
     "text": [
      "---- Neural Networks Regression - Model Evaluation ----\n",
      "Mean Absolute Error (MAE): 10.581\n",
      "Mean Squared Error (MSE): 219.629\n",
      "Root Mean Squared Error (RMSE): 14.333\n"
     ]
    },
    {
     "data": {
      "text/plain": [
       "MLPRegressor(max_iter=1000)"
      ]
     },
     "execution_count": 87,
     "metadata": {},
     "output_type": "execute_result"
    }
   ],
   "source": [
    "print(\"---- Neural Networks Regression - Model Evaluation ----\")\n",
    "folds = KFold(n_splits = 3, shuffle = True, random_state = 42)\n",
    "mae = cross_val_score(neural_net, features, labels, cv=folds, scoring='neg_mean_absolute_error')\n",
    "mse = cross_val_score(neural_net, features, labels, cv=folds, scoring='neg_mean_squared_error')\n",
    "rmse = cross_val_score(neural_net, features, labels, cv=folds, scoring='neg_root_mean_squared_error')\n",
    "print(\"Mean Absolute Error (MAE): {}\".format(round(-np.mean(mae), 3)))\n",
    "print(\"Mean Squared Error (MSE): {}\".format(round(-np.mean(mse), 3)))\n",
    "print(\"Root Mean Squared Error (RMSE): {}\".format(round(-np.mean(rmse), 3)))\n",
    "cross_validation_rmse['MLP'] = round(-np.mean(rmse), 3)\n",
    "neural_net.fit(train_features, train_labels)"
   ]
  },
  {
   "cell_type": "markdown",
   "metadata": {
    "id": "_iUiJYZzpF0e"
   },
   "source": [
    "## Most important Features"
   ]
  },
  {
   "cell_type": "code",
   "execution_count": 96,
   "metadata": {
    "scrolled": true
   },
   "outputs": [
    {
     "data": {
      "image/png": "[encoded data removed]",
      "text/plain": [
       "<Figure size 3600x1440 with 1 Axes>"
      ]
     },
     "metadata": {
      "needs_background": "light"
     },
     "output_type": "display_data"
    }
   ],
   "source": [
    "import matplotlib.pyplot as plt\n",
    "keys = ['runs_last_5', 'runs', 'overs', 'wickets', 'batting_team_Chennai Super Kings']\n",
    "values = [4, 2, 4, 5, 1]\n",
    "int_values = []\n",
    "for i in values:\n",
    "    int_values.append(float(i))\n",
    "x = np.arange(len(keys))  # the label locations\n",
    "width = 0.35  # the width of the bars\n",
    "fig, ax = plt.subplots(figsize=(50, 20))\n",
    "\n",
    "rects1 = ax.bar(x, int_values, width, label='Count')\n",
    "ax.set_ylabel('% Appearance count among regression methods applied------>', fontsize=40)\n",
    "ax.set_xlabel('Features appeared in top 2 most important features ------>', fontsize=40)\n",
    "ax.set_title('Most Important Features vs Count of appearance among regression methods applied', fontsize=50)\n",
    "ax.set_xticks(x)\n",
    "ax.set_xticklabels(keys, fontsize=40)\n",
    "ax.legend()\n",
    "\n",
    "plt.yticks(np.arange(6, step=1), fontsize=40)\n",
    "fig.tight_layout()\n",
    "\n",
    "plt.show()"
   ]
  },
  {
   "cell_type": "markdown",
   "metadata": {},
   "source": [
    "### From above, we can see that **wickets** is the most important feature for multiple regression models applied here, closely followed by **overs** and **runs_last_5**."
   ]
  },
  {
   "cell_type": "markdown",
   "metadata": {},
   "source": [
    "## Best Model Selection"
   ]
  },
  {
   "cell_type": "code",
   "execution_count": 90,
   "metadata": {
    "scrolled": true
   },
   "outputs": [
    {
     "data": {
      "image/png": "[encoded data removed]",
      "text/plain": [
       "<Figure size 3600x1440 with 1 Axes>"
      ]
     },
     "metadata": {
      "needs_background": "light"
     },
     "output_type": "display_data"
    }
   ],
   "source": [
    "import matplotlib.pyplot as plt\n",
    "keys = list(cross_validation_rmse.keys())\n",
    "values = list(cross_validation_rmse.values())\n",
    "int_values = []\n",
    "for i in values:\n",
    "    int_values.append(float(i))\n",
    "x = np.arange(len(keys))  # the label locations\n",
    "width = 0.35  # the width of the bars\n",
    "fig, ax = plt.subplots(figsize=(50, 20))\n",
    "\n",
    "rects1 = ax.bar(x, int_values, width, label='Errors')\n",
    "ax.set_ylabel('% Cross Validation Root Mean Square Errors ------>', fontsize=40)\n",
    "ax.set_xlabel('Regression Methods ------>', fontsize=40)\n",
    "ax.set_title('Regresion methods vs % Cross Validation Root Mean Square Errors for predicting total runs in IPL cricket matches', fontsize=50)\n",
    "ax.set_xticks(x)\n",
    "ax.set_xticklabels(keys, fontsize=40)\n",
    "ax.legend()\n",
    "\n",
    "plt.yticks(np.arange(20, step=1), fontsize=40)\n",
    "fig.tight_layout()\n",
    "\n",
    "plt.show()"
   ]
  },
  {
   "cell_type": "code",
   "execution_count": 91,
   "metadata": {},
   "outputs": [
    {
     "data": {
      "text/plain": [
       "{'Decision Tree': 10.817,\n",
       " 'Linear Regression': 17.422,\n",
       " 'Gradient Boost': 16.715,\n",
       " 'Bagging': 8.045,\n",
       " 'Ridge': 17.422,\n",
       " 'Elastic Net': 17.802,\n",
       " 'Random Forest': 7.734,\n",
       " 'Lasso': 17.692,\n",
       " 'Kernel Ridge': 17.424,\n",
       " 'Support Vector Machine': 17.679,\n",
       " 'MLP': 14.333}"
      ]
     },
     "execution_count": 91,
     "metadata": {},
     "output_type": "execute_result"
    }
   ],
   "source": [
    "cross_validation_rmse"
   ]
  },
  {
   "cell_type": "markdown",
   "metadata": {
    "id": "1aZkPTi3rlzP"
   },
   "source": [
    "### From above, we can see that **Random Forest** has the least RMSE, closely followed by **Bagging**, **Decision Tree**, and **Multi Layer Perceptron**. So we will be choosing Random Forest as our final model for making score predictions."
   ]
  },
  {
   "cell_type": "markdown",
   "metadata": {
    "id": "ZXZ8NE5hgbd2"
   },
   "source": [
    "# Predictions"
   ]
  },
  {
   "cell_type": "code",
   "execution_count": 97,
   "metadata": {
    "id": "QrWfMFKCU7Zu"
   },
   "outputs": [],
   "source": [
    "def predict_score(batting_team, bowling_team, runs, wickets, overs, runs_last_5, wickets_last_5, model=forest):\n",
    "    prediction_array = []\n",
    "    # Batting Team\n",
    "    if batting_team == 'Chennai Super Kings':\n",
    "        prediction_array = prediction_array + [1,0,0,0,0,0,0,0]\n",
    "    elif batting_team == 'Delhi Daredevils':\n",
    "        prediction_array = prediction_array + [0,1,0,0,0,0,0,0]\n",
    "    elif batting_team == 'Kings XI Punjab':\n",
    "        prediction_array = prediction_array + [0,0,1,0,0,0,0,0]\n",
    "    elif batting_team == 'Kolkata Knight Riders':\n",
    "        prediction_array = prediction_array + [0,0,0,1,0,0,0,0]\n",
    "    elif batting_team == 'Mumbai Indians':\n",
    "        prediction_array = prediction_array + [0,0,0,0,1,0,0,0]\n",
    "    elif batting_team == 'Rajasthan Royals':\n",
    "        prediction_array = prediction_array + [0,0,0,0,0,1,0,0]\n",
    "    elif batting_team == 'Royal Challengers Bangalore':\n",
    "        prediction_array = prediction_array + [0,0,0,0,0,0,1,0]\n",
    "    elif batting_team == 'Sunrisers Hyderabad':\n",
    "        prediction_array = prediction_array + [0,0,0,0,0,0,0,1]\n",
    "  # Bowling Team\n",
    "    if bowling_team == 'Chennai Super Kings':\n",
    "        prediction_array = prediction_array + [1,0,0,0,0,0,0,0]\n",
    "    elif bowling_team == 'Delhi Daredevils':\n",
    "        prediction_array = prediction_array + [0,1,0,0,0,0,0,0]\n",
    "    elif bowling_team == 'Kings XI Punjab':\n",
    "        prediction_array = prediction_array + [0,0,1,0,0,0,0,0]\n",
    "    elif bowling_team == 'Kolkata Knight Riders':\n",
    "        prediction_array = prediction_array + [0,0,0,1,0,0,0,0]\n",
    "    elif bowling_team == 'Mumbai Indians':\n",
    "        prediction_array = prediction_array + [0,0,0,0,1,0,0,0]\n",
    "    elif bowling_team == 'Rajasthan Royals':\n",
    "        prediction_array = prediction_array + [0,0,0,0,0,1,0,0]\n",
    "    elif bowling_team == 'Royal Challengers Bangalore':\n",
    "        prediction_array = prediction_array + [0,0,0,0,0,0,1,0]\n",
    "    elif bowling_team == 'Sunrisers Hyderabad':\n",
    "        prediction_array = prediction_array + [0,0,0,0,0,0,0,1]\n",
    "    prediction_array = prediction_array + [runs, wickets, overs, runs_last_5, wickets_last_5]\n",
    "    prediction_array = np.array([prediction_array])\n",
    "    pred = model.predict(prediction_array)\n",
    "    return int(round(pred[0]))"
   ]
  },
  {
   "cell_type": "code",
   "execution_count": 98,
   "metadata": {},
   "outputs": [],
   "source": [
    "pd.set_option('display.max_rows', False)\n",
    "pd.set_option('display.max_columns', False)"
   ]
  },
  {
   "cell_type": "code",
   "execution_count": 99,
   "metadata": {},
   "outputs": [
    {
     "data": {
      "text/html": [
       "<div>\n",
       "<style scoped>\n",
       "    .dataframe tbody tr th:only-of-type {\n",
       "        vertical-align: middle;\n",
       "    }\n",
       "\n",
       "    .dataframe tbody tr th {\n",
       "        vertical-align: top;\n",
       "    }\n",
       "\n",
       "    .dataframe thead th {\n",
       "        text-align: right;\n",
       "    }\n",
       "</style>\n",
       "<table border=\"1\" class=\"dataframe\">\n",
       "  <thead>\n",
       "    <tr style=\"text-align: right;\">\n",
       "      <th></th>\n",
       "      <th>batting_team_Chennai Super Kings</th>\n",
       "      <th>batting_team_Delhi Daredevils</th>\n",
       "      <th>batting_team_Kings XI Punjab</th>\n",
       "      <th>batting_team_Kolkata Knight Riders</th>\n",
       "      <th>batting_team_Mumbai Indians</th>\n",
       "      <th>batting_team_Rajasthan Royals</th>\n",
       "      <th>batting_team_Royal Challengers Bangalore</th>\n",
       "      <th>batting_team_Sunrisers Hyderabad</th>\n",
       "      <th>bowling_team_Chennai Super Kings</th>\n",
       "      <th>bowling_team_Delhi Daredevils</th>\n",
       "      <th>bowling_team_Kings XI Punjab</th>\n",
       "      <th>bowling_team_Kolkata Knight Riders</th>\n",
       "      <th>bowling_team_Mumbai Indians</th>\n",
       "      <th>bowling_team_Rajasthan Royals</th>\n",
       "      <th>bowling_team_Royal Challengers Bangalore</th>\n",
       "      <th>bowling_team_Sunrisers Hyderabad</th>\n",
       "      <th>runs</th>\n",
       "      <th>wickets</th>\n",
       "      <th>overs</th>\n",
       "      <th>runs_last_5</th>\n",
       "      <th>wickets_last_5</th>\n",
       "    </tr>\n",
       "  </thead>\n",
       "  <tbody>\n",
       "    <tr>\n",
       "      <th>33343</th>\n",
       "      <td>0.0</td>\n",
       "      <td>0.0</td>\n",
       "      <td>0.0</td>\n",
       "      <td>0.0</td>\n",
       "      <td>0.0</td>\n",
       "      <td>0.0</td>\n",
       "      <td>1.0</td>\n",
       "      <td>0.0</td>\n",
       "      <td>0.0</td>\n",
       "      <td>0.0</td>\n",
       "      <td>0.0</td>\n",
       "      <td>0.0</td>\n",
       "      <td>1.0</td>\n",
       "      <td>0.0</td>\n",
       "      <td>0.0</td>\n",
       "      <td>0.0</td>\n",
       "      <td>88.0</td>\n",
       "      <td>1.0</td>\n",
       "      <td>10.1</td>\n",
       "      <td>57.0</td>\n",
       "      <td>0.0</td>\n",
       "    </tr>\n",
       "    <tr>\n",
       "      <th>12346</th>\n",
       "      <td>0.0</td>\n",
       "      <td>0.0</td>\n",
       "      <td>0.0</td>\n",
       "      <td>1.0</td>\n",
       "      <td>0.0</td>\n",
       "      <td>0.0</td>\n",
       "      <td>0.0</td>\n",
       "      <td>0.0</td>\n",
       "      <td>0.0</td>\n",
       "      <td>0.0</td>\n",
       "      <td>0.0</td>\n",
       "      <td>0.0</td>\n",
       "      <td>0.0</td>\n",
       "      <td>0.0</td>\n",
       "      <td>1.0</td>\n",
       "      <td>0.0</td>\n",
       "      <td>69.0</td>\n",
       "      <td>1.0</td>\n",
       "      <td>8.5</td>\n",
       "      <td>26.0</td>\n",
       "      <td>1.0</td>\n",
       "    </tr>\n",
       "    <tr>\n",
       "      <th>29999</th>\n",
       "      <td>0.0</td>\n",
       "      <td>1.0</td>\n",
       "      <td>0.0</td>\n",
       "      <td>0.0</td>\n",
       "      <td>0.0</td>\n",
       "      <td>0.0</td>\n",
       "      <td>0.0</td>\n",
       "      <td>0.0</td>\n",
       "      <td>0.0</td>\n",
       "      <td>0.0</td>\n",
       "      <td>0.0</td>\n",
       "      <td>0.0</td>\n",
       "      <td>0.0</td>\n",
       "      <td>1.0</td>\n",
       "      <td>0.0</td>\n",
       "      <td>0.0</td>\n",
       "      <td>113.0</td>\n",
       "      <td>2.0</td>\n",
       "      <td>13.6</td>\n",
       "      <td>31.0</td>\n",
       "      <td>1.0</td>\n",
       "    </tr>\n",
       "    <tr>\n",
       "      <th>32705</th>\n",
       "      <td>0.0</td>\n",
       "      <td>0.0</td>\n",
       "      <td>0.0</td>\n",
       "      <td>1.0</td>\n",
       "      <td>0.0</td>\n",
       "      <td>0.0</td>\n",
       "      <td>0.0</td>\n",
       "      <td>0.0</td>\n",
       "      <td>0.0</td>\n",
       "      <td>0.0</td>\n",
       "      <td>0.0</td>\n",
       "      <td>0.0</td>\n",
       "      <td>0.0</td>\n",
       "      <td>0.0</td>\n",
       "      <td>0.0</td>\n",
       "      <td>1.0</td>\n",
       "      <td>92.0</td>\n",
       "      <td>3.0</td>\n",
       "      <td>12.1</td>\n",
       "      <td>31.0</td>\n",
       "      <td>2.0</td>\n",
       "    </tr>\n",
       "    <tr>\n",
       "      <th>40036</th>\n",
       "      <td>0.0</td>\n",
       "      <td>0.0</td>\n",
       "      <td>0.0</td>\n",
       "      <td>1.0</td>\n",
       "      <td>0.0</td>\n",
       "      <td>0.0</td>\n",
       "      <td>0.0</td>\n",
       "      <td>0.0</td>\n",
       "      <td>0.0</td>\n",
       "      <td>0.0</td>\n",
       "      <td>0.0</td>\n",
       "      <td>0.0</td>\n",
       "      <td>1.0</td>\n",
       "      <td>0.0</td>\n",
       "      <td>0.0</td>\n",
       "      <td>0.0</td>\n",
       "      <td>32.0</td>\n",
       "      <td>5.0</td>\n",
       "      <td>7.2</td>\n",
       "      <td>22.0</td>\n",
       "      <td>4.0</td>\n",
       "    </tr>\n",
       "    <tr>\n",
       "      <th>28053</th>\n",
       "      <td>0.0</td>\n",
       "      <td>1.0</td>\n",
       "      <td>0.0</td>\n",
       "      <td>0.0</td>\n",
       "      <td>0.0</td>\n",
       "      <td>0.0</td>\n",
       "      <td>0.0</td>\n",
       "      <td>0.0</td>\n",
       "      <td>0.0</td>\n",
       "      <td>0.0</td>\n",
       "      <td>1.0</td>\n",
       "      <td>0.0</td>\n",
       "      <td>0.0</td>\n",
       "      <td>0.0</td>\n",
       "      <td>0.0</td>\n",
       "      <td>0.0</td>\n",
       "      <td>92.0</td>\n",
       "      <td>2.0</td>\n",
       "      <td>11.6</td>\n",
       "      <td>26.0</td>\n",
       "      <td>1.0</td>\n",
       "    </tr>\n",
       "    <tr>\n",
       "      <th>3840</th>\n",
       "      <td>0.0</td>\n",
       "      <td>0.0</td>\n",
       "      <td>0.0</td>\n",
       "      <td>0.0</td>\n",
       "      <td>1.0</td>\n",
       "      <td>0.0</td>\n",
       "      <td>0.0</td>\n",
       "      <td>0.0</td>\n",
       "      <td>1.0</td>\n",
       "      <td>0.0</td>\n",
       "      <td>0.0</td>\n",
       "      <td>0.0</td>\n",
       "      <td>0.0</td>\n",
       "      <td>0.0</td>\n",
       "      <td>0.0</td>\n",
       "      <td>0.0</td>\n",
       "      <td>59.0</td>\n",
       "      <td>1.0</td>\n",
       "      <td>9.3</td>\n",
       "      <td>27.0</td>\n",
       "      <td>1.0</td>\n",
       "    </tr>\n",
       "    <tr>\n",
       "      <th>21822</th>\n",
       "      <td>0.0</td>\n",
       "      <td>0.0</td>\n",
       "      <td>0.0</td>\n",
       "      <td>0.0</td>\n",
       "      <td>0.0</td>\n",
       "      <td>1.0</td>\n",
       "      <td>0.0</td>\n",
       "      <td>0.0</td>\n",
       "      <td>0.0</td>\n",
       "      <td>0.0</td>\n",
       "      <td>0.0</td>\n",
       "      <td>1.0</td>\n",
       "      <td>0.0</td>\n",
       "      <td>0.0</td>\n",
       "      <td>0.0</td>\n",
       "      <td>0.0</td>\n",
       "      <td>123.0</td>\n",
       "      <td>5.0</td>\n",
       "      <td>18.6</td>\n",
       "      <td>26.0</td>\n",
       "      <td>1.0</td>\n",
       "    </tr>\n",
       "    <tr>\n",
       "      <th>37108</th>\n",
       "      <td>0.0</td>\n",
       "      <td>1.0</td>\n",
       "      <td>0.0</td>\n",
       "      <td>0.0</td>\n",
       "      <td>0.0</td>\n",
       "      <td>0.0</td>\n",
       "      <td>0.0</td>\n",
       "      <td>0.0</td>\n",
       "      <td>0.0</td>\n",
       "      <td>0.0</td>\n",
       "      <td>0.0</td>\n",
       "      <td>0.0</td>\n",
       "      <td>0.0</td>\n",
       "      <td>0.0</td>\n",
       "      <td>1.0</td>\n",
       "      <td>0.0</td>\n",
       "      <td>98.0</td>\n",
       "      <td>5.0</td>\n",
       "      <td>14.5</td>\n",
       "      <td>22.0</td>\n",
       "      <td>2.0</td>\n",
       "    </tr>\n",
       "    <tr>\n",
       "      <th>...</th>\n",
       "      <td>...</td>\n",
       "      <td>...</td>\n",
       "      <td>...</td>\n",
       "      <td>...</td>\n",
       "      <td>...</td>\n",
       "      <td>...</td>\n",
       "      <td>...</td>\n",
       "      <td>...</td>\n",
       "      <td>...</td>\n",
       "      <td>...</td>\n",
       "      <td>...</td>\n",
       "      <td>...</td>\n",
       "      <td>...</td>\n",
       "      <td>...</td>\n",
       "      <td>...</td>\n",
       "      <td>...</td>\n",
       "      <td>...</td>\n",
       "      <td>...</td>\n",
       "      <td>...</td>\n",
       "      <td>...</td>\n",
       "      <td>...</td>\n",
       "    </tr>\n",
       "    <tr>\n",
       "      <th>13079</th>\n",
       "      <td>0.0</td>\n",
       "      <td>0.0</td>\n",
       "      <td>0.0</td>\n",
       "      <td>0.0</td>\n",
       "      <td>0.0</td>\n",
       "      <td>0.0</td>\n",
       "      <td>1.0</td>\n",
       "      <td>0.0</td>\n",
       "      <td>0.0</td>\n",
       "      <td>0.0</td>\n",
       "      <td>1.0</td>\n",
       "      <td>0.0</td>\n",
       "      <td>0.0</td>\n",
       "      <td>0.0</td>\n",
       "      <td>0.0</td>\n",
       "      <td>0.0</td>\n",
       "      <td>49.0</td>\n",
       "      <td>1.0</td>\n",
       "      <td>6.1</td>\n",
       "      <td>40.0</td>\n",
       "      <td>1.0</td>\n",
       "    </tr>\n",
       "    <tr>\n",
       "      <th>35479</th>\n",
       "      <td>0.0</td>\n",
       "      <td>0.0</td>\n",
       "      <td>0.0</td>\n",
       "      <td>0.0</td>\n",
       "      <td>1.0</td>\n",
       "      <td>0.0</td>\n",
       "      <td>0.0</td>\n",
       "      <td>0.0</td>\n",
       "      <td>0.0</td>\n",
       "      <td>0.0</td>\n",
       "      <td>1.0</td>\n",
       "      <td>0.0</td>\n",
       "      <td>0.0</td>\n",
       "      <td>0.0</td>\n",
       "      <td>0.0</td>\n",
       "      <td>0.0</td>\n",
       "      <td>31.0</td>\n",
       "      <td>1.0</td>\n",
       "      <td>5.2</td>\n",
       "      <td>30.0</td>\n",
       "      <td>0.0</td>\n",
       "    </tr>\n",
       "    <tr>\n",
       "      <th>38206</th>\n",
       "      <td>0.0</td>\n",
       "      <td>1.0</td>\n",
       "      <td>0.0</td>\n",
       "      <td>0.0</td>\n",
       "      <td>0.0</td>\n",
       "      <td>0.0</td>\n",
       "      <td>0.0</td>\n",
       "      <td>0.0</td>\n",
       "      <td>0.0</td>\n",
       "      <td>0.0</td>\n",
       "      <td>0.0</td>\n",
       "      <td>1.0</td>\n",
       "      <td>0.0</td>\n",
       "      <td>0.0</td>\n",
       "      <td>0.0</td>\n",
       "      <td>0.0</td>\n",
       "      <td>84.0</td>\n",
       "      <td>2.0</td>\n",
       "      <td>10.1</td>\n",
       "      <td>33.0</td>\n",
       "      <td>2.0</td>\n",
       "    </tr>\n",
       "    <tr>\n",
       "      <th>18340</th>\n",
       "      <td>1.0</td>\n",
       "      <td>0.0</td>\n",
       "      <td>0.0</td>\n",
       "      <td>0.0</td>\n",
       "      <td>0.0</td>\n",
       "      <td>0.0</td>\n",
       "      <td>0.0</td>\n",
       "      <td>0.0</td>\n",
       "      <td>0.0</td>\n",
       "      <td>0.0</td>\n",
       "      <td>0.0</td>\n",
       "      <td>0.0</td>\n",
       "      <td>1.0</td>\n",
       "      <td>0.0</td>\n",
       "      <td>0.0</td>\n",
       "      <td>0.0</td>\n",
       "      <td>47.0</td>\n",
       "      <td>2.0</td>\n",
       "      <td>8.6</td>\n",
       "      <td>33.0</td>\n",
       "      <td>0.0</td>\n",
       "    </tr>\n",
       "    <tr>\n",
       "      <th>23082</th>\n",
       "      <td>0.0</td>\n",
       "      <td>0.0</td>\n",
       "      <td>0.0</td>\n",
       "      <td>0.0</td>\n",
       "      <td>0.0</td>\n",
       "      <td>0.0</td>\n",
       "      <td>0.0</td>\n",
       "      <td>1.0</td>\n",
       "      <td>0.0</td>\n",
       "      <td>0.0</td>\n",
       "      <td>0.0</td>\n",
       "      <td>0.0</td>\n",
       "      <td>1.0</td>\n",
       "      <td>0.0</td>\n",
       "      <td>0.0</td>\n",
       "      <td>0.0</td>\n",
       "      <td>113.0</td>\n",
       "      <td>2.0</td>\n",
       "      <td>13.3</td>\n",
       "      <td>37.0</td>\n",
       "      <td>1.0</td>\n",
       "    </tr>\n",
       "    <tr>\n",
       "      <th>33920</th>\n",
       "      <td>0.0</td>\n",
       "      <td>0.0</td>\n",
       "      <td>0.0</td>\n",
       "      <td>0.0</td>\n",
       "      <td>0.0</td>\n",
       "      <td>1.0</td>\n",
       "      <td>0.0</td>\n",
       "      <td>0.0</td>\n",
       "      <td>0.0</td>\n",
       "      <td>0.0</td>\n",
       "      <td>0.0</td>\n",
       "      <td>1.0</td>\n",
       "      <td>0.0</td>\n",
       "      <td>0.0</td>\n",
       "      <td>0.0</td>\n",
       "      <td>0.0</td>\n",
       "      <td>83.0</td>\n",
       "      <td>1.0</td>\n",
       "      <td>7.5</td>\n",
       "      <td>52.0</td>\n",
       "      <td>1.0</td>\n",
       "    </tr>\n",
       "    <tr>\n",
       "      <th>20280</th>\n",
       "      <td>0.0</td>\n",
       "      <td>0.0</td>\n",
       "      <td>0.0</td>\n",
       "      <td>1.0</td>\n",
       "      <td>0.0</td>\n",
       "      <td>0.0</td>\n",
       "      <td>0.0</td>\n",
       "      <td>0.0</td>\n",
       "      <td>1.0</td>\n",
       "      <td>0.0</td>\n",
       "      <td>0.0</td>\n",
       "      <td>0.0</td>\n",
       "      <td>0.0</td>\n",
       "      <td>0.0</td>\n",
       "      <td>0.0</td>\n",
       "      <td>0.0</td>\n",
       "      <td>55.0</td>\n",
       "      <td>4.0</td>\n",
       "      <td>8.1</td>\n",
       "      <td>24.0</td>\n",
       "      <td>4.0</td>\n",
       "    </tr>\n",
       "    <tr>\n",
       "      <th>6775</th>\n",
       "      <td>0.0</td>\n",
       "      <td>1.0</td>\n",
       "      <td>0.0</td>\n",
       "      <td>0.0</td>\n",
       "      <td>0.0</td>\n",
       "      <td>0.0</td>\n",
       "      <td>0.0</td>\n",
       "      <td>0.0</td>\n",
       "      <td>0.0</td>\n",
       "      <td>0.0</td>\n",
       "      <td>0.0</td>\n",
       "      <td>0.0</td>\n",
       "      <td>0.0</td>\n",
       "      <td>1.0</td>\n",
       "      <td>0.0</td>\n",
       "      <td>0.0</td>\n",
       "      <td>148.0</td>\n",
       "      <td>3.0</td>\n",
       "      <td>19.5</td>\n",
       "      <td>53.0</td>\n",
       "      <td>1.0</td>\n",
       "    </tr>\n",
       "    <tr>\n",
       "      <th>5817</th>\n",
       "      <td>0.0</td>\n",
       "      <td>0.0</td>\n",
       "      <td>0.0</td>\n",
       "      <td>0.0</td>\n",
       "      <td>1.0</td>\n",
       "      <td>0.0</td>\n",
       "      <td>0.0</td>\n",
       "      <td>0.0</td>\n",
       "      <td>0.0</td>\n",
       "      <td>1.0</td>\n",
       "      <td>0.0</td>\n",
       "      <td>0.0</td>\n",
       "      <td>0.0</td>\n",
       "      <td>0.0</td>\n",
       "      <td>0.0</td>\n",
       "      <td>0.0</td>\n",
       "      <td>71.0</td>\n",
       "      <td>4.0</td>\n",
       "      <td>14.4</td>\n",
       "      <td>29.0</td>\n",
       "      <td>0.0</td>\n",
       "    </tr>\n",
       "  </tbody>\n",
       "</table>\n",
       "<p>8022 rows × 21 columns</p>\n",
       "</div>"
      ],
      "text/plain": [
       "       batting_team_Chennai Super Kings  ...  wickets_last_5\n",
       "33343                               0.0  ...             0.0\n",
       "12346                               0.0  ...             1.0\n",
       "29999                               0.0  ...             1.0\n",
       "32705                               0.0  ...             2.0\n",
       "40036                               0.0  ...             4.0\n",
       "28053                               0.0  ...             1.0\n",
       "3840                                0.0  ...             1.0\n",
       "21822                               0.0  ...             1.0\n",
       "37108                               0.0  ...             2.0\n",
       "...                                 ...  ...             ...\n",
       "13079                               0.0  ...             1.0\n",
       "35479                               0.0  ...             0.0\n",
       "38206                               0.0  ...             2.0\n",
       "18340                               1.0  ...             0.0\n",
       "23082                               0.0  ...             1.0\n",
       "33920                               0.0  ...             1.0\n",
       "20280                               0.0  ...             4.0\n",
       "6775                                0.0  ...             1.0\n",
       "5817                                0.0  ...             0.0\n",
       "\n",
       "[8022 rows x 21 columns]"
      ]
     },
     "execution_count": 99,
     "metadata": {},
     "output_type": "execute_result"
    }
   ],
   "source": [
    "test_features"
   ]
  },
  {
   "cell_type": "code",
   "execution_count": 100,
   "metadata": {},
   "outputs": [
    {
     "data": {
      "text/plain": [
       "33343    235.0\n",
       "12346    171.0\n",
       "29999    184.0\n",
       "32705    167.0\n",
       "40036    107.0\n",
       "28053    164.0\n",
       "3840     165.0\n",
       "21822    132.0\n",
       "37108    138.0\n",
       "4701     143.0\n",
       "35477    189.0\n",
       "11191    133.0\n",
       "         ...  \n",
       "2125     181.0\n",
       "32816    152.0\n",
       "10947    191.0\n",
       "13079    205.0\n",
       "35479    189.0\n",
       "38206    168.0\n",
       "18340    187.0\n",
       "23082    178.0\n",
       "33920    199.0\n",
       "20280    119.0\n",
       "6775     150.0\n",
       "5817     116.0\n",
       "Name: total, Length: 8022, dtype: float64"
      ]
     },
     "execution_count": 100,
     "metadata": {},
     "output_type": "execute_result"
    }
   ],
   "source": [
    "test_labels"
   ]
  },
  {
   "cell_type": "code",
   "execution_count": 101,
   "metadata": {},
   "outputs": [],
   "source": [
    "# list to store actual and predicting scores of the 1st inning for batting teams\n",
    "testing = []"
   ]
  },
  {
   "cell_type": "code",
   "execution_count": 102,
   "metadata": {},
   "outputs": [],
   "source": [
    "for index, row in test_features.iterrows():\n",
    "    if row['batting_team_Chennai Super Kings'] == 1:\n",
    "        batting_team = 'Chennai Super Kings'\n",
    "    elif row['batting_team_Delhi Daredevils'] == 1:\n",
    "        batting_team = 'Delhi Daredevils'\n",
    "    elif row['batting_team_Kings XI Punjab'] == 1:\n",
    "        batting_team = 'Kings XI Punjab'\n",
    "    elif row['batting_team_Kolkata Knight Riders'] == 1:\n",
    "        batting_team = 'Kolkata Knight Riders'\n",
    "    elif row['batting_team_Mumbai Indians'] == 1:\n",
    "        batting_team = 'Mumbai Indians'\n",
    "    elif row['batting_team_Rajasthan Royals'] == 1:\n",
    "        batting_team = 'Rajasthan Royals'\n",
    "    elif row['batting_team_Royal Challengers Bangalore'] == 1:\n",
    "        batting_team = 'Royal Challengers Bangalore'\n",
    "    elif row['batting_team_Sunrisers Hyderabad'] == 1:\n",
    "        batting_team = 'Sunrisers Hyderabad'\n",
    "  # Bowling Team\n",
    "    if row['bowling_team_Chennai Super Kings'] == 1:\n",
    "        bowling_team = 'Chennai Super Kings'\n",
    "    elif row['bowling_team_Delhi Daredevils'] == 1:\n",
    "        bowling_team = 'Delhi Daredevils'\n",
    "    elif row['bowling_team_Kings XI Punjab'] == 1:\n",
    "        bowling_team = 'Kings XI Punjab'\n",
    "    elif row['bowling_team_Kolkata Knight Riders'] == 1:\n",
    "        bowling_team = 'Kolkata Knight Riders'\n",
    "    elif row['bowling_team_Mumbai Indians'] == 1:\n",
    "        bowling_team = 'Mumbai Indians'\n",
    "    elif row['bowling_team_Rajasthan Royals'] == 1:\n",
    "        bowling_team = 'Rajasthan Royals'\n",
    "    elif row['bowling_team_Royal Challengers Bangalore'] == 1:\n",
    "        bowling_team = 'Royal Challengers Bangalore'\n",
    "    elif row['bowling_team_Sunrisers Hyderabad'] == 1:\n",
    "        bowling_team = 'Sunrisers Hyderabad'\n",
    "    predicted_score = predict_score(batting_team, bowling_team, overs=int(row['overs']), runs=int(row['runs']), wickets=int(row['wickets']), runs_last_5=int(row['runs_last_5']), wickets_last_5=int(row['wickets_last_5']))\n",
    "    if abs(int(test_labels.loc[[index]]) - predicted_score) <= 5:\n",
    "        prediction_score_with_margin_lte_5 = predicted_score\n",
    "        prediction_score_with_margin_gt_5_lte_10 = None\n",
    "        prediction_score_with_margin_gt_10_lte_15 = None\n",
    "        prediction_score_with_margin_gt_15 = None\n",
    "        \n",
    "    elif abs(int(test_labels.loc[[index]]) - predicted_score) > 5 and abs(int(test_labels.loc[[index]]) - predicted_score) <= 10:\n",
    "        prediction_score_with_margin_lte_5 = None\n",
    "        prediction_score_with_margin_gt_5_lte_10 = predicted_score\n",
    "        prediction_score_with_margin_gt_10_lte_15 = None\n",
    "        prediction_score_with_margin_gt_15 = None\n",
    "        \n",
    "    elif abs(int(test_labels.loc[[index]]) - predicted_score) > 10 and abs(int(test_labels.loc[[index]]) - predicted_score) <= 15:\n",
    "        prediction_score_with_margin_lte_5 = None\n",
    "        prediction_score_with_margin_gt_5_lte_10 = None\n",
    "        prediction_score_with_margin_gt_10_lte_15 = predicted_score\n",
    "        prediction_score_with_margin_gt_15 = None\n",
    "        \n",
    "    else:\n",
    "        prediction_score_with_margin_lte_5 = None\n",
    "        prediction_score_with_margin_gt_5_lte_10 = None\n",
    "        prediction_score_with_margin_gt_10_lte_15 = None\n",
    "        prediction_score_with_margin_gt_15 = predicted_score\n",
    "    testing.append((batting_team, bowling_team, int(test_labels.loc[[index]]), prediction_score_with_margin_lte_5, prediction_score_with_margin_gt_5_lte_10, prediction_score_with_margin_gt_10_lte_15, prediction_score_with_margin_gt_15)) \n",
    "    \n",
    "results = pd.DataFrame(testing, columns=['batting_team', 'bowling_team', 'actual_score', 'prediction_score_with_margin_lte_5', 'prediction_score_with_margin_gt_5_lte_10', 'prediction_score_with_margin_gt_10_lte_15', 'prediction_score_with_margin_gt_15']) "
   ]
  },
  {
   "cell_type": "code",
   "execution_count": 103,
   "metadata": {},
   "outputs": [
    {
     "data": {
      "text/html": [
       "<div>\n",
       "<style scoped>\n",
       "    .dataframe tbody tr th:only-of-type {\n",
       "        vertical-align: middle;\n",
       "    }\n",
       "\n",
       "    .dataframe tbody tr th {\n",
       "        vertical-align: top;\n",
       "    }\n",
       "\n",
       "    .dataframe thead th {\n",
       "        text-align: right;\n",
       "    }\n",
       "</style>\n",
       "<table border=\"1\" class=\"dataframe\">\n",
       "  <thead>\n",
       "    <tr style=\"text-align: right;\">\n",
       "      <th></th>\n",
       "      <th>batting_team</th>\n",
       "      <th>bowling_team</th>\n",
       "      <th>actual_score</th>\n",
       "      <th>prediction_score_with_margin_lte_5</th>\n",
       "      <th>prediction_score_with_margin_gt_5_lte_10</th>\n",
       "      <th>prediction_score_with_margin_gt_10_lte_15</th>\n",
       "      <th>prediction_score_with_margin_gt_15</th>\n",
       "    </tr>\n",
       "  </thead>\n",
       "  <tbody>\n",
       "    <tr>\n",
       "      <th>0</th>\n",
       "      <td>Royal Challengers Bangalore</td>\n",
       "      <td>Mumbai Indians</td>\n",
       "      <td>235</td>\n",
       "      <td>NaN</td>\n",
       "      <td>NaN</td>\n",
       "      <td>NaN</td>\n",
       "      <td>206.0</td>\n",
       "    </tr>\n",
       "    <tr>\n",
       "      <th>1</th>\n",
       "      <td>Kolkata Knight Riders</td>\n",
       "      <td>Royal Challengers Bangalore</td>\n",
       "      <td>171</td>\n",
       "      <td>170.0</td>\n",
       "      <td>NaN</td>\n",
       "      <td>NaN</td>\n",
       "      <td>NaN</td>\n",
       "    </tr>\n",
       "    <tr>\n",
       "      <th>2</th>\n",
       "      <td>Delhi Daredevils</td>\n",
       "      <td>Rajasthan Royals</td>\n",
       "      <td>184</td>\n",
       "      <td>185.0</td>\n",
       "      <td>NaN</td>\n",
       "      <td>NaN</td>\n",
       "      <td>NaN</td>\n",
       "    </tr>\n",
       "    <tr>\n",
       "      <th>3</th>\n",
       "      <td>Kolkata Knight Riders</td>\n",
       "      <td>Sunrisers Hyderabad</td>\n",
       "      <td>167</td>\n",
       "      <td>168.0</td>\n",
       "      <td>NaN</td>\n",
       "      <td>NaN</td>\n",
       "      <td>NaN</td>\n",
       "    </tr>\n",
       "    <tr>\n",
       "      <th>4</th>\n",
       "      <td>Kolkata Knight Riders</td>\n",
       "      <td>Mumbai Indians</td>\n",
       "      <td>107</td>\n",
       "      <td>NaN</td>\n",
       "      <td>NaN</td>\n",
       "      <td>NaN</td>\n",
       "      <td>87.0</td>\n",
       "    </tr>\n",
       "    <tr>\n",
       "      <th>5</th>\n",
       "      <td>Delhi Daredevils</td>\n",
       "      <td>Kings XI Punjab</td>\n",
       "      <td>164</td>\n",
       "      <td>NaN</td>\n",
       "      <td>171.0</td>\n",
       "      <td>NaN</td>\n",
       "      <td>NaN</td>\n",
       "    </tr>\n",
       "    <tr>\n",
       "      <th>6</th>\n",
       "      <td>Mumbai Indians</td>\n",
       "      <td>Chennai Super Kings</td>\n",
       "      <td>165</td>\n",
       "      <td>170.0</td>\n",
       "      <td>NaN</td>\n",
       "      <td>NaN</td>\n",
       "      <td>NaN</td>\n",
       "    </tr>\n",
       "    <tr>\n",
       "      <th>7</th>\n",
       "      <td>Rajasthan Royals</td>\n",
       "      <td>Kolkata Knight Riders</td>\n",
       "      <td>132</td>\n",
       "      <td>NaN</td>\n",
       "      <td>NaN</td>\n",
       "      <td>143.0</td>\n",
       "      <td>NaN</td>\n",
       "    </tr>\n",
       "    <tr>\n",
       "      <th>8</th>\n",
       "      <td>Delhi Daredevils</td>\n",
       "      <td>Royal Challengers Bangalore</td>\n",
       "      <td>138</td>\n",
       "      <td>141.0</td>\n",
       "      <td>NaN</td>\n",
       "      <td>NaN</td>\n",
       "      <td>NaN</td>\n",
       "    </tr>\n",
       "    <tr>\n",
       "      <th>...</th>\n",
       "      <td>...</td>\n",
       "      <td>...</td>\n",
       "      <td>...</td>\n",
       "      <td>...</td>\n",
       "      <td>...</td>\n",
       "      <td>...</td>\n",
       "      <td>...</td>\n",
       "    </tr>\n",
       "    <tr>\n",
       "      <th>8013</th>\n",
       "      <td>Royal Challengers Bangalore</td>\n",
       "      <td>Kings XI Punjab</td>\n",
       "      <td>205</td>\n",
       "      <td>203.0</td>\n",
       "      <td>NaN</td>\n",
       "      <td>NaN</td>\n",
       "      <td>NaN</td>\n",
       "    </tr>\n",
       "    <tr>\n",
       "      <th>8014</th>\n",
       "      <td>Mumbai Indians</td>\n",
       "      <td>Kings XI Punjab</td>\n",
       "      <td>189</td>\n",
       "      <td>NaN</td>\n",
       "      <td>NaN</td>\n",
       "      <td>NaN</td>\n",
       "      <td>173.0</td>\n",
       "    </tr>\n",
       "    <tr>\n",
       "      <th>8015</th>\n",
       "      <td>Delhi Daredevils</td>\n",
       "      <td>Kolkata Knight Riders</td>\n",
       "      <td>168</td>\n",
       "      <td>167.0</td>\n",
       "      <td>NaN</td>\n",
       "      <td>NaN</td>\n",
       "      <td>NaN</td>\n",
       "    </tr>\n",
       "    <tr>\n",
       "      <th>8016</th>\n",
       "      <td>Chennai Super Kings</td>\n",
       "      <td>Mumbai Indians</td>\n",
       "      <td>187</td>\n",
       "      <td>NaN</td>\n",
       "      <td>181.0</td>\n",
       "      <td>NaN</td>\n",
       "      <td>NaN</td>\n",
       "    </tr>\n",
       "    <tr>\n",
       "      <th>8017</th>\n",
       "      <td>Sunrisers Hyderabad</td>\n",
       "      <td>Mumbai Indians</td>\n",
       "      <td>178</td>\n",
       "      <td>178.0</td>\n",
       "      <td>NaN</td>\n",
       "      <td>NaN</td>\n",
       "      <td>NaN</td>\n",
       "    </tr>\n",
       "    <tr>\n",
       "      <th>8018</th>\n",
       "      <td>Rajasthan Royals</td>\n",
       "      <td>Kolkata Knight Riders</td>\n",
       "      <td>199</td>\n",
       "      <td>198.0</td>\n",
       "      <td>NaN</td>\n",
       "      <td>NaN</td>\n",
       "      <td>NaN</td>\n",
       "    </tr>\n",
       "    <tr>\n",
       "      <th>8019</th>\n",
       "      <td>Kolkata Knight Riders</td>\n",
       "      <td>Chennai Super Kings</td>\n",
       "      <td>119</td>\n",
       "      <td>NaN</td>\n",
       "      <td>125.0</td>\n",
       "      <td>NaN</td>\n",
       "      <td>NaN</td>\n",
       "    </tr>\n",
       "    <tr>\n",
       "      <th>8020</th>\n",
       "      <td>Delhi Daredevils</td>\n",
       "      <td>Rajasthan Royals</td>\n",
       "      <td>150</td>\n",
       "      <td>NaN</td>\n",
       "      <td>160.0</td>\n",
       "      <td>NaN</td>\n",
       "      <td>NaN</td>\n",
       "    </tr>\n",
       "    <tr>\n",
       "      <th>8021</th>\n",
       "      <td>Mumbai Indians</td>\n",
       "      <td>Delhi Daredevils</td>\n",
       "      <td>116</td>\n",
       "      <td>121.0</td>\n",
       "      <td>NaN</td>\n",
       "      <td>NaN</td>\n",
       "      <td>NaN</td>\n",
       "    </tr>\n",
       "  </tbody>\n",
       "</table>\n",
       "<p>8022 rows × 7 columns</p>\n",
       "</div>"
      ],
      "text/plain": [
       "                     batting_team  ... prediction_score_with_margin_gt_15\n",
       "0     Royal Challengers Bangalore  ...                              206.0\n",
       "1           Kolkata Knight Riders  ...                                NaN\n",
       "2                Delhi Daredevils  ...                                NaN\n",
       "3           Kolkata Knight Riders  ...                                NaN\n",
       "4           Kolkata Knight Riders  ...                               87.0\n",
       "5                Delhi Daredevils  ...                                NaN\n",
       "6                  Mumbai Indians  ...                                NaN\n",
       "7                Rajasthan Royals  ...                                NaN\n",
       "8                Delhi Daredevils  ...                                NaN\n",
       "...                           ...  ...                                ...\n",
       "8013  Royal Challengers Bangalore  ...                                NaN\n",
       "8014               Mumbai Indians  ...                              173.0\n",
       "8015             Delhi Daredevils  ...                                NaN\n",
       "8016          Chennai Super Kings  ...                                NaN\n",
       "8017          Sunrisers Hyderabad  ...                                NaN\n",
       "8018             Rajasthan Royals  ...                                NaN\n",
       "8019        Kolkata Knight Riders  ...                                NaN\n",
       "8020             Delhi Daredevils  ...                                NaN\n",
       "8021               Mumbai Indians  ...                                NaN\n",
       "\n",
       "[8022 rows x 7 columns]"
      ]
     },
     "execution_count": 103,
     "metadata": {},
     "output_type": "execute_result"
    }
   ],
   "source": [
    "results"
   ]
  },
  {
   "cell_type": "markdown",
   "metadata": {},
   "source": [
    "### No. of test rows where predicted score is within a margin of 5 of the actual score"
   ]
  },
  {
   "cell_type": "code",
   "execution_count": 111,
   "metadata": {},
   "outputs": [
    {
     "data": {
      "text/plain": [
       "5137"
      ]
     },
     "execution_count": 111,
     "metadata": {},
     "output_type": "execute_result"
    }
   ],
   "source": [
    "len(results[results.prediction_score_with_margin_lte_5.notnull()])"
   ]
  },
  {
   "cell_type": "markdown",
   "metadata": {},
   "source": [
    "### No. of test rows where predicted score is within a margin between (5,10] of the actual score"
   ]
  },
  {
   "cell_type": "code",
   "execution_count": 112,
   "metadata": {},
   "outputs": [
    {
     "data": {
      "text/plain": [
       "1617"
      ]
     },
     "execution_count": 112,
     "metadata": {},
     "output_type": "execute_result"
    }
   ],
   "source": [
    "len(results[results.prediction_score_with_margin_gt_5_lte_10.notnull()])"
   ]
  },
  {
   "cell_type": "markdown",
   "metadata": {},
   "source": [
    "### No. of test rows where predicted score is within a margin between (10,15] of the actual score¶"
   ]
  },
  {
   "cell_type": "code",
   "execution_count": 113,
   "metadata": {},
   "outputs": [
    {
     "data": {
      "text/plain": [
       "672"
      ]
     },
     "execution_count": 113,
     "metadata": {},
     "output_type": "execute_result"
    }
   ],
   "source": [
    "len(results[results.prediction_score_with_margin_gt_10_lte_15.notnull()])"
   ]
  },
  {
   "cell_type": "markdown",
   "metadata": {},
   "source": [
    "### No. of test rows where predicted score has a difference greater than +/- 15 of the actual score¶"
   ]
  },
  {
   "cell_type": "code",
   "execution_count": 114,
   "metadata": {},
   "outputs": [
    {
     "data": {
      "text/plain": [
       "596"
      ]
     },
     "execution_count": 114,
     "metadata": {},
     "output_type": "execute_result"
    }
   ],
   "source": [
    "len(results[results.prediction_score_with_margin_gt_15.notnull()])"
   ]
  },
  {
   "cell_type": "markdown",
   "metadata": {},
   "source": [
    "## As it can be seen here, that out of 8022 test rows, the score prediction for 5137 test rows is within a margin of 5 runs, the score prediction for 1617 rows is within a margin of greater than 5 and less than equal to 10 runs, the score prediction for 672 rows is within a margin of greater than 10 and less than equal to 15 runs and finally for 596 rows, the margin is greater than 15 runs.\n",
    "\n",
    "## It means that there are around 64% chances that the predicted score will be in a margin of 5 with the actual score. There are around 20% chances for the margin between (5, 10], and around 8% percent chances for predicted score to be in a margin (10, 15]. Finally, there are around 7% chances for predicted score to be in a margin greater than 15 of the actual score."
   ]
  },
  {
   "cell_type": "markdown",
   "metadata": {},
   "source": [
    "### Finding the maximum difference between actual and predicted scores"
   ]
  },
  {
   "cell_type": "code",
   "execution_count": 115,
   "metadata": {},
   "outputs": [],
   "source": [
    "max_diff_row = (results['actual_score'] - results['prediction_score_with_margin_gt_15']).abs().idxmax()"
   ]
  },
  {
   "cell_type": "code",
   "execution_count": 116,
   "metadata": {},
   "outputs": [],
   "source": [
    "max_diff_row = results.loc[[max_diff_row]]"
   ]
  },
  {
   "cell_type": "code",
   "execution_count": 119,
   "metadata": {},
   "outputs": [
    {
     "data": {
      "text/html": [
       "<div>\n",
       "<style scoped>\n",
       "    .dataframe tbody tr th:only-of-type {\n",
       "        vertical-align: middle;\n",
       "    }\n",
       "\n",
       "    .dataframe tbody tr th {\n",
       "        vertical-align: top;\n",
       "    }\n",
       "\n",
       "    .dataframe thead th {\n",
       "        text-align: right;\n",
       "    }\n",
       "</style>\n",
       "<table border=\"1\" class=\"dataframe\">\n",
       "  <thead>\n",
       "    <tr style=\"text-align: right;\">\n",
       "      <th></th>\n",
       "      <th>batting_team</th>\n",
       "      <th>bowling_team</th>\n",
       "      <th>actual_score</th>\n",
       "      <th>prediction_score_with_margin_lte_5</th>\n",
       "      <th>prediction_score_with_margin_gt_5_lte_10</th>\n",
       "      <th>prediction_score_with_margin_gt_10_lte_15</th>\n",
       "      <th>prediction_score_with_margin_gt_15</th>\n",
       "    </tr>\n",
       "  </thead>\n",
       "  <tbody>\n",
       "    <tr>\n",
       "      <th>6884</th>\n",
       "      <td>Kings XI Punjab</td>\n",
       "      <td>Chennai Super Kings</td>\n",
       "      <td>231</td>\n",
       "      <td>NaN</td>\n",
       "      <td>NaN</td>\n",
       "      <td>NaN</td>\n",
       "      <td>143.0</td>\n",
       "    </tr>\n",
       "  </tbody>\n",
       "</table>\n",
       "</div>"
      ],
      "text/plain": [
       "         batting_team  ... prediction_score_with_margin_gt_15\n",
       "6884  Kings XI Punjab  ...                              143.0\n",
       "\n",
       "[1 rows x 7 columns]"
      ]
     },
     "execution_count": 119,
     "metadata": {},
     "output_type": "execute_result"
    }
   ],
   "source": [
    "max_diff_row"
   ]
  },
  {
   "cell_type": "code",
   "execution_count": 128,
   "metadata": {},
   "outputs": [
    {
     "data": {
      "text/plain": [
       "' 88.0'"
      ]
     },
     "execution_count": 128,
     "metadata": {},
     "output_type": "execute_result"
    }
   ],
   "source": [
    "abs(max_diff_row['actual_score'] - max_diff_row['prediction_score_with_margin_gt_15']).to_string(index=False)"
   ]
  },
  {
   "cell_type": "markdown",
   "metadata": {},
   "source": [
    "### Finding the minimum difference between actual and predicted scores"
   ]
  },
  {
   "cell_type": "code",
   "execution_count": 132,
   "metadata": {},
   "outputs": [],
   "source": [
    "min_diff_row = (results['actual_score'] - results['prediction_score_with_margin_lte_5']).abs().idxmin()"
   ]
  },
  {
   "cell_type": "code",
   "execution_count": 133,
   "metadata": {},
   "outputs": [],
   "source": [
    "min_diff_row = results.loc[[min_diff_row]]"
   ]
  },
  {
   "cell_type": "code",
   "execution_count": 134,
   "metadata": {},
   "outputs": [
    {
     "data": {
      "text/html": [
       "<div>\n",
       "<style scoped>\n",
       "    .dataframe tbody tr th:only-of-type {\n",
       "        vertical-align: middle;\n",
       "    }\n",
       "\n",
       "    .dataframe tbody tr th {\n",
       "        vertical-align: top;\n",
       "    }\n",
       "\n",
       "    .dataframe thead th {\n",
       "        text-align: right;\n",
       "    }\n",
       "</style>\n",
       "<table border=\"1\" class=\"dataframe\">\n",
       "  <thead>\n",
       "    <tr style=\"text-align: right;\">\n",
       "      <th></th>\n",
       "      <th>batting_team</th>\n",
       "      <th>bowling_team</th>\n",
       "      <th>actual_score</th>\n",
       "      <th>prediction_score_with_margin_lte_5</th>\n",
       "      <th>prediction_score_with_margin_gt_5_lte_10</th>\n",
       "      <th>prediction_score_with_margin_gt_10_lte_15</th>\n",
       "      <th>prediction_score_with_margin_gt_15</th>\n",
       "    </tr>\n",
       "  </thead>\n",
       "  <tbody>\n",
       "    <tr>\n",
       "      <th>12</th>\n",
       "      <td>Mumbai Indians</td>\n",
       "      <td>Delhi Daredevils</td>\n",
       "      <td>212</td>\n",
       "      <td>212.0</td>\n",
       "      <td>NaN</td>\n",
       "      <td>NaN</td>\n",
       "      <td>NaN</td>\n",
       "    </tr>\n",
       "  </tbody>\n",
       "</table>\n",
       "</div>"
      ],
      "text/plain": [
       "      batting_team  ... prediction_score_with_margin_gt_15\n",
       "12  Mumbai Indians  ...                                NaN\n",
       "\n",
       "[1 rows x 7 columns]"
      ]
     },
     "execution_count": 134,
     "metadata": {},
     "output_type": "execute_result"
    }
   ],
   "source": [
    "min_diff_row"
   ]
  },
  {
   "cell_type": "code",
   "execution_count": 135,
   "metadata": {},
   "outputs": [
    {
     "data": {
      "text/plain": [
       "' 0.0'"
      ]
     },
     "execution_count": 135,
     "metadata": {},
     "output_type": "execute_result"
    }
   ],
   "source": [
    "abs(min_diff_row['actual_score'] - min_diff_row['prediction_score_with_margin_lte_5']).to_string(index=False)"
   ]
  },
  {
   "cell_type": "markdown",
   "metadata": {},
   "source": [
    "## As it can be seen above, the maximum difference between actual and predicted scores appeared is 88 while the minimum difference appeared is 0."
   ]
  },
  {
   "cell_type": "markdown",
   "metadata": {},
   "source": [
    "### Count of rows where predicted score is equal to the actual score"
   ]
  },
  {
   "cell_type": "code",
   "execution_count": 137,
   "metadata": {},
   "outputs": [
    {
     "data": {
      "text/plain": [
       "953"
      ]
     },
     "execution_count": 137,
     "metadata": {},
     "output_type": "execute_result"
    }
   ],
   "source": [
    "len(results[results['actual_score'] - results['prediction_score_with_margin_lte_5'] == 0])"
   ]
  },
  {
   "cell_type": "markdown",
   "metadata": {},
   "source": [
    "## As it can be seen above, for 953 test rows, the difference between actual and predicted scores is 0 which means that there are around 12% chances that the predicted score will be equal to the actual score."
   ]
  }
 ],
 "metadata": {
  "colab": {
   "name": "IPL Prediction Model Training.ipynb",
   "provenance": [],
   "toc_visible": true
  },
  "kernelspec": {
   "display_name": "Python 3",
   "language": "python",
   "name": "python3"
  },
  "language_info": {
   "codemirror_mode": {
    "name": "ipython",
    "version": 3
   },
   "file_extension": ".py",
   "mimetype": "text/x-python",
   "name": "python",
   "nbconvert_exporter": "python",
   "pygments_lexer": "ipython3",
   "version": "3.8.5"
  }
 },
 "nbformat": 4,
 "nbformat_minor": 1
}
