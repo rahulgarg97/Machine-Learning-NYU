{
 "cells": [
  {
   "cell_type": "markdown",
   "metadata": {
    "colab_type": "text",
    "id": "td-UlmSt_WKh"
   },
   "source": [
    "## Introduction:\n",
    "\n",
    "This demo is derived from http://dataaspirant.com/2017/02/01/decision-tree-algorithm-python-with-scikit-learn/\n",
    "\n",
    "A decision tree is a type of supervised learning algorithm (having a pre-defined target variable) that is mostly used in classification problems.\n",
    "It works for both categorical and continuous input and output variables.\n",
    "Types of Decision Trees\n",
    "* Categorical Variable Decision Tree\n",
    "* Continuous Variable Decision Tree\n",
    "\n",
    "In this notebook we are going to learn how to build a decision tree classifier using scikit-learn, train it and then use it to predict the target variable.\n"
   ]
  },
  {
   "cell_type": "markdown",
   "metadata": {
    "colab_type": "text",
    "id": "5Jd5959x_WKi"
   },
   "source": [
    "## Goal:\n",
    "To build a decision tree classifier in python using scikit-learn for balance scale dataset and then use the trained model to predict whether the balance scale tip to the right or tip to the left or be balanced."
   ]
  },
  {
   "cell_type": "markdown",
   "metadata": {
    "colab_type": "text",
    "id": "NuY18e90_WKi"
   },
   "source": [
    "## Dataset: \n",
    "We will be using the Balance Scale Dataset which can be found here -> https://archive.ics.uci.edu/ml/machine-learning-databases/balance-scale/balance-scale.data\n",
    "\n",
    "Dataset description:\n",
    "Balance Scale data set consists of 5 attributes, 4 as feature attributes and 1 as the target attribute. We will be building a classifier for predicting the Class attribute. \n",
    "\n",
    "| Variable Name  | Variable Values |\n",
    "| :-----------: | :-----------: |\n",
    "| Class Name(Target Variable)   |  “R” : balance scale tip to the right |\n",
    "|                               |  “L” : balance scale tip to the left|\n",
    "|                                | “B” : balance scale be balanced|\n",
    "|Left-Weight    |  1, 2, 3, 4, 5       |\n",
    "|Left-Distance    |  1, 2, 3, 4, 5       |\n",
    "|Right-Weight |  1, 2, 3, 4, 5       |\n",
    "|Right-Distance | 1, 2, 3, 4, 5       |\n",
    " "
   ]
  },
  {
   "cell_type": "code",
   "execution_count": 1,
   "metadata": {
    "colab": {},
    "colab_type": "code",
    "id": "hcXWA5cp_WKj"
   },
   "outputs": [],
   "source": [
    "# Imports\n",
    "import numpy as np\n",
    "import pandas as pd\n",
    "from sklearn.tree import DecisionTreeClassifier\n",
    "from sklearn.metrics import accuracy_score\n",
    "from sklearn import tree\n",
    "from sklearn.model_selection import train_test_split\n",
    "import matplotlib.pyplot as plt\n",
    "import graphviz\n"
   ]
  },
  {
   "cell_type": "code",
   "execution_count": 2,
   "metadata": {
    "colab": {},
    "colab_type": "code",
    "id": "1e1pnOms_WKm"
   },
   "outputs": [],
   "source": [
    "# Reading Data\n",
    "balance_data = pd.read_csv(\n",
    "'https://archive.ics.uci.edu/ml/machine-learning-databases/balance-scale/balance-scale.data',\n",
    "                           sep= ',', header= None)"
   ]
  },
  {
   "cell_type": "code",
   "execution_count": 3,
   "metadata": {
    "colab": {},
    "colab_type": "code",
    "id": "R1gxDPoF_WKo",
    "outputId": "dabdb56d-9e8e-4aa4-e5a2-0f6bfc03dbfe"
   },
   "outputs": [
    {
     "name": "stdout",
     "output_type": "stream",
     "text": [
      "Number of Samples::  625\n",
      "Number of features:  5\n"
     ]
    }
   ],
   "source": [
    "# Analyzing data\n",
    "print(\"Number of Samples:: \", balance_data.shape[0])\n",
    "print(\"Number of features: \", balance_data.shape[1])"
   ]
  },
  {
   "cell_type": "code",
   "execution_count": 4,
   "metadata": {
    "colab": {},
    "colab_type": "code",
    "id": "crvTERjr_WKu",
    "outputId": "236b5d76-41e5-434f-d485-f5c8e1b42b35"
   },
   "outputs": [
    {
     "data": {
      "text/html": [
       "<div>\n",
       "<style scoped>\n",
       "    .dataframe tbody tr th:only-of-type {\n",
       "        vertical-align: middle;\n",
       "    }\n",
       "\n",
       "    .dataframe tbody tr th {\n",
       "        vertical-align: top;\n",
       "    }\n",
       "\n",
       "    .dataframe thead th {\n",
       "        text-align: right;\n",
       "    }\n",
       "</style>\n",
       "<table border=\"1\" class=\"dataframe\">\n",
       "  <thead>\n",
       "    <tr style=\"text-align: right;\">\n",
       "      <th></th>\n",
       "      <th>0</th>\n",
       "      <th>1</th>\n",
       "      <th>2</th>\n",
       "      <th>3</th>\n",
       "      <th>4</th>\n",
       "    </tr>\n",
       "  </thead>\n",
       "  <tbody>\n",
       "    <tr>\n",
       "      <th>0</th>\n",
       "      <td>B</td>\n",
       "      <td>1</td>\n",
       "      <td>1</td>\n",
       "      <td>1</td>\n",
       "      <td>1</td>\n",
       "    </tr>\n",
       "    <tr>\n",
       "      <th>1</th>\n",
       "      <td>R</td>\n",
       "      <td>1</td>\n",
       "      <td>1</td>\n",
       "      <td>1</td>\n",
       "      <td>2</td>\n",
       "    </tr>\n",
       "    <tr>\n",
       "      <th>2</th>\n",
       "      <td>R</td>\n",
       "      <td>1</td>\n",
       "      <td>1</td>\n",
       "      <td>1</td>\n",
       "      <td>3</td>\n",
       "    </tr>\n",
       "    <tr>\n",
       "      <th>3</th>\n",
       "      <td>R</td>\n",
       "      <td>1</td>\n",
       "      <td>1</td>\n",
       "      <td>1</td>\n",
       "      <td>4</td>\n",
       "    </tr>\n",
       "    <tr>\n",
       "      <th>4</th>\n",
       "      <td>R</td>\n",
       "      <td>1</td>\n",
       "      <td>1</td>\n",
       "      <td>1</td>\n",
       "      <td>5</td>\n",
       "    </tr>\n",
       "  </tbody>\n",
       "</table>\n",
       "</div>"
      ],
      "text/plain": [
       "   0  1  2  3  4\n",
       "0  B  1  1  1  1\n",
       "1  R  1  1  1  2\n",
       "2  R  1  1  1  3\n",
       "3  R  1  1  1  4\n",
       "4  R  1  1  1  5"
      ]
     },
     "execution_count": 4,
     "metadata": {},
     "output_type": "execute_result"
    }
   ],
   "source": [
    "balance_data.head()"
   ]
  },
  {
   "cell_type": "code",
   "execution_count": 5,
   "metadata": {
    "colab": {},
    "colab_type": "code",
    "id": "x472wH64_WKx"
   },
   "outputs": [],
   "source": [
    "# The target variable is marked as a class in the balance_data frame. The values are present in string format. \n",
    "# However, the algorithm requires the variables to be coded into its equivalent integer codes.\n",
    "# We can convert the string categorical values into an integer code using factorize method of the pandas library.\n",
    "feature_names = balance_data.columns[1:]\n",
    "balance_data[0],class_names = pd.factorize(balance_data[0])"
   ]
  },
  {
   "cell_type": "code",
   "execution_count": 6,
   "metadata": {
    "colab": {},
    "colab_type": "code",
    "id": "1-ShsCMb_WKz",
    "outputId": "2fe62cbe-fce0-47b3-dcf1-3f45a50a17d1"
   },
   "outputs": [
    {
     "data": {
      "text/html": [
       "<div>\n",
       "<style scoped>\n",
       "    .dataframe tbody tr th:only-of-type {\n",
       "        vertical-align: middle;\n",
       "    }\n",
       "\n",
       "    .dataframe tbody tr th {\n",
       "        vertical-align: top;\n",
       "    }\n",
       "\n",
       "    .dataframe thead th {\n",
       "        text-align: right;\n",
       "    }\n",
       "</style>\n",
       "<table border=\"1\" class=\"dataframe\">\n",
       "  <thead>\n",
       "    <tr style=\"text-align: right;\">\n",
       "      <th></th>\n",
       "      <th>0</th>\n",
       "      <th>1</th>\n",
       "      <th>2</th>\n",
       "      <th>3</th>\n",
       "      <th>4</th>\n",
       "    </tr>\n",
       "  </thead>\n",
       "  <tbody>\n",
       "    <tr>\n",
       "      <th>0</th>\n",
       "      <td>0</td>\n",
       "      <td>1</td>\n",
       "      <td>1</td>\n",
       "      <td>1</td>\n",
       "      <td>1</td>\n",
       "    </tr>\n",
       "    <tr>\n",
       "      <th>1</th>\n",
       "      <td>1</td>\n",
       "      <td>1</td>\n",
       "      <td>1</td>\n",
       "      <td>1</td>\n",
       "      <td>2</td>\n",
       "    </tr>\n",
       "    <tr>\n",
       "      <th>2</th>\n",
       "      <td>1</td>\n",
       "      <td>1</td>\n",
       "      <td>1</td>\n",
       "      <td>1</td>\n",
       "      <td>3</td>\n",
       "    </tr>\n",
       "    <tr>\n",
       "      <th>3</th>\n",
       "      <td>1</td>\n",
       "      <td>1</td>\n",
       "      <td>1</td>\n",
       "      <td>1</td>\n",
       "      <td>4</td>\n",
       "    </tr>\n",
       "    <tr>\n",
       "      <th>4</th>\n",
       "      <td>1</td>\n",
       "      <td>1</td>\n",
       "      <td>1</td>\n",
       "      <td>1</td>\n",
       "      <td>5</td>\n",
       "    </tr>\n",
       "  </tbody>\n",
       "</table>\n",
       "</div>"
      ],
      "text/plain": [
       "   0  1  2  3  4\n",
       "0  0  1  1  1  1\n",
       "1  1  1  1  1  2\n",
       "2  1  1  1  1  3\n",
       "3  1  1  1  1  4\n",
       "4  1  1  1  1  5"
      ]
     },
     "execution_count": 6,
     "metadata": {},
     "output_type": "execute_result"
    }
   ],
   "source": [
    "balance_data.head()"
   ]
  },
  {
   "cell_type": "code",
   "execution_count": 7,
   "metadata": {
    "colab": {},
    "colab_type": "code",
    "id": "GeLOcDHT_WK1"
   },
   "outputs": [],
   "source": [
    "# Data Slicing\n",
    "X = balance_data.values[:, 1:5]\n",
    "Y = balance_data.values[:,0]"
   ]
  },
  {
   "cell_type": "markdown",
   "metadata": {
    "colab_type": "text",
    "id": "CF3uX_CG_WK5"
   },
   "source": [
    "### Splitting the data into train and test sets\n",
    "Let’s split our data into training and test set. We will use sklearn’s train_test_split() method. \n",
    "The snippet below will split data into training and test set. X_train, y_train are training data &  X_test, y_test belongs to the test dataset.\n",
    "\n",
    "The parameter test_size is given value 0.3; it means test sets will be 30% of whole dataset  & training dataset’s size will be 70% of the entire dataset. random_state variable is a pseudo-random number generator state used for random sampling. "
   ]
  },
  {
   "cell_type": "code",
   "execution_count": 8,
   "metadata": {
    "colab": {},
    "colab_type": "code",
    "id": "GdxOWSmS_WK5"
   },
   "outputs": [],
   "source": [
    "X_train, X_test, y_train, y_test = train_test_split( X, Y, test_size = 0.3, random_state = 100)"
   ]
  },
  {
   "cell_type": "markdown",
   "metadata": {
    "colab_type": "text",
    "id": "19nAQo9__WK8"
   },
   "source": [
    "### Decision Tree Training\n",
    "* Let’s build our decision tree classifiers using Gini index & Entropy as criterion. "
   ]
  },
  {
   "cell_type": "code",
   "execution_count": 19,
   "metadata": {
    "colab": {},
    "colab_type": "code",
    "id": "HYjZTKPZ_WK-",
    "outputId": "265e3987-f361-4a50-c536-fe96cf722697"
   },
   "outputs": [
    {
     "data": {
      "text/plain": [
       "DecisionTreeClassifier(max_depth=3, min_samples_leaf=5, random_state=50)"
      ]
     },
     "execution_count": 19,
     "metadata": {},
     "output_type": "execute_result"
    }
   ],
   "source": [
    "# Decision Tree classifier with criteria - Gini Index\n",
    "tree_gini = DecisionTreeClassifier(criterion = \"gini\", random_state = 50,\n",
    "                               max_depth=3, min_samples_leaf=5)\n",
    "tree_gini.fit(X_train, y_train)"
   ]
  },
  {
   "cell_type": "code",
   "execution_count": 20,
   "metadata": {
    "colab": {},
    "colab_type": "code",
    "id": "YRM-53is_WLB",
    "outputId": "6bade6ef-9f4d-42ce-f9ed-e1c7eccb71eb"
   },
   "outputs": [
    {
     "data": {
      "text/plain": [
       "DecisionTreeClassifier(criterion='entropy', max_depth=3, min_samples_leaf=5,\n",
       "                       random_state=50)"
      ]
     },
     "execution_count": 20,
     "metadata": {},
     "output_type": "execute_result"
    }
   ],
   "source": [
    "# Decision Tree classifier with criteria - Entropy\n",
    "tree_entropy = DecisionTreeClassifier(criterion = \"entropy\", random_state = 50,\n",
    "                                      max_depth=3, min_samples_leaf=5)\n",
    "tree_entropy.fit(X_train, y_train)\n"
   ]
  },
  {
   "cell_type": "markdown",
   "metadata": {
    "colab_type": "text",
    "id": "Xm-aMxQm_WLD"
   },
   "source": [
    "### Visualising the Decision Graph"
   ]
  },
  {
   "cell_type": "code",
   "execution_count": 21,
   "metadata": {
    "colab": {},
    "colab_type": "code",
    "id": "jDT5VocS_WLE",
    "outputId": "26047400-1f9c-4ae3-a5c6-e2796d273f43"
   },
   "outputs": [
    {
     "data": {
      "image/svg+xml": [
       "<?xml version=\"1.0\" encoding=\"UTF-8\" standalone=\"no\"?>\n",
       "<!DOCTYPE svg PUBLIC \"-//W3C//DTD SVG 1.1//EN\"\n",
       " \"http://www.w3.org/Graphics/SVG/1.1/DTD/svg11.dtd\">\n",
       "<!-- Generated by graphviz version 2.44.1 (20200629.0846)\n",
       " -->\n",
       "<!-- Title: Tree Pages: 1 -->\n",
       "<svg width=\"1088pt\" height=\"433pt\"\n",
       " viewBox=\"0.00 0.00 1087.50 433.00\" xmlns=\"http://www.w3.org/2000/svg\" xmlns:xlink=\"http://www.w3.org/1999/xlink\">\n",
       "<g id=\"graph0\" class=\"graph\" transform=\"scale(1 1) rotate(0) translate(4 429)\">\n",
       "<title>Tree</title>\n",
       "<polygon fill=\"white\" stroke=\"transparent\" points=\"-4,4 -4,-429 1083.5,-429 1083.5,4 -4,4\"/>\n",
       "<!-- 0 -->\n",
       "<g id=\"node1\" class=\"node\">\n",
       "<title>0</title>\n",
       "<path fill=\"#fcfbfe\" stroke=\"black\" d=\"M581.5,-425C581.5,-425 458.5,-425 458.5,-425 452.5,-425 446.5,-419 446.5,-413 446.5,-413 446.5,-354 446.5,-354 446.5,-348 452.5,-342 458.5,-342 458.5,-342 581.5,-342 581.5,-342 587.5,-342 593.5,-348 593.5,-354 593.5,-354 593.5,-413 593.5,-413 593.5,-419 587.5,-425 581.5,-425\"/>\n",
       "<text text-anchor=\"middle\" x=\"520\" y=\"-409.8\" font-family=\"Helvetica,sans-Serif\" font-size=\"14.00\">3 &lt;= 2.5</text>\n",
       "<text text-anchor=\"middle\" x=\"520\" y=\"-394.8\" font-family=\"Helvetica,sans-Serif\" font-size=\"14.00\">gini = 0.572</text>\n",
       "<text text-anchor=\"middle\" x=\"520\" y=\"-379.8\" font-family=\"Helvetica,sans-Serif\" font-size=\"14.00\">samples = 437</text>\n",
       "<text text-anchor=\"middle\" x=\"520\" y=\"-364.8\" font-family=\"Helvetica,sans-Serif\" font-size=\"14.00\">value = [36, 198, 203]</text>\n",
       "<text text-anchor=\"middle\" x=\"520\" y=\"-349.8\" font-family=\"Helvetica,sans-Serif\" font-size=\"14.00\">class = L</text>\n",
       "</g>\n",
       "<!-- 1 -->\n",
       "<g id=\"node2\" class=\"node\">\n",
       "<title>1</title>\n",
       "<path fill=\"#b082ef\" stroke=\"black\" d=\"M443,-306C443,-306 327,-306 327,-306 321,-306 315,-300 315,-294 315,-294 315,-235 315,-235 315,-229 321,-223 327,-223 327,-223 443,-223 443,-223 449,-223 455,-229 455,-235 455,-235 455,-294 455,-294 455,-300 449,-306 443,-306\"/>\n",
       "<text text-anchor=\"middle\" x=\"385\" y=\"-290.8\" font-family=\"Helvetica,sans-Serif\" font-size=\"14.00\">2 &lt;= 1.5</text>\n",
       "<text text-anchor=\"middle\" x=\"385\" y=\"-275.8\" font-family=\"Helvetica,sans-Serif\" font-size=\"14.00\">gini = 0.446</text>\n",
       "<text text-anchor=\"middle\" x=\"385\" y=\"-260.8\" font-family=\"Helvetica,sans-Serif\" font-size=\"14.00\">samples = 165</text>\n",
       "<text text-anchor=\"middle\" x=\"385\" y=\"-245.8\" font-family=\"Helvetica,sans-Serif\" font-size=\"14.00\">value = [13, 35, 117]</text>\n",
       "<text text-anchor=\"middle\" x=\"385\" y=\"-230.8\" font-family=\"Helvetica,sans-Serif\" font-size=\"14.00\">class = L</text>\n",
       "</g>\n",
       "<!-- 0&#45;&gt;1 -->\n",
       "<g id=\"edge1\" class=\"edge\">\n",
       "<title>0&#45;&gt;1</title>\n",
       "<path fill=\"none\" stroke=\"black\" d=\"M473.16,-341.91C462.27,-332.47 450.59,-322.34 439.4,-312.65\"/>\n",
       "<polygon fill=\"black\" stroke=\"black\" points=\"441.6,-309.93 431.75,-306.02 437.02,-315.22 441.6,-309.93\"/>\n",
       "<text text-anchor=\"middle\" x=\"433.54\" y=\"-327.26\" font-family=\"Helvetica,sans-Serif\" font-size=\"14.00\">True</text>\n",
       "</g>\n",
       "<!-- 8 -->\n",
       "<g id=\"node9\" class=\"node\">\n",
       "<title>8</title>\n",
       "<path fill=\"#adf4cb\" stroke=\"black\" d=\"M720,-306C720,-306 604,-306 604,-306 598,-306 592,-300 592,-294 592,-294 592,-235 592,-235 592,-229 598,-223 604,-223 604,-223 720,-223 720,-223 726,-223 732,-229 732,-235 732,-235 732,-294 732,-294 732,-300 726,-306 720,-306\"/>\n",
       "<text text-anchor=\"middle\" x=\"662\" y=\"-290.8\" font-family=\"Helvetica,sans-Serif\" font-size=\"14.00\">4 &lt;= 2.5</text>\n",
       "<text text-anchor=\"middle\" x=\"662\" y=\"-275.8\" font-family=\"Helvetica,sans-Serif\" font-size=\"14.00\">gini = 0.534</text>\n",
       "<text text-anchor=\"middle\" x=\"662\" y=\"-260.8\" font-family=\"Helvetica,sans-Serif\" font-size=\"14.00\">samples = 272</text>\n",
       "<text text-anchor=\"middle\" x=\"662\" y=\"-245.8\" font-family=\"Helvetica,sans-Serif\" font-size=\"14.00\">value = [23, 163, 86]</text>\n",
       "<text text-anchor=\"middle\" x=\"662\" y=\"-230.8\" font-family=\"Helvetica,sans-Serif\" font-size=\"14.00\">class = R</text>\n",
       "</g>\n",
       "<!-- 0&#45;&gt;8 -->\n",
       "<g id=\"edge8\" class=\"edge\">\n",
       "<title>0&#45;&gt;8</title>\n",
       "<path fill=\"none\" stroke=\"black\" d=\"M569.27,-341.91C580.72,-332.47 593.01,-322.34 604.78,-312.65\"/>\n",
       "<polygon fill=\"black\" stroke=\"black\" points=\"607.33,-315.08 612.82,-306.02 602.88,-309.68 607.33,-315.08\"/>\n",
       "<text text-anchor=\"middle\" x=\"610.42\" y=\"-327.21\" font-family=\"Helvetica,sans-Serif\" font-size=\"14.00\">False</text>\n",
       "</g>\n",
       "<!-- 2 -->\n",
       "<g id=\"node3\" class=\"node\">\n",
       "<title>2</title>\n",
       "<path fill=\"#97f1bd\" stroke=\"black\" d=\"M233.5,-187C233.5,-187 140.5,-187 140.5,-187 134.5,-187 128.5,-181 128.5,-175 128.5,-175 128.5,-116 128.5,-116 128.5,-110 134.5,-104 140.5,-104 140.5,-104 233.5,-104 233.5,-104 239.5,-104 245.5,-110 245.5,-116 245.5,-116 245.5,-175 245.5,-175 245.5,-181 239.5,-187 233.5,-187\"/>\n",
       "<text text-anchor=\"middle\" x=\"187\" y=\"-171.8\" font-family=\"Helvetica,sans-Serif\" font-size=\"14.00\">4 &lt;= 2.5</text>\n",
       "<text text-anchor=\"middle\" x=\"187\" y=\"-156.8\" font-family=\"Helvetica,sans-Serif\" font-size=\"14.00\">gini = 0.532</text>\n",
       "<text text-anchor=\"middle\" x=\"187\" y=\"-141.8\" font-family=\"Helvetica,sans-Serif\" font-size=\"14.00\">samples = 27</text>\n",
       "<text text-anchor=\"middle\" x=\"187\" y=\"-126.8\" font-family=\"Helvetica,sans-Serif\" font-size=\"14.00\">value = [4, 17, 6]</text>\n",
       "<text text-anchor=\"middle\" x=\"187\" y=\"-111.8\" font-family=\"Helvetica,sans-Serif\" font-size=\"14.00\">class = R</text>\n",
       "</g>\n",
       "<!-- 1&#45;&gt;2 -->\n",
       "<g id=\"edge2\" class=\"edge\">\n",
       "<title>1&#45;&gt;2</title>\n",
       "<path fill=\"none\" stroke=\"black\" d=\"M316.3,-222.91C296.26,-211.06 274.39,-198.14 254.42,-186.34\"/>\n",
       "<polygon fill=\"black\" stroke=\"black\" points=\"256.09,-183.26 245.7,-181.18 252.53,-189.29 256.09,-183.26\"/>\n",
       "</g>\n",
       "<!-- 5 -->\n",
       "<g id=\"node6\" class=\"node\">\n",
       "<title>5</title>\n",
       "<path fill=\"#9d66eb\" stroke=\"black\" d=\"M438.5,-187C438.5,-187 331.5,-187 331.5,-187 325.5,-187 319.5,-181 319.5,-175 319.5,-175 319.5,-116 319.5,-116 319.5,-110 325.5,-104 331.5,-104 331.5,-104 438.5,-104 438.5,-104 444.5,-104 450.5,-110 450.5,-116 450.5,-116 450.5,-175 450.5,-175 450.5,-181 444.5,-187 438.5,-187\"/>\n",
       "<text text-anchor=\"middle\" x=\"385\" y=\"-171.8\" font-family=\"Helvetica,sans-Serif\" font-size=\"14.00\">1 &lt;= 1.5</text>\n",
       "<text text-anchor=\"middle\" x=\"385\" y=\"-156.8\" font-family=\"Helvetica,sans-Serif\" font-size=\"14.00\">gini = 0.332</text>\n",
       "<text text-anchor=\"middle\" x=\"385\" y=\"-141.8\" font-family=\"Helvetica,sans-Serif\" font-size=\"14.00\">samples = 138</text>\n",
       "<text text-anchor=\"middle\" x=\"385\" y=\"-126.8\" font-family=\"Helvetica,sans-Serif\" font-size=\"14.00\">value = [9, 18, 111]</text>\n",
       "<text text-anchor=\"middle\" x=\"385\" y=\"-111.8\" font-family=\"Helvetica,sans-Serif\" font-size=\"14.00\">class = L</text>\n",
       "</g>\n",
       "<!-- 1&#45;&gt;5 -->\n",
       "<g id=\"edge5\" class=\"edge\">\n",
       "<title>1&#45;&gt;5</title>\n",
       "<path fill=\"none\" stroke=\"black\" d=\"M385,-222.91C385,-214.65 385,-205.86 385,-197.3\"/>\n",
       "<polygon fill=\"black\" stroke=\"black\" points=\"388.5,-197.02 385,-187.02 381.5,-197.02 388.5,-197.02\"/>\n",
       "</g>\n",
       "<!-- 3 -->\n",
       "<g id=\"node4\" class=\"node\">\n",
       "<title>3</title>\n",
       "<path fill=\"#efe6fc\" stroke=\"black\" d=\"M98,-68C98,-68 12,-68 12,-68 6,-68 0,-62 0,-56 0,-56 0,-12 0,-12 0,-6 6,0 12,0 12,0 98,0 98,0 104,0 110,-6 110,-12 110,-12 110,-56 110,-56 110,-62 104,-68 98,-68\"/>\n",
       "<text text-anchor=\"middle\" x=\"55\" y=\"-52.8\" font-family=\"Helvetica,sans-Serif\" font-size=\"14.00\">gini = 0.653</text>\n",
       "<text text-anchor=\"middle\" x=\"55\" y=\"-37.8\" font-family=\"Helvetica,sans-Serif\" font-size=\"14.00\">samples = 12</text>\n",
       "<text text-anchor=\"middle\" x=\"55\" y=\"-22.8\" font-family=\"Helvetica,sans-Serif\" font-size=\"14.00\">value = [4, 3, 5]</text>\n",
       "<text text-anchor=\"middle\" x=\"55\" y=\"-7.8\" font-family=\"Helvetica,sans-Serif\" font-size=\"14.00\">class = L</text>\n",
       "</g>\n",
       "<!-- 2&#45;&gt;3 -->\n",
       "<g id=\"edge3\" class=\"edge\">\n",
       "<title>2&#45;&gt;3</title>\n",
       "<path fill=\"none\" stroke=\"black\" d=\"M137.85,-103.73C126.41,-94.24 114.26,-84.16 102.88,-74.72\"/>\n",
       "<polygon fill=\"black\" stroke=\"black\" points=\"105.07,-71.99 95.14,-68.3 100.6,-77.38 105.07,-71.99\"/>\n",
       "</g>\n",
       "<!-- 4 -->\n",
       "<g id=\"node5\" class=\"node\">\n",
       "<title>4</title>\n",
       "<path fill=\"#47e78a\" stroke=\"black\" d=\"M233.5,-68C233.5,-68 140.5,-68 140.5,-68 134.5,-68 128.5,-62 128.5,-56 128.5,-56 128.5,-12 128.5,-12 128.5,-6 134.5,0 140.5,0 140.5,0 233.5,0 233.5,0 239.5,0 245.5,-6 245.5,-12 245.5,-12 245.5,-56 245.5,-56 245.5,-62 239.5,-68 233.5,-68\"/>\n",
       "<text text-anchor=\"middle\" x=\"187\" y=\"-52.8\" font-family=\"Helvetica,sans-Serif\" font-size=\"14.00\">gini = 0.124</text>\n",
       "<text text-anchor=\"middle\" x=\"187\" y=\"-37.8\" font-family=\"Helvetica,sans-Serif\" font-size=\"14.00\">samples = 15</text>\n",
       "<text text-anchor=\"middle\" x=\"187\" y=\"-22.8\" font-family=\"Helvetica,sans-Serif\" font-size=\"14.00\">value = [0, 14, 1]</text>\n",
       "<text text-anchor=\"middle\" x=\"187\" y=\"-7.8\" font-family=\"Helvetica,sans-Serif\" font-size=\"14.00\">class = R</text>\n",
       "</g>\n",
       "<!-- 2&#45;&gt;4 -->\n",
       "<g id=\"edge4\" class=\"edge\">\n",
       "<title>2&#45;&gt;4</title>\n",
       "<path fill=\"none\" stroke=\"black\" d=\"M187,-103.73C187,-95.52 187,-86.86 187,-78.56\"/>\n",
       "<polygon fill=\"black\" stroke=\"black\" points=\"190.5,-78.3 187,-68.3 183.5,-78.3 190.5,-78.3\"/>\n",
       "</g>\n",
       "<!-- 6 -->\n",
       "<g id=\"node7\" class=\"node\">\n",
       "<title>6</title>\n",
       "<path fill=\"#e6fcef\" stroke=\"black\" d=\"M368.5,-68C368.5,-68 275.5,-68 275.5,-68 269.5,-68 263.5,-62 263.5,-56 263.5,-56 263.5,-12 263.5,-12 263.5,-6 269.5,0 275.5,0 275.5,0 368.5,0 368.5,0 374.5,0 380.5,-6 380.5,-12 380.5,-12 380.5,-56 380.5,-56 380.5,-62 374.5,-68 368.5,-68\"/>\n",
       "<text text-anchor=\"middle\" x=\"322\" y=\"-52.8\" font-family=\"Helvetica,sans-Serif\" font-size=\"14.00\">gini = 0.637</text>\n",
       "<text text-anchor=\"middle\" x=\"322\" y=\"-37.8\" font-family=\"Helvetica,sans-Serif\" font-size=\"14.00\">samples = 25</text>\n",
       "<text text-anchor=\"middle\" x=\"322\" y=\"-22.8\" font-family=\"Helvetica,sans-Serif\" font-size=\"14.00\">value = [5, 11, 9]</text>\n",
       "<text text-anchor=\"middle\" x=\"322\" y=\"-7.8\" font-family=\"Helvetica,sans-Serif\" font-size=\"14.00\">class = R</text>\n",
       "</g>\n",
       "<!-- 5&#45;&gt;6 -->\n",
       "<g id=\"edge6\" class=\"edge\">\n",
       "<title>5&#45;&gt;6</title>\n",
       "<path fill=\"none\" stroke=\"black\" d=\"M361.54,-103.73C356.56,-95.06 351.28,-85.9 346.27,-77.18\"/>\n",
       "<polygon fill=\"black\" stroke=\"black\" points=\"349.18,-75.22 341.16,-68.3 343.11,-78.71 349.18,-75.22\"/>\n",
       "</g>\n",
       "<!-- 7 -->\n",
       "<g id=\"node8\" class=\"node\">\n",
       "<title>7</title>\n",
       "<path fill=\"#8e4ee8\" stroke=\"black\" d=\"M511.5,-68C511.5,-68 410.5,-68 410.5,-68 404.5,-68 398.5,-62 398.5,-56 398.5,-56 398.5,-12 398.5,-12 398.5,-6 404.5,0 410.5,0 410.5,0 511.5,0 511.5,0 517.5,0 523.5,-6 523.5,-12 523.5,-12 523.5,-56 523.5,-56 523.5,-62 517.5,-68 511.5,-68\"/>\n",
       "<text text-anchor=\"middle\" x=\"461\" y=\"-52.8\" font-family=\"Helvetica,sans-Serif\" font-size=\"14.00\">gini = 0.18</text>\n",
       "<text text-anchor=\"middle\" x=\"461\" y=\"-37.8\" font-family=\"Helvetica,sans-Serif\" font-size=\"14.00\">samples = 113</text>\n",
       "<text text-anchor=\"middle\" x=\"461\" y=\"-22.8\" font-family=\"Helvetica,sans-Serif\" font-size=\"14.00\">value = [4, 7, 102]</text>\n",
       "<text text-anchor=\"middle\" x=\"461\" y=\"-7.8\" font-family=\"Helvetica,sans-Serif\" font-size=\"14.00\">class = L</text>\n",
       "</g>\n",
       "<!-- 5&#45;&gt;7 -->\n",
       "<g id=\"edge7\" class=\"edge\">\n",
       "<title>5&#45;&gt;7</title>\n",
       "<path fill=\"none\" stroke=\"black\" d=\"M413.3,-103.73C419.44,-94.88 425.94,-85.51 432.11,-76.63\"/>\n",
       "<polygon fill=\"black\" stroke=\"black\" points=\"435.06,-78.51 437.89,-68.3 429.31,-74.52 435.06,-78.51\"/>\n",
       "</g>\n",
       "<!-- 9 -->\n",
       "<g id=\"node10\" class=\"node\">\n",
       "<title>9</title>\n",
       "<path fill=\"#d4bbf6\" stroke=\"black\" d=\"M716,-187C716,-187 608,-187 608,-187 602,-187 596,-181 596,-175 596,-175 596,-116 596,-116 596,-110 602,-104 608,-104 608,-104 716,-104 716,-104 722,-104 728,-110 728,-116 728,-116 728,-175 728,-175 728,-181 722,-187 716,-187\"/>\n",
       "<text text-anchor=\"middle\" x=\"662\" y=\"-171.8\" font-family=\"Helvetica,sans-Serif\" font-size=\"14.00\">1 &lt;= 1.5</text>\n",
       "<text text-anchor=\"middle\" x=\"662\" y=\"-156.8\" font-family=\"Helvetica,sans-Serif\" font-size=\"14.00\">gini = 0.559</text>\n",
       "<text text-anchor=\"middle\" x=\"662\" y=\"-141.8\" font-family=\"Helvetica,sans-Serif\" font-size=\"14.00\">samples = 110</text>\n",
       "<text text-anchor=\"middle\" x=\"662\" y=\"-126.8\" font-family=\"Helvetica,sans-Serif\" font-size=\"14.00\">value = [11, 37, 62]</text>\n",
       "<text text-anchor=\"middle\" x=\"662\" y=\"-111.8\" font-family=\"Helvetica,sans-Serif\" font-size=\"14.00\">class = L</text>\n",
       "</g>\n",
       "<!-- 8&#45;&gt;9 -->\n",
       "<g id=\"edge9\" class=\"edge\">\n",
       "<title>8&#45;&gt;9</title>\n",
       "<path fill=\"none\" stroke=\"black\" d=\"M662,-222.91C662,-214.65 662,-205.86 662,-197.3\"/>\n",
       "<polygon fill=\"black\" stroke=\"black\" points=\"665.5,-197.02 662,-187.02 658.5,-197.02 665.5,-197.02\"/>\n",
       "</g>\n",
       "<!-- 12 -->\n",
       "<g id=\"node13\" class=\"node\">\n",
       "<title>12</title>\n",
       "<path fill=\"#6deca2\" stroke=\"black\" d=\"M936,-187C936,-187 820,-187 820,-187 814,-187 808,-181 808,-175 808,-175 808,-116 808,-116 808,-110 814,-104 820,-104 820,-104 936,-104 936,-104 942,-104 948,-110 948,-116 948,-116 948,-175 948,-175 948,-181 942,-187 936,-187\"/>\n",
       "<text text-anchor=\"middle\" x=\"878\" y=\"-171.8\" font-family=\"Helvetica,sans-Serif\" font-size=\"14.00\">1 &lt;= 3.5</text>\n",
       "<text text-anchor=\"middle\" x=\"878\" y=\"-156.8\" font-family=\"Helvetica,sans-Serif\" font-size=\"14.00\">gini = 0.368</text>\n",
       "<text text-anchor=\"middle\" x=\"878\" y=\"-141.8\" font-family=\"Helvetica,sans-Serif\" font-size=\"14.00\">samples = 162</text>\n",
       "<text text-anchor=\"middle\" x=\"878\" y=\"-126.8\" font-family=\"Helvetica,sans-Serif\" font-size=\"14.00\">value = [12, 126, 24]</text>\n",
       "<text text-anchor=\"middle\" x=\"878\" y=\"-111.8\" font-family=\"Helvetica,sans-Serif\" font-size=\"14.00\">class = R</text>\n",
       "</g>\n",
       "<!-- 8&#45;&gt;12 -->\n",
       "<g id=\"edge12\" class=\"edge\">\n",
       "<title>8&#45;&gt;12</title>\n",
       "<path fill=\"none\" stroke=\"black\" d=\"M732.13,-225.51C753.46,-213.96 777.04,-201.19 798.92,-189.34\"/>\n",
       "<polygon fill=\"black\" stroke=\"black\" points=\"800.73,-192.34 807.85,-184.5 797.39,-186.18 800.73,-192.34\"/>\n",
       "</g>\n",
       "<!-- 10 -->\n",
       "<g id=\"node11\" class=\"node\">\n",
       "<title>10</title>\n",
       "<path fill=\"#6aeca0\" stroke=\"black\" d=\"M646.5,-68C646.5,-68 553.5,-68 553.5,-68 547.5,-68 541.5,-62 541.5,-56 541.5,-56 541.5,-12 541.5,-12 541.5,-6 547.5,0 553.5,0 553.5,0 646.5,0 646.5,0 652.5,0 658.5,-6 658.5,-12 658.5,-12 658.5,-56 658.5,-56 658.5,-62 652.5,-68 646.5,-68\"/>\n",
       "<text text-anchor=\"middle\" x=\"600\" y=\"-52.8\" font-family=\"Helvetica,sans-Serif\" font-size=\"14.00\">gini = 0.37</text>\n",
       "<text text-anchor=\"middle\" x=\"600\" y=\"-37.8\" font-family=\"Helvetica,sans-Serif\" font-size=\"14.00\">samples = 27</text>\n",
       "<text text-anchor=\"middle\" x=\"600\" y=\"-22.8\" font-family=\"Helvetica,sans-Serif\" font-size=\"14.00\">value = [3, 21, 3]</text>\n",
       "<text text-anchor=\"middle\" x=\"600\" y=\"-7.8\" font-family=\"Helvetica,sans-Serif\" font-size=\"14.00\">class = R</text>\n",
       "</g>\n",
       "<!-- 9&#45;&gt;10 -->\n",
       "<g id=\"edge10\" class=\"edge\">\n",
       "<title>9&#45;&gt;10</title>\n",
       "<path fill=\"none\" stroke=\"black\" d=\"M638.91,-103.73C634.01,-95.06 628.82,-85.9 623.88,-77.18\"/>\n",
       "<polygon fill=\"black\" stroke=\"black\" points=\"626.83,-75.28 618.85,-68.3 620.74,-78.73 626.83,-75.28\"/>\n",
       "</g>\n",
       "<!-- 11 -->\n",
       "<g id=\"node12\" class=\"node\">\n",
       "<title>11</title>\n",
       "<path fill=\"#ae80ee\" stroke=\"black\" d=\"M789.5,-68C789.5,-68 688.5,-68 688.5,-68 682.5,-68 676.5,-62 676.5,-56 676.5,-56 676.5,-12 676.5,-12 676.5,-6 682.5,0 688.5,0 688.5,0 789.5,0 789.5,0 795.5,0 801.5,-6 801.5,-12 801.5,-12 801.5,-56 801.5,-56 801.5,-62 795.5,-68 789.5,-68\"/>\n",
       "<text text-anchor=\"middle\" x=\"739\" y=\"-52.8\" font-family=\"Helvetica,sans-Serif\" font-size=\"14.00\">gini = 0.448</text>\n",
       "<text text-anchor=\"middle\" x=\"739\" y=\"-37.8\" font-family=\"Helvetica,sans-Serif\" font-size=\"14.00\">samples = 83</text>\n",
       "<text text-anchor=\"middle\" x=\"739\" y=\"-22.8\" font-family=\"Helvetica,sans-Serif\" font-size=\"14.00\">value = [8, 16, 59]</text>\n",
       "<text text-anchor=\"middle\" x=\"739\" y=\"-7.8\" font-family=\"Helvetica,sans-Serif\" font-size=\"14.00\">class = L</text>\n",
       "</g>\n",
       "<!-- 9&#45;&gt;11 -->\n",
       "<g id=\"edge11\" class=\"edge\">\n",
       "<title>9&#45;&gt;11</title>\n",
       "<path fill=\"none\" stroke=\"black\" d=\"M690.67,-103.73C696.89,-94.88 703.48,-85.51 709.73,-76.63\"/>\n",
       "<polygon fill=\"black\" stroke=\"black\" points=\"712.69,-78.49 715.58,-68.3 706.97,-74.47 712.69,-78.49\"/>\n",
       "</g>\n",
       "<!-- 13 -->\n",
       "<g id=\"node14\" class=\"node\">\n",
       "<title>13</title>\n",
       "<path fill=\"#47e78a\" stroke=\"black\" d=\"M924.5,-68C924.5,-68 831.5,-68 831.5,-68 825.5,-68 819.5,-62 819.5,-56 819.5,-56 819.5,-12 819.5,-12 819.5,-6 825.5,0 831.5,0 831.5,0 924.5,0 924.5,0 930.5,0 936.5,-6 936.5,-12 936.5,-12 936.5,-56 936.5,-56 936.5,-62 930.5,-68 924.5,-68\"/>\n",
       "<text text-anchor=\"middle\" x=\"878\" y=\"-52.8\" font-family=\"Helvetica,sans-Serif\" font-size=\"14.00\">gini = 0.133</text>\n",
       "<text text-anchor=\"middle\" x=\"878\" y=\"-37.8\" font-family=\"Helvetica,sans-Serif\" font-size=\"14.00\">samples = 100</text>\n",
       "<text text-anchor=\"middle\" x=\"878\" y=\"-22.8\" font-family=\"Helvetica,sans-Serif\" font-size=\"14.00\">value = [3, 93, 4]</text>\n",
       "<text text-anchor=\"middle\" x=\"878\" y=\"-7.8\" font-family=\"Helvetica,sans-Serif\" font-size=\"14.00\">class = R</text>\n",
       "</g>\n",
       "<!-- 12&#45;&gt;13 -->\n",
       "<g id=\"edge13\" class=\"edge\">\n",
       "<title>12&#45;&gt;13</title>\n",
       "<path fill=\"none\" stroke=\"black\" d=\"M878,-103.73C878,-95.52 878,-86.86 878,-78.56\"/>\n",
       "<polygon fill=\"black\" stroke=\"black\" points=\"881.5,-78.3 878,-68.3 874.5,-78.3 881.5,-78.3\"/>\n",
       "</g>\n",
       "<!-- 14 -->\n",
       "<g id=\"node15\" class=\"node\">\n",
       "<title>14</title>\n",
       "<path fill=\"#c2f7d8\" stroke=\"black\" d=\"M1067.5,-68C1067.5,-68 966.5,-68 966.5,-68 960.5,-68 954.5,-62 954.5,-56 954.5,-56 954.5,-12 954.5,-12 954.5,-6 960.5,0 966.5,0 966.5,0 1067.5,0 1067.5,0 1073.5,0 1079.5,-6 1079.5,-12 1079.5,-12 1079.5,-56 1079.5,-56 1079.5,-62 1073.5,-68 1067.5,-68\"/>\n",
       "<text text-anchor=\"middle\" x=\"1017\" y=\"-52.8\" font-family=\"Helvetica,sans-Serif\" font-size=\"14.00\">gini = 0.592</text>\n",
       "<text text-anchor=\"middle\" x=\"1017\" y=\"-37.8\" font-family=\"Helvetica,sans-Serif\" font-size=\"14.00\">samples = 62</text>\n",
       "<text text-anchor=\"middle\" x=\"1017\" y=\"-22.8\" font-family=\"Helvetica,sans-Serif\" font-size=\"14.00\">value = [9, 33, 20]</text>\n",
       "<text text-anchor=\"middle\" x=\"1017\" y=\"-7.8\" font-family=\"Helvetica,sans-Serif\" font-size=\"14.00\">class = R</text>\n",
       "</g>\n",
       "<!-- 12&#45;&gt;14 -->\n",
       "<g id=\"edge14\" class=\"edge\">\n",
       "<title>12&#45;&gt;14</title>\n",
       "<path fill=\"none\" stroke=\"black\" d=\"M929.76,-103.73C941.8,-94.24 954.6,-84.16 966.58,-74.72\"/>\n",
       "<polygon fill=\"black\" stroke=\"black\" points=\"969.04,-77.24 974.73,-68.3 964.71,-71.74 969.04,-77.24\"/>\n",
       "</g>\n",
       "</g>\n",
       "</svg>\n"
      ],
      "text/plain": [
       "<graphviz.files.Source at 0x7ffc1ff3dc70>"
      ]
     },
     "execution_count": 21,
     "metadata": {},
     "output_type": "execute_result"
    }
   ],
   "source": [
    "# Visualizing the Gini Index based Decision Tree\n",
    "graph_data = tree.export_graphviz(tree_gini, out_file=None, filled=True, rounded=True,\n",
    "                                feature_names=feature_names,  \n",
    "                                class_names=class_names)\n",
    "graph = graphviz.Source(graph_data)  \n",
    "graph"
   ]
  },
  {
   "cell_type": "code",
   "execution_count": 0,
   "metadata": {
    "colab": {},
    "colab_type": "code",
    "id": "4xY_RpoD_WLG",
    "outputId": "3401bbb2-6440-42f3-901c-bb94597ebb8f"
   },
   "outputs": [
    {
     "data": {
      "image/svg+xml": [
       "<?xml version=\"1.0\" encoding=\"UTF-8\" standalone=\"no\"?>\n",
       "<!DOCTYPE svg PUBLIC \"-//W3C//DTD SVG 1.1//EN\"\n",
       " \"http://www.w3.org/Graphics/SVG/1.1/DTD/svg11.dtd\">\n",
       "<!-- Generated by graphviz version 2.40.1 (20161225.0304)\n",
       " -->\n",
       "<!-- Title: Tree Pages: 1 -->\n",
       "<svg width=\"1112pt\" height=\"433pt\"\n",
       " viewBox=\"0.00 0.00 1112.00 433.00\" xmlns=\"http://www.w3.org/2000/svg\" xmlns:xlink=\"http://www.w3.org/1999/xlink\">\n",
       "<g id=\"graph0\" class=\"graph\" transform=\"scale(1 1) rotate(0) translate(4 429)\">\n",
       "<title>Tree</title>\n",
       "<polygon fill=\"#ffffff\" stroke=\"transparent\" points=\"-4,4 -4,-429 1108,-429 1108,4 -4,4\"/>\n",
       "<!-- 0 -->\n",
       "<g id=\"node1\" class=\"node\">\n",
       "<title>0</title>\n",
       "<path fill=\"#8139e5\" fill-opacity=\"0.019608\" stroke=\"#000000\" d=\"M577,-425C577,-425 449,-425 449,-425 443,-425 437,-419 437,-413 437,-413 437,-354 437,-354 437,-348 443,-342 449,-342 449,-342 577,-342 577,-342 583,-342 589,-348 589,-354 589,-354 589,-413 589,-413 589,-419 583,-425 577,-425\"/>\n",
       "<text text-anchor=\"middle\" x=\"513\" y=\"-409.8\" font-family=\"Helvetica,sans-Serif\" font-size=\"14.00\" fill=\"#000000\">3 &lt;= 2.5</text>\n",
       "<text text-anchor=\"middle\" x=\"513\" y=\"-394.8\" font-family=\"Helvetica,sans-Serif\" font-size=\"14.00\" fill=\"#000000\">entropy = 1.328</text>\n",
       "<text text-anchor=\"middle\" x=\"513\" y=\"-379.8\" font-family=\"Helvetica,sans-Serif\" font-size=\"14.00\" fill=\"#000000\">samples = 437</text>\n",
       "<text text-anchor=\"middle\" x=\"513\" y=\"-364.8\" font-family=\"Helvetica,sans-Serif\" font-size=\"14.00\" fill=\"#000000\">value = [36, 198, 203]</text>\n",
       "<text text-anchor=\"middle\" x=\"513\" y=\"-349.8\" font-family=\"Helvetica,sans-Serif\" font-size=\"14.00\" fill=\"#000000\">class = L</text>\n",
       "</g>\n",
       "<!-- 1 -->\n",
       "<g id=\"node2\" class=\"node\">\n",
       "<title>1</title>\n",
       "<path fill=\"#8139e5\" fill-opacity=\"0.631373\" stroke=\"#000000\" d=\"M492,-306C492,-306 372,-306 372,-306 366,-306 360,-300 360,-294 360,-294 360,-235 360,-235 360,-229 366,-223 372,-223 372,-223 492,-223 492,-223 498,-223 504,-229 504,-235 504,-235 504,-294 504,-294 504,-300 498,-306 492,-306\"/>\n",
       "<text text-anchor=\"middle\" x=\"432\" y=\"-290.8\" font-family=\"Helvetica,sans-Serif\" font-size=\"14.00\" fill=\"#000000\">1 &lt;= 2.5</text>\n",
       "<text text-anchor=\"middle\" x=\"432\" y=\"-275.8\" font-family=\"Helvetica,sans-Serif\" font-size=\"14.00\" fill=\"#000000\">entropy = 1.115</text>\n",
       "<text text-anchor=\"middle\" x=\"432\" y=\"-260.8\" font-family=\"Helvetica,sans-Serif\" font-size=\"14.00\" fill=\"#000000\">samples = 165</text>\n",
       "<text text-anchor=\"middle\" x=\"432\" y=\"-245.8\" font-family=\"Helvetica,sans-Serif\" font-size=\"14.00\" fill=\"#000000\">value = [13, 35, 117]</text>\n",
       "<text text-anchor=\"middle\" x=\"432\" y=\"-230.8\" font-family=\"Helvetica,sans-Serif\" font-size=\"14.00\" fill=\"#000000\">class = L</text>\n",
       "</g>\n",
       "<!-- 0&#45;&gt;1 -->\n",
       "<g id=\"edge1\" class=\"edge\">\n",
       "<title>0&#45;&gt;1</title>\n",
       "<path fill=\"none\" stroke=\"#000000\" d=\"M484.6701,-341.8796C478.7237,-333.1434 472.3914,-323.8404 466.255,-314.8253\"/>\n",
       "<polygon fill=\"#000000\" stroke=\"#000000\" points=\"468.9711,-312.5953 460.4508,-306.2981 463.1844,-316.5342 468.9711,-312.5953\"/>\n",
       "<text text-anchor=\"middle\" x=\"455.7843\" y=\"-327.1587\" font-family=\"Helvetica,sans-Serif\" font-size=\"14.00\" fill=\"#000000\">True</text>\n",
       "</g>\n",
       "<!-- 8 -->\n",
       "<g id=\"node9\" class=\"node\">\n",
       "<title>8</title>\n",
       "<path fill=\"#39e581\" fill-opacity=\"0.415686\" stroke=\"#000000\" d=\"M702,-306C702,-306 582,-306 582,-306 576,-306 570,-300 570,-294 570,-294 570,-235 570,-235 570,-229 576,-223 582,-223 582,-223 702,-223 702,-223 708,-223 714,-229 714,-235 714,-235 714,-294 714,-294 714,-300 708,-306 702,-306\"/>\n",
       "<text text-anchor=\"middle\" x=\"642\" y=\"-290.8\" font-family=\"Helvetica,sans-Serif\" font-size=\"14.00\" fill=\"#000000\">4 &lt;= 2.5</text>\n",
       "<text text-anchor=\"middle\" x=\"642\" y=\"-275.8\" font-family=\"Helvetica,sans-Serif\" font-size=\"14.00\" fill=\"#000000\">entropy = 1.269</text>\n",
       "<text text-anchor=\"middle\" x=\"642\" y=\"-260.8\" font-family=\"Helvetica,sans-Serif\" font-size=\"14.00\" fill=\"#000000\">samples = 272</text>\n",
       "<text text-anchor=\"middle\" x=\"642\" y=\"-245.8\" font-family=\"Helvetica,sans-Serif\" font-size=\"14.00\" fill=\"#000000\">value = [23, 163, 86]</text>\n",
       "<text text-anchor=\"middle\" x=\"642\" y=\"-230.8\" font-family=\"Helvetica,sans-Serif\" font-size=\"14.00\" fill=\"#000000\">class = R</text>\n",
       "</g>\n",
       "<!-- 0&#45;&gt;8 -->\n",
       "<g id=\"edge8\" class=\"edge\">\n",
       "<title>0&#45;&gt;8</title>\n",
       "<path fill=\"none\" stroke=\"#000000\" d=\"M558.1179,-341.8796C568.174,-332.6031 578.923,-322.6874 589.2554,-313.1559\"/>\n",
       "<polygon fill=\"#000000\" stroke=\"#000000\" points=\"591.7124,-315.6511 596.6895,-306.2981 586.9661,-310.506 591.7124,-315.6511\"/>\n",
       "<text text-anchor=\"middle\" x=\"595.6822\" y=\"-327.5778\" font-family=\"Helvetica,sans-Serif\" font-size=\"14.00\" fill=\"#000000\">False</text>\n",
       "</g>\n",
       "<!-- 2 -->\n",
       "<g id=\"node3\" class=\"node\">\n",
       "<title>2</title>\n",
       "<path fill=\"#8139e5\" fill-opacity=\"0.101961\" stroke=\"#000000\" d=\"M254,-187C254,-187 142,-187 142,-187 136,-187 130,-181 130,-175 130,-175 130,-116 130,-116 130,-110 136,-104 142,-104 142,-104 254,-104 254,-104 260,-104 266,-110 266,-116 266,-116 266,-175 266,-175 266,-181 260,-187 254,-187\"/>\n",
       "<text text-anchor=\"middle\" x=\"198\" y=\"-171.8\" font-family=\"Helvetica,sans-Serif\" font-size=\"14.00\" fill=\"#000000\">2 &lt;= 2.5</text>\n",
       "<text text-anchor=\"middle\" x=\"198\" y=\"-156.8\" font-family=\"Helvetica,sans-Serif\" font-size=\"14.00\" fill=\"#000000\">entropy = 1.505</text>\n",
       "<text text-anchor=\"middle\" x=\"198\" y=\"-141.8\" font-family=\"Helvetica,sans-Serif\" font-size=\"14.00\" fill=\"#000000\">samples = 64</text>\n",
       "<text text-anchor=\"middle\" x=\"198\" y=\"-126.8\" font-family=\"Helvetica,sans-Serif\" font-size=\"14.00\" fill=\"#000000\">value = [12, 24, 28]</text>\n",
       "<text text-anchor=\"middle\" x=\"198\" y=\"-111.8\" font-family=\"Helvetica,sans-Serif\" font-size=\"14.00\" fill=\"#000000\">class = L</text>\n",
       "</g>\n",
       "<!-- 1&#45;&gt;2 -->\n",
       "<g id=\"edge2\" class=\"edge\">\n",
       "<title>1&#45;&gt;2</title>\n",
       "<path fill=\"none\" stroke=\"#000000\" d=\"M359.8829,-227.8251C333.099,-214.2042 302.6164,-198.7023 275.3813,-184.852\"/>\n",
       "<polygon fill=\"#000000\" stroke=\"#000000\" points=\"276.7797,-181.6366 266.2796,-180.2234 273.6066,-187.8762 276.7797,-181.6366\"/>\n",
       "</g>\n",
       "<!-- 5 -->\n",
       "<g id=\"node6\" class=\"node\">\n",
       "<title>5</title>\n",
       "<path fill=\"#8139e5\" fill-opacity=\"0.866667\" stroke=\"#000000\" d=\"M484,-187C484,-187 380,-187 380,-187 374,-187 368,-181 368,-175 368,-175 368,-116 368,-116 368,-110 374,-104 380,-104 380,-104 484,-104 484,-104 490,-104 496,-110 496,-116 496,-116 496,-175 496,-175 496,-181 490,-187 484,-187\"/>\n",
       "<text text-anchor=\"middle\" x=\"432\" y=\"-171.8\" font-family=\"Helvetica,sans-Serif\" font-size=\"14.00\" fill=\"#000000\">2 &lt;= 1.5</text>\n",
       "<text text-anchor=\"middle\" x=\"432\" y=\"-156.8\" font-family=\"Helvetica,sans-Serif\" font-size=\"14.00\" fill=\"#000000\">entropy = 0.575</text>\n",
       "<text text-anchor=\"middle\" x=\"432\" y=\"-141.8\" font-family=\"Helvetica,sans-Serif\" font-size=\"14.00\" fill=\"#000000\">samples = 101</text>\n",
       "<text text-anchor=\"middle\" x=\"432\" y=\"-126.8\" font-family=\"Helvetica,sans-Serif\" font-size=\"14.00\" fill=\"#000000\">value = [1, 11, 89]</text>\n",
       "<text text-anchor=\"middle\" x=\"432\" y=\"-111.8\" font-family=\"Helvetica,sans-Serif\" font-size=\"14.00\" fill=\"#000000\">class = L</text>\n",
       "</g>\n",
       "<!-- 1&#45;&gt;5 -->\n",
       "<g id=\"edge5\" class=\"edge\">\n",
       "<title>1&#45;&gt;5</title>\n",
       "<path fill=\"none\" stroke=\"#000000\" d=\"M432,-222.8796C432,-214.6838 432,-205.9891 432,-197.5013\"/>\n",
       "<polygon fill=\"#000000\" stroke=\"#000000\" points=\"435.5001,-197.298 432,-187.2981 428.5001,-197.2981 435.5001,-197.298\"/>\n",
       "</g>\n",
       "<!-- 3 -->\n",
       "<g id=\"node4\" class=\"node\">\n",
       "<title>3</title>\n",
       "<path fill=\"#39e581\" fill-opacity=\"0.529412\" stroke=\"#000000\" d=\"M108,-68C108,-68 12,-68 12,-68 6,-68 0,-62 0,-56 0,-56 0,-12 0,-12 0,-6 6,0 12,0 12,0 108,0 108,0 114,0 120,-6 120,-12 120,-12 120,-56 120,-56 120,-62 114,-68 108,-68\"/>\n",
       "<text text-anchor=\"middle\" x=\"60\" y=\"-52.8\" font-family=\"Helvetica,sans-Serif\" font-size=\"14.00\" fill=\"#000000\">entropy = 1.214</text>\n",
       "<text text-anchor=\"middle\" x=\"60\" y=\"-37.8\" font-family=\"Helvetica,sans-Serif\" font-size=\"14.00\" fill=\"#000000\">samples = 23</text>\n",
       "<text text-anchor=\"middle\" x=\"60\" y=\"-22.8\" font-family=\"Helvetica,sans-Serif\" font-size=\"14.00\" fill=\"#000000\">value = [6, 15, 2]</text>\n",
       "<text text-anchor=\"middle\" x=\"60\" y=\"-7.8\" font-family=\"Helvetica,sans-Serif\" font-size=\"14.00\" fill=\"#000000\">class = R</text>\n",
       "</g>\n",
       "<!-- 2&#45;&gt;3 -->\n",
       "<g id=\"edge3\" class=\"edge\">\n",
       "<title>2&#45;&gt;3</title>\n",
       "<path fill=\"none\" stroke=\"#000000\" d=\"M146.6139,-103.9815C134.7839,-94.4232 122.2136,-84.2668 110.4249,-74.7419\"/>\n",
       "<polygon fill=\"#000000\" stroke=\"#000000\" points=\"112.3851,-71.826 102.4071,-68.2637 107.9858,-77.2708 112.3851,-71.826\"/>\n",
       "</g>\n",
       "<!-- 4 -->\n",
       "<g id=\"node5\" class=\"node\">\n",
       "<title>4</title>\n",
       "<path fill=\"#8139e5\" fill-opacity=\"0.529412\" stroke=\"#000000\" d=\"M246,-68C246,-68 150,-68 150,-68 144,-68 138,-62 138,-56 138,-56 138,-12 138,-12 138,-6 144,0 150,0 150,0 246,0 246,0 252,0 258,-6 258,-12 258,-12 258,-56 258,-56 258,-62 252,-68 246,-68\"/>\n",
       "<text text-anchor=\"middle\" x=\"198\" y=\"-52.8\" font-family=\"Helvetica,sans-Serif\" font-size=\"14.00\" fill=\"#000000\">entropy = 1.303</text>\n",
       "<text text-anchor=\"middle\" x=\"198\" y=\"-37.8\" font-family=\"Helvetica,sans-Serif\" font-size=\"14.00\" fill=\"#000000\">samples = 41</text>\n",
       "<text text-anchor=\"middle\" x=\"198\" y=\"-22.8\" font-family=\"Helvetica,sans-Serif\" font-size=\"14.00\" fill=\"#000000\">value = [6, 9, 26]</text>\n",
       "<text text-anchor=\"middle\" x=\"198\" y=\"-7.8\" font-family=\"Helvetica,sans-Serif\" font-size=\"14.00\" fill=\"#000000\">class = L</text>\n",
       "</g>\n",
       "<!-- 2&#45;&gt;4 -->\n",
       "<g id=\"edge4\" class=\"edge\">\n",
       "<title>2&#45;&gt;4</title>\n",
       "<path fill=\"none\" stroke=\"#000000\" d=\"M198,-103.9815C198,-95.618 198,-86.7965 198,-78.3409\"/>\n",
       "<polygon fill=\"#000000\" stroke=\"#000000\" points=\"201.5001,-78.2636 198,-68.2637 194.5001,-78.2637 201.5001,-78.2636\"/>\n",
       "</g>\n",
       "<!-- 6 -->\n",
       "<g id=\"node7\" class=\"node\">\n",
       "<title>6</title>\n",
       "<path fill=\"#39e581\" fill-opacity=\"0.125490\" stroke=\"#000000\" d=\"M378,-68C378,-68 288,-68 288,-68 282,-68 276,-62 276,-56 276,-56 276,-12 276,-12 276,-6 282,0 288,0 288,0 378,0 378,0 384,0 390,-6 390,-12 390,-12 390,-56 390,-56 390,-62 384,-68 378,-68\"/>\n",
       "<text text-anchor=\"middle\" x=\"333\" y=\"-52.8\" font-family=\"Helvetica,sans-Serif\" font-size=\"14.00\" fill=\"#000000\">entropy = 1.296</text>\n",
       "<text text-anchor=\"middle\" x=\"333\" y=\"-37.8\" font-family=\"Helvetica,sans-Serif\" font-size=\"14.00\" fill=\"#000000\">samples = 14</text>\n",
       "<text text-anchor=\"middle\" x=\"333\" y=\"-22.8\" font-family=\"Helvetica,sans-Serif\" font-size=\"14.00\" fill=\"#000000\">value = [1, 7, 6]</text>\n",
       "<text text-anchor=\"middle\" x=\"333\" y=\"-7.8\" font-family=\"Helvetica,sans-Serif\" font-size=\"14.00\" fill=\"#000000\">class = R</text>\n",
       "</g>\n",
       "<!-- 5&#45;&gt;6 -->\n",
       "<g id=\"edge6\" class=\"edge\">\n",
       "<title>5&#45;&gt;6</title>\n",
       "<path fill=\"none\" stroke=\"#000000\" d=\"M395.1361,-103.9815C386.9757,-94.7908 378.3244,-85.0472 370.1526,-75.8436\"/>\n",
       "<polygon fill=\"#000000\" stroke=\"#000000\" points=\"372.6792,-73.4177 363.4225,-68.2637 367.4447,-78.0653 372.6792,-73.4177\"/>\n",
       "</g>\n",
       "<!-- 7 -->\n",
       "<g id=\"node8\" class=\"node\">\n",
       "<title>7</title>\n",
       "<path fill=\"#8139e5\" fill-opacity=\"0.952941\" stroke=\"#000000\" d=\"M516,-68C516,-68 420,-68 420,-68 414,-68 408,-62 408,-56 408,-56 408,-12 408,-12 408,-6 414,0 420,0 420,0 516,0 516,0 522,0 528,-6 528,-12 528,-12 528,-56 528,-56 528,-62 522,-68 516,-68\"/>\n",
       "<text text-anchor=\"middle\" x=\"468\" y=\"-52.8\" font-family=\"Helvetica,sans-Serif\" font-size=\"14.00\" fill=\"#000000\">entropy = 0.269</text>\n",
       "<text text-anchor=\"middle\" x=\"468\" y=\"-37.8\" font-family=\"Helvetica,sans-Serif\" font-size=\"14.00\" fill=\"#000000\">samples = 87</text>\n",
       "<text text-anchor=\"middle\" x=\"468\" y=\"-22.8\" font-family=\"Helvetica,sans-Serif\" font-size=\"14.00\" fill=\"#000000\">value = [0, 4, 83]</text>\n",
       "<text text-anchor=\"middle\" x=\"468\" y=\"-7.8\" font-family=\"Helvetica,sans-Serif\" font-size=\"14.00\" fill=\"#000000\">class = L</text>\n",
       "</g>\n",
       "<!-- 5&#45;&gt;7 -->\n",
       "<g id=\"edge7\" class=\"edge\">\n",
       "<title>5&#45;&gt;7</title>\n",
       "<path fill=\"none\" stroke=\"#000000\" d=\"M445.4051,-103.9815C448.1647,-95.4342 451.0788,-86.4086 453.8635,-77.7839\"/>\n",
       "<polygon fill=\"#000000\" stroke=\"#000000\" points=\"457.1954,-78.8554 456.9373,-68.2637 450.534,-76.7046 457.1954,-78.8554\"/>\n",
       "</g>\n",
       "<!-- 9 -->\n",
       "<g id=\"node10\" class=\"node\">\n",
       "<title>9</title>\n",
       "<path fill=\"#8139e5\" fill-opacity=\"0.341176\" stroke=\"#000000\" d=\"M698,-187C698,-187 586,-187 586,-187 580,-187 574,-181 574,-175 574,-175 574,-116 574,-116 574,-110 580,-104 586,-104 586,-104 698,-104 698,-104 704,-104 710,-110 710,-116 710,-116 710,-175 710,-175 710,-181 704,-187 698,-187\"/>\n",
       "<text text-anchor=\"middle\" x=\"642\" y=\"-171.8\" font-family=\"Helvetica,sans-Serif\" font-size=\"14.00\" fill=\"#000000\">1 &lt;= 1.5</text>\n",
       "<text text-anchor=\"middle\" x=\"642\" y=\"-156.8\" font-family=\"Helvetica,sans-Serif\" font-size=\"14.00\" fill=\"#000000\">entropy = 1.327</text>\n",
       "<text text-anchor=\"middle\" x=\"642\" y=\"-141.8\" font-family=\"Helvetica,sans-Serif\" font-size=\"14.00\" fill=\"#000000\">samples = 110</text>\n",
       "<text text-anchor=\"middle\" x=\"642\" y=\"-126.8\" font-family=\"Helvetica,sans-Serif\" font-size=\"14.00\" fill=\"#000000\">value = [11, 37, 62]</text>\n",
       "<text text-anchor=\"middle\" x=\"642\" y=\"-111.8\" font-family=\"Helvetica,sans-Serif\" font-size=\"14.00\" fill=\"#000000\">class = L</text>\n",
       "</g>\n",
       "<!-- 8&#45;&gt;9 -->\n",
       "<g id=\"edge9\" class=\"edge\">\n",
       "<title>8&#45;&gt;9</title>\n",
       "<path fill=\"none\" stroke=\"#000000\" d=\"M642,-222.8796C642,-214.6838 642,-205.9891 642,-197.5013\"/>\n",
       "<polygon fill=\"#000000\" stroke=\"#000000\" points=\"645.5001,-197.298 642,-187.2981 638.5001,-197.2981 645.5001,-197.298\"/>\n",
       "</g>\n",
       "<!-- 12 -->\n",
       "<g id=\"node13\" class=\"node\">\n",
       "<title>12</title>\n",
       "<path fill=\"#39e581\" fill-opacity=\"0.737255\" stroke=\"#000000\" d=\"M950,-187C950,-187 830,-187 830,-187 824,-187 818,-181 818,-175 818,-175 818,-116 818,-116 818,-110 824,-104 830,-104 830,-104 950,-104 950,-104 956,-104 962,-110 962,-116 962,-116 962,-175 962,-175 962,-181 956,-187 950,-187\"/>\n",
       "<text text-anchor=\"middle\" x=\"890\" y=\"-171.8\" font-family=\"Helvetica,sans-Serif\" font-size=\"14.00\" fill=\"#000000\">1 &lt;= 2.5</text>\n",
       "<text text-anchor=\"middle\" x=\"890\" y=\"-156.8\" font-family=\"Helvetica,sans-Serif\" font-size=\"14.00\" fill=\"#000000\">entropy = 0.968</text>\n",
       "<text text-anchor=\"middle\" x=\"890\" y=\"-141.8\" font-family=\"Helvetica,sans-Serif\" font-size=\"14.00\" fill=\"#000000\">samples = 162</text>\n",
       "<text text-anchor=\"middle\" x=\"890\" y=\"-126.8\" font-family=\"Helvetica,sans-Serif\" font-size=\"14.00\" fill=\"#000000\">value = [12, 126, 24]</text>\n",
       "<text text-anchor=\"middle\" x=\"890\" y=\"-111.8\" font-family=\"Helvetica,sans-Serif\" font-size=\"14.00\" fill=\"#000000\">class = R</text>\n",
       "</g>\n",
       "<!-- 8&#45;&gt;12 -->\n",
       "<g id=\"edge12\" class=\"edge\">\n",
       "<title>8&#45;&gt;12</title>\n",
       "<path fill=\"none\" stroke=\"#000000\" d=\"M714.065,-229.9204C743.6151,-215.7412 777.9679,-199.2573 808.4345,-184.6383\"/>\n",
       "<polygon fill=\"#000000\" stroke=\"#000000\" points=\"810.2536,-187.6475 817.7552,-180.1658 807.2253,-181.3365 810.2536,-187.6475\"/>\n",
       "</g>\n",
       "<!-- 10 -->\n",
       "<g id=\"node11\" class=\"node\">\n",
       "<title>10</title>\n",
       "<path fill=\"#39e581\" fill-opacity=\"0.749020\" stroke=\"#000000\" d=\"M654,-68C654,-68 558,-68 558,-68 552,-68 546,-62 546,-56 546,-56 546,-12 546,-12 546,-6 552,0 558,0 558,0 654,0 654,0 660,0 666,-6 666,-12 666,-12 666,-56 666,-56 666,-62 660,-68 654,-68\"/>\n",
       "<text text-anchor=\"middle\" x=\"606\" y=\"-52.8\" font-family=\"Helvetica,sans-Serif\" font-size=\"14.00\" fill=\"#000000\">entropy = 0.986</text>\n",
       "<text text-anchor=\"middle\" x=\"606\" y=\"-37.8\" font-family=\"Helvetica,sans-Serif\" font-size=\"14.00\" fill=\"#000000\">samples = 27</text>\n",
       "<text text-anchor=\"middle\" x=\"606\" y=\"-22.8\" font-family=\"Helvetica,sans-Serif\" font-size=\"14.00\" fill=\"#000000\">value = [3, 21, 3]</text>\n",
       "<text text-anchor=\"middle\" x=\"606\" y=\"-7.8\" font-family=\"Helvetica,sans-Serif\" font-size=\"14.00\" fill=\"#000000\">class = R</text>\n",
       "</g>\n",
       "<!-- 9&#45;&gt;10 -->\n",
       "<g id=\"edge10\" class=\"edge\">\n",
       "<title>9&#45;&gt;10</title>\n",
       "<path fill=\"none\" stroke=\"#000000\" d=\"M628.5949,-103.9815C625.8353,-95.4342 622.9212,-86.4086 620.1365,-77.7839\"/>\n",
       "<polygon fill=\"#000000\" stroke=\"#000000\" points=\"623.466,-76.7046 617.0627,-68.2637 616.8046,-78.8554 623.466,-76.7046\"/>\n",
       "</g>\n",
       "<!-- 11 -->\n",
       "<g id=\"node12\" class=\"node\">\n",
       "<title>11</title>\n",
       "<path fill=\"#8139e5\" fill-opacity=\"0.643137\" stroke=\"#000000\" d=\"M800,-68C800,-68 696,-68 696,-68 690,-68 684,-62 684,-56 684,-56 684,-12 684,-12 684,-6 690,0 696,0 696,0 800,0 800,0 806,0 812,-6 812,-12 812,-12 812,-56 812,-56 812,-62 806,-68 800,-68\"/>\n",
       "<text text-anchor=\"middle\" x=\"748\" y=\"-52.8\" font-family=\"Helvetica,sans-Serif\" font-size=\"14.00\" fill=\"#000000\">entropy = 1.133</text>\n",
       "<text text-anchor=\"middle\" x=\"748\" y=\"-37.8\" font-family=\"Helvetica,sans-Serif\" font-size=\"14.00\" fill=\"#000000\">samples = 83</text>\n",
       "<text text-anchor=\"middle\" x=\"748\" y=\"-22.8\" font-family=\"Helvetica,sans-Serif\" font-size=\"14.00\" fill=\"#000000\">value = [8, 16, 59]</text>\n",
       "<text text-anchor=\"middle\" x=\"748\" y=\"-7.8\" font-family=\"Helvetica,sans-Serif\" font-size=\"14.00\" fill=\"#000000\">class = L</text>\n",
       "</g>\n",
       "<!-- 9&#45;&gt;11 -->\n",
       "<g id=\"edge11\" class=\"edge\">\n",
       "<title>9&#45;&gt;11</title>\n",
       "<path fill=\"none\" stroke=\"#000000\" d=\"M681.4705,-103.9815C690.2952,-94.6989 699.6562,-84.8522 708.4827,-75.5677\"/>\n",
       "<polygon fill=\"#000000\" stroke=\"#000000\" points=\"711.073,-77.9228 715.4265,-68.2637 705.9997,-73.0997 711.073,-77.9228\"/>\n",
       "</g>\n",
       "<!-- 13 -->\n",
       "<g id=\"node14\" class=\"node\">\n",
       "<title>13</title>\n",
       "<path fill=\"#39e581\" fill-opacity=\"0.984314\" stroke=\"#000000\" d=\"M938,-68C938,-68 842,-68 842,-68 836,-68 830,-62 830,-56 830,-56 830,-12 830,-12 830,-6 836,0 842,0 842,0 938,0 938,0 944,0 950,-6 950,-12 950,-12 950,-56 950,-56 950,-62 944,-68 938,-68\"/>\n",
       "<text text-anchor=\"middle\" x=\"890\" y=\"-52.8\" font-family=\"Helvetica,sans-Serif\" font-size=\"14.00\" fill=\"#000000\">entropy = 0.113</text>\n",
       "<text text-anchor=\"middle\" x=\"890\" y=\"-37.8\" font-family=\"Helvetica,sans-Serif\" font-size=\"14.00\" fill=\"#000000\">samples = 66</text>\n",
       "<text text-anchor=\"middle\" x=\"890\" y=\"-22.8\" font-family=\"Helvetica,sans-Serif\" font-size=\"14.00\" fill=\"#000000\">value = [0, 65, 1]</text>\n",
       "<text text-anchor=\"middle\" x=\"890\" y=\"-7.8\" font-family=\"Helvetica,sans-Serif\" font-size=\"14.00\" fill=\"#000000\">class = R</text>\n",
       "</g>\n",
       "<!-- 12&#45;&gt;13 -->\n",
       "<g id=\"edge13\" class=\"edge\">\n",
       "<title>12&#45;&gt;13</title>\n",
       "<path fill=\"none\" stroke=\"#000000\" d=\"M890,-103.9815C890,-95.618 890,-86.7965 890,-78.3409\"/>\n",
       "<polygon fill=\"#000000\" stroke=\"#000000\" points=\"893.5001,-78.2636 890,-68.2637 886.5001,-78.2637 893.5001,-78.2636\"/>\n",
       "</g>\n",
       "<!-- 14 -->\n",
       "<g id=\"node15\" class=\"node\">\n",
       "<title>14</title>\n",
       "<path fill=\"#39e581\" fill-opacity=\"0.521569\" stroke=\"#000000\" d=\"M1092,-68C1092,-68 980,-68 980,-68 974,-68 968,-62 968,-56 968,-56 968,-12 968,-12 968,-6 974,0 980,0 980,0 1092,0 1092,0 1098,0 1104,-6 1104,-12 1104,-12 1104,-56 1104,-56 1104,-62 1098,-68 1092,-68\"/>\n",
       "<text text-anchor=\"middle\" x=\"1036\" y=\"-52.8\" font-family=\"Helvetica,sans-Serif\" font-size=\"14.00\" fill=\"#000000\">entropy = 1.285</text>\n",
       "<text text-anchor=\"middle\" x=\"1036\" y=\"-37.8\" font-family=\"Helvetica,sans-Serif\" font-size=\"14.00\" fill=\"#000000\">samples = 96</text>\n",
       "<text text-anchor=\"middle\" x=\"1036\" y=\"-22.8\" font-family=\"Helvetica,sans-Serif\" font-size=\"14.00\" fill=\"#000000\">value = [12, 61, 23]</text>\n",
       "<text text-anchor=\"middle\" x=\"1036\" y=\"-7.8\" font-family=\"Helvetica,sans-Serif\" font-size=\"14.00\" fill=\"#000000\">class = R</text>\n",
       "</g>\n",
       "<!-- 12&#45;&gt;14 -->\n",
       "<g id=\"edge14\" class=\"edge\">\n",
       "<title>12&#45;&gt;14</title>\n",
       "<path fill=\"none\" stroke=\"#000000\" d=\"M944.365,-103.9815C957.0011,-94.3313 970.4356,-84.0714 983.0115,-74.4673\"/>\n",
       "<polygon fill=\"#000000\" stroke=\"#000000\" points=\"985.3114,-77.1148 991.1346,-68.2637 981.0628,-71.5515 985.3114,-77.1148\"/>\n",
       "</g>\n",
       "</g>\n",
       "</svg>\n"
      ],
      "text/plain": [
       "<graphviz.files.Source at 0x1097df0f0>"
      ]
     },
     "execution_count": 84,
     "metadata": {
      "tags": []
     },
     "output_type": "execute_result"
    }
   ],
   "source": [
    "# Visualizing the Entropy based Decision Tree\n",
    "graph_data = tree.export_graphviz(tree_entropy, out_file=None, filled=True, rounded=True,\n",
    "                                feature_names=feature_names,  \n",
    "                                class_names=class_names)\n",
    "graph = graphviz.Source(graph_data)  \n",
    "graph"
   ]
  },
  {
   "cell_type": "markdown",
   "metadata": {
    "colab_type": "text",
    "id": "xdDMiNMk_WLJ"
   },
   "source": [
    "### Prediction"
   ]
  },
  {
   "cell_type": "markdown",
   "metadata": {
    "colab_type": "text",
    "id": "Nz8dabFL_WLJ"
   },
   "source": [
    "In this step, we will use our two modeled classifiers, one classifier with gini index and another one with entropy as the criterion to predict the classes for our test data set. We can use predict() method for this."
   ]
  },
  {
   "cell_type": "code",
   "execution_count": 0,
   "metadata": {
    "colab": {},
    "colab_type": "code",
    "id": "66p-CxeB_WLK",
    "outputId": "a0e58966-1d15-4359-c3f5-6dd60e1fdb34"
   },
   "outputs": [
    {
     "data": {
      "text/plain": [
       "array([1, 2, 1, 1, 1, 2, 1, 2, 2, 2, 1, 2, 2, 2, 1, 2, 1, 2, 2, 1, 2, 1,\n",
       "       2, 2, 1, 2, 2, 2, 1, 2, 2, 2, 1, 2, 2, 2, 2, 1, 2, 2, 1, 2, 1, 2,\n",
       "       1, 1, 2, 2, 1, 2, 1, 1, 2, 1, 1, 2, 1, 1, 2, 2, 1, 1, 2, 2, 2, 2,\n",
       "       2, 1, 1, 2, 2, 1, 1, 2, 1, 2, 1, 1, 1, 2, 1, 2, 2, 2, 2, 1, 1, 2,\n",
       "       1, 2, 1, 1, 2, 2, 2, 1, 1, 2, 2, 2, 1, 2, 1, 1, 1, 1, 1, 1, 1, 2,\n",
       "       1, 2, 1, 1, 2, 1, 1, 1, 1, 1, 2, 1, 2, 2, 2, 2, 2, 2, 2, 1, 1, 1,\n",
       "       1, 2, 1, 1, 1, 2, 2, 1, 2, 1, 2, 1, 2, 2, 1, 2, 2, 1, 2, 1, 2, 1,\n",
       "       1, 1, 2, 1, 1, 1, 1, 1, 2, 2, 1, 1, 1, 1, 2, 1, 1, 1, 2, 1, 2, 2,\n",
       "       2, 2, 1, 1, 2, 1, 1, 2, 2, 1, 1, 1])"
      ]
     },
     "execution_count": 85,
     "metadata": {
      "tags": []
     },
     "output_type": "execute_result"
    }
   ],
   "source": [
    "# Prediction for Decision Tree classifier with criterion as gini index\n",
    "y_pred_gini = tree_gini.predict(X_test)\n",
    "y_pred_gini"
   ]
  },
  {
   "cell_type": "code",
   "execution_count": 0,
   "metadata": {
    "colab": {},
    "colab_type": "code",
    "id": "X9ppmnQ0_WLN",
    "outputId": "7d6b1a6e-6cc0-4a0a-ed08-143fd483a7e7"
   },
   "outputs": [
    {
     "data": {
      "text/plain": [
       "array([1, 2, 1, 2, 1, 2, 1, 2, 1, 1, 1, 1, 2, 2, 1, 2, 1, 2, 2, 1, 2, 1,\n",
       "       2, 2, 1, 2, 1, 2, 1, 2, 1, 2, 1, 2, 2, 2, 2, 2, 1, 2, 1, 2, 1, 2,\n",
       "       1, 1, 2, 2, 1, 2, 2, 1, 2, 2, 1, 2, 1, 1, 2, 1, 1, 1, 2, 2, 1, 2,\n",
       "       2, 1, 2, 2, 2, 1, 1, 2, 1, 2, 1, 1, 1, 2, 1, 2, 2, 2, 2, 1, 1, 2,\n",
       "       1, 2, 1, 1, 2, 2, 2, 1, 1, 2, 2, 2, 1, 2, 2, 1, 1, 1, 1, 1, 1, 2,\n",
       "       1, 2, 1, 1, 2, 1, 1, 2, 1, 1, 2, 1, 1, 1, 2, 2, 2, 2, 2, 1, 1, 1,\n",
       "       1, 2, 1, 1, 1, 2, 2, 1, 2, 1, 2, 1, 2, 1, 1, 2, 2, 1, 2, 1, 1, 1,\n",
       "       1, 1, 2, 1, 1, 1, 1, 1, 1, 2, 1, 2, 1, 1, 2, 1, 2, 1, 2, 1, 2, 2,\n",
       "       2, 2, 2, 1, 1, 1, 2, 2, 2, 1, 1, 1])"
      ]
     },
     "execution_count": 86,
     "metadata": {
      "tags": []
     },
     "output_type": "execute_result"
    }
   ],
   "source": [
    "# Prediction for Decision Tree classifier with criterion as Entropy\n",
    "y_pred_entropy = tree_entropy.predict(X_test)\n",
    "y_pred_entropy"
   ]
  },
  {
   "cell_type": "markdown",
   "metadata": {
    "colab_type": "text",
    "id": "YMhpof6e_WLR"
   },
   "source": [
    "### Calculating Accuracy Score"
   ]
  },
  {
   "cell_type": "markdown",
   "metadata": {
    "colab_type": "text",
    "id": "cM_L88GX_WLT"
   },
   "source": [
    "The function accuracy_score() is used to print accuracy of a Decision Tree classifier. Accuracy is the ratio of the correctly predicted data points to all the predicted data points. Accuracy as a metric helps to understand the effectiveness of our algorithm. It takes 4 parameters.\n",
    "* y_true\n",
    "* y_pred\n",
    "* normalize\n",
    "* sample_weight\n",
    "\n",
    "Out of these 4, normalize & sample_weight are optional parameters. The parameter y_true  accepts an array of correct labels and y_pred takes an array of predicted labels that are returned by the classifier. It returns accuracy as a float value."
   ]
  },
  {
   "cell_type": "code",
   "execution_count": 0,
   "metadata": {
    "colab": {},
    "colab_type": "code",
    "id": "Om_XxTC9_WLU",
    "outputId": "e69a2181-759e-4a6b-c2e4-24d07e26e937"
   },
   "outputs": [
    {
     "name": "stdout",
     "output_type": "stream",
     "text": [
      "Accuracy for Decision Tree with criteria as Gini Index is:  73.40425531914893\n"
     ]
    }
   ],
   "source": [
    "# Accuracy for Decision Tree classifier with criterion as gini index\n",
    "print(\"Accuracy for Decision Tree with criteria as Gini Index is: \", accuracy_score(y_test,y_pred_gini)*100)\n"
   ]
  },
  {
   "cell_type": "code",
   "execution_count": 0,
   "metadata": {
    "colab": {},
    "colab_type": "code",
    "id": "H73qp34B_WLY",
    "outputId": "7c4f6b39-1db9-438b-ea2f-ed812f8a671d"
   },
   "outputs": [
    {
     "name": "stdout",
     "output_type": "stream",
     "text": [
      "Accuracy for Decision Tree with criteria as Entropy is:  70.74468085106383\n"
     ]
    }
   ],
   "source": [
    "# Accuracy for Decision Tree classifier with criterion as Entropy\n",
    "print(\"Accuracy for Decision Tree with criteria as Entropy is: \", accuracy_score(y_test,y_pred_entropy)*100)\n"
   ]
  },
  {
   "cell_type": "code",
   "execution_count": 0,
   "metadata": {
    "colab": {},
    "colab_type": "code",
    "id": "__wGd4jR_WLa"
   },
   "outputs": [],
   "source": []
  }
 ],
 "metadata": {
  "colab": {
   "name": "M5_Decision Trees.ipynb",
   "provenance": [],
   "version": "0.3.2"
  },
  "kernelspec": {
   "display_name": "Python 3",
   "language": "python",
   "name": "python3"
  },
  "language_info": {
   "codemirror_mode": {
    "name": "ipython",
    "version": 3
   },
   "file_extension": ".py",
   "mimetype": "text/x-python",
   "name": "python",
   "nbconvert_exporter": "python",
   "pygments_lexer": "ipython3",
   "version": "3.8.5"
  }
 },
 "nbformat": 4,
 "nbformat_minor": 1
}
