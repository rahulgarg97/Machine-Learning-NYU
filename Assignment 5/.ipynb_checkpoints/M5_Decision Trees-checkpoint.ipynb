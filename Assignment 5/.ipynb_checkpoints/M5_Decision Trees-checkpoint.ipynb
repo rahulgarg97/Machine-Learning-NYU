{
 "cells": [
  {
   "cell_type": "markdown",
   "metadata": {
    "colab_type": "text",
    "id": "td-UlmSt_WKh"
   },
   "source": [
    "## Introduction:\n",
    "\n",
    "This demo is derived from http://dataaspirant.com/2017/02/01/decision-tree-algorithm-python-with-scikit-learn/\n",
    "\n",
    "A decision tree is a type of supervised learning algorithm (having a pre-defined target variable) that is mostly used in classification problems.\n",
    "It works for both categorical and continuous input and output variables.\n",
    "Types of Decision Trees\n",
    "* Categorical Variable Decision Tree\n",
    "* Continuous Variable Decision Tree\n",
    "\n",
    "In this notebook we are going to learn how to build a decision tree classifier using scikit-learn, train it and then use it to predict the target variable.\n"
   ]
  },
  {
   "cell_type": "markdown",
   "metadata": {
    "colab_type": "text",
    "id": "5Jd5959x_WKi"
   },
   "source": [
    "## Goal:\n",
    "To build a decision tree classifier in python using scikit-learn for balance scale dataset and then use the trained model to predict whether the balance scale tip to the right or tip to the left or be balanced."
   ]
  },
  {
   "cell_type": "markdown",
   "metadata": {
    "colab_type": "text",
    "id": "NuY18e90_WKi"
   },
   "source": [
    "## Dataset: \n",
    "We will be using the Balance Scale Dataset which can be found here -> https://archive.ics.uci.edu/ml/machine-learning-databases/balance-scale/balance-scale.data\n",
    "\n",
    "Dataset description:\n",
    "Balance Scale data set consists of 5 attributes, 4 as feature attributes and 1 as the target attribute. We will be building a classifier for predicting the Class attribute. \n",
    "\n",
    "| Variable Name  | Variable Values |\n",
    "| :-----------: | :-----------: |\n",
    "| Class Name(Target Variable)   |  “R” : balance scale tip to the right |\n",
    "|                               |  “L” : balance scale tip to the left|\n",
    "|                                | “B” : balance scale be balanced|\n",
    "|Left-Weight    |  1, 2, 3, 4, 5       |\n",
    "|Left-Distance    |  1, 2, 3, 4, 5       |\n",
    "|Right-Weight |  1, 2, 3, 4, 5       |\n",
    "|Right-Distance | 1, 2, 3, 4, 5       |\n",
    " "
   ]
  },
  {
   "cell_type": "code",
   "execution_count": 14,
   "metadata": {
    "colab": {},
    "colab_type": "code",
    "id": "hcXWA5cp_WKj",
    "scrolled": true
   },
   "outputs": [],
   "source": [
    "# Imports\n",
    "import numpy as np\n",
    "import pandas as pd\n",
    "from sklearn.tree import DecisionTreeClassifier\n",
    "from sklearn.metrics import accuracy_score\n",
    "from sklearn import tree\n",
    "from sklearn.model_selection import train_test_split\n",
    "import matplotlib.pyplot as plt\n",
    "import graphviz\n"
   ]
  },
  {
   "cell_type": "code",
   "execution_count": 15,
   "metadata": {
    "colab": {},
    "colab_type": "code",
    "id": "1e1pnOms_WKm"
   },
   "outputs": [],
   "source": [
    "# Reading Data\n",
    "balance_data = pd.read_csv(\n",
    "'https://archive.ics.uci.edu/ml/machine-learning-databases/balance-scale/balance-scale.data',\n",
    "                           sep= ',', header= None)"
   ]
  },
  {
   "cell_type": "code",
   "execution_count": 16,
   "metadata": {
    "colab": {},
    "colab_type": "code",
    "id": "R1gxDPoF_WKo",
    "outputId": "dabdb56d-9e8e-4aa4-e5a2-0f6bfc03dbfe"
   },
   "outputs": [
    {
     "name": "stdout",
     "output_type": "stream",
     "text": [
      "Number of Samples::  625\n",
      "Number of features:  5\n"
     ]
    }
   ],
   "source": [
    "# Analyzing data\n",
    "print(\"Number of Samples:: \", balance_data.shape[0])\n",
    "print(\"Number of features: \", balance_data.shape[1])"
   ]
  },
  {
   "cell_type": "code",
   "execution_count": 17,
   "metadata": {
    "colab": {},
    "colab_type": "code",
    "id": "crvTERjr_WKu",
    "outputId": "236b5d76-41e5-434f-d485-f5c8e1b42b35"
   },
   "outputs": [
    {
     "data": {
      "text/html": [
       "<div>\n",
       "<style scoped>\n",
       "    .dataframe tbody tr th:only-of-type {\n",
       "        vertical-align: middle;\n",
       "    }\n",
       "\n",
       "    .dataframe tbody tr th {\n",
       "        vertical-align: top;\n",
       "    }\n",
       "\n",
       "    .dataframe thead th {\n",
       "        text-align: right;\n",
       "    }\n",
       "</style>\n",
       "<table border=\"1\" class=\"dataframe\">\n",
       "  <thead>\n",
       "    <tr style=\"text-align: right;\">\n",
       "      <th></th>\n",
       "      <th>0</th>\n",
       "      <th>1</th>\n",
       "      <th>2</th>\n",
       "      <th>3</th>\n",
       "      <th>4</th>\n",
       "    </tr>\n",
       "  </thead>\n",
       "  <tbody>\n",
       "    <tr>\n",
       "      <th>0</th>\n",
       "      <td>B</td>\n",
       "      <td>1</td>\n",
       "      <td>1</td>\n",
       "      <td>1</td>\n",
       "      <td>1</td>\n",
       "    </tr>\n",
       "    <tr>\n",
       "      <th>1</th>\n",
       "      <td>R</td>\n",
       "      <td>1</td>\n",
       "      <td>1</td>\n",
       "      <td>1</td>\n",
       "      <td>2</td>\n",
       "    </tr>\n",
       "    <tr>\n",
       "      <th>2</th>\n",
       "      <td>R</td>\n",
       "      <td>1</td>\n",
       "      <td>1</td>\n",
       "      <td>1</td>\n",
       "      <td>3</td>\n",
       "    </tr>\n",
       "    <tr>\n",
       "      <th>3</th>\n",
       "      <td>R</td>\n",
       "      <td>1</td>\n",
       "      <td>1</td>\n",
       "      <td>1</td>\n",
       "      <td>4</td>\n",
       "    </tr>\n",
       "    <tr>\n",
       "      <th>4</th>\n",
       "      <td>R</td>\n",
       "      <td>1</td>\n",
       "      <td>1</td>\n",
       "      <td>1</td>\n",
       "      <td>5</td>\n",
       "    </tr>\n",
       "  </tbody>\n",
       "</table>\n",
       "</div>"
      ],
      "text/plain": [
       "   0  1  2  3  4\n",
       "0  B  1  1  1  1\n",
       "1  R  1  1  1  2\n",
       "2  R  1  1  1  3\n",
       "3  R  1  1  1  4\n",
       "4  R  1  1  1  5"
      ]
     },
     "execution_count": 17,
     "metadata": {},
     "output_type": "execute_result"
    }
   ],
   "source": [
    "balance_data.head()"
   ]
  },
  {
   "cell_type": "code",
   "execution_count": 18,
   "metadata": {
    "colab": {},
    "colab_type": "code",
    "id": "x472wH64_WKx"
   },
   "outputs": [],
   "source": [
    "# The target variable is marked as a class in the balance_data frame. The values are present in string format. \n",
    "# However, the algorithm requires the variables to be coded into its equivalent integer codes.\n",
    "# We can convert the string categorical values into an integer code using factorize method of the pandas library.\n",
    "feature_names = balance_data.columns[1:]\n",
    "balance_data[0],class_names = pd.factorize(balance_data[0])"
   ]
  },
  {
   "cell_type": "code",
   "execution_count": 19,
   "metadata": {
    "colab": {},
    "colab_type": "code",
    "id": "1-ShsCMb_WKz",
    "outputId": "2fe62cbe-fce0-47b3-dcf1-3f45a50a17d1"
   },
   "outputs": [
    {
     "data": {
      "text/html": [
       "<div>\n",
       "<style scoped>\n",
       "    .dataframe tbody tr th:only-of-type {\n",
       "        vertical-align: middle;\n",
       "    }\n",
       "\n",
       "    .dataframe tbody tr th {\n",
       "        vertical-align: top;\n",
       "    }\n",
       "\n",
       "    .dataframe thead th {\n",
       "        text-align: right;\n",
       "    }\n",
       "</style>\n",
       "<table border=\"1\" class=\"dataframe\">\n",
       "  <thead>\n",
       "    <tr style=\"text-align: right;\">\n",
       "      <th></th>\n",
       "      <th>0</th>\n",
       "      <th>1</th>\n",
       "      <th>2</th>\n",
       "      <th>3</th>\n",
       "      <th>4</th>\n",
       "    </tr>\n",
       "  </thead>\n",
       "  <tbody>\n",
       "    <tr>\n",
       "      <th>0</th>\n",
       "      <td>0</td>\n",
       "      <td>1</td>\n",
       "      <td>1</td>\n",
       "      <td>1</td>\n",
       "      <td>1</td>\n",
       "    </tr>\n",
       "    <tr>\n",
       "      <th>1</th>\n",
       "      <td>1</td>\n",
       "      <td>1</td>\n",
       "      <td>1</td>\n",
       "      <td>1</td>\n",
       "      <td>2</td>\n",
       "    </tr>\n",
       "    <tr>\n",
       "      <th>2</th>\n",
       "      <td>1</td>\n",
       "      <td>1</td>\n",
       "      <td>1</td>\n",
       "      <td>1</td>\n",
       "      <td>3</td>\n",
       "    </tr>\n",
       "    <tr>\n",
       "      <th>3</th>\n",
       "      <td>1</td>\n",
       "      <td>1</td>\n",
       "      <td>1</td>\n",
       "      <td>1</td>\n",
       "      <td>4</td>\n",
       "    </tr>\n",
       "    <tr>\n",
       "      <th>4</th>\n",
       "      <td>1</td>\n",
       "      <td>1</td>\n",
       "      <td>1</td>\n",
       "      <td>1</td>\n",
       "      <td>5</td>\n",
       "    </tr>\n",
       "  </tbody>\n",
       "</table>\n",
       "</div>"
      ],
      "text/plain": [
       "   0  1  2  3  4\n",
       "0  0  1  1  1  1\n",
       "1  1  1  1  1  2\n",
       "2  1  1  1  1  3\n",
       "3  1  1  1  1  4\n",
       "4  1  1  1  1  5"
      ]
     },
     "execution_count": 19,
     "metadata": {},
     "output_type": "execute_result"
    }
   ],
   "source": [
    "balance_data.head()"
   ]
  },
  {
   "cell_type": "code",
   "execution_count": 20,
   "metadata": {},
   "outputs": [
    {
     "data": {
      "text/plain": [
       "Index(['B', 'R', 'L'], dtype='object')"
      ]
     },
     "execution_count": 20,
     "metadata": {},
     "output_type": "execute_result"
    }
   ],
   "source": [
    "class_names"
   ]
  },
  {
   "cell_type": "code",
   "execution_count": 21,
   "metadata": {
    "colab": {},
    "colab_type": "code",
    "id": "GeLOcDHT_WK1"
   },
   "outputs": [],
   "source": [
    "# Data Slicing\n",
    "X = balance_data.values[:, 1:5]\n",
    "Y = balance_data.values[:,0]"
   ]
  },
  {
   "cell_type": "markdown",
   "metadata": {
    "colab_type": "text",
    "id": "CF3uX_CG_WK5"
   },
   "source": [
    "### Splitting the data into train and test sets\n",
    "Let’s split our data into training and test set. We will use sklearn’s train_test_split() method. \n",
    "The snippet below will split data into training and test set. X_train, y_train are training data &  X_test, y_test belongs to the test dataset.\n",
    "\n",
    "The parameter test_size is given value 0.3; it means test sets will be 30% of whole dataset  & training dataset’s size will be 70% of the entire dataset. random_state variable is a pseudo-random number generator state used for random sampling. "
   ]
  },
  {
   "cell_type": "code",
   "execution_count": 22,
   "metadata": {
    "colab": {},
    "colab_type": "code",
    "id": "GdxOWSmS_WK5"
   },
   "outputs": [],
   "source": [
    "X_train, X_test, y_train, y_test = train_test_split( X, Y, test_size = 0.3, random_state = 100)"
   ]
  },
  {
   "cell_type": "markdown",
   "metadata": {
    "colab_type": "text",
    "id": "19nAQo9__WK8"
   },
   "source": [
    "### Decision Tree Training\n",
    "* Let’s build our decision tree classifiers using Gini index & Entropy as criterion. "
   ]
  },
  {
   "cell_type": "code",
   "execution_count": 23,
   "metadata": {
    "colab": {},
    "colab_type": "code",
    "id": "HYjZTKPZ_WK-",
    "outputId": "265e3987-f361-4a50-c536-fe96cf722697"
   },
   "outputs": [
    {
     "data": {
      "text/plain": [
       "DecisionTreeClassifier(max_depth=3, min_samples_leaf=5, random_state=50)"
      ]
     },
     "execution_count": 23,
     "metadata": {},
     "output_type": "execute_result"
    }
   ],
   "source": [
    "# Decision Tree classifier with criteria - Gini Index\n",
    "tree_gini = DecisionTreeClassifier(criterion = \"gini\", random_state = 50,\n",
    "                               max_depth=3, min_samples_leaf=5)\n",
    "tree_gini.fit(X_train, y_train)"
   ]
  },
  {
   "cell_type": "code",
   "execution_count": 24,
   "metadata": {
    "colab": {},
    "colab_type": "code",
    "id": "YRM-53is_WLB",
    "outputId": "6bade6ef-9f4d-42ce-f9ed-e1c7eccb71eb"
   },
   "outputs": [
    {
     "data": {
      "text/plain": [
       "DecisionTreeClassifier(criterion='entropy', max_depth=3, min_samples_leaf=5,\n",
       "                       random_state=50)"
      ]
     },
     "execution_count": 24,
     "metadata": {},
     "output_type": "execute_result"
    }
   ],
   "source": [
    "# Decision Tree classifier with criteria - Entropy\n",
    "tree_entropy = DecisionTreeClassifier(criterion = \"entropy\", random_state = 50,\n",
    "                                      max_depth=3, min_samples_leaf=5)\n",
    "tree_entropy.fit(X_train, y_train)\n"
   ]
  },
  {
   "cell_type": "markdown",
   "metadata": {
    "colab_type": "text",
    "id": "Xm-aMxQm_WLD"
   },
   "source": [
    "### Visualising the Decision Graph"
   ]
  },
  {
   "cell_type": "code",
   "execution_count": 26,
   "metadata": {
    "colab": {},
    "colab_type": "code",
    "id": "jDT5VocS_WLE",
    "outputId": "26047400-1f9c-4ae3-a5c6-e2796d273f43"
   },
   "outputs": [
    {
     "data": {
      "image/svg+xml": [
       "<?xml version=\"1.0\" encoding=\"UTF-8\" standalone=\"no\"?>\n",
       "<!DOCTYPE svg PUBLIC \"-//W3C//DTD SVG 1.1//EN\"\n",
       " \"http://www.w3.org/Graphics/SVG/1.1/DTD/svg11.dtd\">\n",
       "<!-- Generated by graphviz version 2.44.1 (20200629.0846)\n",
       " -->\n",
       "<!-- Title: Tree Pages: 1 -->\n",
       "<svg width=\"1088pt\" height=\"433pt\"\n",
       " viewBox=\"0.00 0.00 1087.50 433.00\" xmlns=\"http://www.w3.org/2000/svg\" xmlns:xlink=\"http://www.w3.org/1999/xlink\">\n",
       "<g id=\"graph0\" class=\"graph\" transform=\"scale(1 1) rotate(0) translate(4 429)\">\n",
       "<title>Tree</title>\n",
       "<polygon fill=\"white\" stroke=\"transparent\" points=\"-4,4 -4,-429 1083.5,-429 1083.5,4 -4,4\"/>\n",
       "<!-- 0 -->\n",
       "<g id=\"node1\" class=\"node\">\n",
       "<title>0</title>\n",
       "<path fill=\"#fcfbfe\" stroke=\"black\" d=\"M581.5,-425C581.5,-425 458.5,-425 458.5,-425 452.5,-425 446.5,-419 446.5,-413 446.5,-413 446.5,-354 446.5,-354 446.5,-348 452.5,-342 458.5,-342 458.5,-342 581.5,-342 581.5,-342 587.5,-342 593.5,-348 593.5,-354 593.5,-354 593.5,-413 593.5,-413 593.5,-419 587.5,-425 581.5,-425\"/>\n",
       "<text text-anchor=\"middle\" x=\"520\" y=\"-409.8\" font-family=\"Helvetica,sans-Serif\" font-size=\"14.00\">3 &lt;= 2.5</text>\n",
       "<text text-anchor=\"middle\" x=\"520\" y=\"-394.8\" font-family=\"Helvetica,sans-Serif\" font-size=\"14.00\">gini = 0.572</text>\n",
       "<text text-anchor=\"middle\" x=\"520\" y=\"-379.8\" font-family=\"Helvetica,sans-Serif\" font-size=\"14.00\">samples = 437</text>\n",
       "<text text-anchor=\"middle\" x=\"520\" y=\"-364.8\" font-family=\"Helvetica,sans-Serif\" font-size=\"14.00\">value = [36, 198, 203]</text>\n",
       "<text text-anchor=\"middle\" x=\"520\" y=\"-349.8\" font-family=\"Helvetica,sans-Serif\" font-size=\"14.00\">class = L</text>\n",
       "</g>\n",
       "<!-- 1 -->\n",
       "<g id=\"node2\" class=\"node\">\n",
       "<title>1</title>\n",
       "<path fill=\"#b082ef\" stroke=\"black\" d=\"M443,-306C443,-306 327,-306 327,-306 321,-306 315,-300 315,-294 315,-294 315,-235 315,-235 315,-229 321,-223 327,-223 327,-223 443,-223 443,-223 449,-223 455,-229 455,-235 455,-235 455,-294 455,-294 455,-300 449,-306 443,-306\"/>\n",
       "<text text-anchor=\"middle\" x=\"385\" y=\"-290.8\" font-family=\"Helvetica,sans-Serif\" font-size=\"14.00\">2 &lt;= 1.5</text>\n",
       "<text text-anchor=\"middle\" x=\"385\" y=\"-275.8\" font-family=\"Helvetica,sans-Serif\" font-size=\"14.00\">gini = 0.446</text>\n",
       "<text text-anchor=\"middle\" x=\"385\" y=\"-260.8\" font-family=\"Helvetica,sans-Serif\" font-size=\"14.00\">samples = 165</text>\n",
       "<text text-anchor=\"middle\" x=\"385\" y=\"-245.8\" font-family=\"Helvetica,sans-Serif\" font-size=\"14.00\">value = [13, 35, 117]</text>\n",
       "<text text-anchor=\"middle\" x=\"385\" y=\"-230.8\" font-family=\"Helvetica,sans-Serif\" font-size=\"14.00\">class = L</text>\n",
       "</g>\n",
       "<!-- 0&#45;&gt;1 -->\n",
       "<g id=\"edge1\" class=\"edge\">\n",
       "<title>0&#45;&gt;1</title>\n",
       "<path fill=\"none\" stroke=\"black\" d=\"M473.16,-341.91C462.27,-332.47 450.59,-322.34 439.4,-312.65\"/>\n",
       "<polygon fill=\"black\" stroke=\"black\" points=\"441.6,-309.93 431.75,-306.02 437.02,-315.22 441.6,-309.93\"/>\n",
       "<text text-anchor=\"middle\" x=\"433.54\" y=\"-327.26\" font-family=\"Helvetica,sans-Serif\" font-size=\"14.00\">True</text>\n",
       "</g>\n",
       "<!-- 8 -->\n",
       "<g id=\"node9\" class=\"node\">\n",
       "<title>8</title>\n",
       "<path fill=\"#adf4cb\" stroke=\"black\" d=\"M720,-306C720,-306 604,-306 604,-306 598,-306 592,-300 592,-294 592,-294 592,-235 592,-235 592,-229 598,-223 604,-223 604,-223 720,-223 720,-223 726,-223 732,-229 732,-235 732,-235 732,-294 732,-294 732,-300 726,-306 720,-306\"/>\n",
       "<text text-anchor=\"middle\" x=\"662\" y=\"-290.8\" font-family=\"Helvetica,sans-Serif\" font-size=\"14.00\">4 &lt;= 2.5</text>\n",
       "<text text-anchor=\"middle\" x=\"662\" y=\"-275.8\" font-family=\"Helvetica,sans-Serif\" font-size=\"14.00\">gini = 0.534</text>\n",
       "<text text-anchor=\"middle\" x=\"662\" y=\"-260.8\" font-family=\"Helvetica,sans-Serif\" font-size=\"14.00\">samples = 272</text>\n",
       "<text text-anchor=\"middle\" x=\"662\" y=\"-245.8\" font-family=\"Helvetica,sans-Serif\" font-size=\"14.00\">value = [23, 163, 86]</text>\n",
       "<text text-anchor=\"middle\" x=\"662\" y=\"-230.8\" font-family=\"Helvetica,sans-Serif\" font-size=\"14.00\">class = R</text>\n",
       "</g>\n",
       "<!-- 0&#45;&gt;8 -->\n",
       "<g id=\"edge8\" class=\"edge\">\n",
       "<title>0&#45;&gt;8</title>\n",
       "<path fill=\"none\" stroke=\"black\" d=\"M569.27,-341.91C580.72,-332.47 593.01,-322.34 604.78,-312.65\"/>\n",
       "<polygon fill=\"black\" stroke=\"black\" points=\"607.33,-315.08 612.82,-306.02 602.88,-309.68 607.33,-315.08\"/>\n",
       "<text text-anchor=\"middle\" x=\"610.42\" y=\"-327.21\" font-family=\"Helvetica,sans-Serif\" font-size=\"14.00\">False</text>\n",
       "</g>\n",
       "<!-- 2 -->\n",
       "<g id=\"node3\" class=\"node\">\n",
       "<title>2</title>\n",
       "<path fill=\"#97f1bd\" stroke=\"black\" d=\"M233.5,-187C233.5,-187 140.5,-187 140.5,-187 134.5,-187 128.5,-181 128.5,-175 128.5,-175 128.5,-116 128.5,-116 128.5,-110 134.5,-104 140.5,-104 140.5,-104 233.5,-104 233.5,-104 239.5,-104 245.5,-110 245.5,-116 245.5,-116 245.5,-175 245.5,-175 245.5,-181 239.5,-187 233.5,-187\"/>\n",
       "<text text-anchor=\"middle\" x=\"187\" y=\"-171.8\" font-family=\"Helvetica,sans-Serif\" font-size=\"14.00\">4 &lt;= 2.5</text>\n",
       "<text text-anchor=\"middle\" x=\"187\" y=\"-156.8\" font-family=\"Helvetica,sans-Serif\" font-size=\"14.00\">gini = 0.532</text>\n",
       "<text text-anchor=\"middle\" x=\"187\" y=\"-141.8\" font-family=\"Helvetica,sans-Serif\" font-size=\"14.00\">samples = 27</text>\n",
       "<text text-anchor=\"middle\" x=\"187\" y=\"-126.8\" font-family=\"Helvetica,sans-Serif\" font-size=\"14.00\">value = [4, 17, 6]</text>\n",
       "<text text-anchor=\"middle\" x=\"187\" y=\"-111.8\" font-family=\"Helvetica,sans-Serif\" font-size=\"14.00\">class = R</text>\n",
       "</g>\n",
       "<!-- 1&#45;&gt;2 -->\n",
       "<g id=\"edge2\" class=\"edge\">\n",
       "<title>1&#45;&gt;2</title>\n",
       "<path fill=\"none\" stroke=\"black\" d=\"M316.3,-222.91C296.26,-211.06 274.39,-198.14 254.42,-186.34\"/>\n",
       "<polygon fill=\"black\" stroke=\"black\" points=\"256.09,-183.26 245.7,-181.18 252.53,-189.29 256.09,-183.26\"/>\n",
       "</g>\n",
       "<!-- 5 -->\n",
       "<g id=\"node6\" class=\"node\">\n",
       "<title>5</title>\n",
       "<path fill=\"#9d66eb\" stroke=\"black\" d=\"M438.5,-187C438.5,-187 331.5,-187 331.5,-187 325.5,-187 319.5,-181 319.5,-175 319.5,-175 319.5,-116 319.5,-116 319.5,-110 325.5,-104 331.5,-104 331.5,-104 438.5,-104 438.5,-104 444.5,-104 450.5,-110 450.5,-116 450.5,-116 450.5,-175 450.5,-175 450.5,-181 444.5,-187 438.5,-187\"/>\n",
       "<text text-anchor=\"middle\" x=\"385\" y=\"-171.8\" font-family=\"Helvetica,sans-Serif\" font-size=\"14.00\">1 &lt;= 1.5</text>\n",
       "<text text-anchor=\"middle\" x=\"385\" y=\"-156.8\" font-family=\"Helvetica,sans-Serif\" font-size=\"14.00\">gini = 0.332</text>\n",
       "<text text-anchor=\"middle\" x=\"385\" y=\"-141.8\" font-family=\"Helvetica,sans-Serif\" font-size=\"14.00\">samples = 138</text>\n",
       "<text text-anchor=\"middle\" x=\"385\" y=\"-126.8\" font-family=\"Helvetica,sans-Serif\" font-size=\"14.00\">value = [9, 18, 111]</text>\n",
       "<text text-anchor=\"middle\" x=\"385\" y=\"-111.8\" font-family=\"Helvetica,sans-Serif\" font-size=\"14.00\">class = L</text>\n",
       "</g>\n",
       "<!-- 1&#45;&gt;5 -->\n",
       "<g id=\"edge5\" class=\"edge\">\n",
       "<title>1&#45;&gt;5</title>\n",
       "<path fill=\"none\" stroke=\"black\" d=\"M385,-222.91C385,-214.65 385,-205.86 385,-197.3\"/>\n",
       "<polygon fill=\"black\" stroke=\"black\" points=\"388.5,-197.02 385,-187.02 381.5,-197.02 388.5,-197.02\"/>\n",
       "</g>\n",
       "<!-- 3 -->\n",
       "<g id=\"node4\" class=\"node\">\n",
       "<title>3</title>\n",
       "<path fill=\"#efe6fc\" stroke=\"black\" d=\"M98,-68C98,-68 12,-68 12,-68 6,-68 0,-62 0,-56 0,-56 0,-12 0,-12 0,-6 6,0 12,0 12,0 98,0 98,0 104,0 110,-6 110,-12 110,-12 110,-56 110,-56 110,-62 104,-68 98,-68\"/>\n",
       "<text text-anchor=\"middle\" x=\"55\" y=\"-52.8\" font-family=\"Helvetica,sans-Serif\" font-size=\"14.00\">gini = 0.653</text>\n",
       "<text text-anchor=\"middle\" x=\"55\" y=\"-37.8\" font-family=\"Helvetica,sans-Serif\" font-size=\"14.00\">samples = 12</text>\n",
       "<text text-anchor=\"middle\" x=\"55\" y=\"-22.8\" font-family=\"Helvetica,sans-Serif\" font-size=\"14.00\">value = [4, 3, 5]</text>\n",
       "<text text-anchor=\"middle\" x=\"55\" y=\"-7.8\" font-family=\"Helvetica,sans-Serif\" font-size=\"14.00\">class = L</text>\n",
       "</g>\n",
       "<!-- 2&#45;&gt;3 -->\n",
       "<g id=\"edge3\" class=\"edge\">\n",
       "<title>2&#45;&gt;3</title>\n",
       "<path fill=\"none\" stroke=\"black\" d=\"M137.85,-103.73C126.41,-94.24 114.26,-84.16 102.88,-74.72\"/>\n",
       "<polygon fill=\"black\" stroke=\"black\" points=\"105.07,-71.99 95.14,-68.3 100.6,-77.38 105.07,-71.99\"/>\n",
       "</g>\n",
       "<!-- 4 -->\n",
       "<g id=\"node5\" class=\"node\">\n",
       "<title>4</title>\n",
       "<path fill=\"#47e78a\" stroke=\"black\" d=\"M233.5,-68C233.5,-68 140.5,-68 140.5,-68 134.5,-68 128.5,-62 128.5,-56 128.5,-56 128.5,-12 128.5,-12 128.5,-6 134.5,0 140.5,0 140.5,0 233.5,0 233.5,0 239.5,0 245.5,-6 245.5,-12 245.5,-12 245.5,-56 245.5,-56 245.5,-62 239.5,-68 233.5,-68\"/>\n",
       "<text text-anchor=\"middle\" x=\"187\" y=\"-52.8\" font-family=\"Helvetica,sans-Serif\" font-size=\"14.00\">gini = 0.124</text>\n",
       "<text text-anchor=\"middle\" x=\"187\" y=\"-37.8\" font-family=\"Helvetica,sans-Serif\" font-size=\"14.00\">samples = 15</text>\n",
       "<text text-anchor=\"middle\" x=\"187\" y=\"-22.8\" font-family=\"Helvetica,sans-Serif\" font-size=\"14.00\">value = [0, 14, 1]</text>\n",
       "<text text-anchor=\"middle\" x=\"187\" y=\"-7.8\" font-family=\"Helvetica,sans-Serif\" font-size=\"14.00\">class = R</text>\n",
       "</g>\n",
       "<!-- 2&#45;&gt;4 -->\n",
       "<g id=\"edge4\" class=\"edge\">\n",
       "<title>2&#45;&gt;4</title>\n",
       "<path fill=\"none\" stroke=\"black\" d=\"M187,-103.73C187,-95.52 187,-86.86 187,-78.56\"/>\n",
       "<polygon fill=\"black\" stroke=\"black\" points=\"190.5,-78.3 187,-68.3 183.5,-78.3 190.5,-78.3\"/>\n",
       "</g>\n",
       "<!-- 6 -->\n",
       "<g id=\"node7\" class=\"node\">\n",
       "<title>6</title>\n",
       "<path fill=\"#e6fcef\" stroke=\"black\" d=\"M368.5,-68C368.5,-68 275.5,-68 275.5,-68 269.5,-68 263.5,-62 263.5,-56 263.5,-56 263.5,-12 263.5,-12 263.5,-6 269.5,0 275.5,0 275.5,0 368.5,0 368.5,0 374.5,0 380.5,-6 380.5,-12 380.5,-12 380.5,-56 380.5,-56 380.5,-62 374.5,-68 368.5,-68\"/>\n",
       "<text text-anchor=\"middle\" x=\"322\" y=\"-52.8\" font-family=\"Helvetica,sans-Serif\" font-size=\"14.00\">gini = 0.637</text>\n",
       "<text text-anchor=\"middle\" x=\"322\" y=\"-37.8\" font-family=\"Helvetica,sans-Serif\" font-size=\"14.00\">samples = 25</text>\n",
       "<text text-anchor=\"middle\" x=\"322\" y=\"-22.8\" font-family=\"Helvetica,sans-Serif\" font-size=\"14.00\">value = [5, 11, 9]</text>\n",
       "<text text-anchor=\"middle\" x=\"322\" y=\"-7.8\" font-family=\"Helvetica,sans-Serif\" font-size=\"14.00\">class = R</text>\n",
       "</g>\n",
       "<!-- 5&#45;&gt;6 -->\n",
       "<g id=\"edge6\" class=\"edge\">\n",
       "<title>5&#45;&gt;6</title>\n",
       "<path fill=\"none\" stroke=\"black\" d=\"M361.54,-103.73C356.56,-95.06 351.28,-85.9 346.27,-77.18\"/>\n",
       "<polygon fill=\"black\" stroke=\"black\" points=\"349.18,-75.22 341.16,-68.3 343.11,-78.71 349.18,-75.22\"/>\n",
       "</g>\n",
       "<!-- 7 -->\n",
       "<g id=\"node8\" class=\"node\">\n",
       "<title>7</title>\n",
       "<path fill=\"#8e4ee8\" stroke=\"black\" d=\"M511.5,-68C511.5,-68 410.5,-68 410.5,-68 404.5,-68 398.5,-62 398.5,-56 398.5,-56 398.5,-12 398.5,-12 398.5,-6 404.5,0 410.5,0 410.5,0 511.5,0 511.5,0 517.5,0 523.5,-6 523.5,-12 523.5,-12 523.5,-56 523.5,-56 523.5,-62 517.5,-68 511.5,-68\"/>\n",
       "<text text-anchor=\"middle\" x=\"461\" y=\"-52.8\" font-family=\"Helvetica,sans-Serif\" font-size=\"14.00\">gini = 0.18</text>\n",
       "<text text-anchor=\"middle\" x=\"461\" y=\"-37.8\" font-family=\"Helvetica,sans-Serif\" font-size=\"14.00\">samples = 113</text>\n",
       "<text text-anchor=\"middle\" x=\"461\" y=\"-22.8\" font-family=\"Helvetica,sans-Serif\" font-size=\"14.00\">value = [4, 7, 102]</text>\n",
       "<text text-anchor=\"middle\" x=\"461\" y=\"-7.8\" font-family=\"Helvetica,sans-Serif\" font-size=\"14.00\">class = L</text>\n",
       "</g>\n",
       "<!-- 5&#45;&gt;7 -->\n",
       "<g id=\"edge7\" class=\"edge\">\n",
       "<title>5&#45;&gt;7</title>\n",
       "<path fill=\"none\" stroke=\"black\" d=\"M413.3,-103.73C419.44,-94.88 425.94,-85.51 432.11,-76.63\"/>\n",
       "<polygon fill=\"black\" stroke=\"black\" points=\"435.06,-78.51 437.89,-68.3 429.31,-74.52 435.06,-78.51\"/>\n",
       "</g>\n",
       "<!-- 9 -->\n",
       "<g id=\"node10\" class=\"node\">\n",
       "<title>9</title>\n",
       "<path fill=\"#d4bbf6\" stroke=\"black\" d=\"M716,-187C716,-187 608,-187 608,-187 602,-187 596,-181 596,-175 596,-175 596,-116 596,-116 596,-110 602,-104 608,-104 608,-104 716,-104 716,-104 722,-104 728,-110 728,-116 728,-116 728,-175 728,-175 728,-181 722,-187 716,-187\"/>\n",
       "<text text-anchor=\"middle\" x=\"662\" y=\"-171.8\" font-family=\"Helvetica,sans-Serif\" font-size=\"14.00\">1 &lt;= 1.5</text>\n",
       "<text text-anchor=\"middle\" x=\"662\" y=\"-156.8\" font-family=\"Helvetica,sans-Serif\" font-size=\"14.00\">gini = 0.559</text>\n",
       "<text text-anchor=\"middle\" x=\"662\" y=\"-141.8\" font-family=\"Helvetica,sans-Serif\" font-size=\"14.00\">samples = 110</text>\n",
       "<text text-anchor=\"middle\" x=\"662\" y=\"-126.8\" font-family=\"Helvetica,sans-Serif\" font-size=\"14.00\">value = [11, 37, 62]</text>\n",
       "<text text-anchor=\"middle\" x=\"662\" y=\"-111.8\" font-family=\"Helvetica,sans-Serif\" font-size=\"14.00\">class = L</text>\n",
       "</g>\n",
       "<!-- 8&#45;&gt;9 -->\n",
       "<g id=\"edge9\" class=\"edge\">\n",
       "<title>8&#45;&gt;9</title>\n",
       "<path fill=\"none\" stroke=\"black\" d=\"M662,-222.91C662,-214.65 662,-205.86 662,-197.3\"/>\n",
       "<polygon fill=\"black\" stroke=\"black\" points=\"665.5,-197.02 662,-187.02 658.5,-197.02 665.5,-197.02\"/>\n",
       "</g>\n",
       "<!-- 12 -->\n",
       "<g id=\"node13\" class=\"node\">\n",
       "<title>12</title>\n",
       "<path fill=\"#6deca2\" stroke=\"black\" d=\"M936,-187C936,-187 820,-187 820,-187 814,-187 808,-181 808,-175 808,-175 808,-116 808,-116 808,-110 814,-104 820,-104 820,-104 936,-104 936,-104 942,-104 948,-110 948,-116 948,-116 948,-175 948,-175 948,-181 942,-187 936,-187\"/>\n",
       "<text text-anchor=\"middle\" x=\"878\" y=\"-171.8\" font-family=\"Helvetica,sans-Serif\" font-size=\"14.00\">1 &lt;= 3.5</text>\n",
       "<text text-anchor=\"middle\" x=\"878\" y=\"-156.8\" font-family=\"Helvetica,sans-Serif\" font-size=\"14.00\">gini = 0.368</text>\n",
       "<text text-anchor=\"middle\" x=\"878\" y=\"-141.8\" font-family=\"Helvetica,sans-Serif\" font-size=\"14.00\">samples = 162</text>\n",
       "<text text-anchor=\"middle\" x=\"878\" y=\"-126.8\" font-family=\"Helvetica,sans-Serif\" font-size=\"14.00\">value = [12, 126, 24]</text>\n",
       "<text text-anchor=\"middle\" x=\"878\" y=\"-111.8\" font-family=\"Helvetica,sans-Serif\" font-size=\"14.00\">class = R</text>\n",
       "</g>\n",
       "<!-- 8&#45;&gt;12 -->\n",
       "<g id=\"edge12\" class=\"edge\">\n",
       "<title>8&#45;&gt;12</title>\n",
       "<path fill=\"none\" stroke=\"black\" d=\"M732.13,-225.51C753.46,-213.96 777.04,-201.19 798.92,-189.34\"/>\n",
       "<polygon fill=\"black\" stroke=\"black\" points=\"800.73,-192.34 807.85,-184.5 797.39,-186.18 800.73,-192.34\"/>\n",
       "</g>\n",
       "<!-- 10 -->\n",
       "<g id=\"node11\" class=\"node\">\n",
       "<title>10</title>\n",
       "<path fill=\"#6aeca0\" stroke=\"black\" d=\"M646.5,-68C646.5,-68 553.5,-68 553.5,-68 547.5,-68 541.5,-62 541.5,-56 541.5,-56 541.5,-12 541.5,-12 541.5,-6 547.5,0 553.5,0 553.5,0 646.5,0 646.5,0 652.5,0 658.5,-6 658.5,-12 658.5,-12 658.5,-56 658.5,-56 658.5,-62 652.5,-68 646.5,-68\"/>\n",
       "<text text-anchor=\"middle\" x=\"600\" y=\"-52.8\" font-family=\"Helvetica,sans-Serif\" font-size=\"14.00\">gini = 0.37</text>\n",
       "<text text-anchor=\"middle\" x=\"600\" y=\"-37.8\" font-family=\"Helvetica,sans-Serif\" font-size=\"14.00\">samples = 27</text>\n",
       "<text text-anchor=\"middle\" x=\"600\" y=\"-22.8\" font-family=\"Helvetica,sans-Serif\" font-size=\"14.00\">value = [3, 21, 3]</text>\n",
       "<text text-anchor=\"middle\" x=\"600\" y=\"-7.8\" font-family=\"Helvetica,sans-Serif\" font-size=\"14.00\">class = R</text>\n",
       "</g>\n",
       "<!-- 9&#45;&gt;10 -->\n",
       "<g id=\"edge10\" class=\"edge\">\n",
       "<title>9&#45;&gt;10</title>\n",
       "<path fill=\"none\" stroke=\"black\" d=\"M638.91,-103.73C634.01,-95.06 628.82,-85.9 623.88,-77.18\"/>\n",
       "<polygon fill=\"black\" stroke=\"black\" points=\"626.83,-75.28 618.85,-68.3 620.74,-78.73 626.83,-75.28\"/>\n",
       "</g>\n",
       "<!-- 11 -->\n",
       "<g id=\"node12\" class=\"node\">\n",
       "<title>11</title>\n",
       "<path fill=\"#ae80ee\" stroke=\"black\" d=\"M789.5,-68C789.5,-68 688.5,-68 688.5,-68 682.5,-68 676.5,-62 676.5,-56 676.5,-56 676.5,-12 676.5,-12 676.5,-6 682.5,0 688.5,0 688.5,0 789.5,0 789.5,0 795.5,0 801.5,-6 801.5,-12 801.5,-12 801.5,-56 801.5,-56 801.5,-62 795.5,-68 789.5,-68\"/>\n",
       "<text text-anchor=\"middle\" x=\"739\" y=\"-52.8\" font-family=\"Helvetica,sans-Serif\" font-size=\"14.00\">gini = 0.448</text>\n",
       "<text text-anchor=\"middle\" x=\"739\" y=\"-37.8\" font-family=\"Helvetica,sans-Serif\" font-size=\"14.00\">samples = 83</text>\n",
       "<text text-anchor=\"middle\" x=\"739\" y=\"-22.8\" font-family=\"Helvetica,sans-Serif\" font-size=\"14.00\">value = [8, 16, 59]</text>\n",
       "<text text-anchor=\"middle\" x=\"739\" y=\"-7.8\" font-family=\"Helvetica,sans-Serif\" font-size=\"14.00\">class = L</text>\n",
       "</g>\n",
       "<!-- 9&#45;&gt;11 -->\n",
       "<g id=\"edge11\" class=\"edge\">\n",
       "<title>9&#45;&gt;11</title>\n",
       "<path fill=\"none\" stroke=\"black\" d=\"M690.67,-103.73C696.89,-94.88 703.48,-85.51 709.73,-76.63\"/>\n",
       "<polygon fill=\"black\" stroke=\"black\" points=\"712.69,-78.49 715.58,-68.3 706.97,-74.47 712.69,-78.49\"/>\n",
       "</g>\n",
       "<!-- 13 -->\n",
       "<g id=\"node14\" class=\"node\">\n",
       "<title>13</title>\n",
       "<path fill=\"#47e78a\" stroke=\"black\" d=\"M924.5,-68C924.5,-68 831.5,-68 831.5,-68 825.5,-68 819.5,-62 819.5,-56 819.5,-56 819.5,-12 819.5,-12 819.5,-6 825.5,0 831.5,0 831.5,0 924.5,0 924.5,0 930.5,0 936.5,-6 936.5,-12 936.5,-12 936.5,-56 936.5,-56 936.5,-62 930.5,-68 924.5,-68\"/>\n",
       "<text text-anchor=\"middle\" x=\"878\" y=\"-52.8\" font-family=\"Helvetica,sans-Serif\" font-size=\"14.00\">gini = 0.133</text>\n",
       "<text text-anchor=\"middle\" x=\"878\" y=\"-37.8\" font-family=\"Helvetica,sans-Serif\" font-size=\"14.00\">samples = 100</text>\n",
       "<text text-anchor=\"middle\" x=\"878\" y=\"-22.8\" font-family=\"Helvetica,sans-Serif\" font-size=\"14.00\">value = [3, 93, 4]</text>\n",
       "<text text-anchor=\"middle\" x=\"878\" y=\"-7.8\" font-family=\"Helvetica,sans-Serif\" font-size=\"14.00\">class = R</text>\n",
       "</g>\n",
       "<!-- 12&#45;&gt;13 -->\n",
       "<g id=\"edge13\" class=\"edge\">\n",
       "<title>12&#45;&gt;13</title>\n",
       "<path fill=\"none\" stroke=\"black\" d=\"M878,-103.73C878,-95.52 878,-86.86 878,-78.56\"/>\n",
       "<polygon fill=\"black\" stroke=\"black\" points=\"881.5,-78.3 878,-68.3 874.5,-78.3 881.5,-78.3\"/>\n",
       "</g>\n",
       "<!-- 14 -->\n",
       "<g id=\"node15\" class=\"node\">\n",
       "<title>14</title>\n",
       "<path fill=\"#c2f7d8\" stroke=\"black\" d=\"M1067.5,-68C1067.5,-68 966.5,-68 966.5,-68 960.5,-68 954.5,-62 954.5,-56 954.5,-56 954.5,-12 954.5,-12 954.5,-6 960.5,0 966.5,0 966.5,0 1067.5,0 1067.5,0 1073.5,0 1079.5,-6 1079.5,-12 1079.5,-12 1079.5,-56 1079.5,-56 1079.5,-62 1073.5,-68 1067.5,-68\"/>\n",
       "<text text-anchor=\"middle\" x=\"1017\" y=\"-52.8\" font-family=\"Helvetica,sans-Serif\" font-size=\"14.00\">gini = 0.592</text>\n",
       "<text text-anchor=\"middle\" x=\"1017\" y=\"-37.8\" font-family=\"Helvetica,sans-Serif\" font-size=\"14.00\">samples = 62</text>\n",
       "<text text-anchor=\"middle\" x=\"1017\" y=\"-22.8\" font-family=\"Helvetica,sans-Serif\" font-size=\"14.00\">value = [9, 33, 20]</text>\n",
       "<text text-anchor=\"middle\" x=\"1017\" y=\"-7.8\" font-family=\"Helvetica,sans-Serif\" font-size=\"14.00\">class = R</text>\n",
       "</g>\n",
       "<!-- 12&#45;&gt;14 -->\n",
       "<g id=\"edge14\" class=\"edge\">\n",
       "<title>12&#45;&gt;14</title>\n",
       "<path fill=\"none\" stroke=\"black\" d=\"M929.76,-103.73C941.8,-94.24 954.6,-84.16 966.58,-74.72\"/>\n",
       "<polygon fill=\"black\" stroke=\"black\" points=\"969.04,-77.24 974.73,-68.3 964.71,-71.74 969.04,-77.24\"/>\n",
       "</g>\n",
       "</g>\n",
       "</svg>\n"
      ],
      "text/plain": [
       "<graphviz.files.Source at 0x7f94af7270d0>"
      ]
     },
     "execution_count": 26,
     "metadata": {},
     "output_type": "execute_result"
    }
   ],
   "source": [
    "# Visualizing the Gini Index based Decision Tree\n",
    "graph_data = tree.export_graphviz(tree_gini, out_file=None, filled=True, rounded=True,\n",
    "                                feature_names=feature_names,  \n",
    "                                class_names=class_names)\n",
    "graph = graphviz.Source(graph_data)  \n",
    "graph"
   ]
  },
  {
   "cell_type": "code",
   "execution_count": 27,
   "metadata": {
    "colab": {},
    "colab_type": "code",
    "id": "4xY_RpoD_WLG",
    "outputId": "3401bbb2-6440-42f3-901c-bb94597ebb8f"
   },
   "outputs": [
    {
     "data": {
      "image/svg+xml": [
       "<?xml version=\"1.0\" encoding=\"UTF-8\" standalone=\"no\"?>\n",
       "<!DOCTYPE svg PUBLIC \"-//W3C//DTD SVG 1.1//EN\"\n",
       " \"http://www.w3.org/Graphics/SVG/1.1/DTD/svg11.dtd\">\n",
       "<!-- Generated by graphviz version 2.44.1 (20200629.0846)\n",
       " -->\n",
       "<!-- Title: Tree Pages: 1 -->\n",
       "<svg width=\"1088pt\" height=\"433pt\"\n",
       " viewBox=\"0.00 0.00 1087.50 433.00\" xmlns=\"http://www.w3.org/2000/svg\" xmlns:xlink=\"http://www.w3.org/1999/xlink\">\n",
       "<g id=\"graph0\" class=\"graph\" transform=\"scale(1 1) rotate(0) translate(4 429)\">\n",
       "<title>Tree</title>\n",
       "<polygon fill=\"white\" stroke=\"transparent\" points=\"-4,4 -4,-429 1083.5,-429 1083.5,4 -4,4\"/>\n",
       "<!-- 0 -->\n",
       "<g id=\"node1\" class=\"node\">\n",
       "<title>0</title>\n",
       "<path fill=\"#fcfbfe\" stroke=\"black\" d=\"M575,-425C575,-425 452,-425 452,-425 446,-425 440,-419 440,-413 440,-413 440,-354 440,-354 440,-348 446,-342 452,-342 452,-342 575,-342 575,-342 581,-342 587,-348 587,-354 587,-354 587,-413 587,-413 587,-419 581,-425 575,-425\"/>\n",
       "<text text-anchor=\"middle\" x=\"513.5\" y=\"-409.8\" font-family=\"Helvetica,sans-Serif\" font-size=\"14.00\">3 &lt;= 2.5</text>\n",
       "<text text-anchor=\"middle\" x=\"513.5\" y=\"-394.8\" font-family=\"Helvetica,sans-Serif\" font-size=\"14.00\">entropy = 1.328</text>\n",
       "<text text-anchor=\"middle\" x=\"513.5\" y=\"-379.8\" font-family=\"Helvetica,sans-Serif\" font-size=\"14.00\">samples = 437</text>\n",
       "<text text-anchor=\"middle\" x=\"513.5\" y=\"-364.8\" font-family=\"Helvetica,sans-Serif\" font-size=\"14.00\">value = [36, 198, 203]</text>\n",
       "<text text-anchor=\"middle\" x=\"513.5\" y=\"-349.8\" font-family=\"Helvetica,sans-Serif\" font-size=\"14.00\">class = L</text>\n",
       "</g>\n",
       "<!-- 1 -->\n",
       "<g id=\"node2\" class=\"node\">\n",
       "<title>1</title>\n",
       "<path fill=\"#b082ef\" stroke=\"black\" d=\"M445.5,-306C445.5,-306 329.5,-306 329.5,-306 323.5,-306 317.5,-300 317.5,-294 317.5,-294 317.5,-235 317.5,-235 317.5,-229 323.5,-223 329.5,-223 329.5,-223 445.5,-223 445.5,-223 451.5,-223 457.5,-229 457.5,-235 457.5,-235 457.5,-294 457.5,-294 457.5,-300 451.5,-306 445.5,-306\"/>\n",
       "<text text-anchor=\"middle\" x=\"387.5\" y=\"-290.8\" font-family=\"Helvetica,sans-Serif\" font-size=\"14.00\">1 &lt;= 2.5</text>\n",
       "<text text-anchor=\"middle\" x=\"387.5\" y=\"-275.8\" font-family=\"Helvetica,sans-Serif\" font-size=\"14.00\">entropy = 1.115</text>\n",
       "<text text-anchor=\"middle\" x=\"387.5\" y=\"-260.8\" font-family=\"Helvetica,sans-Serif\" font-size=\"14.00\">samples = 165</text>\n",
       "<text text-anchor=\"middle\" x=\"387.5\" y=\"-245.8\" font-family=\"Helvetica,sans-Serif\" font-size=\"14.00\">value = [13, 35, 117]</text>\n",
       "<text text-anchor=\"middle\" x=\"387.5\" y=\"-230.8\" font-family=\"Helvetica,sans-Serif\" font-size=\"14.00\">class = L</text>\n",
       "</g>\n",
       "<!-- 0&#45;&gt;1 -->\n",
       "<g id=\"edge1\" class=\"edge\">\n",
       "<title>0&#45;&gt;1</title>\n",
       "<path fill=\"none\" stroke=\"black\" d=\"M469.78,-341.91C459.72,-332.56 448.93,-322.54 438.58,-312.93\"/>\n",
       "<polygon fill=\"black\" stroke=\"black\" points=\"440.85,-310.26 431.14,-306.02 436.08,-315.39 440.85,-310.26\"/>\n",
       "<text text-anchor=\"middle\" x=\"432.06\" y=\"-327.3\" font-family=\"Helvetica,sans-Serif\" font-size=\"14.00\">True</text>\n",
       "</g>\n",
       "<!-- 8 -->\n",
       "<g id=\"node9\" class=\"node\">\n",
       "<title>8</title>\n",
       "<path fill=\"#adf4cb\" stroke=\"black\" d=\"M712.5,-306C712.5,-306 596.5,-306 596.5,-306 590.5,-306 584.5,-300 584.5,-294 584.5,-294 584.5,-235 584.5,-235 584.5,-229 590.5,-223 596.5,-223 596.5,-223 712.5,-223 712.5,-223 718.5,-223 724.5,-229 724.5,-235 724.5,-235 724.5,-294 724.5,-294 724.5,-300 718.5,-306 712.5,-306\"/>\n",
       "<text text-anchor=\"middle\" x=\"654.5\" y=\"-290.8\" font-family=\"Helvetica,sans-Serif\" font-size=\"14.00\">4 &lt;= 2.5</text>\n",
       "<text text-anchor=\"middle\" x=\"654.5\" y=\"-275.8\" font-family=\"Helvetica,sans-Serif\" font-size=\"14.00\">entropy = 1.269</text>\n",
       "<text text-anchor=\"middle\" x=\"654.5\" y=\"-260.8\" font-family=\"Helvetica,sans-Serif\" font-size=\"14.00\">samples = 272</text>\n",
       "<text text-anchor=\"middle\" x=\"654.5\" y=\"-245.8\" font-family=\"Helvetica,sans-Serif\" font-size=\"14.00\">value = [23, 163, 86]</text>\n",
       "<text text-anchor=\"middle\" x=\"654.5\" y=\"-230.8\" font-family=\"Helvetica,sans-Serif\" font-size=\"14.00\">class = R</text>\n",
       "</g>\n",
       "<!-- 0&#45;&gt;8 -->\n",
       "<g id=\"edge8\" class=\"edge\">\n",
       "<title>0&#45;&gt;8</title>\n",
       "<path fill=\"none\" stroke=\"black\" d=\"M562.42,-341.91C573.79,-332.47 586,-322.34 597.68,-312.65\"/>\n",
       "<polygon fill=\"black\" stroke=\"black\" points=\"600.21,-315.1 605.67,-306.02 595.74,-309.71 600.21,-315.1\"/>\n",
       "<text text-anchor=\"middle\" x=\"603.35\" y=\"-327.21\" font-family=\"Helvetica,sans-Serif\" font-size=\"14.00\">False</text>\n",
       "</g>\n",
       "<!-- 2 -->\n",
       "<g id=\"node3\" class=\"node\">\n",
       "<title>2</title>\n",
       "<path fill=\"#f2ebfc\" stroke=\"black\" d=\"M247.5,-187C247.5,-187 139.5,-187 139.5,-187 133.5,-187 127.5,-181 127.5,-175 127.5,-175 127.5,-116 127.5,-116 127.5,-110 133.5,-104 139.5,-104 139.5,-104 247.5,-104 247.5,-104 253.5,-104 259.5,-110 259.5,-116 259.5,-116 259.5,-175 259.5,-175 259.5,-181 253.5,-187 247.5,-187\"/>\n",
       "<text text-anchor=\"middle\" x=\"193.5\" y=\"-171.8\" font-family=\"Helvetica,sans-Serif\" font-size=\"14.00\">2 &lt;= 2.5</text>\n",
       "<text text-anchor=\"middle\" x=\"193.5\" y=\"-156.8\" font-family=\"Helvetica,sans-Serif\" font-size=\"14.00\">entropy = 1.505</text>\n",
       "<text text-anchor=\"middle\" x=\"193.5\" y=\"-141.8\" font-family=\"Helvetica,sans-Serif\" font-size=\"14.00\">samples = 64</text>\n",
       "<text text-anchor=\"middle\" x=\"193.5\" y=\"-126.8\" font-family=\"Helvetica,sans-Serif\" font-size=\"14.00\">value = [12, 24, 28]</text>\n",
       "<text text-anchor=\"middle\" x=\"193.5\" y=\"-111.8\" font-family=\"Helvetica,sans-Serif\" font-size=\"14.00\">class = L</text>\n",
       "</g>\n",
       "<!-- 1&#45;&gt;2 -->\n",
       "<g id=\"edge2\" class=\"edge\">\n",
       "<title>1&#45;&gt;2</title>\n",
       "<path fill=\"none\" stroke=\"black\" d=\"M320.19,-222.91C303.51,-212.85 285.53,-202 268.51,-191.74\"/>\n",
       "<polygon fill=\"black\" stroke=\"black\" points=\"270.08,-188.6 259.71,-186.43 266.46,-194.59 270.08,-188.6\"/>\n",
       "</g>\n",
       "<!-- 5 -->\n",
       "<g id=\"node6\" class=\"node\">\n",
       "<title>5</title>\n",
       "<path fill=\"#9253e8\" stroke=\"black\" d=\"M438,-187C438,-187 337,-187 337,-187 331,-187 325,-181 325,-175 325,-175 325,-116 325,-116 325,-110 331,-104 337,-104 337,-104 438,-104 438,-104 444,-104 450,-110 450,-116 450,-116 450,-175 450,-175 450,-181 444,-187 438,-187\"/>\n",
       "<text text-anchor=\"middle\" x=\"387.5\" y=\"-171.8\" font-family=\"Helvetica,sans-Serif\" font-size=\"14.00\">2 &lt;= 1.5</text>\n",
       "<text text-anchor=\"middle\" x=\"387.5\" y=\"-156.8\" font-family=\"Helvetica,sans-Serif\" font-size=\"14.00\">entropy = 0.575</text>\n",
       "<text text-anchor=\"middle\" x=\"387.5\" y=\"-141.8\" font-family=\"Helvetica,sans-Serif\" font-size=\"14.00\">samples = 101</text>\n",
       "<text text-anchor=\"middle\" x=\"387.5\" y=\"-126.8\" font-family=\"Helvetica,sans-Serif\" font-size=\"14.00\">value = [1, 11, 89]</text>\n",
       "<text text-anchor=\"middle\" x=\"387.5\" y=\"-111.8\" font-family=\"Helvetica,sans-Serif\" font-size=\"14.00\">class = L</text>\n",
       "</g>\n",
       "<!-- 1&#45;&gt;5 -->\n",
       "<g id=\"edge5\" class=\"edge\">\n",
       "<title>1&#45;&gt;5</title>\n",
       "<path fill=\"none\" stroke=\"black\" d=\"M387.5,-222.91C387.5,-214.65 387.5,-205.86 387.5,-197.3\"/>\n",
       "<polygon fill=\"black\" stroke=\"black\" points=\"391,-197.02 387.5,-187.02 384,-197.02 391,-197.02\"/>\n",
       "</g>\n",
       "<!-- 3 -->\n",
       "<g id=\"node4\" class=\"node\">\n",
       "<title>3</title>\n",
       "<path fill=\"#96f1bc\" stroke=\"black\" d=\"M105,-68C105,-68 12,-68 12,-68 6,-68 0,-62 0,-56 0,-56 0,-12 0,-12 0,-6 6,0 12,0 12,0 105,0 105,0 111,0 117,-6 117,-12 117,-12 117,-56 117,-56 117,-62 111,-68 105,-68\"/>\n",
       "<text text-anchor=\"middle\" x=\"58.5\" y=\"-52.8\" font-family=\"Helvetica,sans-Serif\" font-size=\"14.00\">entropy = 1.214</text>\n",
       "<text text-anchor=\"middle\" x=\"58.5\" y=\"-37.8\" font-family=\"Helvetica,sans-Serif\" font-size=\"14.00\">samples = 23</text>\n",
       "<text text-anchor=\"middle\" x=\"58.5\" y=\"-22.8\" font-family=\"Helvetica,sans-Serif\" font-size=\"14.00\">value = [6, 15, 2]</text>\n",
       "<text text-anchor=\"middle\" x=\"58.5\" y=\"-7.8\" font-family=\"Helvetica,sans-Serif\" font-size=\"14.00\">class = R</text>\n",
       "</g>\n",
       "<!-- 2&#45;&gt;3 -->\n",
       "<g id=\"edge3\" class=\"edge\">\n",
       "<title>2&#45;&gt;3</title>\n",
       "<path fill=\"none\" stroke=\"black\" d=\"M143.23,-103.73C131.54,-94.24 119.1,-84.16 107.46,-74.72\"/>\n",
       "<polygon fill=\"black\" stroke=\"black\" points=\"109.53,-71.88 99.55,-68.3 105.12,-77.32 109.53,-71.88\"/>\n",
       "</g>\n",
       "<!-- 4 -->\n",
       "<g id=\"node5\" class=\"node\">\n",
       "<title>4</title>\n",
       "<path fill=\"#bc96f1\" stroke=\"black\" d=\"M240,-68C240,-68 147,-68 147,-68 141,-68 135,-62 135,-56 135,-56 135,-12 135,-12 135,-6 141,0 147,0 147,0 240,0 240,0 246,0 252,-6 252,-12 252,-12 252,-56 252,-56 252,-62 246,-68 240,-68\"/>\n",
       "<text text-anchor=\"middle\" x=\"193.5\" y=\"-52.8\" font-family=\"Helvetica,sans-Serif\" font-size=\"14.00\">entropy = 1.303</text>\n",
       "<text text-anchor=\"middle\" x=\"193.5\" y=\"-37.8\" font-family=\"Helvetica,sans-Serif\" font-size=\"14.00\">samples = 41</text>\n",
       "<text text-anchor=\"middle\" x=\"193.5\" y=\"-22.8\" font-family=\"Helvetica,sans-Serif\" font-size=\"14.00\">value = [6, 9, 26]</text>\n",
       "<text text-anchor=\"middle\" x=\"193.5\" y=\"-7.8\" font-family=\"Helvetica,sans-Serif\" font-size=\"14.00\">class = L</text>\n",
       "</g>\n",
       "<!-- 2&#45;&gt;4 -->\n",
       "<g id=\"edge4\" class=\"edge\">\n",
       "<title>2&#45;&gt;4</title>\n",
       "<path fill=\"none\" stroke=\"black\" d=\"M193.5,-103.73C193.5,-95.52 193.5,-86.86 193.5,-78.56\"/>\n",
       "<polygon fill=\"black\" stroke=\"black\" points=\"197,-78.3 193.5,-68.3 190,-78.3 197,-78.3\"/>\n",
       "</g>\n",
       "<!-- 6 -->\n",
       "<g id=\"node7\" class=\"node\">\n",
       "<title>6</title>\n",
       "<path fill=\"#e6fcef\" stroke=\"black\" d=\"M369,-68C369,-68 282,-68 282,-68 276,-68 270,-62 270,-56 270,-56 270,-12 270,-12 270,-6 276,0 282,0 282,0 369,0 369,0 375,0 381,-6 381,-12 381,-12 381,-56 381,-56 381,-62 375,-68 369,-68\"/>\n",
       "<text text-anchor=\"middle\" x=\"325.5\" y=\"-52.8\" font-family=\"Helvetica,sans-Serif\" font-size=\"14.00\">entropy = 1.296</text>\n",
       "<text text-anchor=\"middle\" x=\"325.5\" y=\"-37.8\" font-family=\"Helvetica,sans-Serif\" font-size=\"14.00\">samples = 14</text>\n",
       "<text text-anchor=\"middle\" x=\"325.5\" y=\"-22.8\" font-family=\"Helvetica,sans-Serif\" font-size=\"14.00\">value = [1, 7, 6]</text>\n",
       "<text text-anchor=\"middle\" x=\"325.5\" y=\"-7.8\" font-family=\"Helvetica,sans-Serif\" font-size=\"14.00\">class = R</text>\n",
       "</g>\n",
       "<!-- 5&#45;&gt;6 -->\n",
       "<g id=\"edge6\" class=\"edge\">\n",
       "<title>5&#45;&gt;6</title>\n",
       "<path fill=\"none\" stroke=\"black\" d=\"M364.41,-103.73C359.51,-95.06 354.32,-85.9 349.38,-77.18\"/>\n",
       "<polygon fill=\"black\" stroke=\"black\" points=\"352.33,-75.28 344.35,-68.3 346.24,-78.73 352.33,-75.28\"/>\n",
       "</g>\n",
       "<!-- 7 -->\n",
       "<g id=\"node8\" class=\"node\">\n",
       "<title>7</title>\n",
       "<path fill=\"#8743e6\" stroke=\"black\" d=\"M504,-68C504,-68 411,-68 411,-68 405,-68 399,-62 399,-56 399,-56 399,-12 399,-12 399,-6 405,0 411,0 411,0 504,0 504,0 510,0 516,-6 516,-12 516,-12 516,-56 516,-56 516,-62 510,-68 504,-68\"/>\n",
       "<text text-anchor=\"middle\" x=\"457.5\" y=\"-52.8\" font-family=\"Helvetica,sans-Serif\" font-size=\"14.00\">entropy = 0.269</text>\n",
       "<text text-anchor=\"middle\" x=\"457.5\" y=\"-37.8\" font-family=\"Helvetica,sans-Serif\" font-size=\"14.00\">samples = 87</text>\n",
       "<text text-anchor=\"middle\" x=\"457.5\" y=\"-22.8\" font-family=\"Helvetica,sans-Serif\" font-size=\"14.00\">value = [0, 4, 83]</text>\n",
       "<text text-anchor=\"middle\" x=\"457.5\" y=\"-7.8\" font-family=\"Helvetica,sans-Serif\" font-size=\"14.00\">class = L</text>\n",
       "</g>\n",
       "<!-- 5&#45;&gt;7 -->\n",
       "<g id=\"edge7\" class=\"edge\">\n",
       "<title>5&#45;&gt;7</title>\n",
       "<path fill=\"none\" stroke=\"black\" d=\"M413.57,-103.73C419.16,-94.97 425.09,-85.7 430.71,-76.91\"/>\n",
       "<polygon fill=\"black\" stroke=\"black\" points=\"433.78,-78.61 436.21,-68.3 427.88,-74.84 433.78,-78.61\"/>\n",
       "</g>\n",
       "<!-- 9 -->\n",
       "<g id=\"node10\" class=\"node\">\n",
       "<title>9</title>\n",
       "<path fill=\"#d4bbf6\" stroke=\"black\" d=\"M708.5,-187C708.5,-187 600.5,-187 600.5,-187 594.5,-187 588.5,-181 588.5,-175 588.5,-175 588.5,-116 588.5,-116 588.5,-110 594.5,-104 600.5,-104 600.5,-104 708.5,-104 708.5,-104 714.5,-104 720.5,-110 720.5,-116 720.5,-116 720.5,-175 720.5,-175 720.5,-181 714.5,-187 708.5,-187\"/>\n",
       "<text text-anchor=\"middle\" x=\"654.5\" y=\"-171.8\" font-family=\"Helvetica,sans-Serif\" font-size=\"14.00\">1 &lt;= 1.5</text>\n",
       "<text text-anchor=\"middle\" x=\"654.5\" y=\"-156.8\" font-family=\"Helvetica,sans-Serif\" font-size=\"14.00\">entropy = 1.327</text>\n",
       "<text text-anchor=\"middle\" x=\"654.5\" y=\"-141.8\" font-family=\"Helvetica,sans-Serif\" font-size=\"14.00\">samples = 110</text>\n",
       "<text text-anchor=\"middle\" x=\"654.5\" y=\"-126.8\" font-family=\"Helvetica,sans-Serif\" font-size=\"14.00\">value = [11, 37, 62]</text>\n",
       "<text text-anchor=\"middle\" x=\"654.5\" y=\"-111.8\" font-family=\"Helvetica,sans-Serif\" font-size=\"14.00\">class = L</text>\n",
       "</g>\n",
       "<!-- 8&#45;&gt;9 -->\n",
       "<g id=\"edge9\" class=\"edge\">\n",
       "<title>8&#45;&gt;9</title>\n",
       "<path fill=\"none\" stroke=\"black\" d=\"M654.5,-222.91C654.5,-214.65 654.5,-205.86 654.5,-197.3\"/>\n",
       "<polygon fill=\"black\" stroke=\"black\" points=\"658,-197.02 654.5,-187.02 651,-197.02 658,-197.02\"/>\n",
       "</g>\n",
       "<!-- 12 -->\n",
       "<g id=\"node13\" class=\"node\">\n",
       "<title>12</title>\n",
       "<path fill=\"#6deca2\" stroke=\"black\" d=\"M928.5,-187C928.5,-187 812.5,-187 812.5,-187 806.5,-187 800.5,-181 800.5,-175 800.5,-175 800.5,-116 800.5,-116 800.5,-110 806.5,-104 812.5,-104 812.5,-104 928.5,-104 928.5,-104 934.5,-104 940.5,-110 940.5,-116 940.5,-116 940.5,-175 940.5,-175 940.5,-181 934.5,-187 928.5,-187\"/>\n",
       "<text text-anchor=\"middle\" x=\"870.5\" y=\"-171.8\" font-family=\"Helvetica,sans-Serif\" font-size=\"14.00\">1 &lt;= 2.5</text>\n",
       "<text text-anchor=\"middle\" x=\"870.5\" y=\"-156.8\" font-family=\"Helvetica,sans-Serif\" font-size=\"14.00\">entropy = 0.968</text>\n",
       "<text text-anchor=\"middle\" x=\"870.5\" y=\"-141.8\" font-family=\"Helvetica,sans-Serif\" font-size=\"14.00\">samples = 162</text>\n",
       "<text text-anchor=\"middle\" x=\"870.5\" y=\"-126.8\" font-family=\"Helvetica,sans-Serif\" font-size=\"14.00\">value = [12, 126, 24]</text>\n",
       "<text text-anchor=\"middle\" x=\"870.5\" y=\"-111.8\" font-family=\"Helvetica,sans-Serif\" font-size=\"14.00\">class = R</text>\n",
       "</g>\n",
       "<!-- 8&#45;&gt;12 -->\n",
       "<g id=\"edge12\" class=\"edge\">\n",
       "<title>8&#45;&gt;12</title>\n",
       "<path fill=\"none\" stroke=\"black\" d=\"M724.63,-225.51C745.96,-213.96 769.54,-201.19 791.42,-189.34\"/>\n",
       "<polygon fill=\"black\" stroke=\"black\" points=\"793.23,-192.34 800.35,-184.5 789.89,-186.18 793.23,-192.34\"/>\n",
       "</g>\n",
       "<!-- 10 -->\n",
       "<g id=\"node11\" class=\"node\">\n",
       "<title>10</title>\n",
       "<path fill=\"#6aeca0\" stroke=\"black\" d=\"M639,-68C639,-68 546,-68 546,-68 540,-68 534,-62 534,-56 534,-56 534,-12 534,-12 534,-6 540,0 546,0 546,0 639,0 639,0 645,0 651,-6 651,-12 651,-12 651,-56 651,-56 651,-62 645,-68 639,-68\"/>\n",
       "<text text-anchor=\"middle\" x=\"592.5\" y=\"-52.8\" font-family=\"Helvetica,sans-Serif\" font-size=\"14.00\">entropy = 0.986</text>\n",
       "<text text-anchor=\"middle\" x=\"592.5\" y=\"-37.8\" font-family=\"Helvetica,sans-Serif\" font-size=\"14.00\">samples = 27</text>\n",
       "<text text-anchor=\"middle\" x=\"592.5\" y=\"-22.8\" font-family=\"Helvetica,sans-Serif\" font-size=\"14.00\">value = [3, 21, 3]</text>\n",
       "<text text-anchor=\"middle\" x=\"592.5\" y=\"-7.8\" font-family=\"Helvetica,sans-Serif\" font-size=\"14.00\">class = R</text>\n",
       "</g>\n",
       "<!-- 9&#45;&gt;10 -->\n",
       "<g id=\"edge10\" class=\"edge\">\n",
       "<title>9&#45;&gt;10</title>\n",
       "<path fill=\"none\" stroke=\"black\" d=\"M631.41,-103.73C626.51,-95.06 621.32,-85.9 616.38,-77.18\"/>\n",
       "<polygon fill=\"black\" stroke=\"black\" points=\"619.33,-75.28 611.35,-68.3 613.24,-78.73 619.33,-75.28\"/>\n",
       "</g>\n",
       "<!-- 11 -->\n",
       "<g id=\"node12\" class=\"node\">\n",
       "<title>11</title>\n",
       "<path fill=\"#ae80ee\" stroke=\"black\" d=\"M782,-68C782,-68 681,-68 681,-68 675,-68 669,-62 669,-56 669,-56 669,-12 669,-12 669,-6 675,0 681,0 681,0 782,0 782,0 788,0 794,-6 794,-12 794,-12 794,-56 794,-56 794,-62 788,-68 782,-68\"/>\n",
       "<text text-anchor=\"middle\" x=\"731.5\" y=\"-52.8\" font-family=\"Helvetica,sans-Serif\" font-size=\"14.00\">entropy = 1.133</text>\n",
       "<text text-anchor=\"middle\" x=\"731.5\" y=\"-37.8\" font-family=\"Helvetica,sans-Serif\" font-size=\"14.00\">samples = 83</text>\n",
       "<text text-anchor=\"middle\" x=\"731.5\" y=\"-22.8\" font-family=\"Helvetica,sans-Serif\" font-size=\"14.00\">value = [8, 16, 59]</text>\n",
       "<text text-anchor=\"middle\" x=\"731.5\" y=\"-7.8\" font-family=\"Helvetica,sans-Serif\" font-size=\"14.00\">class = L</text>\n",
       "</g>\n",
       "<!-- 9&#45;&gt;11 -->\n",
       "<g id=\"edge11\" class=\"edge\">\n",
       "<title>9&#45;&gt;11</title>\n",
       "<path fill=\"none\" stroke=\"black\" d=\"M683.17,-103.73C689.39,-94.88 695.98,-85.51 702.23,-76.63\"/>\n",
       "<polygon fill=\"black\" stroke=\"black\" points=\"705.19,-78.49 708.08,-68.3 699.47,-74.47 705.19,-78.49\"/>\n",
       "</g>\n",
       "<!-- 13 -->\n",
       "<g id=\"node14\" class=\"node\">\n",
       "<title>13</title>\n",
       "<path fill=\"#3ce583\" stroke=\"black\" d=\"M917,-68C917,-68 824,-68 824,-68 818,-68 812,-62 812,-56 812,-56 812,-12 812,-12 812,-6 818,0 824,0 824,0 917,0 917,0 923,0 929,-6 929,-12 929,-12 929,-56 929,-56 929,-62 923,-68 917,-68\"/>\n",
       "<text text-anchor=\"middle\" x=\"870.5\" y=\"-52.8\" font-family=\"Helvetica,sans-Serif\" font-size=\"14.00\">entropy = 0.113</text>\n",
       "<text text-anchor=\"middle\" x=\"870.5\" y=\"-37.8\" font-family=\"Helvetica,sans-Serif\" font-size=\"14.00\">samples = 66</text>\n",
       "<text text-anchor=\"middle\" x=\"870.5\" y=\"-22.8\" font-family=\"Helvetica,sans-Serif\" font-size=\"14.00\">value = [0, 65, 1]</text>\n",
       "<text text-anchor=\"middle\" x=\"870.5\" y=\"-7.8\" font-family=\"Helvetica,sans-Serif\" font-size=\"14.00\">class = R</text>\n",
       "</g>\n",
       "<!-- 12&#45;&gt;13 -->\n",
       "<g id=\"edge13\" class=\"edge\">\n",
       "<title>12&#45;&gt;13</title>\n",
       "<path fill=\"none\" stroke=\"black\" d=\"M870.5,-103.73C870.5,-95.52 870.5,-86.86 870.5,-78.56\"/>\n",
       "<polygon fill=\"black\" stroke=\"black\" points=\"874,-78.3 870.5,-68.3 867,-78.3 874,-78.3\"/>\n",
       "</g>\n",
       "<!-- 14 -->\n",
       "<g id=\"node15\" class=\"node\">\n",
       "<title>14</title>\n",
       "<path fill=\"#98f1bd\" stroke=\"black\" d=\"M1067.5,-68C1067.5,-68 959.5,-68 959.5,-68 953.5,-68 947.5,-62 947.5,-56 947.5,-56 947.5,-12 947.5,-12 947.5,-6 953.5,0 959.5,0 959.5,0 1067.5,0 1067.5,0 1073.5,0 1079.5,-6 1079.5,-12 1079.5,-12 1079.5,-56 1079.5,-56 1079.5,-62 1073.5,-68 1067.5,-68\"/>\n",
       "<text text-anchor=\"middle\" x=\"1013.5\" y=\"-52.8\" font-family=\"Helvetica,sans-Serif\" font-size=\"14.00\">entropy = 1.285</text>\n",
       "<text text-anchor=\"middle\" x=\"1013.5\" y=\"-37.8\" font-family=\"Helvetica,sans-Serif\" font-size=\"14.00\">samples = 96</text>\n",
       "<text text-anchor=\"middle\" x=\"1013.5\" y=\"-22.8\" font-family=\"Helvetica,sans-Serif\" font-size=\"14.00\">value = [12, 61, 23]</text>\n",
       "<text text-anchor=\"middle\" x=\"1013.5\" y=\"-7.8\" font-family=\"Helvetica,sans-Serif\" font-size=\"14.00\">class = R</text>\n",
       "</g>\n",
       "<!-- 12&#45;&gt;14 -->\n",
       "<g id=\"edge14\" class=\"edge\">\n",
       "<title>12&#45;&gt;14</title>\n",
       "<path fill=\"none\" stroke=\"black\" d=\"M923.75,-103.73C936.25,-94.15 949.56,-83.96 961.99,-74.44\"/>\n",
       "<polygon fill=\"black\" stroke=\"black\" points=\"964.2,-77.16 970.01,-68.3 959.95,-71.6 964.2,-77.16\"/>\n",
       "</g>\n",
       "</g>\n",
       "</svg>\n"
      ],
      "text/plain": [
       "<graphviz.files.Source at 0x7f94af727d60>"
      ]
     },
     "execution_count": 27,
     "metadata": {},
     "output_type": "execute_result"
    }
   ],
   "source": [
    "# Visualizing the Entropy based Decision Tree\n",
    "graph_data = tree.export_graphviz(tree_entropy, out_file=None, filled=True, rounded=True,\n",
    "                                feature_names=feature_names,  \n",
    "                                class_names=class_names)\n",
    "graph = graphviz.Source(graph_data)  \n",
    "graph"
   ]
  },
  {
   "cell_type": "markdown",
   "metadata": {
    "colab_type": "text",
    "id": "xdDMiNMk_WLJ"
   },
   "source": [
    "### Prediction"
   ]
  },
  {
   "cell_type": "markdown",
   "metadata": {
    "colab_type": "text",
    "id": "Nz8dabFL_WLJ"
   },
   "source": [
    "In this step, we will use our two modeled classifiers, one classifier with gini index and another one with entropy as the criterion to predict the classes for our test data set. We can use predict() method for this."
   ]
  },
  {
   "cell_type": "code",
   "execution_count": 28,
   "metadata": {
    "colab": {},
    "colab_type": "code",
    "id": "66p-CxeB_WLK",
    "outputId": "a0e58966-1d15-4359-c3f5-6dd60e1fdb34"
   },
   "outputs": [
    {
     "data": {
      "text/plain": [
       "array([1, 2, 1, 1, 1, 2, 1, 2, 2, 2, 1, 2, 2, 2, 1, 2, 1, 2, 2, 1, 2, 1,\n",
       "       2, 2, 1, 2, 2, 2, 1, 2, 2, 2, 1, 2, 2, 2, 2, 1, 2, 2, 1, 2, 1, 2,\n",
       "       1, 1, 2, 2, 1, 2, 1, 1, 2, 1, 1, 2, 1, 1, 2, 2, 1, 1, 2, 2, 2, 2,\n",
       "       2, 1, 1, 2, 2, 1, 1, 2, 1, 2, 1, 1, 1, 2, 1, 2, 2, 2, 2, 1, 1, 2,\n",
       "       1, 2, 1, 1, 2, 2, 2, 1, 1, 2, 2, 2, 1, 2, 1, 1, 1, 1, 1, 1, 1, 2,\n",
       "       1, 2, 1, 1, 2, 1, 1, 1, 1, 1, 2, 1, 2, 2, 2, 2, 2, 2, 2, 1, 1, 1,\n",
       "       1, 2, 1, 1, 1, 2, 2, 1, 2, 1, 2, 1, 2, 2, 1, 2, 2, 1, 2, 1, 2, 1,\n",
       "       1, 1, 2, 1, 1, 1, 1, 1, 2, 2, 1, 1, 1, 1, 2, 1, 1, 1, 2, 1, 2, 2,\n",
       "       2, 2, 1, 1, 2, 1, 1, 2, 2, 1, 1, 1])"
      ]
     },
     "execution_count": 28,
     "metadata": {},
     "output_type": "execute_result"
    }
   ],
   "source": [
    "# Prediction for Decision Tree classifier with criterion as gini index\n",
    "y_pred_gini = tree_gini.predict(X_test)\n",
    "y_pred_gini"
   ]
  },
  {
   "cell_type": "code",
   "execution_count": 29,
   "metadata": {
    "colab": {},
    "colab_type": "code",
    "id": "X9ppmnQ0_WLN",
    "outputId": "7d6b1a6e-6cc0-4a0a-ed08-143fd483a7e7"
   },
   "outputs": [
    {
     "data": {
      "text/plain": [
       "array([1, 2, 1, 2, 1, 2, 1, 2, 1, 1, 1, 1, 2, 2, 1, 2, 1, 2, 2, 1, 2, 1,\n",
       "       2, 2, 1, 2, 1, 2, 1, 2, 1, 2, 1, 2, 2, 2, 2, 2, 1, 2, 1, 2, 1, 2,\n",
       "       1, 1, 2, 2, 1, 2, 2, 1, 2, 2, 1, 2, 1, 1, 2, 1, 1, 1, 2, 2, 1, 2,\n",
       "       2, 1, 2, 2, 2, 1, 1, 2, 1, 2, 1, 1, 1, 2, 1, 2, 2, 2, 2, 1, 1, 2,\n",
       "       1, 2, 1, 1, 2, 2, 2, 1, 1, 2, 2, 2, 1, 2, 2, 1, 1, 1, 1, 1, 1, 2,\n",
       "       1, 2, 1, 1, 2, 1, 1, 2, 1, 1, 2, 1, 1, 1, 2, 2, 2, 2, 2, 1, 1, 1,\n",
       "       1, 2, 1, 1, 1, 2, 2, 1, 2, 1, 2, 1, 2, 1, 1, 2, 2, 1, 2, 1, 1, 1,\n",
       "       1, 1, 2, 1, 1, 1, 1, 1, 1, 2, 1, 2, 1, 1, 2, 1, 2, 1, 2, 1, 2, 2,\n",
       "       2, 2, 2, 1, 1, 1, 2, 2, 2, 1, 1, 1])"
      ]
     },
     "execution_count": 29,
     "metadata": {},
     "output_type": "execute_result"
    }
   ],
   "source": [
    "# Prediction for Decision Tree classifier with criterion as Entropy\n",
    "y_pred_entropy = tree_entropy.predict(X_test)\n",
    "y_pred_entropy"
   ]
  },
  {
   "cell_type": "markdown",
   "metadata": {
    "colab_type": "text",
    "id": "YMhpof6e_WLR"
   },
   "source": [
    "### Calculating Accuracy Score"
   ]
  },
  {
   "cell_type": "markdown",
   "metadata": {
    "colab_type": "text",
    "id": "cM_L88GX_WLT"
   },
   "source": [
    "The function accuracy_score() is used to print accuracy of a Decision Tree classifier. Accuracy is the ratio of the correctly predicted data points to all the predicted data points. Accuracy as a metric helps to understand the effectiveness of our algorithm. It takes 4 parameters.\n",
    "* y_true\n",
    "* y_pred\n",
    "* normalize\n",
    "* sample_weight\n",
    "\n",
    "Out of these 4, normalize & sample_weight are optional parameters. The parameter y_true  accepts an array of correct labels and y_pred takes an array of predicted labels that are returned by the classifier. It returns accuracy as a float value."
   ]
  },
  {
   "cell_type": "code",
   "execution_count": 30,
   "metadata": {
    "colab": {},
    "colab_type": "code",
    "id": "Om_XxTC9_WLU",
    "outputId": "e69a2181-759e-4a6b-c2e4-24d07e26e937"
   },
   "outputs": [
    {
     "name": "stdout",
     "output_type": "stream",
     "text": [
      "Accuracy for Decision Tree with criteria as Gini Index is:  73.40425531914893\n"
     ]
    }
   ],
   "source": [
    "# Accuracy for Decision Tree classifier with criterion as gini index\n",
    "print(\"Accuracy for Decision Tree with criteria as Gini Index is: \", accuracy_score(y_test,y_pred_gini)*100)\n"
   ]
  },
  {
   "cell_type": "code",
   "execution_count": 31,
   "metadata": {
    "colab": {},
    "colab_type": "code",
    "id": "H73qp34B_WLY",
    "outputId": "7c4f6b39-1db9-438b-ea2f-ed812f8a671d"
   },
   "outputs": [
    {
     "name": "stdout",
     "output_type": "stream",
     "text": [
      "Accuracy for Decision Tree with criteria as Entropy is:  70.74468085106383\n"
     ]
    }
   ],
   "source": [
    "# Accuracy for Decision Tree classifier with criterion as Entropy\n",
    "print(\"Accuracy for Decision Tree with criteria as Entropy is: \", accuracy_score(y_test,y_pred_entropy)*100)\n"
   ]
  }
 ],
 "metadata": {
  "colab": {
   "name": "M5_Decision Trees.ipynb",
   "provenance": [],
   "version": "0.3.2"
  },
  "kernelspec": {
   "display_name": "Python 3",
   "language": "python",
   "name": "python3"
  },
  "language_info": {
   "codemirror_mode": {
    "name": "ipython",
    "version": 3
   },
   "file_extension": ".py",
   "mimetype": "text/x-python",
   "name": "python",
   "nbconvert_exporter": "python",
   "pygments_lexer": "ipython3",
   "version": "3.8.5"
  }
 },
 "nbformat": 4,
 "nbformat_minor": 1
}
